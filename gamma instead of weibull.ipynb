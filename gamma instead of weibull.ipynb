{
 "cells": [
  {
   "cell_type": "code",
   "execution_count": 19,
   "metadata": {
    "collapsed": true
   },
   "outputs": [],
   "source": [
    "import random\n",
    "import math\n",
    "%matplotlib inline\n",
    "import numpy as np\n",
    "import matplotlib.pyplot as plt\n",
    "import seaborn as sns\n",
    "import pandas as pd\n",
    "from scipy.stats import invgamma\n",
    "from functools import partial\n",
    "import statistics\n",
    "plt.style.use('ggplot')"
   ]
  },
  {
   "cell_type": "code",
   "execution_count": 101,
   "metadata": {
    "collapsed": true
   },
   "outputs": [],
   "source": [
    "def rw2(n):# this gives samples from gamma(2,1)\n",
    "    x,y=0,0\n",
    "    distance=[]\n",
    "    for i in range(1,n+1):\n",
    "            r=np.random.gamma(alpha,beta) # step size r,1/beta-rate\n",
    "            theta=2.*math.pi*random.random()\n",
    "            x +=r*math.cos(theta)\n",
    "            y +=r*math.sin(theta)\n",
    "            distance.append(r)# save the distances r for the mcmc sampler\n",
    "    return(np.array(distance))# depending what do you want to do, either save the pairs, or save the distances r  between points\n",
    "    #return(x,y)\n",
    "    \n",
    "alpha=2 # shape\n",
    "beta=1 #scale parameter\n",
    "n=10000\n",
    "data = rw2(n)# very important because you need the same data, if you put rw2(n) in there you change the data every time\n",
    "#data\n",
    "#the best results I got with 100000,100000,stepsize 0.1 and burn-in 1000\n",
    "#inverse scale parameter beta = 1/theta, called a rate parameter."
   ]
  },
  {
   "cell_type": "code",
   "execution_count": 98,
   "metadata": {},
   "outputs": [],
   "source": [
    "# calculate the log likelihood of gamma(alpha,beta)\n",
    "import scipy.stats \n",
    "from scipy.stats import gamma\n",
    "import numpy as np\n",
    "from numpy import prod\n",
    "def log_likelihood(x,alpha,beta):# alpha is the shape, beta is the scale\n",
    "     return np.sum(np.log(x**(alpha-1)*np.exp(-x/beta)/(math.gamma(alpha)*beta**alpha)))\n",
    "def likelihood(x,a_scale,a_shape):\n",
    "     return prod(gamma.pdf(x,scale=a_scale,a=b_shape))"
   ]
  },
  {
   "cell_type": "code",
   "execution_count": 103,
   "metadata": {},
   "outputs": [
    {
     "name": "stdout",
     "output_type": "stream",
     "text": [
      "Acceptance rate = 0.3959\n"
     ]
    }
   ],
   "source": [
    "import scipy.stats as stats\n",
    "from scipy.stats import invgamma\n",
    "# the shape is known and the rate or scale parameter is unknown\n",
    "#Prior parameters\n",
    "ap=1\n",
    "bp=2\n",
    "shape_fixed=2\n",
    "# initial guess for theta(a and b) as array. Now the shape 2 is fixed, the prior is inverse gamma(1,2)\n",
    "guess = 2# initial guess for scale\n",
    "# Prepare storing MCMC chain as array of arrays.\n",
    "A = [guess]\n",
    "# define stepsize of MCMC.\n",
    "stepsizes = 0.02 # array of stepsizes\n",
    "accepted  = 0.0\n",
    "old_theta=guess# define initial values for theta \n",
    "old_loglik = log_likelihood(data,shape_fixed,old_theta)#calculate the first log likelihood\n",
    "old_logtarget=old_loglik+gamma.logpdf((1/old_theta),ap,scale=bp)\n",
    "# Metropolis-Hastings with 500,000 iterations.\n",
    "for p in range(10000):\n",
    "    new_theta = old_theta + stats.norm(0, stepsizes).rvs() \n",
    "    #add the restraints on new_theta\n",
    "    if new_theta<0: \n",
    "        continue\n",
    "    new_loglik = log_likelihood(data,shape_fixed,new_theta)\n",
    "    new_logtarget=new_loglik+gamma.logpdf((1/new_theta),ap,scale=bp)\n",
    "    # Accept new candidate in Monte-Carlo fashing.\n",
    "    if (new_logtarget > old_logtarget):\n",
    "        A.append(new_theta)\n",
    "        accepted = accepted + 1.0  # monitor acceptance\n",
    "        old_loglik=new_loglik\n",
    "        old_theta=new_theta\n",
    "        old_logtarget=new_logtarget\n",
    "    else:\n",
    "        u = random.uniform(0.0,1.0)\n",
    "        if (u < math.exp(new_logtarget-old_logtarget)):\n",
    "            A.append(new_theta)\n",
    "            accepted = accepted + 1.0  # monitor acceptance\n",
    "            old_loglik=new_loglik\n",
    "            old_theta=new_theta\n",
    "            old_logtarget=new_logtarget \n",
    "        else:\n",
    "            A.append(old_theta)\n",
    "print(\"Acceptance rate = \"+str(accepted/10000.0))\n"
   ]
  },
  {
   "cell_type": "code",
   "execution_count": 104,
   "metadata": {},
   "outputs": [
    {
     "name": "stdout",
     "output_type": "stream",
     "text": [
      "1.0011754616\n",
      "0.00526292833461\n",
      "0.993369458821\n",
      "0.993369458821\n"
     ]
    },
    {
     "data": {
      "image/png": "[encoded data removed]",
      "text/plain": [
       "<matplotlib.figure.Figure at 0x1b8c012a438>"
      ]
     },
     "metadata": {},
     "output_type": "display_data"
    },
    {
     "data": {
      "image/png": "[encoded data removed]",
      "text/plain": [
       "<matplotlib.figure.Figure at 0x1b8c04fc048>"
      ]
     },
     "metadata": {},
     "output_type": "display_data"
    }
   ],
   "source": [
    "#A=A[1000:]# burn in \n",
    "B=A[1000:]\n",
    "print(statistics.mean(A))\n",
    "print(statistics.variance(A))\n",
    "print(statistics.mean(B))\n",
    "print(statistics.mean(B))\n",
    "plt.hist(A,bins=100)# This looks pretty bad!\n",
    "plt.xlabel(\"scale parameter\")\n",
    "plt.show()\n",
    "plt.hist(B,bins=100)# this one looks better!\n",
    "plt.xlabel(\"scale parameter\")\n",
    "plt.show()\n"
   ]
  },
  {
   "cell_type": "code",
   "execution_count": 105,
   "metadata": {},
   "outputs": [
    {
     "data": {
      "image/png": "[encoded data removed]",
      "text/plain": [
       "<matplotlib.figure.Figure at 0x1b8bf68ee48>"
      ]
     },
     "metadata": {},
     "output_type": "display_data"
    },
    {
     "name": "stdout",
     "output_type": "stream",
     "text": [
      "1.00685944896\n",
      "5.068576321e-05\n"
     ]
    }
   ],
   "source": [
    "plt.style.use('ggplot')\n",
    "a=ap+shape_fixed*n\n",
    "b=bp/(1+bp*sum(data))\n",
    "x = np.linspace(gamma.ppf(0.0000001,a,scale=b),gamma.ppf(0.99, a,scale=b),100)\n",
    "plt.plot(x,gamma.pdf(1/x,a,scale=b),'-',lw=5,label='gamma pdf')\n",
    "plt.hist(B,bins=50,normed=True)#range=[np.min(x),np.max(x)]\n",
    "plt.xlabel(\"Marginal posterior for the scale parameter\")\n",
    "#plt.xlim([np.min(x),np.max(x)])\n",
    "plt.show()\n",
    "print(gamma.mean(a,scale=b))\n",
    "print(gamma.var(a,scale=b))\n"
   ]
  },
  {
   "cell_type": "code",
   "execution_count": 7,
   "metadata": {},
   "outputs": [
    {
     "data": {
      "text/plain": [
       "2.0"
      ]
     },
     "execution_count": 7,
     "metadata": {},
     "output_type": "execute_result"
    }
   ],
   "source": [
    "math.gamma(3)"
   ]
  },
  {
   "cell_type": "code",
   "execution_count": 8,
   "metadata": {
    "collapsed": true
   },
   "outputs": [],
   "source": [
    "def gamma_pdf(x,alpha,beta):\n",
    "    return x**(alpha-1)*np.exp(-x/beta)/(math.gamma(alpha)*beta**alpha)"
   ]
  },
  {
   "cell_type": "code",
   "execution_count": 9,
   "metadata": {},
   "outputs": [
    {
     "name": "stdout",
     "output_type": "stream",
     "text": [
      "7.5007844844e-08\n",
      "7.5007844844e-08\n"
     ]
    }
   ],
   "source": [
    "print(gamma_pdf(3,7,10))# they're the same mate\n",
    "print(gamma.pdf(3,a=7,scale=10))"
   ]
  },
  {
   "cell_type": "code",
   "execution_count": null,
   "metadata": {
    "collapsed": true
   },
   "outputs": [],
   "source": []
  }
 ],
 "metadata": {
  "kernelspec": {
   "display_name": "Python 3",
   "language": "python",
   "name": "python3"
  },
  "language_info": {
   "codemirror_mode": {
    "name": "ipython",
    "version": 3
   },
   "file_extension": ".py",
   "mimetype": "text/x-python",
   "name": "python",
   "nbconvert_exporter": "python",
   "pygments_lexer": "ipython3",
   "version": "3.6.3"
  }
 },
 "nbformat": 4,
 "nbformat_minor": 2
}
