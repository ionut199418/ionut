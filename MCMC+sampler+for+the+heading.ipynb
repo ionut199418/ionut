{
 "cells": [
  {
   "cell_type": "code",
   "execution_count": 48,
   "metadata": {
    "collapsed": true
   },
   "outputs": [],
   "source": [
    "import random\n",
    "import math\n",
    "import numpy as np\n",
    "import scipy.stats as stats\n",
    "import statistics\n",
    "from scipy.stats import wrapcauchy\n",
    "import matplotlib.pyplot as plt\n",
    "\n"
   ]
  },
  {
   "cell_type": "code",
   "execution_count": 39,
   "metadata": {},
   "outputs": [
    {
     "name": "stdout",
     "output_type": "stream",
     "text": [
      "how many steps?100\n",
      "what's the scale?2\n",
      "what's the shape?5\n",
      "What's the shape parameter for the wrapped Cauchy?0.9\n"
     ]
    },
    {
     "data": {
      "text/plain": [
       "[array([ 6.01735678]),\n",
       " array([ 5.96796748]),\n",
       " array([ 5.90532828]),\n",
       " array([ 6.12005649]),\n",
       " array([ 5.95038095]),\n",
       " array([ 5.66409125]),\n",
       " array([ 5.60612993]),\n",
       " array([ 5.52229593]),\n",
       " array([ 5.11768098]),\n",
       " array([ 5.21751336]),\n",
       " array([ 5.29342644]),\n",
       " array([ 5.02712003]),\n",
       " array([ 4.9812918]),\n",
       " array([ 5.01800646]),\n",
       " array([ 4.93419616]),\n",
       " array([ 4.93831902]),\n",
       " array([ 4.6488069]),\n",
       " array([ 4.69146808]),\n",
       " array([ 4.35372315]),\n",
       " array([ 5.63193547]),\n",
       " array([ 5.80086755]),\n",
       " array([ 1.92684338]),\n",
       " array([ 2.17848188]),\n",
       " array([ 1.92308305]),\n",
       " array([ 1.98358481]),\n",
       " array([ 2.08938219]),\n",
       " array([ 1.63830159]),\n",
       " array([ 1.03182267]),\n",
       " array([ 0.24840375]),\n",
       " array([ 0.54735054]),\n",
       " array([ 4.97987801]),\n",
       " array([ 5.13867873]),\n",
       " array([ 5.0714757]),\n",
       " array([ 5.15385153]),\n",
       " array([ 6.13016152]),\n",
       " array([ 6.24638054]),\n",
       " array([ 6.10127681]),\n",
       " array([ 6.18700035]),\n",
       " array([ 2.61754212]),\n",
       " array([ 3.26675566]),\n",
       " array([ 3.32914981]),\n",
       " array([ 3.51560189]),\n",
       " array([ 3.74185036]),\n",
       " array([ 3.65360281]),\n",
       " array([ 3.72031499]),\n",
       " array([ 3.80844089]),\n",
       " array([ 3.62243905]),\n",
       " array([ 3.98856861]),\n",
       " array([ 4.07289385]),\n",
       " array([ 4.56703117]),\n",
       " array([ 4.48453593]),\n",
       " array([ 4.58694858]),\n",
       " array([ 4.74658493]),\n",
       " array([ 4.84880245]),\n",
       " array([ 5.35669037]),\n",
       " array([ 0.09442057]),\n",
       " array([ 0.28398215]),\n",
       " array([ 0.2029388]),\n",
       " array([ 1.04712143]),\n",
       " array([ 0.85959275]),\n",
       " array([ 0.95208538]),\n",
       " array([ 2.03076304]),\n",
       " array([ 2.04792381]),\n",
       " array([ 2.07942251]),\n",
       " array([ 2.01238868]),\n",
       " array([ 1.95419841]),\n",
       " array([ 2.03569748]),\n",
       " array([ 2.06719606]),\n",
       " array([ 2.01109022]),\n",
       " array([ 2.14561971]),\n",
       " array([ 2.16454216]),\n",
       " array([ 2.17600115]),\n",
       " array([ 2.15085113]),\n",
       " array([ 2.11479346]),\n",
       " array([ 1.61673168]),\n",
       " array([ 1.4867361]),\n",
       " array([ 0.62907829]),\n",
       " array([ 0.47246411]),\n",
       " array([ 0.28717973]),\n",
       " array([ 0.08848843]),\n",
       " array([ 6.22019413]),\n",
       " array([ 0.20340522]),\n",
       " array([ 0.09032182]),\n",
       " array([ 0.19613122]),\n",
       " array([ 0.16194314]),\n",
       " array([ 1.06927147]),\n",
       " array([ 0.57348993]),\n",
       " array([ 0.5182957]),\n",
       " array([ 0.53918207]),\n",
       " array([ 0.51449646]),\n",
       " array([ 0.51881581]),\n",
       " array([ 0.57729923]),\n",
       " array([ 6.14943539]),\n",
       " array([ 5.99099145]),\n",
       " array([ 5.88336173]),\n",
       " array([ 5.87807002]),\n",
       " array([ 5.90891303]),\n",
       " array([ 6.05607265]),\n",
       " array([ 6.17352048]),\n",
       " array([ 6.23667492])]"
      ]
     },
     "execution_count": 39,
     "metadata": {},
     "output_type": "execute_result"
    }
   ],
   "source": [
    "def rw2(n):# save the headings not the pairs\n",
    "    #x,y=0,0\n",
    "    x=np.zeros(n)\n",
    "    y=np.zeros(n)\n",
    "    theta=[0]*n\n",
    "    theta[0]=wrapcauchy.rvs(c,loc=0,size=1)\n",
    "    if theta[0]>2*math.pi:\n",
    "            theta[0] = abs(theta[0] - 2* math.pi)\n",
    "    if theta[0]<0:\n",
    "            theta[0] = abs(theta[0] + 2* math.pi)\n",
    "    for i in range(1,n):\n",
    "        r=random.weibullvariate(alpha,beta)\n",
    "        theta[i]=wrapcauchy.rvs(c,loc=theta[i-1],size=1)# c is the shape parameter\n",
    "        if theta[i]>2*math.pi:\n",
    "            theta[i] =abs(theta[i] - 2* math.pi)\n",
    "        if theta[i]<0:\n",
    "            theta[i] = abs(theta[i] + 2* math.pi)\n",
    "        x[i]=x[i-1]+r*math.cos(theta[i])\n",
    "        y[i]=y[i-1]+r*math.sin(theta[i])\n",
    "        #x+=r*math.cos(theta[i])\n",
    "        #y+=r*math.sin(theta[i])\n",
    "    return theta \n",
    "n=int(input(\"how many steps?\"))\n",
    "alpha=int(input(\"what's the scale?\"))\n",
    "beta=int(input(\"what's the shape?\"))\n",
    "c=float(input(\"What's the shape parameter for the wrapped Cauchy?\"))# this needs to be between 0 and 1\n",
    "#tries=int(input(\"how many tries?\"))\n",
    "#or i in range(tries):\n",
    "    #print(rw2(n))\n",
    "data=rw2(n)\n",
    "data"
   ]
  },
  {
   "cell_type": "code",
   "execution_count": 25,
   "metadata": {
    "collapsed": true
   },
   "outputs": [],
   "source": [
    "# calculate the log likelihood of wrapcauchy\n",
    "def log_wclikelihood(x,a,b):\n",
    "     return sum(wrapcauchy.logpdf(x,c=a,loc=b))# c is the shape parameter\n",
    "    "
   ]
  },
  {
   "cell_type": "code",
   "execution_count": 33,
   "metadata": {},
   "outputs": [
    {
     "name": "stdout",
     "output_type": "stream",
     "text": [
      "Acceptance rate = 0.416\n"
     ]
    }
   ],
   "source": [
    "#n=100 #number of observations in a sample \n",
    "# initial guess for theta(a and b) as array,these are shape(c) and location(b)\n",
    "guess = [0.9,0]\n",
    "# Prepare storing MCMC chain as array of arrays.\n",
    "A = [guess]\n",
    "# define stepsize of MCMC.\n",
    "stepsizes = [0.030,0.030]  # array of stepsizes\n",
    "accepted  = 0.0\n",
    "old_theta=guess# define initial values for theta \n",
    "old_loglik = log_wclikelihood(data,old_theta[0],old_theta[1])#calculate the first log likelihood\n",
    "# Metropolis-Hastings with 10,000 iterations.\n",
    "for p in range(10000):\n",
    "    #old_theta  = A[len(A)-1]   old parameter value as array(not that elegant way)\n",
    "    # Suggest new candidate from Gaussian proposal distribution.\n",
    "    #new_theta = np.zeros([len(old_theta)])\n",
    "    new_theta = old_theta + stats.norm(0, stepsizes).rvs() \n",
    "    #add the restraints on new_theta\n",
    "    if new_theta[0]<0 or new_theta[0]>1: \n",
    "        continue\n",
    "    new_loglik = log_wclikelihood(data,new_theta[0],new_theta[1])\n",
    "    # Accept new candidate in Monte-Carlo fashing.\n",
    "    if (new_loglik > old_loglik):\n",
    "        A.append(new_theta)\n",
    "        accepted = accepted + 1.0  # monitor acceptance\n",
    "        old_loglik=new_loglik\n",
    "        old_theta=new_theta\n",
    "    else:\n",
    "        u = random.uniform(0.0,1.0)\n",
    "        if (u < math.exp(new_loglik - old_loglik)):\n",
    "            A.append(new_theta)\n",
    "            accepted = accepted + 1.0  # monitor acceptance\n",
    "            old_loglik=new_loglik\n",
    "            old_theta=new_theta\n",
    "        #else:\n",
    "            #A.append(old_alpha)(I guess this is not good)\n",
    "print(\"Acceptance rate = \"+str(accepted/10000.0))\n",
    "#print(A)\n"
   ]
  },
  {
   "cell_type": "code",
   "execution_count": 84,
   "metadata": {},
   "outputs": [
    {
     "data": {
      "text/plain": [
       "0.043866526078474299"
      ]
     },
     "execution_count": 84,
     "metadata": {},
     "output_type": "execute_result"
    }
   ],
   "source": [
    "# save the posterior for a\n",
    "a=[]\n",
    "for i in range(len(A)-1):\n",
    "    a.append(A[i-1][0])\n",
    "#print(a,end='')   \n",
    "statistics.mean(a)   \n"
   ]
  },
  {
   "cell_type": "code",
   "execution_count": 89,
   "metadata": {},
   "outputs": [
    {
     "data": {
      "text/plain": [
       "-0.041175461654209017"
      ]
     },
     "execution_count": 89,
     "metadata": {},
     "output_type": "execute_result"
    }
   ],
   "source": [
    "b=[]\n",
    "for i in range(len(A)-1):\n",
    "    b.append(A[i-1][1])\n",
    "#print(b,end='') \n",
    "statistics.mean(b)"
   ]
  },
  {
   "cell_type": "code",
   "execution_count": 88,
   "metadata": {},
   "outputs": [
    {
     "data": {
      "image/png": "[encoded data removed]",
      "text/plain": [
       "<matplotlib.figure.Figure at 0x27c8ff74f28>"
      ]
     },
     "metadata": {},
     "output_type": "display_data"
    },
    {
     "data": {
      "text/plain": [
       "[<matplotlib.lines.Line2D at 0x27c9001e0b8>]"
      ]
     },
     "execution_count": 88,
     "metadata": {},
     "output_type": "execute_result"
    }
   ],
   "source": [
    "# plots now\n",
    "from random import randint\n",
    "plt.show()\n",
    "loglike = np.zeros(100)\n",
    "xval = np.zeros(100)\n",
    "\n",
    "for i in range(100):\n",
    "    xval[i]=0.04+i*0.05\n",
    "    loglike[i] = log_wclikelihood(data,xval[i],2)# why 2? this is how I actually managed to get something\n",
    "    \n",
    "\n",
    "plt.plot(xval,loglike)\n",
    "\n"
   ]
  },
  {
   "cell_type": "code",
   "execution_count": 90,
   "metadata": {},
   "outputs": [
    {
     "data": {
      "image/png": "[encoded data removed]",
      "text/plain": [
       "<matplotlib.figure.Figure at 0x27c8ffd44a8>"
      ]
     },
     "metadata": {},
     "output_type": "display_data"
    },
    {
     "data": {
      "image/png": "[encoded data removed]",
      "text/plain": [
       "<matplotlib.figure.Figure at 0x27c8ffe3470>"
      ]
     },
     "metadata": {},
     "output_type": "display_data"
    }
   ],
   "source": [
    "B=np.array(A)\n",
    "plt.hist(B[:,0],bins=100)\n",
    "\n",
    "plt.show()\n",
    "plt.hist(B[:,1],bins=100)\n",
    "plt.show()"
   ]
  },
  {
   "cell_type": "code",
   "execution_count": null,
   "metadata": {
    "collapsed": true
   },
   "outputs": [],
   "source": []
  }
 ],
 "metadata": {
  "kernelspec": {
   "display_name": "Python 3",
   "language": "python",
   "name": "python3"
  },
  "language_info": {
   "codemirror_mode": {
    "name": "ipython",
    "version": 3
   },
   "file_extension": ".py",
   "mimetype": "text/x-python",
   "name": "python",
   "nbconvert_exporter": "python",
   "pygments_lexer": "ipython3",
   "version": "3.6.3"
  }
 },
 "nbformat": 4,
 "nbformat_minor": 2
}
