{
 "cells": [
  {
   "cell_type": "code",
   "execution_count": 1,
   "metadata": {
    "collapsed": true
   },
   "outputs": [],
   "source": [
    "import random\n",
    "import math\n",
    "import numpy as np\n",
    "import scipy.stats as stats\n",
    "import statistics\n",
    "from scipy.stats import wrapcauchy\n",
    "import matplotlib.pyplot as plt\n",
    "\n"
   ]
  },
  {
   "cell_type": "code",
   "execution_count": 37,
   "metadata": {},
   "outputs": [
    {
     "name": "stdout",
     "output_type": "stream",
     "text": [
      "how many steps?100\n",
      "what's the scale?2\n",
      "what's the shape?5\n",
      "What's the shape parameter for the wrapped Cauchy?0.9\n"
     ]
    },
    {
     "data": {
      "text/plain": [
       "[array([ 0.36980374]),\n",
       " array([ 5.76141073]),\n",
       " array([ 5.66112971]),\n",
       " array([ 5.61154396]),\n",
       " array([ 5.56369868]),\n",
       " array([ 5.69774006]),\n",
       " array([ 5.49197129]),\n",
       " array([ 5.51321987]),\n",
       " array([ 5.59888145]),\n",
       " array([ 5.56337279]),\n",
       " array([ 5.28551554]),\n",
       " array([ 5.21770609]),\n",
       " array([ 5.31694152]),\n",
       " array([ 5.21699961]),\n",
       " array([ 5.25700387]),\n",
       " array([ 5.27065279]),\n",
       " array([ 5.40085905]),\n",
       " array([ 3.79945612]),\n",
       " array([ 3.92806143]),\n",
       " array([ 4.02408389]),\n",
       " array([ 4.03281164]),\n",
       " array([ 4.1194478]),\n",
       " array([ 4.16876073]),\n",
       " array([ 3.839648]),\n",
       " array([ 4.06520932]),\n",
       " array([ 3.72170561]),\n",
       " array([ 3.62803871]),\n",
       " array([ 3.43912646]),\n",
       " array([ 3.44457689]),\n",
       " array([ 3.41880756]),\n",
       " array([ 3.46712289]),\n",
       " array([ 1.64740425]),\n",
       " array([ 1.33986481]),\n",
       " array([ 1.21679468]),\n",
       " array([ 1.22572889]),\n",
       " array([ 1.21878255]),\n",
       " array([ 1.31682872]),\n",
       " array([ 1.25534508]),\n",
       " array([ 1.31590753]),\n",
       " array([ 1.30300141]),\n",
       " array([ 6.20422562]),\n",
       " array([ 6.19612678]),\n",
       " array([ 6.05694497]),\n",
       " array([ 6.02218244]),\n",
       " array([ 2.96940956]),\n",
       " array([ 2.94010932]),\n",
       " array([ 2.94228884]),\n",
       " array([ 2.93485081]),\n",
       " array([ 3.17096673]),\n",
       " array([ 3.78277844]),\n",
       " array([ 3.86159074]),\n",
       " array([ 3.61792523]),\n",
       " array([ 3.84163467]),\n",
       " array([ 3.71096128]),\n",
       " array([ 3.7459013]),\n",
       " array([ 2.82292382]),\n",
       " array([ 2.92889578]),\n",
       " array([ 2.8475197]),\n",
       " array([ 2.67400033]),\n",
       " array([ 2.57073534]),\n",
       " array([ 2.46043249]),\n",
       " array([ 2.46508407]),\n",
       " array([ 2.60205457]),\n",
       " array([ 2.6246993]),\n",
       " array([ 2.36605713]),\n",
       " array([ 2.44110893]),\n",
       " array([ 2.54155356]),\n",
       " array([ 2.51426952]),\n",
       " array([ 3.54112117]),\n",
       " array([ 3.18221443]),\n",
       " array([ 3.09760732]),\n",
       " array([ 3.14725635]),\n",
       " array([ 3.21745491]),\n",
       " array([ 3.30475578]),\n",
       " array([ 3.28762057]),\n",
       " array([ 3.24774214]),\n",
       " array([ 2.75316439]),\n",
       " array([ 2.60011938]),\n",
       " array([ 2.51242918]),\n",
       " array([ 2.65495388]),\n",
       " array([ 2.5665297]),\n",
       " array([ 2.02937204]),\n",
       " array([ 2.05033374]),\n",
       " array([ 1.97970562]),\n",
       " array([ 4.63329702]),\n",
       " array([ 4.81986411]),\n",
       " array([ 4.89662222]),\n",
       " array([ 4.86711549]),\n",
       " array([ 4.47070052]),\n",
       " array([ 4.18363289]),\n",
       " array([ 2.89963122]),\n",
       " array([ 2.44762356]),\n",
       " array([ 2.25592676]),\n",
       " array([ 2.23166049]),\n",
       " array([ 2.34568755]),\n",
       " array([ 2.43650797]),\n",
       " array([ 2.56353252]),\n",
       " array([ 2.55720156]),\n",
       " array([ 2.63847877]),\n",
       " array([ 2.22399166])]"
      ]
     },
     "execution_count": 37,
     "metadata": {},
     "output_type": "execute_result"
    }
   ],
   "source": [
    "def rw2(n):# save the headings not the pairs\n",
    "    #x,y=0,0\n",
    "    x=np.zeros(n)\n",
    "    y=np.zeros(n)\n",
    "    theta=[0]*n\n",
    "    theta[0]=wrapcauchy.rvs(c,loc=0,size=1)\n",
    "    if theta[0]>2*math.pi:\n",
    "            theta[0] = theta[0] - 2* math.pi\n",
    "    if theta[0]<0:\n",
    "            theta[0] = theta[0] + 2* math.pi\n",
    "    for i in range(1,n):\n",
    "        r=random.weibullvariate(alpha,beta)\n",
    "        theta[i]=wrapcauchy.rvs(c,loc=theta[i-1],size=1)# c is the shape parameter\n",
    "        if theta[i]>2*math.pi:\n",
    "            theta[i] =theta[i] - 2* math.pi\n",
    "        if theta[i]<0:\n",
    "            theta[i] = theta[i] + 2* math.pi\n",
    "        x[i]=x[i-1]+r*math.cos(theta[i])\n",
    "        y[i]=y[i-1]+r*math.sin(theta[i])\n",
    "        #x+=r*math.cos(theta[i])\n",
    "        #y+=r*math.sin(theta[i])\n",
    "    return theta \n",
    "n=int(input(\"how many steps?\"))\n",
    "alpha=int(input(\"what's the scale?\"))\n",
    "beta=int(input(\"what's the shape?\"))\n",
    "c=float(input(\"What's the shape parameter for the wrapped Cauchy?\"))# this needs to be between 0 and 1\n",
    "#tries=int(input(\"how many tries?\"))\n",
    "#or i in range(tries):\n",
    "    #print(rw2(n))\n",
    "data=rw2(n)\n",
    "data"
   ]
  },
  {
   "cell_type": "code",
   "execution_count": 38,
   "metadata": {},
   "outputs": [
    {
     "data": {
      "text/plain": [
       "array([  3.69803743e-01,   5.39160699e+00,   1.00281023e-01,\n",
       "         4.95857543e-02,   4.78452745e-02,   1.34041376e-01,\n",
       "         2.05768771e-01,   2.12485784e-02,   8.56615877e-02,\n",
       "         3.55086611e-02,   2.77857254e-01,   6.78094448e-02,\n",
       "         9.92354226e-02,   9.99419016e-02,   4.00042557e-02,\n",
       "         1.36489157e-02,   1.30206268e-01,   1.60140293e+00,\n",
       "         1.28605308e-01,   9.60224584e-02,   8.72775281e-03,\n",
       "         8.66361611e-02,   4.93129321e-02,   3.29112730e-01,\n",
       "         2.25561322e-01,   3.43503718e-01,   9.36668982e-02,\n",
       "         1.88912246e-01,   5.45042964e-03,   2.57693284e-02,\n",
       "         4.83153262e-02,   1.81971864e+00,   3.07539444e-01,\n",
       "         1.23070130e-01,   8.93421629e-03,   6.94634346e-03,\n",
       "         9.80461681e-02,   6.14836396e-02,   6.05624519e-02,\n",
       "         1.29061254e-02,   4.90122422e+00,   8.09884495e-03,\n",
       "         1.39181810e-01,   3.47625276e-02,   3.05277288e+00,\n",
       "         2.93002340e-02,   2.17951442e-03,   7.43802426e-03,\n",
       "         2.36115922e-01,   6.11811710e-01,   7.88123009e-02,\n",
       "         2.43665514e-01,   2.23709436e-01,   1.30673392e-01,\n",
       "         3.49400251e-02,   9.22977482e-01,   1.05971964e-01,\n",
       "         8.13760851e-02,   1.73519366e-01,   1.03264991e-01,\n",
       "         1.10302846e-01,   4.65157877e-03,   1.36970493e-01,\n",
       "         2.26447302e-02,   2.58642161e-01,   7.50517978e-02,\n",
       "         1.00444627e-01,   2.72840398e-02,   1.02685165e+00,\n",
       "         3.58906736e-01,   8.46071081e-02,   4.96490306e-02,\n",
       "         7.01985579e-02,   8.73008715e-02,   1.71352138e-02,\n",
       "         3.98784258e-02,   4.94577753e-01,   1.53045010e-01,\n",
       "         8.76902023e-02,   1.42524706e-01,   8.84241794e-02,\n",
       "         5.37157665e-01,   2.09617027e-02,   7.06281180e-02,\n",
       "         2.65359140e+00,   1.86567089e-01,   7.67581128e-02,\n",
       "         2.95067306e-02,   3.96414973e-01,   2.87067630e-01,\n",
       "         1.28400167e+00,   4.52007658e-01,   1.91696804e-01,\n",
       "         2.42662673e-02,   1.14027057e-01,   9.08204228e-02,\n",
       "         1.27024549e-01,   6.33095574e-03,   8.12772058e-02,\n",
       "         4.14487111e-01])"
      ]
     },
     "execution_count": 38,
     "metadata": {},
     "output_type": "execute_result"
    }
   ],
   "source": [
    "# modify the data so I can have the differences\n",
    "#data[1]=data[1]-data[0] etc.\n",
    "new_data=np.zeros(n)\n",
    "new_data[0]=data[0]\n",
    "for i in range(len(data)-1):\n",
    "    new_data[i+1]=abs(data[i+1]-data[i])# I can only put positive values\n",
    "new_data    "
   ]
  },
  {
   "cell_type": "code",
   "execution_count": 33,
   "metadata": {
    "collapsed": true
   },
   "outputs": [],
   "source": [
    "# calculate the log likelihood of wrapcauchy\n",
    "def log_wclikelihood(x,a,b):\n",
    "     return sum(wrapcauchy.logpdf(x,c=a,loc=b))# c is the shape parameter\n",
    "    "
   ]
  },
  {
   "cell_type": "code",
   "execution_count": 47,
   "metadata": {},
   "outputs": [
    {
     "name": "stdout",
     "output_type": "stream",
     "text": [
      "Acceptance rate = 0.4053\n"
     ]
    }
   ],
   "source": [
    "#n=100 #number of observations in a sample \n",
    "# initial guess for theta(a) as array,these are shape(c) \n",
    "guess = 0.9\n",
    "# Prepare storing MCMC chain as array of arrays.\n",
    "A = [guess]\n",
    "# define stepsize of MCMC.\n",
    "stepsize = 0.035  # array of stepsizes\n",
    "accepted  = 0.0\n",
    "old_theta=guess# define initial values for theta \n",
    "old_loglik = log_wclikelihood(new_data,old_theta,0)#calculate the first log likelihood\n",
    "# Metropolis-Hastings with 10,000 iterations.\n",
    "for p in range(10000):\n",
    "    #old_theta  = A[len(A)-1]   old parameter value as array(not that elegant way)\n",
    "    # Suggest new candidate from Gaussian proposal distribution.\n",
    "    #new_theta = np.zeros([len(old_theta)])\n",
    "    new_theta = old_theta + stats.norm(0, stepsize).rvs() \n",
    "    #add the restraints on new_theta\n",
    "    if new_theta<0 or new_theta>1: \n",
    "        continue\n",
    "    new_loglik = log_wclikelihood(new_data,new_theta,0)\n",
    "    # Accept new candidate in Monte-Carlo fashing.\n",
    "    if (new_loglik > old_loglik):\n",
    "        A.append(new_theta)\n",
    "        accepted = accepted + 1.0  # monitor acceptance\n",
    "        old_loglik=new_loglik\n",
    "        old_theta=new_theta\n",
    "    else:\n",
    "        u = random.uniform(0.0,1.0)\n",
    "        if (u < math.exp(new_loglik - old_loglik)):\n",
    "            A.append(new_theta)\n",
    "            accepted = accepted + 1.0  # monitor acceptance\n",
    "            old_loglik=new_loglik\n",
    "            old_theta=new_theta\n",
    "        #else:\n",
    "            #A.append(old_alpha)(I guess this is not good)\n",
    "print(\"Acceptance rate = \"+str(accepted/10000.0))\n",
    "#print(A)\n"
   ]
  },
  {
   "cell_type": "code",
   "execution_count": 48,
   "metadata": {},
   "outputs": [
    {
     "data": {
      "text/plain": [
       "0.90243785817437905"
      ]
     },
     "execution_count": 48,
     "metadata": {},
     "output_type": "execute_result"
    }
   ],
   "source": [
    "# save the posterior for a\n",
    "statistics.mean(A)   \n"
   ]
  },
  {
   "cell_type": "code",
   "execution_count": 67,
   "metadata": {},
   "outputs": [
    {
     "data": {
      "image/png": "[encoded data removed]",
      "text/plain": [
       "<matplotlib.figure.Figure at 0x28f58993780>"
      ]
     },
     "metadata": {},
     "output_type": "display_data"
    }
   ],
   "source": [
    "# plots now\n",
    "from random import randint\n",
    "\n",
    "loglike = np.zeros(100)\n",
    "xval = np.zeros(100)\n",
    "\n",
    "for i in range(100):\n",
    "    xval[i]=0.1+i*0.01\n",
    "    loglike[i] = log_wclikelihood(new_data,xval[i],0)\n",
    "    \n",
    "\n",
    "plt.plot(xval,loglike)\n",
    "plt.show()\n"
   ]
  },
  {
   "cell_type": "code",
   "execution_count": 71,
   "metadata": {},
   "outputs": [
    {
     "data": {
      "image/png": "[encoded data removed]",
      "text/plain": [
       "<matplotlib.figure.Figure at 0x28f58a66b38>"
      ]
     },
     "metadata": {},
     "output_type": "display_data"
    }
   ],
   "source": [
    "plt.hist(A,bins=100)\n",
    "plt.show()\n"
   ]
  }
 ],
 "metadata": {
  "kernelspec": {
   "display_name": "Python 3",
   "language": "python",
   "name": "python3"
  },
  "language_info": {
   "codemirror_mode": {
    "name": "ipython",
    "version": 3
   },
   "file_extension": ".py",
   "mimetype": "text/x-python",
   "name": "python",
   "nbconvert_exporter": "python",
   "pygments_lexer": "ipython3",
   "version": "3.6.3"
  }
 },
 "nbformat": 4,
 "nbformat_minor": 2
}
