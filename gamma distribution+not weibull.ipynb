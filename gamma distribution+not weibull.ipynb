{
 "cells": [
  {
   "cell_type": "code",
   "execution_count": 4,
   "metadata": {
    "collapsed": true
   },
   "outputs": [],
   "source": [
    "import random\n",
    "import math\n",
    "%matplotlib inline\n",
    "import numpy as np\n",
    "import matplotlib.pyplot as plt\n",
    "import seaborn as sns\n",
    "import pandas as pd\n",
    "from scipy.stats import invgamma\n",
    "from functools import partial\n",
    "import statistics\n",
    "plt.style.use('ggplot')"
   ]
  },
  {
   "cell_type": "code",
   "execution_count": 17,
   "metadata": {
    "collapsed": true
   },
   "outputs": [],
   "source": [
    "def rw2(n):# this gives samples from gamma(2,1)# put n=50000,the shape 2 and the scale 1\n",
    "    x,y=0,0\n",
    "    distance=[]\n",
    "    for i in range(1,n+1):\n",
    "            r=np.random.gamma(alpha,beta) # step size r\n",
    "            theta=2.*math.pi*random.random()\n",
    "            x +=r*math.cos(theta)\n",
    "            y +=r*math.sin(theta)\n",
    "            distance.append(r)# save the distances r for the mcmc sampler\n",
    "    return(np.array(distance))# depending what do you want to do, either save the pairs, or save the distances r  between points\n",
    "    #return(x,y)\n",
    "    \n",
    "alpha=2 # shape\n",
    "beta=1 #scale parameter\n",
    "n=50000\n",
    "data = rw2(n)# very important because you need the same data, if you put rw2(n) in there you change the data every time\n",
    "#data\n",
    "#the best results I got with 50000,50000,stepsize 0.02 and burn-in 1000\n",
    "#inverse scale parameter beta = 1/theta, called a rate parameter."
   ]
  },
  {
   "cell_type": "code",
   "execution_count": 7,
   "metadata": {
    "collapsed": true
   },
   "outputs": [],
   "source": [
    "# calculate the log likelihood of weibull(a,b)\n",
    "import scipy.stats \n",
    "from scipy.stats import gamma\n",
    "import numpy as np\n",
    "from numpy import prod\n",
    "def log_likelihood(x,b,a):# I switched a and b around\n",
    "     return sum(gamma.logpdf(x,scale=b,a=a))# a is shape\n",
    "def likelihood(x,a_scale,a_shape):\n",
    "     return prod(gamma.pdf(x,scale=a_scale,a=b_shape))"
   ]
  },
  {
   "cell_type": "code",
   "execution_count": 25,
   "metadata": {},
   "outputs": [
    {
     "name": "stdout",
     "output_type": "stream",
     "text": [
      "Acceptance rate = 0.3993\n"
     ]
    }
   ],
   "source": [
    "import scipy.stats as stats\n",
    "from scipy.stats import invgamma\n",
    "# initial guess for theta(a and b) as array. Now the shape 2 is fixed, the prior is inverse gamma(1,2)\n",
    "guess = 2# initial guess for scale\n",
    "# Prepare storing MCMC chain as array of arrays.\n",
    "A = [guess]\n",
    "# define stepsize of MCMC.\n",
    "stepsizes = 0.05 # array of stepsizes\n",
    "accepted  = 0.0\n",
    "old_theta=guess# define initial values for theta \n",
    "old_loglik = log_likelihood(data,old_theta,2)#calculate the first log likelihood\n",
    "old_logtarget=old_loglik+gamma.logpdf(old_theta,1,scale=2)\n",
    "# Metropolis-Hastings with 10,000 iterations.\n",
    "for p in range(50000):\n",
    "    new_theta = old_theta + stats.norm(0, stepsizes).rvs() \n",
    "    #add the restraints on new_theta\n",
    "    if new_theta<0: \n",
    "        continue\n",
    "    new_loglik = log_likelihood(data,new_theta,2)\n",
    "    new_logtarget=new_loglik+gamma.logpdf(new_theta,1,scale=2)\n",
    "    # Accept new candidate in Monte-Carlo fashing.\n",
    "    if (new_logtarget > old_logtarget):\n",
    "        A.append(new_theta)\n",
    "        accepted = accepted + 1.0  # monitor acceptance\n",
    "        old_loglik=new_loglik\n",
    "        old_theta=new_theta\n",
    "        old_logtarget=new_logtarget\n",
    "    else:\n",
    "        u = random.uniform(0.0,1.0)\n",
    "        if (u < math.exp(new_logtarget-old_logtarget)):\n",
    "            A.append(new_theta)\n",
    "            accepted = accepted + 1.0  # monitor acceptance\n",
    "            old_loglik=new_loglik\n",
    "            old_theta=new_theta\n",
    "            old_logtarget=new_logtarget \n",
    "        else:\n",
    "            A.append(old_theta)\n",
    "print(\"Acceptance rate = \"+str(accepted/10000.0))\n",
    "\n"
   ]
  },
  {
   "cell_type": "code",
   "execution_count": 34,
   "metadata": {},
   "outputs": [
    {
     "name": "stdout",
     "output_type": "stream",
     "text": [
      "1.00081688057\n",
      "0.000300173364216\n",
      "1.00037048164\n",
      "1.00037048164\n"
     ]
    },
    {
     "data": {
      "image/png": "[encoded data removed]",
      "text/plain": [
       "<matplotlib.figure.Figure at 0x1944edaaa58>"
      ]
     },
     "metadata": {},
     "output_type": "display_data"
    },
    {
     "data": {
      "image/png": "[encoded data removed]",
      "text/plain": [
       "<matplotlib.figure.Figure at 0x1944eed69e8>"
      ]
     },
     "metadata": {},
     "output_type": "display_data"
    },
    {
     "name": "stdout",
     "output_type": "stream",
     "text": [
      "50001\n"
     ]
    }
   ],
   "source": [
    "#A=A[1000:]# burn in \n",
    "B=A[1000:]\n",
    "print(statistics.mean(A))\n",
    "print(statistics.variance(A))\n",
    "print(statistics.mean(B))\n",
    "print(statistics.mean(B))\n",
    "plt.hist(A,bins=100)\n",
    "plt.xlabel(\"scale parameter\")\n",
    "plt.show()\n",
    "plt.hist(B,bins=100)\n",
    "plt.xlabel(\"scale parameter\")\n",
    "#plt.xlim(0.9,1.1) \n",
    "plt.show()\n",
    "print(len(A))"
   ]
  },
  {
   "cell_type": "code",
   "execution_count": null,
   "metadata": {
    "collapsed": true
   },
   "outputs": [],
   "source": []
  },
  {
   "cell_type": "code",
   "execution_count": 35,
   "metadata": {},
   "outputs": [
    {
     "data": {
      "image/png": "[encoded data removed]",
      "text/plain": [
       "<matplotlib.figure.Figure at 0x1944edaac50>"
      ]
     },
     "metadata": {},
     "output_type": "display_data"
    },
    {
     "name": "stdout",
     "output_type": "stream",
     "text": [
      "0.999571883478\n",
      "9.991339589e-06\n"
     ]
    }
   ],
   "source": [
    "plt.style.use('ggplot')\n",
    "a = 1+2*n\n",
    "b=1/(2+sum(data))# this is because the formula for the prior conjugate is using the rate, not the scale\n",
    "x = np.linspace(gamma.ppf(0.001,a,scale=b),gamma.ppf(0.999, a,scale=b),100)\n",
    "plt.plot(x,gamma.pdf(x,a,scale=b),'b-',lw=5, alpha=0.6, label='gamma pdf')\n",
    "plt.hist(B,bins=100,normed=True)\n",
    "plt.xlabel(\"Marginal posterior for the scale parameter\")\n",
    "plt.xlim(0.9,1.1)\n",
    "plt.show()\n",
    "print(gamma.mean(a,scale=b))\n",
    "print(gamma.var(a,scale=b))\n"
   ]
  },
  {
   "cell_type": "code",
   "execution_count": null,
   "metadata": {
    "collapsed": true
   },
   "outputs": [],
   "source": []
  }
 ],
 "metadata": {
  "kernelspec": {
   "display_name": "Python 3",
   "language": "python",
   "name": "python3"
  },
  "language_info": {
   "codemirror_mode": {
    "name": "ipython",
    "version": 3
   },
   "file_extension": ".py",
   "mimetype": "text/x-python",
   "name": "python",
   "nbconvert_exporter": "python",
   "pygments_lexer": "ipython3",
   "version": "3.6.3"
  }
 },
 "nbformat": 4,
 "nbformat_minor": 2
}
