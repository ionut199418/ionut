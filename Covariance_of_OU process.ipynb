{
 "cells": [
  {
   "cell_type": "code",
   "execution_count": 1,
   "metadata": {},
   "outputs": [],
   "source": [
    "import numpy as np; np.random.seed(0)\n",
    "import seaborn as sns\n",
    "import matplotlib.pyplot as plt\n",
    "import pandas as pd\n",
    "%matplotlib inline"
   ]
  },
  {
   "cell_type": "code",
   "execution_count": 2,
   "metadata": {},
   "outputs": [],
   "source": [
    "# Velocity model simulation\n",
    "def CVM(Tmax,beta,sigma,v0,dt):\n",
    "    T = np.arange(0,Tmax,dt)\n",
    "    n = len(T)\n",
    "    V = n*[0]\n",
    "    V[0] = v0 # set the initial value if you want to start with a different value rather than 0\n",
    "    dW = np.random.randn(n)*np.sqrt(dt) \n",
    "    for i in range(1,n):\n",
    "        V[i] = V[i-1] - beta*V[i-1] * dt  + sigma *dW[i]\n",
    "    return(V) # mean 0 OU process"
   ]
  },
  {
   "cell_type": "code",
   "execution_count": 3,
   "metadata": {},
   "outputs": [],
   "source": [
    "n=CVM(1000,1,1,0,0.1)"
   ]
  },
  {
   "cell_type": "code",
   "execution_count": 4,
   "metadata": {},
   "outputs": [],
   "source": [
    "#Simulate OU motion multiple times\n",
    "matrix_1 = np.zeros((10000,90))\n",
    "matrix_2=np.zeros((10000,90))# create a matrix, 10000 rows, and 90 columns\n",
    "for i in range(0,10000):\n",
    "    n = CVM(1000,1,1,0,0.1)    \n",
    "    matrix_1[i,:] = np.array(n[10:100]) * np.array(n[11])\n",
    "   # matrix_2[i,:] = np.array(n[10:100]) * np.array(n[10:100][::-1])# multiply 90 entries from different ranges\n",
    "# I need to average across rows to get the expectation of the product"
   ]
  },
  {
   "cell_type": "code",
   "execution_count": 5,
   "metadata": {},
   "outputs": [
    {
     "name": "stdout",
     "output_type": "stream",
     "text": [
      "[ 4.23727640e-01  4.82980611e-01  4.34985633e-01  3.85108205e-01\n",
      "  3.49274113e-01  3.15911745e-01  2.87110011e-01  2.62943547e-01\n",
      "  2.35937697e-01  2.16754190e-01  1.92873568e-01  1.73669963e-01\n",
      "  1.58332186e-01  1.43888895e-01  1.25814401e-01  1.12531494e-01\n",
      "  9.97729023e-02  8.89268284e-02  7.74683467e-02  7.06255841e-02\n",
      "  6.41898850e-02  5.66520573e-02  5.10035556e-02  4.79902353e-02\n",
      "  4.27792898e-02  3.80686515e-02  3.33250423e-02  2.79603750e-02\n",
      "  2.62781849e-02  2.56990147e-02  2.31150953e-02  2.02521713e-02\n",
      "  2.10617727e-02  1.72062843e-02  1.39839649e-02  1.17683724e-02\n",
      "  1.20465402e-02  1.26810905e-02  1.02093943e-02  9.20299720e-03\n",
      "  7.44837195e-03  8.18387859e-03  5.19918987e-03  5.38998727e-03\n",
      "  2.56005852e-03  2.32819101e-03  2.97209261e-03  6.63725269e-03\n",
      "  9.04648583e-03  6.85419670e-03  5.91493700e-03  2.52047047e-03\n",
      "  3.75974740e-03  8.86543823e-04 -9.23994986e-04 -2.30672330e-04\n",
      "  3.95190701e-03  4.45301456e-03  1.08778660e-03  1.24582832e-04\n",
      "  1.76739371e-03  1.60469267e-03  1.54040921e-03  5.14376799e-04\n",
      " -2.06814996e-03 -1.78119668e-03 -4.75664641e-03 -6.69231512e-03\n",
      " -5.24006430e-03 -5.67411922e-03 -5.52901194e-03 -5.69954328e-03\n",
      " -2.50453752e-03 -1.08141376e-03 -1.58062445e-03 -3.89402131e-03\n",
      " -3.15709689e-03 -3.99813001e-03 -5.30702826e-03 -2.33074325e-03\n",
      " -1.26458271e-03 -4.03355138e-04  8.03033674e-04  4.00354524e-03\n",
      "  5.64139846e-03  2.98317326e-03  3.38002876e-03  4.16950794e-03\n",
      "  2.52322023e-03  5.14090460e-04]\n"
     ]
    }
   ],
   "source": [
    "print(matrix_1.mean(axis=0))"
   ]
  },
  {
   "cell_type": "code",
   "execution_count": 6,
   "metadata": {},
   "outputs": [
    {
     "name": "stdout",
     "output_type": "stream",
     "text": [
      "0.18393972058572117\n"
     ]
    }
   ],
   "source": [
    "print(0.5*np.exp(-1))"
   ]
  },
  {
   "cell_type": "code",
   "execution_count": 8,
   "metadata": {},
   "outputs": [
    {
     "name": "stdout",
     "output_type": "stream",
     "text": [
      "0.00915781944436709\n"
     ]
    }
   ],
   "source": [
    "print(0.5*np.exp(-4))"
   ]
  },
  {
   "cell_type": "code",
   "execution_count": null,
   "metadata": {},
   "outputs": [],
   "source": [
    "# the numerical results decrease much slower than the theoretical results\n"
   ]
  },
  {
   "cell_type": "code",
   "execution_count": 56,
   "metadata": {},
   "outputs": [],
   "source": [
    "# We look at lags 0,...,100\n",
    "matrix_2=np.zeros((10000,100))\n",
    "for i in range(0,10000):\n",
    "    n = CVM(1000,1,1,0,0.1)    \n",
    "    matrix_2[i,:] = np.array(n[10:110]) * np.array(n[10])\n",
    "    "
   ]
  },
  {
   "cell_type": "code",
   "execution_count": 57,
   "metadata": {},
   "outputs": [],
   "source": [
    "#np.array(n[50:140])[::-1]# reverse order\n",
    "#np.array(range(0,100))[:np.int((len(t)/2))] #takes first half\n",
    "#len(t)/2"
   ]
  },
  {
   "cell_type": "code",
   "execution_count": 58,
   "metadata": {},
   "outputs": [
    {
     "name": "stdout",
     "output_type": "stream",
     "text": [
      "[ 4.57652331e-01  4.13678566e-01  3.71326845e-01  3.38154805e-01\n",
      "  3.04242830e-01  2.74390953e-01  2.49639600e-01  2.23110021e-01\n",
      "  2.01123299e-01  1.76633763e-01  1.62144456e-01  1.45692611e-01\n",
      "  1.35155728e-01  1.22695482e-01  1.12345598e-01  1.01306734e-01\n",
      "  9.40615332e-02  8.06326171e-02  7.29167779e-02  6.39520388e-02\n",
      "  5.32303050e-02  4.64882928e-02  4.41561821e-02  4.03248277e-02\n",
      "  3.68080145e-02  3.05179988e-02  2.30888733e-02  1.95652392e-02\n",
      "  1.76275954e-02  1.55021226e-02  1.44486200e-02  1.29172538e-02\n",
      "  1.18292750e-02  1.20585558e-02  1.44401427e-02  1.35987495e-02\n",
      "  1.34992158e-02  1.40896460e-02  1.32678959e-02  9.84248683e-03\n",
      "  1.11918588e-02  1.12435730e-02  8.33643474e-03  5.19762308e-03\n",
      "  7.73861833e-03  4.65791862e-03  4.45830717e-03  1.56017375e-03\n",
      "  5.36210385e-03  1.23021036e-03  2.31794474e-03  1.76041298e-03\n",
      " -9.56299179e-04 -5.70100488e-03 -7.93351359e-03 -7.30650403e-03\n",
      " -8.74733185e-03 -1.06667787e-02 -1.09690629e-02 -9.48649683e-03\n",
      " -8.72016799e-03 -6.56563582e-03 -7.55267980e-03 -8.46734323e-03\n",
      " -5.29462501e-03 -8.54659059e-03 -2.43874181e-03 -1.98241280e-03\n",
      " -5.13975516e-03 -4.71550059e-03 -2.99649492e-03 -5.00990798e-03\n",
      " -1.27779602e-03  3.15270348e-04  7.92436166e-04  7.73046243e-05\n",
      " -2.67095383e-03 -1.34162632e-04  1.73333227e-03 -7.32192809e-04\n",
      "  4.96603239e-04  2.24075440e-04  5.79698841e-04  1.06502078e-03\n",
      " -3.76329990e-03 -6.13535868e-03 -5.13225740e-03 -6.86563967e-03\n",
      " -5.77567796e-03 -9.55520819e-04 -1.77360125e-03 -3.61478785e-03\n",
      " -4.06028197e-03 -3.89023954e-03  1.55068742e-04 -3.56517669e-04\n",
      "  5.96171712e-04  1.36699390e-03 -1.44130826e-03 -1.01241801e-03]\n"
     ]
    }
   ],
   "source": [
    "# Numerical covariance\n",
    "print(matrix_2.mean(axis=0))"
   ]
  },
  {
   "cell_type": "code",
   "execution_count": 59,
   "metadata": {},
   "outputs": [],
   "source": [
    "# Theoretical covariance\n",
    "sigma = 1\n",
    "a = 1 \n",
    "s= 10 # same as before when calculating numerical covariance, only the lag matters when dealing with stationary processes such\n",
    "# as OU model\n",
    "t = np.array(range(10,110))\n",
    "theor_cov = np.zeros(len(t))\n",
    "theor_cov = sigma/(2*a)*(np.exp(-a*np.abs(t-s)) - np.exp(-a*(t+s)))\n",
    "       \n"
   ]
  },
  {
   "cell_type": "code",
   "execution_count": 62,
   "metadata": {},
   "outputs": [
    {
     "data": {
      "image/png": "[encoded data removed]",
      "text/plain": [
       "<Figure size 432x288 with 1 Axes>"
      ]
     },
     "metadata": {
      "needs_background": "light"
     },
     "output_type": "display_data"
    }
   ],
   "source": [
    "plt.plot(matrix_2.mean(axis=0),label=\"Numerical Covariance\")\n",
    "plt.plot(theor_cov,label='Theoretical Covariance')\n",
    "plt.xlabel('Lag')\n",
    "plt.ylabel('Covariance function')\n",
    "plt.legend()\n",
    "plt.show()"
   ]
  },
  {
   "cell_type": "code",
   "execution_count": null,
   "metadata": {},
   "outputs": [],
   "source": []
  }
 ],
 "metadata": {
  "kernelspec": {
   "display_name": "Python 3",
   "language": "python",
   "name": "python3"
  },
  "language_info": {
   "codemirror_mode": {
    "name": "ipython",
    "version": 3
   },
   "file_extension": ".py",
   "mimetype": "text/x-python",
   "name": "python",
   "nbconvert_exporter": "python",
   "pygments_lexer": "ipython3",
   "version": "3.6.8"
  }
 },
 "nbformat": 4,
 "nbformat_minor": 2
}
