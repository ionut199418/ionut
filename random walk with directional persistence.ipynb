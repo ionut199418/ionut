{
 "cells": [
  {
   "cell_type": "code",
   "execution_count": 1,
   "metadata": {},
   "outputs": [
    {
     "name": "stdout",
     "output_type": "stream",
     "text": [
      "how many steps?100\n",
      "what's the scale?2\n",
      "what's the shape?5\n",
      "What's the shape parameter for the wrapped Cauchy?0.5\n"
     ]
    },
    {
     "data": {
      "text/plain": [
       "(array([  0.        ,   0.90831258,   1.46618449,   2.38114625,\n",
       "          2.50020789,   3.89356475,   3.97411003,   3.51713803,\n",
       "          5.90664739,   7.34767376,   8.88009584,   7.65337578,\n",
       "          6.30789166,   7.45257925,   6.93592621,   6.41315039,\n",
       "          5.18205012,   4.34088388,   3.29476396,   1.1604144 ,\n",
       "          3.17322525,   4.91899578,   6.1403735 ,   7.51896769,\n",
       "          9.5963644 ,  11.08335526,  11.21567822,  11.31506439,\n",
       "         10.08595288,  11.42533622,  12.65121274,  14.77240858,\n",
       "         14.15807592,  12.69174889,  11.19951304,  11.06503903,\n",
       "         12.48956779,  13.63432948,  12.31833418,  11.15763411,\n",
       "          9.87573083,   8.73103779,   7.64694126,   6.66956574,\n",
       "          5.28985517,   6.51695249,   7.47574115,   8.81864081,\n",
       "          9.91187975,   7.72817463,   9.29471276,  10.74531056,\n",
       "         11.75274545,  13.02581604,  15.10403174,  17.39371906,\n",
       "         16.88968111,  16.63400265,  15.19577282,  16.60451699,\n",
       "         18.10243436,  19.75624822,  20.77368186,  22.78351349,\n",
       "         23.80950136,  23.40936238,  23.51840163,  25.5339034 ,\n",
       "         27.60053451,  26.26703445,  24.09668696,  25.065019  ,\n",
       "         25.75985839,  25.59606952,  24.47075213,  23.17998992,\n",
       "         22.12078796,  20.53837252,  19.66732511,  19.78592026,\n",
       "         19.21487568,  19.08624896,  18.39204448,  17.08534217,\n",
       "         14.79121753,  15.67618039,  15.50614037,  15.62116806,\n",
       "         16.1823807 ,  17.03943076,  17.65791328,  18.31530043,\n",
       "         17.92489083,  16.71179319,  16.43724599,  15.2215115 ,\n",
       "         17.12843245,  18.30245379,  16.04563119,  13.76269127]),\n",
       " array([  0.        ,   0.95468639,  -0.38962865,  -1.97190922,\n",
       "         -3.73647273,  -5.16882797,  -7.20679895,  -5.65992737,\n",
       "         -5.8130144 ,  -7.37573181,  -8.47757666,  -7.76303292,\n",
       "         -7.68959966,  -6.31118618,  -4.43243245,  -6.10454386,\n",
       "         -7.45982123,  -9.1258814 ,  -9.7539983 ,  -9.08384405,\n",
       "         -9.41258667,  -9.42472052, -10.60601769, -10.11785511,\n",
       "        -10.01126381,  -9.03744087,  -6.59102913,  -4.22499423,\n",
       "         -2.58845718,  -2.01735861,  -1.64674883,  -2.16918757,\n",
       "         -0.6521061 ,   0.81484855,  -1.03231585,  -2.51176425,\n",
       "         -3.66947328,  -5.03460473,  -5.76318235,  -4.86867589,\n",
       "         -4.5488615 ,  -3.24354193,  -2.16936895,  -2.05317749,\n",
       "         -2.83227408,  -2.8950112 ,  -2.2743938 ,  -1.00124482,\n",
       "          0.9906511 ,   0.09715522,   0.08561379,   1.59916554,\n",
       "          3.24342063,   5.15223953,   5.24135904,   4.70468012,\n",
       "          2.89085723,   1.0255859 ,   0.19383173,   0.8256574 ,\n",
       "          1.04623205,   0.42065608,   0.09120888,  -0.53755218,\n",
       "         -0.06836377,   0.96019611,   2.29435473,   3.76353937,\n",
       "          3.00637319,   0.57394594,   0.40605768,  -1.25217608,\n",
       "          0.30672252,   2.04226676,   3.0834168 ,   5.11744394,\n",
       "          5.86392816,   6.28063759,   8.19064807,   6.14439697,\n",
       "          3.86168556,   5.9789757 ,   3.42043803,   3.82754793,\n",
       "          3.66190267,   5.60689426,   7.75306004,  10.17495628,\n",
       "         12.24512713,  13.51165876,  15.70247167,  14.15021962,\n",
       "         12.87848881,  13.00718722,  11.67045932,  10.24107297,\n",
       "         10.09842798,  11.79801531,  11.97020184,  11.85455357]))"
      ]
     },
     "execution_count": 1,
     "metadata": {},
     "output_type": "execute_result"
    }
   ],
   "source": [
    "import random\n",
    "import math\n",
    "import numpy as np\n",
    "from scipy.stats import wrapcauchy\n",
    "import matplotlib.pyplot as plt\n",
    "plt.figure()\n",
    "def rw2(n):\n",
    "    #x,y=0,0\n",
    "    x=np.zeros(n)\n",
    "    y=np.zeros(n)\n",
    "    theta=[0]*n\n",
    "    theta[0]=wrapcauchy.rvs(c,loc=0,size=1)\n",
    "    for i in range(1,n):\n",
    "        r=random.weibullvariate(alpha,beta)\n",
    "        theta[i]=wrapcauchy.rvs(c,loc=theta[i-1],size=1)\n",
    "        x[i]=x[i-1]+r*math.cos(theta[i])\n",
    "        y[i]=y[i-1]+r*math.sin(theta[i])\n",
    "        #plt.plot(x[i],y[i])\n",
    "        #redraw()\n",
    "        #x+=r*math.cos(theta[i])\n",
    "        #y+=r*math.sin(theta[i])\n",
    "    return(x,y)   \n",
    "n=int(input(\"how many steps?\"))\n",
    "alpha=int(input(\"what's the scale?\"))\n",
    "beta=int(input(\"what's the shape?\"))\n",
    "c=float(input(\"What's the shape parameter for the wrapped Cauchy?\"))\n",
    "#ries=int(input(\"how many tries?\"))\n",
    "#or i in range(tries):\n",
    "    #print(rw2(n))\n",
    "data=rw2(n)\n",
    "data\n",
    "    "
   ]
  },
  {
   "cell_type": "code",
   "execution_count": 30,
   "metadata": {
    "collapsed": true
   },
   "outputs": [],
   "source": [
    "import matplotlib.pyplot as plt\n",
    "import random\n",
    "import math\n",
    "import numpy as np\n",
    "import matplotlib.pyplot as plt\n",
    "import seaborn as sns\n",
    "import pandas as pd\n",
    "from functools import partial\n",
    "import statistics\n"
   ]
  },
  {
   "cell_type": "code",
   "execution_count": 7,
   "metadata": {},
   "outputs": [
    {
     "data": {
      "image/png": "[encoded data removed]",
      "text/plain": [
       "<matplotlib.figure.Figure at 0x216114849b0>"
      ]
     },
     "metadata": {},
     "output_type": "display_data"
    }
   ],
   "source": [
    "np.asarray(data)\n",
    "x=data[0]\n",
    "y=data[1]\n",
    "plt.plot(x,y)\n",
    "plt.show()"
   ]
  }
 ],
 "metadata": {
  "kernelspec": {
   "display_name": "Python 3",
   "language": "python",
   "name": "python3"
  },
  "language_info": {
   "codemirror_mode": {
    "name": "ipython",
    "version": 3
   },
   "file_extension": ".py",
   "mimetype": "text/x-python",
   "name": "python",
   "nbconvert_exporter": "python",
   "pygments_lexer": "ipython3",
   "version": "3.6.3"
  }
 },
 "nbformat": 4,
 "nbformat_minor": 2
}
