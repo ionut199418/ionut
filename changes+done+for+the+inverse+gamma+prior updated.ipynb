{
 "cells": [
  {
   "cell_type": "code",
   "execution_count": 9,
   "metadata": {
    "collapsed": true
   },
   "outputs": [],
   "source": [
    "import random\n",
    "import math\n",
    "%matplotlib inline\n",
    "import numpy as np\n",
    "import matplotlib.pyplot as plt\n",
    "import seaborn as sns\n",
    "import pandas as pd\n",
    "from scipy.stats import invgamma\n",
    "from functools import partial\n",
    "import statistics"
   ]
  },
  {
   "cell_type": "code",
   "execution_count": 36,
   "metadata": {
    "collapsed": true
   },
   "outputs": [],
   "source": [
    "def rw2(n):# this gives samples from weibull(2,1)# put n=100,the shape 2 and the scale 1\n",
    "    x,y=0,0\n",
    "    distance=[]\n",
    "    for i in range(1,n+1):\n",
    "            r=random.weibullvariate(alpha,beta) # step size r\n",
    "            theta=2.*math.pi*random.random()\n",
    "            x +=r*math.cos(theta)\n",
    "            y +=r*math.sin(theta)\n",
    "            distance.append(r)# save the distances r for the mcmc sampler\n",
    "    return(np.array(distance))# depending what do you want to do, either save the pairs, or save the distances r  between points\n",
    "    #return(x,y)\n",
    "    \n",
    "alpha=1 # scale\n",
    "beta=2 #shape parameter\n",
    "n=10000\n",
    "data = rw2(n)# very important because you need the same data, if you put rw2(n) in there you change the data every time\n",
    "#data"
   ]
  },
  {
   "cell_type": "code",
   "execution_count": 29,
   "metadata": {
    "collapsed": true
   },
   "outputs": [],
   "source": [
    "# calculate the log likelihood of weibull(a,b)\n",
    "import scipy.stats \n",
    "from scipy.stats import dweibull\n",
    "import numpy as np\n",
    "from numpy import prod\n",
    "def log_likelihood(x,b,a):\n",
    "     return sum(dweibull.logpdf(x,scale=b,c=a))# c is shape\n",
    "def likelihood(x,a_scale,b_shape):\n",
    "     return prod(dweibull.pdf(x,scale=a_scale,c=b_shape))"
   ]
  },
  {
   "cell_type": "code",
   "execution_count": 57,
   "metadata": {},
   "outputs": [
    {
     "name": "stdout",
     "output_type": "stream",
     "text": [
      "Acceptance rate = 0.3807\n",
      "1.01236015317\n",
      "0.00707341069706\n"
     ]
    },
    {
     "data": {
      "image/png": "[encoded data removed]",
      "text/plain": [
       "<matplotlib.figure.Figure at 0x18415be3d68>"
      ]
     },
     "metadata": {},
     "output_type": "display_data"
    }
   ],
   "source": [
    "import scipy.stats as stats\n",
    "from scipy.stats import invgamma\n",
    "# initial guess for theta(a and b) as array. Now the shape 2 is fixed, the prior is inverse gamma(1,2)\n",
    "guess = 2# initial guess for scale\n",
    "# Prepare storing MCMC chain as array of arrays.\n",
    "A = [guess]\n",
    "# define stepsize of MCMC.\n",
    "stepsizes = 0.015  # array of stepsizes\n",
    "accepted  = 0.0\n",
    "old_theta=guess# define initial values for theta \n",
    "old_loglik = log_likelihood(data,old_theta,2)#calculate the first log likelihood\n",
    "old_logtarget=old_loglik+invgamma.logpdf(old_theta,1,scale=2)\n",
    "# Metropolis-Hastings with 10,000 iterations.\n",
    "for p in range(10000):\n",
    "    new_theta = old_theta + stats.norm(0, stepsizes).rvs() \n",
    "    #add the restraints on new_theta\n",
    "    if new_theta<0: \n",
    "        continue\n",
    "    new_loglik = log_likelihood(data,new_theta,2)\n",
    "    new_logtarget=new_loglik+invgamma.logpdf(new_theta,1,scale=2)\n",
    "    # Accept new candidate in Monte-Carlo fashing.\n",
    "    if (new_logtarget > old_logtarget):\n",
    "        A.append(new_theta)\n",
    "        accepted = accepted + 1.0  # monitor acceptance\n",
    "        old_loglik=new_loglik\n",
    "        old_theta=new_theta\n",
    "        old_logtarget=new_logtarget\n",
    "    else:\n",
    "        u = random.uniform(0.0,1.0)\n",
    "        if (u < math.exp(new_logtarget-old_logtarget)):\n",
    "            A.append(new_theta)\n",
    "            accepted = accepted + 1.0  # monitor acceptance\n",
    "            old_loglik=new_loglik\n",
    "            old_theta=new_theta\n",
    "            old_logtarget=new_logtarget \n",
    "print(\"Acceptance rate = \"+str(accepted/10000.0))\n",
    "print(statistics.mean(A))\n",
    "print(statistics.variance(A))\n",
    "plt.hist(A,bins=100)\n",
    "plt.xlabel(\"scale parameter\")\n",
    "plt.xlim(0.9,1.1) \n",
    "plt.show()"
   ]
  },
  {
   "cell_type": "code",
   "execution_count": 56,
   "metadata": {},
   "outputs": [
    {
     "data": {
      "image/png": "[encoded data removed]",
      "text/plain": [
       "<matplotlib.figure.Figure at 0x18414b79e80>"
      ]
     },
     "metadata": {},
     "output_type": "display_data"
    }
   ],
   "source": [
    "a = 1+n\n",
    "b=2+sum(data**2)\n",
    "x = np.linspace(invgamma.ppf(0.001,a,scale=b),invgamma.ppf(0.999, a,scale=b),100)\n",
    "plt.plot(x,invgamma.pdf(x,a,scale=b),'r-',lw=5, alpha=0.6, label='invgamma pdf')\n",
    "plt.hist(A,bins=100,normed=True)\n",
    "plt.xlabel(\"Marginal posterior for the scale parameter\")\n",
    "plt.xlim(0.9,1.1)\n",
    "plt.show()\n"
   ]
  },
  {
   "cell_type": "code",
   "execution_count": 25,
   "metadata": {},
   "outputs": [
    {
     "data": {
      "text/plain": [
       "114.89036015907813"
      ]
     },
     "execution_count": 25,
     "metadata": {},
     "output_type": "execute_result"
    }
   ],
   "source": [
    "2+sum(data**2)"
   ]
  },
  {
   "cell_type": "code",
   "execution_count": 58,
   "metadata": {},
   "outputs": [
    {
     "name": "stdout",
     "output_type": "stream",
     "text": [
      "1.00340608821\n",
      "0.000100692447031\n"
     ]
    }
   ],
   "source": [
    "from scipy.stats import invgamma\n",
    "print(invgamma.mean(a,scale=b))\n",
    "print(invgamma.var(a,scale=b))"
   ]
  },
  {
   "cell_type": "code",
   "execution_count": null,
   "metadata": {
    "collapsed": true
   },
   "outputs": [],
   "source": []
  }
 ],
 "metadata": {
  "kernelspec": {
   "display_name": "Python 3",
   "language": "python",
   "name": "python3"
  },
  "language_info": {
   "codemirror_mode": {
    "name": "ipython",
    "version": 3
   },
   "file_extension": ".py",
   "mimetype": "text/x-python",
   "name": "python",
   "nbconvert_exporter": "python",
   "pygments_lexer": "ipython3",
   "version": "3.6.3"
  }
 },
 "nbformat": 4,
 "nbformat_minor": 2
}
