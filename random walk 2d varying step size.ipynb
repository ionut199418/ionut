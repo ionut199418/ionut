{
 "cells": [
  {
   "cell_type": "code",
   "execution_count": 9,
   "metadata": {},
   "outputs": [
    {
     "name": "stdout",
     "output_type": "stream",
     "text": [
      "what's the scale?2\n",
      "what's the shape?5\n",
      "how many steps?100\n",
      "how many tries?1\n",
      "<class 'list'>\n",
      "<class 'list'>\n",
      "<class 'list'>\n",
      "<class 'list'>\n",
      "<class 'list'>\n",
      "<class 'list'>\n",
      "<class 'list'>\n",
      "<class 'list'>\n",
      "<class 'list'>\n",
      "<class 'list'>\n",
      "<class 'list'>\n",
      "<class 'list'>\n",
      "<class 'list'>\n",
      "<class 'list'>\n",
      "<class 'list'>\n",
      "<class 'list'>\n",
      "<class 'list'>\n",
      "<class 'list'>\n",
      "<class 'list'>\n",
      "<class 'list'>\n",
      "<class 'list'>\n",
      "<class 'list'>\n",
      "<class 'list'>\n",
      "<class 'list'>\n",
      "<class 'list'>\n",
      "<class 'list'>\n",
      "<class 'list'>\n",
      "<class 'list'>\n",
      "<class 'list'>\n",
      "<class 'list'>\n",
      "<class 'list'>\n",
      "<class 'list'>\n",
      "<class 'list'>\n",
      "<class 'list'>\n",
      "<class 'list'>\n",
      "<class 'list'>\n",
      "<class 'list'>\n",
      "<class 'list'>\n",
      "<class 'list'>\n",
      "<class 'list'>\n",
      "<class 'list'>\n",
      "<class 'list'>\n",
      "<class 'list'>\n",
      "<class 'list'>\n",
      "<class 'list'>\n",
      "<class 'list'>\n",
      "<class 'list'>\n",
      "<class 'list'>\n",
      "<class 'list'>\n",
      "<class 'list'>\n",
      "<class 'list'>\n",
      "<class 'list'>\n",
      "<class 'list'>\n",
      "<class 'list'>\n",
      "<class 'list'>\n",
      "<class 'list'>\n",
      "<class 'list'>\n",
      "<class 'list'>\n",
      "<class 'list'>\n",
      "<class 'list'>\n",
      "<class 'list'>\n",
      "<class 'list'>\n",
      "<class 'list'>\n",
      "<class 'list'>\n",
      "<class 'list'>\n",
      "<class 'list'>\n",
      "<class 'list'>\n",
      "<class 'list'>\n",
      "<class 'list'>\n",
      "<class 'list'>\n",
      "<class 'list'>\n",
      "<class 'list'>\n",
      "<class 'list'>\n",
      "<class 'list'>\n",
      "<class 'list'>\n",
      "<class 'list'>\n",
      "<class 'list'>\n",
      "<class 'list'>\n",
      "<class 'list'>\n",
      "<class 'list'>\n",
      "<class 'list'>\n",
      "<class 'list'>\n",
      "<class 'list'>\n",
      "<class 'list'>\n",
      "<class 'list'>\n",
      "<class 'list'>\n",
      "<class 'list'>\n",
      "<class 'list'>\n",
      "<class 'list'>\n",
      "<class 'list'>\n",
      "<class 'list'>\n",
      "<class 'list'>\n",
      "<class 'list'>\n",
      "<class 'list'>\n",
      "<class 'list'>\n",
      "<class 'list'>\n",
      "<class 'list'>\n",
      "<class 'list'>\n",
      "<class 'list'>\n",
      "<class 'list'>\n",
      "[2.051071803523212, 1.484733554052162, 1.6815842363032676, 1.908103129237814, 2.4344777455438873, 1.3474638638673797, 2.3156978076351105, 1.5473854971585514, 1.6708447883021904, 1.6594545290098788, 1.8579650016043272, 2.100470283372276, 1.8829057767671924, 1.8477657951446655, 1.6387154241552913, 1.5015473197020437, 1.8660953748643483, 2.273561582492102, 1.8064960294789303, 1.7593385836226925, 1.9074874875622565, 2.3680295299760226, 2.051301527335902, 0.9332087121897107, 1.3294435582240294, 1.9686181508645093, 1.3308892632520477, 2.1308566528964343, 1.8779025368492268, 1.9570020014027163, 2.2292417806011025, 1.8451163391626084, 2.0172273345660647, 1.893586623434424, 1.7787766472406186, 1.740616228811454, 2.406391515822036, 1.71699044595402, 1.8874249689360636, 1.6057069600661453, 1.8822883758410012, 1.8490824172411449, 2.401325887362128, 2.477425814854712, 2.0748799731891965, 2.2699335531955507, 2.1270123584395244, 1.340256515430247, 2.1914549432425234, 1.5776818753739636, 1.8388182960664343, 2.340968154458329, 1.3601472597040514, 1.59663235430419, 1.766808372551796, 1.0015364926885884, 2.30090622495135, 2.253787169290335, 1.8484220978996466, 2.40780024491503, 1.1871405383151759, 2.1783666409653955, 1.6448149269826586, 1.059571580334345, 1.9768487295307728, 2.3955264834133763, 1.528886549250287, 1.7206555256101705, 1.6168371043592424, 1.7806162604794356, 2.4123594651657467, 1.0440589694732494, 2.088473857075476, 1.9326514342198966, 1.9163566572161959, 1.307489114395593, 2.1784908628479007, 1.6236098916243853, 1.612027610713386, 1.3684922670359125, 1.928996173337877, 1.6171713972115298, 1.9077675857505245, 1.5006335775489497, 2.189854000809009, 1.6256444651534896, 1.6461849312260495, 1.3186751801467507, 1.5828739845068185, 1.9222183557472126, 1.2644925783863727, 1.4209859136748708, 2.671240177007093, 1.7053564854556136, 1.8390895241162004, 2.2184004570033684, 1.526637112654324, 2.2604442755686054, 1.9638186225912708, 2.105386644346757]\n"
     ]
    }
   ],
   "source": [
    "import random\n",
    "import math\n",
    "def rw2(n):\n",
    "    x,y=0,0\n",
    "    distance=[]\n",
    "    for i in range(1,n+1):\n",
    "            r=random.weibullvariate(alpha,beta) # step size r\n",
    "            theta=2.*math.pi*random.random()\n",
    "            x +=r*math.cos(theta)\n",
    "            y +=r*math.sin(theta)\n",
    "            distance.append(r)# save the distances r for the mcmc sampler\n",
    "            print(type(distance))\n",
    "    return(distance)# depending what do you want to do, either save the pairs, or save the distances r  between points\n",
    "    #return(x,y)\n",
    "    \n",
    "alpha=int(input(\"what's the scale?\"))\n",
    "beta=int(input(\"what's the shape?\"))\n",
    "n=int(input(\"how many steps?\"))\n",
    "tries=int(input(\"how many tries?\"))#  put tries=1  in order to properly save the list distance\n",
    "for i in range(tries):\n",
    "    print (rw2(n))\n",
    "    "
   ]
  },
  {
   "cell_type": "code",
   "execution_count": 3,
   "metadata": {},
   "outputs": [
    {
     "ename": "NameError",
     "evalue": "name 'distance' is not defined",
     "output_type": "error",
     "traceback": [
      "\u001b[1;31m---------------------------------------------------------------------------\u001b[0m",
      "\u001b[1;31mNameError\u001b[0m                                 Traceback (most recent call last)",
      "\u001b[1;32m<ipython-input-3-d217d692807f>\u001b[0m in \u001b[0;36m<module>\u001b[1;34m()\u001b[0m\n\u001b[1;32m----> 1\u001b[1;33m \u001b[0mprint\u001b[0m\u001b[1;33m(\u001b[0m\u001b[0mdistance\u001b[0m\u001b[1;33m)\u001b[0m\u001b[1;33m\u001b[0m\u001b[0m\n\u001b[0m",
      "\u001b[1;31mNameError\u001b[0m: name 'distance' is not defined"
     ]
    }
   ],
   "source": [
    "print(distance)"
   ]
  },
  {
   "cell_type": "code",
   "execution_count": null,
   "metadata": {
    "collapsed": true
   },
   "outputs": [],
   "source": []
  },
  {
   "cell_type": "code",
   "execution_count": null,
   "metadata": {
    "collapsed": true
   },
   "outputs": [],
   "source": []
  }
 ],
 "metadata": {
  "kernelspec": {
   "display_name": "Python 3",
   "language": "python",
   "name": "python3"
  },
  "language_info": {
   "codemirror_mode": {
    "name": "ipython",
    "version": 3
   },
   "file_extension": ".py",
   "mimetype": "text/x-python",
   "name": "python",
   "nbconvert_exporter": "python",
   "pygments_lexer": "ipython3",
   "version": "3.6.3"
  }
 },
 "nbformat": 4,
 "nbformat_minor": 2
}
