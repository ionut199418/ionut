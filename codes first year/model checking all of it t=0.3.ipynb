{
 "cells": [
  {
   "cell_type": "code",
   "execution_count": 1,
   "metadata": {},
   "outputs": [
    {
     "name": "stderr",
     "output_type": "stream",
     "text": [
      "C:\\Anaconda\\lib\\site-packages\\statsmodels\\compat\\pandas.py:56: FutureWarning: The pandas.core.datetools module is deprecated and will be removed in a future version. Please use the pandas.tseries module instead.\n",
      "  from pandas.core import datetools\n"
     ]
    }
   ],
   "source": [
    "import pandas as pd\n",
    "import statsmodels.api as sm\n",
    "from scipy import interpolate\n",
    "from pandas import Series, DataFrame, Panel\n",
    "from string import ascii_lowercase as letters\n",
    "from scipy.stats import chisqprob\n",
    "from __future__ import division\n",
    "import os\n",
    "import sys\n",
    "import glob\n",
    "import matplotlib.pyplot as plt\n",
    "import numpy as np\n",
    "import pandas as pd\n",
    "import random\n",
    "import math\n",
    "from scipy.stats import wrapcauchy\n",
    "import matplotlib.pyplot as plt\n",
    "%matplotlib inline\n",
    "%precision 4\n",
    "plt.style.use('classic')\n",
    "from mpl_toolkits.mplot3d import Axes3D\n",
    "import scipy.stats as stats\n",
    "from functools import partial\n",
    "np.random.seed(1234)"
   ]
  },
  {
   "cell_type": "code",
   "execution_count": 2,
   "metadata": {
    "collapsed": true
   },
   "outputs": [],
   "source": [
    "def rw2(n):# this gives samples from weibull(5,2)\n",
    "    x=np.zeros(n)\n",
    "    y=np.zeros(n)\n",
    "    theta=[0]*n\n",
    "    distance=[]\n",
    "    theta[0]=wrapcauchy.rvs(c,loc=0,size=1)\n",
    "    if theta[0]>2*math.pi:\n",
    "            theta[0] = theta[0] - 2* math.pi\n",
    "    if theta[0]<0:\n",
    "            theta[0] = theta[0] + 2* math.pi\n",
    "    for i in range(1,n):\n",
    "        r=random.weibullvariate(alpha,beta)\n",
    "        theta[i]=wrapcauchy.rvs(c,loc=theta[i-1],size=1)# c is the shape parameter\n",
    "        if theta[i]>2*math.pi:\n",
    "            theta[i] =theta[i] - 2* math.pi\n",
    "        if theta[i]<0:\n",
    "            theta[i] = theta[i] + 2* math.pi\n",
    "        x[i]=x[i-1]+r*math.cos(theta[i])\n",
    "        y[i]=y[i-1]+r*math.sin(theta[i])\n",
    "        distance.append(r)\n",
    "    return(x,y,distance,theta) \n",
    "    \n",
    "n=1000 #int(input(\"how many steps?\"))\n",
    "alpha=2 #int(input(\"what's the scale?\"))\n",
    "beta=5 #int(input(\"what's the shape?\"))\n",
    "c=0.9# float(input(\"What's the shape parameter for the wrapped Cauchy?\"))# this needs to be between 0 and 1\n",
    "data = rw2(n)\n",
    "x=data[0]\n",
    "y=data[1]\n",
    "r_original=data[2]# this is a vector of step-lengths\n",
    "theta_original=data[3]# this is a vector of headings\n",
    "t=range(0,n)"
   ]
  },
  {
   "cell_type": "code",
   "execution_count": 3,
   "metadata": {
    "collapsed": true
   },
   "outputs": [],
   "source": [
    "# my code pretty much starts here\n",
    "time_step=0.3\n",
    "t_new=np.arange(0,n-1,time_step)\n",
    "f=interpolate.interp1d(t,x,kind='cubic')#,fill_value=\"extrapolate\")\n",
    "g=interpolate.interp1d(t,y,kind='cubic')#,fill_value=\"extrapolate\") don't do this"
   ]
  },
  {
   "cell_type": "code",
   "execution_count": 4,
   "metadata": {
    "collapsed": true
   },
   "outputs": [],
   "source": [
    "x_new=f(t_new)\n",
    "y_new=g(t_new)"
   ]
  },
  {
   "cell_type": "code",
   "execution_count": 5,
   "metadata": {},
   "outputs": [
    {
     "name": "stdout",
     "output_type": "stream",
     "text": [
      "3329\n",
      "3329\n",
      "3329\n",
      "3328\n"
     ]
    }
   ],
   "source": [
    "#get the distances now and the angles\n",
    "r=np.zeros(len(x_new)-1)# r the step-lengths\n",
    "theta=np.zeros(len(x_new)-1)# theta the angle\n",
    "new_data=np.zeros(len(x_new)-1)\n",
    "for i in range(0,len(x_new)-1):\n",
    "    r[i]=np.sqrt((x_new[i+1]-x_new[i])**2 + (y_new[i+1]-y_new[i])**2)\n",
    "    theta[i]=math.atan2(y_new[i+1]-y_new[i], x_new[i+1]-x_new[i])\n",
    "for i in range(0,len(x_new)-2):\n",
    "    new_data[i]=theta[i+1]-theta[i]# save the difference in the heading\n",
    "    if new_data[i]<0:\n",
    "        new_data[i]=new_data[i]+2*math.pi    \n",
    "data=r# save the step-lengths,have the same name as before in the MCMC sampler for the step-lengths\n",
    "#new_data is the data that we introduce in the heading MCMC sampler\n",
    "print(len(data))    \n",
    "print(len(theta))\n",
    "print(len(new_data))\n",
    "new_data# it has a zero at the end\n",
    "new_data=new_data[:-1]\n",
    "#new_data without zero.\n",
    "data=data[:-1]# change the step-lengths data as well\n",
    "print(len(data))"
   ]
  },
  {
   "cell_type": "code",
   "execution_count": 6,
   "metadata": {
    "collapsed": true
   },
   "outputs": [],
   "source": [
    "def log_likelihood(x,a,b):# a is shape, b is scale\n",
    "     return sum(dweibull.logpdf(x,scale=b,c=a))\n",
    "def log_wclikelihood(x,a,b):\n",
    "     return sum(wrapcauchy.logpdf(x,c=a,loc=b))# c is the shape parameter#MCMC sampler for the heading"
   ]
  },
  {
   "cell_type": "code",
   "execution_count": 7,
   "metadata": {},
   "outputs": [
    {
     "name": "stdout",
     "output_type": "stream",
     "text": [
      "Acceptance rate = 0.3779\n"
     ]
    }
   ],
   "source": [
    "# Now put them into the MCMC sampler, the second model is to be considered\n",
    "import scipy.stats \n",
    "from scipy.stats import dweibull#MCMC sampler for the heading\n",
    "# initial guess for theta(a) as array,these are shape(c) \n",
    "guess = 0.9\n",
    "# Prepare storing MCMC chain as array of arrays.\n",
    "A1 = [guess]\n",
    "# define stepsize of MCMC.\n",
    "stepsize = 0.007 # array of stepsizes\n",
    "accepted  = 0.0\n",
    "old_theta=guess# define initial values for theta \n",
    "old_loglik = log_wclikelihood(new_data,old_theta,0)#calculate the first log likelihood\n",
    "# Metropolis-Hastings with 20,000 iterations.\n",
    "for p in range(20000):\n",
    "    new_theta = old_theta + stats.norm(0, stepsize).rvs() \n",
    "    #add the restraints on new_theta\n",
    "    if new_theta<0 or new_theta>1: \n",
    "        continue\n",
    "    new_loglik = log_wclikelihood(new_data,new_theta,0)\n",
    "    # Accept new candidate in Monte-Carlo fashing.\n",
    "    if (new_loglik > old_loglik):\n",
    "        A1.append(new_theta)\n",
    "        accepted = accepted + 1.0  # monitor acceptance\n",
    "        old_loglik=new_loglik\n",
    "        old_theta=new_theta\n",
    "    else:\n",
    "        u = random.uniform(0.0,1.0)\n",
    "        if (u < math.exp(new_loglik - old_loglik)):\n",
    "            A1.append(new_theta)\n",
    "            accepted = accepted + 1.0  # monitor acceptance\n",
    "            old_loglik=new_loglik\n",
    "            old_theta=new_theta\n",
    "        else:\n",
    "            A1.append(old_theta)\n",
    "print(\"Acceptance rate = \"+str(accepted/10000.0))\n",
    "\n",
    "#0.002"
   ]
  },
  {
   "cell_type": "code",
   "execution_count": 8,
   "metadata": {},
   "outputs": [
    {
     "name": "stdout",
     "output_type": "stream",
     "text": [
      "0.95419558503\n",
      "0.954232404462\n",
      "19001\n"
     ]
    },
    {
     "data": {
      "image/png": "[encoded data removed]",
      "text/plain": [
       "<matplotlib.figure.Figure at 0x201d249dcc0>"
      ]
     },
     "metadata": {},
     "output_type": "display_data"
    },
    {
     "data": {
      "image/png": "[encoded data removed]",
      "text/plain": [
       "<matplotlib.figure.Figure at 0x201d6607f60>"
      ]
     },
     "metadata": {},
     "output_type": "display_data"
    }
   ],
   "source": [
    "print(np.mean(A1))\n",
    "print(np.mean(A1[1000:]))# burn in 1000\n",
    "plt.hist(A1,bins=50)\n",
    "B1=np.array(A1[1000:])\n",
    "print(len(B1))\n",
    "plt.xlabel(\"Shape Parameter\")\n",
    "plt.show()\n",
    "plt.hist(B1,bins=50)\n",
    "plt.xlabel(\"Shape Parameter\")\n",
    "plt.show()"
   ]
  },
  {
   "cell_type": "code",
   "execution_count": 9,
   "metadata": {},
   "outputs": [
    {
     "name": "stdout",
     "output_type": "stream",
     "text": [
      "Acceptance rate = 0.3608\n"
     ]
    }
   ],
   "source": [
    "#MCMC sampler for the step-lengths\n",
    "import scipy.stats as stats\n",
    "import numpy as np\n",
    "# initial guess for theta(a and b) as array.\n",
    "guess = [5.0,2.0]\n",
    "# Prepare storing MCMC chain as array of arrays.\n",
    "A2 = [guess]\n",
    "# define stepsize of MCMC.\n",
    "stepsizes = [0.02,0.02] # array of stepsizes\n",
    "accepted  = 0.0\n",
    "old_theta=guess# define initial values for theta \n",
    "old_loglik = log_likelihood(data,old_theta[0],old_theta[1])#calculate the first log likelihood\n",
    "# Metropolis-Hastings with 25,000 iterations.\n",
    "for p in range(25000):\n",
    "    # Suggest new candidate from Gaussian proposal distribution.\n",
    "    new_theta = old_theta + stats.norm(0, stepsizes).rvs() \n",
    "    #add the restraints on new_theta\n",
    "    if new_theta[0]<0 or new_theta[1]<0: \n",
    "        continue\n",
    "    new_loglik = log_likelihood(data,new_theta[0],new_theta[1])\n",
    "    # Accept new candidate in Monte-Carlo fashing.\n",
    "    if (new_loglik > old_loglik):\n",
    "        A2.append(new_theta)\n",
    "        accepted = accepted + 1.0  # monitor acceptance\n",
    "        old_loglik=new_loglik\n",
    "        old_theta=new_theta\n",
    "    else:\n",
    "        u = random.uniform(0.0,1.0)\n",
    "        if (u < math.exp(new_loglik - old_loglik)):\n",
    "            A2.append(new_theta)\n",
    "            accepted = accepted + 1.0  # monitor acceptance\n",
    "            old_loglik=new_loglik\n",
    "            old_theta=new_theta\n",
    "        else:\n",
    "            A2.append(old_theta)\n",
    "print(\"Acceptance rate = \"+str(accepted/10000.0))\n",
    "#0.007"
   ]
  },
  {
   "cell_type": "code",
   "execution_count": 10,
   "metadata": {},
   "outputs": [
    {
     "name": "stdout",
     "output_type": "stream",
     "text": [
      "25001\n",
      "4.49857381209\n",
      "0.601913258876\n"
     ]
    },
    {
     "data": {
      "image/png": "[encoded data removed]",
      "text/plain": [
       "<matplotlib.figure.Figure at 0x201d633e5c0>"
      ]
     },
     "metadata": {},
     "output_type": "display_data"
    },
    {
     "data": {
      "image/png": "[encoded data removed]",
      "text/plain": [
       "<matplotlib.figure.Figure at 0x201d69f3048>"
      ]
     },
     "metadata": {},
     "output_type": "display_data"
    }
   ],
   "source": [
    "print(len(A2))\n",
    "B2=np.array(A2[5000:])#burn-in 1000\n",
    "shape_mean=np.mean(B2[:,0])\n",
    "scale_mean=np.mean(B2[:,1])\n",
    "print(shape_mean)\n",
    "print(scale_mean)\n",
    "plt.hist(B2[:,0],bins=50)\n",
    "plt.xlabel(\"Shape Parameter\")\n",
    "plt.show()\n",
    "plt.hist(B2[:,1],bins=50)# now changing the parameters and n with the ones that I got\n",
    "plt.xlabel(\"Scale Parameter\")\n",
    "plt.show()# now changing the parameters and n with the ones that I got\n",
    "\n"
   ]
  },
  {
   "cell_type": "code",
   "execution_count": 16,
   "metadata": {},
   "outputs": [
    {
     "name": "stdout",
     "output_type": "stream",
     "text": [
      "200\n",
      "200\n",
      "200\n"
     ]
    }
   ],
   "source": [
    "# Weibull\n",
    "shape_parameters=B2[:,0]\n",
    "scale_parameters=B2[:,1]\n",
    "# select every 10th observation\n",
    "shape_parameters_need=shape_parameters[::10][:-1801]# same length now\n",
    "scale_parameters_need=scale_parameters[::10][:-1801]\n",
    "#Wrapped Cauchy\n",
    "shapewc_parameters=B1\n",
    "shapewc_parameters_need=B1[::10][:-1701]\n",
    "print(len(shapewc_parameters_need))\n",
    "print(len(scale_parameters_need))\n",
    "print(len(shape_parameters_need))"
   ]
  },
  {
   "cell_type": "code",
   "execution_count": 17,
   "metadata": {
    "collapsed": true
   },
   "outputs": [],
   "source": [
    "def rw2_change(n_change,alpha_change,beta_change,c_change):# this gives samples from the inference model\n",
    "    x_change=np.zeros(n_change)\n",
    "    y_change=np.zeros(n_change)\n",
    "    theta=np.zeros(n_change)\n",
    "    distance=[]\n",
    "    theta[0]=wrapcauchy.rvs(c_change,loc=0,size=1)\n",
    "    if theta[0]>2*math.pi:\n",
    "            theta[0] = theta[0] - 2* math.pi\n",
    "    if theta[0]<0:\n",
    "            theta[0] = theta[0] + 2* math.pi\n",
    "    for i in range(1,n_change):\n",
    "        r=random.weibullvariate(alpha_change,beta_change)\n",
    "        theta[i]=wrapcauchy.rvs(c_change,loc=theta[i-1],size=1)# c is the shape parameter\n",
    "        if theta[i]>2*math.pi:\n",
    "            theta[i] =theta[i] - 2* math.pi\n",
    "        if theta[i]<0:\n",
    "            theta[i] = theta[i] + 2* math.pi\n",
    "        x_change[i]=x_change[i-1]+r*math.cos(theta[i])\n",
    "        y_change[i]=y_change[i-1]+r*math.sin(theta[i])\n",
    "        distance.append(r)# save the distances r for the mcmc sampler\n",
    "    return [x_change,y_change,distance,theta]   \n",
    "    \n",
    "n_change=len(new_data) #int(input(\"how many steps?\"))\n",
    "alpha_change=scale_parameters_need#int(input(\"what's the scale?\"))\n",
    "beta_change=shape_parameters_need #int(input(\"what's the shape?\"))\n",
    "c_change=shapewc_parameters_need# float(input(\"What's the shape parameter for the wrapped Cauchy?\"))# this needs to be between 0 and 1\n",
    "#x_change = np.array(rw2_change(n_change)[0])\n",
    "#y_change=np.array(rw2_change(n_change)[1])\n",
    "#data_change=np.array(rw2_change(n_change)[2])\n",
    "#theta_change=np.array(rw2_change(n_change)[3])\n",
    "#the previous code"
   ]
  },
  {
   "cell_type": "code",
   "execution_count": 18,
   "metadata": {},
   "outputs": [
    {
     "name": "stdout",
     "output_type": "stream",
     "text": [
      "[ 0.6043  0.5995  0.5997  0.6005  0.5985  0.6023  0.6006  0.5994  0.5994\n",
      "  0.5994  0.6002  0.6019  0.6019  0.6019  0.6001  0.6001  0.5985  0.6001\n",
      "  0.5987  0.5999  0.5992  0.5989  0.5977  0.6015  0.6002  0.6002  0.6048\n",
      "  0.5985  0.6026  0.6008  0.6055  0.6024  0.6023  0.6041  0.6007  0.5978\n",
      "  0.6017  0.6013  0.6025  0.6014  0.6046  0.6032  0.6032  0.6032  0.6016\n",
      "  0.6018  0.6034  0.5986  0.6004  0.6004  0.6045  0.6005  0.6026  0.6044\n",
      "  0.6024  0.6075  0.6028  0.6033  0.5968  0.6007  0.6007  0.5976  0.6056\n",
      "  0.5995  0.6053  0.598   0.6074  0.5992  0.6059  0.6038  0.6083  0.6081\n",
      "  0.6004  0.6032  0.6044  0.6044  0.5977  0.6017  0.604   0.6037  0.5974\n",
      "  0.6043  0.6075  0.6013  0.6056  0.6044  0.6044  0.6007  0.6009  0.6006\n",
      "  0.6006  0.5991  0.6031  0.5968  0.6026  0.6026  0.6001  0.5974  0.5975\n",
      "  0.5983  0.603   0.6029  0.6017  0.602   0.602   0.602   0.6037  0.6041\n",
      "  0.6034  0.6043  0.6027  0.5993  0.5997  0.5997  0.6006  0.6032  0.6015\n",
      "  0.6015  0.5995  0.6016  0.6083  0.5998  0.5998  0.5998  0.6042  0.6038\n",
      "  0.6024  0.6005  0.6014  0.5991  0.6018  0.6004  0.6053  0.6029  0.6017\n",
      "  0.6008  0.6031  0.6057  0.5997  0.5981  0.597   0.6021  0.6021  0.5995\n",
      "  0.6029  0.6039  0.5981  0.5981  0.5993  0.6067  0.6     0.6002  0.6043\n",
      "  0.603   0.603   0.6024  0.6004  0.6004  0.6004  0.6014  0.5999  0.6066\n",
      "  0.6066  0.6066  0.6046  0.5996  0.6026  0.6053  0.6033  0.6047  0.5997\n",
      "  0.6029  0.6029  0.6029  0.6035  0.6024  0.5991  0.6021  0.5985  0.5985\n",
      "  0.6041  0.6041  0.6025  0.6027  0.6016  0.5997  0.5991  0.6038  0.6038\n",
      "  0.5991  0.5991  0.6007  0.6036  0.5982  0.5988  0.6019  0.6036  0.6065\n",
      "  0.6008  0.6057]\n",
      "[ 4.4063  4.3963  4.3851  4.3762  4.3701  4.3851  4.3643  4.3525  4.3525\n",
      "  4.3525  4.3508  4.3935  4.3935  4.3935  4.3957  4.3957  4.4037  4.4251\n",
      "  4.4353  4.4395  4.4802  4.4527  4.4303  4.4629  4.4612  4.4612  4.4587\n",
      "  4.4402  4.4457  4.4854  4.4949  4.5085  4.501   4.5096  4.5403  4.5367\n",
      "  4.5775  4.5413  4.4831  4.4843  4.5021  4.4815  4.4815  4.4815  4.4837\n",
      "  4.5094  4.5137  4.5264  4.5167  4.5167  4.5324  4.5671  4.6036  4.6058\n",
      "  4.5809  4.6555  4.6263  4.5927  4.5514  4.52    4.52    4.532   4.5105\n",
      "  4.51    4.5009  4.5515  4.5867  4.6001  4.5876  4.5775  4.561   4.6002\n",
      "  4.586   4.612   4.6139  4.6139  4.5701  4.5669  4.5331  4.5062  4.5274\n",
      "  4.5112  4.5118  4.5305  4.4905  4.5288  4.5288  4.4957  4.4961  4.4618\n",
      "  4.4618  4.4632  4.4518  4.4399  4.4459  4.4459  4.3896  4.3793  4.3834\n",
      "  4.4304  4.4403  4.4603  4.4759  4.5285  4.5285  4.5285  4.5363  4.5146\n",
      "  4.5126  4.4677  4.4386  4.4167  4.4513  4.4513  4.4783  4.5063  4.5041\n",
      "  4.5041  4.5264  4.5239  4.5598  4.5679  4.5679  4.5679  4.5421  4.4628\n",
      "  4.4385  4.4565  4.432   4.4589  4.4574  4.4854  4.4786  4.5101  4.4919\n",
      "  4.4897  4.4494  4.4509  4.4637  4.458   4.4893  4.457   4.457   4.4406\n",
      "  4.4277  4.4344  4.4549  4.4549  4.4603  4.4859  4.4716  4.4751  4.4882\n",
      "  4.445   4.408   4.4276  4.4561  4.4561  4.4561  4.4446  4.4295  4.4819\n",
      "  4.4819  4.4819  4.4867  4.4628  4.4679  4.5029  4.4287  4.4708  4.4249\n",
      "  4.4228  4.4228  4.4228  4.4271  4.4034  4.39    4.3636  4.3616  4.3616\n",
      "  4.4083  4.4083  4.4054  4.4188  4.4147  4.4191  4.4387  4.4641  4.4641\n",
      "  4.4455  4.4455  4.4625  4.4431  4.4821  4.5224  4.5597  4.5136  4.5436\n",
      "  4.5343  4.5401]\n",
      "[ 0.9546  0.9529  0.9564  0.9554  0.9538  0.9564  0.9552  0.9558  0.9537\n",
      "  0.9536  0.9555  0.9532  0.9536  0.9542  0.9556  0.9559  0.954   0.955\n",
      "  0.9534  0.9534  0.9539  0.9546  0.9546  0.9539  0.9536  0.9536  0.9541\n",
      "  0.9541  0.9549  0.9553  0.9518  0.9565  0.9541  0.9534  0.9539  0.9561\n",
      "  0.9559  0.9544  0.9554  0.9553  0.9532  0.9547  0.9543  0.9542  0.9538\n",
      "  0.9532  0.9557  0.9548  0.9538  0.9534  0.9529  0.9538  0.9532  0.9548\n",
      "  0.9531  0.9545  0.9527  0.9563  0.9558  0.9545  0.9517  0.9535  0.9545\n",
      "  0.953   0.9523  0.9541  0.9538  0.9535  0.9537  0.9538  0.9547  0.9561\n",
      "  0.9549  0.9525  0.9525  0.9547  0.9546  0.9546  0.9546  0.9539  0.9544\n",
      "  0.9555  0.9545  0.9545  0.9548  0.9538  0.9538  0.9547  0.9553  0.9546\n",
      "  0.9553  0.9553  0.9527  0.956   0.9553  0.9553  0.9515  0.9543  0.9538\n",
      "  0.955   0.953   0.9543  0.9532  0.9527  0.9529  0.9544  0.9554  0.9537\n",
      "  0.9522  0.9534  0.9536  0.9536  0.9542  0.9542  0.9532  0.9553  0.9544\n",
      "  0.9544  0.9549  0.9539  0.9539  0.9547  0.955   0.9564  0.9549  0.9539\n",
      "  0.9539  0.9553  0.955   0.9531  0.9552  0.9546  0.9527  0.9517  0.9561\n",
      "  0.9517  0.9525  0.9564  0.9555  0.9532  0.9552  0.9533  0.954   0.9534\n",
      "  0.9535  0.9546  0.9533  0.9562  0.9523  0.9523  0.9555  0.9533  0.9533\n",
      "  0.9537  0.9546  0.9553  0.9549  0.9556  0.9552  0.9541  0.9539  0.955\n",
      "  0.956   0.9551  0.954   0.955   0.9548  0.9536  0.9535  0.9549  0.9537\n",
      "  0.9564  0.9557  0.9557  0.9548  0.9521  0.9546  0.9549  0.9518  0.9537\n",
      "  0.9539  0.955   0.9524  0.9553  0.953   0.9535  0.954   0.9539  0.9539\n",
      "  0.9542  0.9557  0.9549  0.9549  0.9543  0.9517  0.9553  0.9544  0.9547\n",
      "  0.9557  0.9536]\n",
      "3328\n"
     ]
    }
   ],
   "source": [
    "print(scale_parameters_need)\n",
    "print(shape_parameters_need)\n",
    "print(shapewc_parameters_need)\n",
    "print(n_change)"
   ]
  },
  {
   "cell_type": "code",
   "execution_count": 19,
   "metadata": {},
   "outputs": [
    {
     "name": "stdout",
     "output_type": "stream",
     "text": [
      "200\n",
      "200\n",
      "200\n"
     ]
    }
   ],
   "source": [
    "print(len(shapewc_parameters_need))\n",
    "print(len(scale_parameters_need))\n",
    "print(len(shape_parameters_need))\n",
    "#make them the same size, check again"
   ]
  },
  {
   "cell_type": "code",
   "execution_count": 20,
   "metadata": {
    "collapsed": true
   },
   "outputs": [],
   "source": [
    "length_datas=len(t_new)"
   ]
  },
  {
   "cell_type": "code",
   "execution_count": 21,
   "metadata": {
    "collapsed": true
   },
   "outputs": [],
   "source": [
    "data_change=np.zeros((len(shape_parameters_need),length_datas-1))\n",
    "theta_change=np.zeros((len(shapewc_parameters_need),length_datas))\n",
    "# do arrays, matrices#if you want to make them the same size"
   ]
  },
  {
   "cell_type": "code",
   "execution_count": 22,
   "metadata": {},
   "outputs": [
    {
     "name": "stdout",
     "output_type": "stream",
     "text": [
      "200\n",
      "1000\n",
      "999\n",
      "200\n"
     ]
    }
   ],
   "source": [
    "#if you want to make them the same size\n",
    "print(len(theta_change))\n",
    "print(len(theta_original))\n",
    "print(len(r_original))\n",
    "print(len(data_change))\n",
    "#Let's go to 999 then\n",
    "#theta_change=theta_change[:999]\n",
    "#theta_original=theta_original[:999]\n",
    "#data_change=data_change[:999]\n",
    "#shape_parameters_need=shape_parameters_need[:999]\n",
    "#scale_parameters_need=scale_parameters_need[:999]\n",
    "#shapewc_parameters_need=shapewc_parameters_need[:999]"
   ]
  },
  {
   "cell_type": "code",
   "execution_count": 23,
   "metadata": {
    "collapsed": true
   },
   "outputs": [],
   "source": [
    "for i in range(len(shape_parameters_need)):\n",
    "                     data_change[i]=np.array(rw2_change(length_datas,alpha_change[i],beta_change[i],c_change[i])[2])#the distances\n"
   ]
  },
  {
   "cell_type": "code",
   "execution_count": 24,
   "metadata": {
    "collapsed": true
   },
   "outputs": [],
   "source": [
    "for i in range(len(shape_parameters_need)):\n",
    "                     theta_change[i]=np.array(rw2_change(length_datas,alpha_change[i],beta_change[i],c_change[i])[3])#the angles"
   ]
  },
  {
   "cell_type": "code",
   "execution_count": 25,
   "metadata": {
    "collapsed": true
   },
   "outputs": [],
   "source": [
    "# the mean of the inferred parameters\n",
    "mean_shape_weibullparameter=np.mean(shape_parameters)\n",
    "mean_scale_weibullparameter=np.mean(scale_parameters)\n",
    "mean_shape_wcparameter=np.mean(shapewc_parameters)"
   ]
  },
  {
   "cell_type": "code",
   "execution_count": 26,
   "metadata": {},
   "outputs": [
    {
     "data": {
      "text/plain": [
       "2020.1817"
      ]
     },
     "execution_count": 26,
     "metadata": {},
     "output_type": "execute_result"
    }
   ],
   "source": [
    "#calculate T_y for the downsampled data i.e. new data obtained after interpolation\n",
    "T_y_weibull=log_likelihood(data,mean_shape_weibullparameter,mean_scale_weibullparameter)\n",
    "T_y_wc=log_wclikelihood(new_data,mean_shape_wcparameter,0)\n",
    "# T_y in total\n",
    "T_y=T_y_weibull+T_y_wc\n",
    "T_y"
   ]
  },
  {
   "cell_type": "code",
   "execution_count": 27,
   "metadata": {},
   "outputs": [
    {
     "name": "stdout",
     "output_type": "stream",
     "text": [
      "200\n",
      "200\n",
      "3328\n",
      "3328\n"
     ]
    }
   ],
   "source": [
    "print(len(data_change))\n",
    "print(len(theta_change))\n",
    "print(len(data))\n",
    "print(len(new_data))"
   ]
  },
  {
   "cell_type": "code",
   "execution_count": 28,
   "metadata": {
    "collapsed": true
   },
   "outputs": [],
   "source": [
    "#data_change-step-lengths after the change of the parameters after inference\n",
    "#theta_change-headings after the change of the parameters after inference"
   ]
  },
  {
   "cell_type": "code",
   "execution_count": 29,
   "metadata": {
    "collapsed": true
   },
   "outputs": [],
   "source": [
    "T_y_rep_weibull=np.zeros(len(shape_parameters_need))\n",
    "for i in range(len(shape_parameters_need)):\n",
    "    T_y_rep_weibull[i]=log_likelihood(data_change[i],shape_parameters_need[i],scale_parameters_need[i])"
   ]
  },
  {
   "cell_type": "code",
   "execution_count": 30,
   "metadata": {},
   "outputs": [
    {
     "name": "stdout",
     "output_type": "stream",
     "text": [
      "200\n"
     ]
    },
    {
     "data": {
      "text/plain": [
       "array([-558.6054, -484.3969, -460.5602, -430.1958, -539.4403, -512.3222,\n",
       "       -494.7357, -477.6357, -445.7105, -520.3146, -457.1844, -547.2335,\n",
       "       -484.097 , -492.6449, -464.6016, -492.2897, -461.2353, -440.9291,\n",
       "       -456.2969, -462.0985, -497.1699, -431.5869, -404.7553, -506.9348,\n",
       "       -518.6753, -458.8436, -476.9552, -467.4276, -427.0987, -455.0162,\n",
       "       -439.9743, -431.4744, -393.6865, -376.141 , -324.7799, -443.6948,\n",
       "       -354.9952, -454.3508, -460.9323, -498.5393, -479.7618, -471.7875,\n",
       "       -465.9294, -491.4386, -453.9014, -390.5937, -501.4959, -380.9403,\n",
       "       -367.8162, -397.006 , -399.5674, -415.966 , -366.5526, -371.6016,\n",
       "       -289.6596, -396.4315, -309.3262, -372.8073, -358.0778, -391.9022,\n",
       "       -394.2919, -354.0586, -454.1971, -407.0302, -447.7439, -395.1698,\n",
       "       -387.6175, -285.9258, -401.1534, -327.8571, -403.8843, -386.3046,\n",
       "       -297.8765, -399.7224, -444.9268, -318.7595, -392.8048, -411.007 ,\n",
       "       -400.4274, -472.6461, -370.8831, -473.8392, -445.0239, -417.2678,\n",
       "       -461.839 , -450.2049, -496.3978, -443.8908, -469.2432, -436.2872,\n",
       "       -442.5944, -463.3497, -443.8427, -439.382 , -473.2314, -423.8937,\n",
       "       -516.8985, -523.5393, -520.2918, -425.3697, -529.1178, -440.8817,\n",
       "       -466.7671, -417.628 , -429.4352, -400.6854, -427.7427, -443.1139,\n",
       "       -421.0449, -509.4245, -484.424 , -449.8683, -463.6457, -493.4033,\n",
       "       -467.7935, -430.8222, -486.9406, -421.6097, -396.6254, -366.7749,\n",
       "       -373.0647, -374.6725, -423.3596, -369.0684, -434.4528, -445.2926,\n",
       "       -427.4432, -443.2316, -495.4263, -437.2751, -470.8041, -411.8955,\n",
       "       -411.5753, -483.7833, -371.12  , -461.4519, -495.0497, -481.2532,\n",
       "       -384.0423, -426.9569, -373.5523, -476.4804, -417.4791, -451.7018,\n",
       "       -464.695 , -432.2306, -486.403 , -424.2181, -431.8843, -419.762 ,\n",
       "       -478.1875, -445.8464, -344.2608, -479.4279, -523.209 , -497.1005,\n",
       "       -434.6446, -384.0811, -412.8167, -458.0216, -511.7827, -465.4253,\n",
       "       -451.4373, -507.49  , -486.3652, -492.5769, -485.2089, -400.8266,\n",
       "       -489.4056, -431.357 , -470.7477, -445.5701, -488.3344, -482.9451,\n",
       "       -483.9051, -534.2336, -492.6825, -590.0615, -522.3382, -531.5537,\n",
       "       -543.6813, -567.8355, -477.7283, -514.2925, -469.0202, -493.4649,\n",
       "       -480.2801, -389.5279, -460.57  , -458.9346, -455.3484, -434.2739,\n",
       "       -530.0097, -346.9013, -466.065 , -356.5724, -443.8644, -455.4305,\n",
       "       -379.5442, -317.7446])"
      ]
     },
     "execution_count": 30,
     "metadata": {},
     "output_type": "execute_result"
    }
   ],
   "source": [
    "print(len(T_y_rep_weibull))\n",
    "T_y_rep_weibull"
   ]
  },
  {
   "cell_type": "code",
   "execution_count": 31,
   "metadata": {},
   "outputs": [
    {
     "data": {
      "text/plain": [
       "0"
      ]
     },
     "execution_count": 31,
     "metadata": {},
     "output_type": "execute_result"
    }
   ],
   "source": [
    "count_zeros=0\n",
    "for i in range(len(shape_parameters_need)):\n",
    "    if T_y_rep_weibull[i]==0:\n",
    "        count_zeros+=1\n",
    "count_zeros"
   ]
  },
  {
   "cell_type": "code",
   "execution_count": 32,
   "metadata": {
    "collapsed": true
   },
   "outputs": [],
   "source": [
    "T_y_rep_wc=np.zeros(len(shapewc_parameters_need))\n",
    "for i in range(len(shapewc_parameters_need)):\n",
    "    T_y_rep_wc[i]=log_wclikelihood(theta_change[i],shapewc_parameters_need[i],0)\n"
   ]
  },
  {
   "cell_type": "code",
   "execution_count": 33,
   "metadata": {},
   "outputs": [
    {
     "data": {
      "text/plain": [
       "0"
      ]
     },
     "execution_count": 33,
     "metadata": {},
     "output_type": "execute_result"
    }
   ],
   "source": [
    "count_zeros=0\n",
    "for i in range(len(shapewc_parameters_need)):\n",
    "    if T_y_rep_wc[i]==0:\n",
    "        count_zeros+=1\n",
    "count_zeros"
   ]
  },
  {
   "cell_type": "code",
   "execution_count": 34,
   "metadata": {},
   "outputs": [
    {
     "name": "stdout",
     "output_type": "stream",
     "text": [
      "200\n"
     ]
    },
    {
     "data": {
      "text/plain": [
       "array([-14284.5822, -13176.2576, -14537.6116, -13993.0542, -13975.4997,\n",
       "       -15071.5048, -13209.4534, -14531.5586, -14431.9479, -13867.6475,\n",
       "       -14096.0863, -12984.448 , -14437.1853, -13177.7411, -14197.8513,\n",
       "       -13542.145 , -14581.3274, -14163.607 , -14149.6763, -14541.3384,\n",
       "       -14452.0337, -14215.9262, -13808.4875, -15342.129 , -14528.9438,\n",
       "       -13986.2717, -13580.3766, -13888.1553, -14412.6819, -13974.3944,\n",
       "       -13405.372 , -14536.0218, -15018.1477, -13784.2142, -14679.506 ,\n",
       "       -14947.9752, -15057.0554, -14074.4195, -13754.7278, -15235.9031,\n",
       "       -15450.2442, -14663.0754, -14386.8268, -14609.1291, -13467.2154,\n",
       "       -14121.5297, -13127.0443, -14306.5762, -14508.9051, -14940.0641,\n",
       "       -13640.2594, -14485.0325, -14005.14  , -13532.885 , -14062.5496,\n",
       "       -14222.1457, -13903.004 , -15136.722 , -14231.6861, -14404.7952,\n",
       "       -14250.8355, -13347.9451, -13171.4948, -13719.4995, -13949.0129,\n",
       "       -14421.3479, -15170.6291, -13819.3797, -14299.8611, -13513.6127,\n",
       "       -13747.2968, -14800.3866, -13573.7459, -14107.1893, -15074.8205,\n",
       "       -13921.994 , -13249.0886, -13998.2747, -14480.2867, -13677.3893,\n",
       "       -13475.2491, -14579.3893, -14894.1219, -14026.039 , -15058.43  ,\n",
       "       -13518.6068, -14439.1078, -14260.324 , -13848.1529, -14421.3322,\n",
       "       -13826.6114, -14066.0323, -13801.3084, -13696.1875, -14371.374 ,\n",
       "       -14591.9485, -14741.9046, -13698.9527, -13381.7838, -14916.8651,\n",
       "       -14411.9189, -15195.8056, -13755.2207, -13680.9012, -13689.7498,\n",
       "       -13952.0546, -13979.3851, -14189.5279, -13603.5039, -13953.7005,\n",
       "       -13696.2667, -14265.9471, -13644.1795, -14122.8682, -14281.5757,\n",
       "       -13774.8788, -13948.021 , -13214.2016, -14390.9435, -13913.7461,\n",
       "       -13840.5952, -14571.9187, -15401.098 , -14648.3639, -14042.5634,\n",
       "       -14075.9895, -13570.6332, -14525.2765, -14155.671 , -14769.6658,\n",
       "       -14579.6156, -13976.9679, -14557.9133, -12955.2676, -14785.8335,\n",
       "       -14038.3842, -15256.0867, -13199.8003, -14074.7251, -14308.5913,\n",
       "       -13594.7063, -13391.1457, -14074.0249, -14833.5754, -14407.9333,\n",
       "       -14058.4392, -14680.409 , -14390.1298, -13859.7599, -14541.5057,\n",
       "       -13670.2066, -14196.9275, -14335.4368, -14636.4445, -14560.1636,\n",
       "       -13434.0759, -13912.3092, -14230.3741, -14225.0478, -14437.8519,\n",
       "       -12816.9954, -13916.4022, -14015.4233, -14606.5863, -13492.4008,\n",
       "       -14683.0363, -13731.2228, -14608.5924, -13952.0613, -15301.2542,\n",
       "       -14347.2544, -14357.8826, -13772.7635, -13889.4396, -13377.1001,\n",
       "       -15334.3887, -13591.2132, -14350.5019, -14327.6281, -14575.6733,\n",
       "       -13229.375 , -13053.3421, -14564.6279, -14214.0177, -14230.451 ,\n",
       "       -14727.7621, -13716.4991, -14730.1718, -14262.4436, -13668.6546,\n",
       "       -14893.5684, -14264.0593, -14081.0445, -15299.6358, -13305.9516,\n",
       "       -13950.5849, -14632.07  , -14821.7058, -15252.753 , -13771.9083])"
      ]
     },
     "execution_count": 34,
     "metadata": {},
     "output_type": "execute_result"
    }
   ],
   "source": [
    "print(len(T_y_rep_wc))\n",
    "T_y_rep_wc"
   ]
  },
  {
   "cell_type": "code",
   "execution_count": 35,
   "metadata": {},
   "outputs": [
    {
     "data": {
      "text/plain": [
       "array([-14843.1875, -13660.6545, -14998.1718, -14423.25  , -14514.94  ,\n",
       "       -15583.8271, -13704.1891, -15009.1943, -14877.6585, -14387.9621,\n",
       "       -14553.2707, -13531.6815, -14921.2823, -13670.3861, -14662.453 ,\n",
       "       -14034.4347, -15042.5627, -14604.5361, -14605.9733, -15003.4369,\n",
       "       -14949.2037, -14647.5131, -14213.2428, -15849.0638, -15047.6191,\n",
       "       -14445.1152, -14057.3318, -14355.5828, -14839.7805, -14429.4106,\n",
       "       -13845.3463, -14967.4962, -15411.8342, -14160.3552, -15004.2859,\n",
       "       -15391.67  , -15412.0507, -14528.7703, -14215.6601, -15734.4424,\n",
       "       -15930.006 , -15134.8629, -14852.7562, -15100.5676, -13921.1167,\n",
       "       -14512.1233, -13628.5402, -14687.5165, -14876.7213, -15337.0701,\n",
       "       -14039.8268, -14900.9985, -14371.6927, -13904.4866, -14352.2093,\n",
       "       -14618.5771, -14212.3302, -15509.5293, -14589.764 , -14796.6975,\n",
       "       -14645.1274, -13702.0037, -13625.6919, -14126.5297, -14396.7569,\n",
       "       -14816.5177, -15558.2467, -14105.3055, -14701.0145, -13841.4698,\n",
       "       -14151.1811, -15186.6913, -13871.6224, -14506.9117, -15519.7473,\n",
       "       -14240.7535, -13641.8935, -14409.2818, -14880.7142, -14150.0354,\n",
       "       -13846.1322, -15053.2285, -15339.1459, -14443.3067, -15520.2689,\n",
       "       -13968.8117, -14935.5056, -14704.2148, -14317.3961, -14857.6194,\n",
       "       -14269.2057, -14529.382 , -14245.1511, -14135.5695, -14844.6055,\n",
       "       -15015.8422, -15258.8032, -14222.4919, -13902.0757, -15342.2348,\n",
       "       -14941.0367, -15636.6872, -14221.9878, -14098.5292, -14119.185 ,\n",
       "       -14352.74  , -14407.1278, -14632.6418, -14024.5488, -14463.125 ,\n",
       "       -14180.6907, -14715.8154, -14107.8252, -14616.2715, -14749.3691,\n",
       "       -14205.701 , -14434.9616, -13635.8113, -14787.5689, -14280.521 ,\n",
       "       -14213.6598, -14946.5913, -15824.4576, -15017.4323, -14477.0162,\n",
       "       -14521.2821, -13998.0764, -14968.5081, -14651.0974, -15206.9409,\n",
       "       -15050.4197, -14388.8635, -14969.4885, -13439.0508, -15156.9535,\n",
       "       -14499.8361, -15751.1364, -13681.0536, -14458.7674, -14735.5481,\n",
       "       -13968.2586, -13867.626 , -14491.504 , -15285.2772, -14872.6283,\n",
       "       -14490.6698, -15166.812 , -14814.348 , -14291.6442, -14961.2677,\n",
       "       -14148.3941, -14642.774 , -14679.6976, -15115.8724, -15083.3725,\n",
       "       -13931.1764, -14346.9539, -14614.4552, -14637.8645, -14895.8735,\n",
       "       -13328.7781, -14381.8276, -14466.8606, -15114.0764, -13978.766 ,\n",
       "       -15175.6133, -14216.4317, -15009.419 , -14441.467 , -15732.6111,\n",
       "       -14818.0021, -14803.4527, -14261.098 , -14372.3847, -13861.0052,\n",
       "       -15868.6223, -14083.8957, -14940.5633, -14849.9663, -15107.227 ,\n",
       "       -13773.0563, -13621.1776, -15042.3562, -14728.3102, -14699.4712,\n",
       "       -15221.227 , -14196.7793, -15119.6997, -14723.0136, -14127.5893,\n",
       "       -15348.9167, -14698.3332, -14611.0542, -15646.5371, -13772.0166,\n",
       "       -14307.1573, -15075.9343, -15277.1363, -15632.2972, -14089.6529])"
      ]
     },
     "execution_count": 35,
     "metadata": {},
     "output_type": "execute_result"
    }
   ],
   "source": [
    "T_y_rep=T_y_rep_weibull+T_y_rep_wc   \n",
    "T_y_rep"
   ]
  },
  {
   "cell_type": "code",
   "execution_count": 36,
   "metadata": {},
   "outputs": [
    {
     "name": "stdout",
     "output_type": "stream",
     "text": [
      "0\n",
      "200\n",
      "0.0\n"
     ]
    }
   ],
   "source": [
    "count=0\n",
    "for i in range(len(shape_parameters_need)):\n",
    "    if T_y_rep[i]>T_y:\n",
    "        count+=1\n",
    "print(count)\n",
    "print(len(shape_parameters_need))\n",
    "ppp_value=count/len(shape_parameters_need)\n",
    "print(ppp_value)\n"
   ]
  },
  {
   "cell_type": "code",
   "execution_count": 37,
   "metadata": {},
   "outputs": [
    {
     "data": {
      "image/png": "[encoded data removed]",
      "text/plain": [
       "<matplotlib.figure.Figure at 0x201d6d9dfd0>"
      ]
     },
     "metadata": {},
     "output_type": "display_data"
    }
   ],
   "source": [
    "plt.hist(T_y_rep,bins=100)\n",
    "plt.axvline(T_y,linestyle='dashed', linewidth=1.5,color='red')\n",
    "plt.show()"
   ]
  },
  {
   "cell_type": "code",
   "execution_count": null,
   "metadata": {
    "collapsed": true
   },
   "outputs": [],
   "source": []
  },
  {
   "cell_type": "code",
   "execution_count": null,
   "metadata": {
    "collapsed": true
   },
   "outputs": [],
   "source": []
  }
 ],
 "metadata": {
  "kernelspec": {
   "display_name": "Python 3",
   "language": "python",
   "name": "python3"
  },
  "language_info": {
   "codemirror_mode": {
    "name": "ipython",
    "version": 3
   },
   "file_extension": ".py",
   "mimetype": "text/x-python",
   "name": "python",
   "nbconvert_exporter": "python",
   "pygments_lexer": "ipython3",
   "version": "3.6.3"
  }
 },
 "nbformat": 4,
 "nbformat_minor": 2
}
