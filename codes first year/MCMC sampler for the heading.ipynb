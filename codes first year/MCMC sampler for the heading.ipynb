{
 "cells": [
  {
   "cell_type": "code",
   "execution_count": 1,
   "metadata": {
    "collapsed": true
   },
   "outputs": [],
   "source": [
    "import random\n",
    "import math\n",
    "import numpy as np\n",
    "import scipy.stats as stats\n",
    "import statistics\n",
    "from scipy.stats import wrapcauchy\n",
    "import matplotlib.pyplot as plt\n",
    "plt.style.use('ggplot')\n",
    "\n",
    "\n"
   ]
  },
  {
   "cell_type": "code",
   "execution_count": 2,
   "metadata": {
    "collapsed": true
   },
   "outputs": [],
   "source": [
    "def rw2(n):# save the headings not the pairs\n",
    "    #x,y=0,0\n",
    "    x=np.zeros(n)\n",
    "    y=np.zeros(n)\n",
    "    theta=[0]*n\n",
    "    theta[0]=wrapcauchy.rvs(c,loc=0,size=1)\n",
    "    if theta[0]>2*math.pi:\n",
    "            theta[0] = theta[0] - 2* math.pi\n",
    "    if theta[0]<0:\n",
    "            theta[0] = theta[0] + 2* math.pi\n",
    "    for i in range(1,n):\n",
    "        r=random.weibullvariate(alpha,beta)\n",
    "        theta[i]=wrapcauchy.rvs(c,loc=theta[i-1],size=1)# c is the shape parameter\n",
    "        if theta[i]>2*math.pi:\n",
    "            theta[i] =theta[i] - 2* math.pi\n",
    "        if theta[i]<0:\n",
    "            theta[i] = theta[i] + 2* math.pi\n",
    "        x[i]=x[i-1]+r*math.cos(theta[i])\n",
    "        y[i]=y[i-1]+r*math.sin(theta[i])\n",
    "        #x+=r*math.cos(theta[i])\n",
    "        #y+=r*math.sin(theta[i])\n",
    "    return theta \n",
    "n=100 #int(input(\"how many steps?\"))\n",
    "alpha=2 #int(input(\"what's the scale?\"))\n",
    "beta=5 #int(input(\"what's the shape?\"))\n",
    "c=0.9# float(input(\"What's the shape parameter for the wrapped Cauchy?\"))# this needs to be between 0 and 1\n",
    "#tries=int(input(\"how many tries?\"))\n",
    "#for i in range(tries):\n",
    "    #print(rw2(n))\n",
    "data=rw2(n)\n",
    "#data"
   ]
  },
  {
   "cell_type": "code",
   "execution_count": 3,
   "metadata": {},
   "outputs": [],
   "source": [
    "# modify the data so I can have the differences in the heading\n",
    "#data[1]=data[1]-data[0] etc.\n",
    "new_data=np.zeros(n)\n",
    "new_data[0]=data[0]\n",
    "for i in range(len(data)-1):\n",
    "    new_data[i+1]=data[i+1]-data[i]# I can only put positive values in the MCMC sampler\n",
    "    if new_data[i+1]<0:\n",
    "        new_data[i+1]=new_data[i+1]+2*math.pi\n",
    "for i in range(len(new_data)):\n",
    "    if new_data[i]<0 or new_data[i]>2*math.pi:\n",
    "        print(\"try again big man\")# seems to be working\n",
    "    "
   ]
  },
  {
   "cell_type": "code",
   "execution_count": 4,
   "metadata": {
    "collapsed": true
   },
   "outputs": [],
   "source": [
    "# calculate the log likelihood of wrapcauchy\n",
    "def log_wclikelihood(x,a,b):\n",
    "     return sum(wrapcauchy.logpdf(x,c=a,loc=b))# c is the shape parameter\n",
    "    "
   ]
  },
  {
   "cell_type": "code",
   "execution_count": 5,
   "metadata": {},
   "outputs": [
    {
     "name": "stdout",
     "output_type": "stream",
     "text": [
      "Acceptance rate = 0.3917\n"
     ]
    }
   ],
   "source": [
    "# initial guess for theta(a) as array,these are shape(c) \n",
    "guess = 0.9\n",
    "# Prepare storing MCMC chain as array of arrays.\n",
    "A = [guess]\n",
    "# define stepsize of MCMC.\n",
    "stepsize = 0.035  # array of stepsizes\n",
    "accepted  = 0.0\n",
    "old_theta=guess# define initial values for theta \n",
    "old_loglik = log_wclikelihood(new_data,old_theta,0)#calculate the first log likelihood\n",
    "# Metropolis-Hastings with 10,000 iterations.\n",
    "for p in range(10000):\n",
    "    # Suggest new candidate from Gaussian proposal distribution.\n",
    "    new_theta = old_theta + stats.norm(0, stepsize).rvs() \n",
    "    #add the restraints on new_theta\n",
    "    if new_theta<0 or new_theta>1: \n",
    "        continue\n",
    "    new_loglik = log_wclikelihood(new_data,new_theta,0)\n",
    "    # Accept new candidate in Monte-Carlo fashing.\n",
    "    if (new_loglik > old_loglik):\n",
    "        A.append(new_theta)\n",
    "        accepted = accepted + 1.0  # monitor acceptance\n",
    "        old_loglik=new_loglik\n",
    "        old_theta=new_theta\n",
    "    else:\n",
    "        u = random.uniform(0.0,1.0)\n",
    "        if (u < math.exp(new_loglik - old_loglik)):\n",
    "            A.append(new_theta)\n",
    "            accepted = accepted + 1.0  # monitor acceptance\n",
    "            old_loglik=new_loglik\n",
    "            old_theta=new_theta\n",
    "        else:\n",
    "            A.append(old_theta)\n",
    "print(\"Acceptance rate = \"+str(accepted/10000.0))\n",
    "#print(A)\n"
   ]
  },
  {
   "cell_type": "code",
   "execution_count": 6,
   "metadata": {},
   "outputs": [
    {
     "data": {
      "text/plain": [
       "0.90843615458813243"
      ]
     },
     "execution_count": 6,
     "metadata": {},
     "output_type": "execute_result"
    }
   ],
   "source": [
    "# save the posterior for a\n",
    "statistics.mean(A)   \n"
   ]
  },
  {
   "cell_type": "code",
   "execution_count": 7,
   "metadata": {},
   "outputs": [
    {
     "data": {
      "image/png": "[encoded data removed]",
      "text/plain": [
       "<matplotlib.figure.Figure at 0x1a9918db6d8>"
      ]
     },
     "metadata": {},
     "output_type": "display_data"
    }
   ],
   "source": [
    "# plots now\n",
    "from random import randint\n",
    "\n",
    "loglike = np.zeros(100)\n",
    "xval = np.zeros(100)\n",
    "\n",
    "for i in range(100):\n",
    "    xval[i]=0.1+i*0.01\n",
    "    loglike[i] = log_wclikelihood(new_data,xval[i],0)\n",
    "    \n",
    "\n",
    "plt.plot(xval,loglike)\n",
    "plt.ylabel(\"log_likelihood\")\n",
    "plt.xlabel(\"shape parameter\")\n",
    "plt.show()\n"
   ]
  },
  {
   "cell_type": "code",
   "execution_count": 8,
   "metadata": {},
   "outputs": [
    {
     "data": {
      "image/png": "[encoded data removed]",
      "text/plain": [
       "<matplotlib.figure.Figure at 0x1a9918b97b8>"
      ]
     },
     "metadata": {},
     "output_type": "display_data"
    }
   ],
   "source": [
    "plt.hist(A,bins=100)\n",
    "plt.xlabel(\"shape parameter\")\n",
    "plt.show()\n"
   ]
  },
  {
   "cell_type": "code",
   "execution_count": 9,
   "metadata": {
    "collapsed": true
   },
   "outputs": [],
   "source": [
    "# convergence\n",
    "\n",
    "guess = 0.9# initial guess for shape\n",
    "def mh(guess):\n",
    "# Prepare storing MCMC chain as array of arrays.\n",
    "    A = [guess]\n",
    "    # define stepsize of MCMC.\n",
    "    stepsizes = 0.035  # array of stepsizes\n",
    "    old_theta=guess# define initial values for theta \n",
    "    accepted  = 0.0\n",
    "    old_loglik = log_wclikelihood(new_data,old_theta,0)#calculate the first log likelihood\n",
    "    old_logtarget=old_loglik\n",
    "# Metropolis-Hastings with 10,000 iterations.\n",
    "    for p in range(10000):\n",
    "        new_theta = old_theta + stats.norm(0, stepsizes).rvs() \n",
    "        #add the restraints on new_theta\n",
    "        if new_theta<0:\n",
    "            continue\n",
    "        new_loglik = log_wclikelihood(new_data,new_theta,0)\n",
    "        new_logtarget=new_loglik\n",
    "    # Accept new candidate in Monte-Carlo fashing.\n",
    "        if (new_logtarget > old_logtarget):\n",
    "            A.append(new_theta)\n",
    "            accepted = accepted + 1.0  # monitor acceptance\n",
    "            old_loglik=new_loglik\n",
    "            old_theta=new_theta\n",
    "            old_logtarget=new_logtarget\n",
    "        else:\n",
    "            u = random.uniform(0.0,1.0)\n",
    "            if (u < math.exp(new_logtarget-old_logtarget)):\n",
    "                A.append(new_theta)\n",
    "                accepted = accepted + 1.0  # monitor acceptance\n",
    "                old_loglik=new_loglik\n",
    "                old_theta=new_theta\n",
    "                old_logtarget=new_logtarget \n",
    "            else:\n",
    "                A.append(old_theta)\n",
    "    print(\"Acceptance rate = \"+str(accepted/10000.0))\n",
    "    return A"
   ]
  },
  {
   "cell_type": "code",
   "execution_count": 10,
   "metadata": {},
   "outputs": [
    {
     "name": "stdout",
     "output_type": "stream",
     "text": [
      "Acceptance rate = 0.3825\n",
      "Acceptance rate = 0.397\n",
      "Acceptance rate = 0.3975\n",
      "Acceptance rate = 0.392\n",
      "Acceptance rate = 0.39\n"
     ]
    }
   ],
   "source": [
    "nchains=5 #the number of chains\n",
    "sampless_shape = [mh(theta) for theta in np.linspace(0.1,0.99,nchains)]# 5 mh chains for shape keeping the scale fixed at 2 and varying \n",
    "# the starting points for the scale from 0.5 to 3               # should consider replacing 5 with a letter determining the number of chains"
   ]
  },
  {
   "cell_type": "code",
   "execution_count": 11,
   "metadata": {
    "collapsed": true
   },
   "outputs": [],
   "source": [
    "# x: data cell array\n",
    "# m: no of chains run\n",
    "# Within Chain Variance \n",
    "m=nchains\n",
    "ssq_shape=np.zeros(m)\n",
    "for j in range(0,m):\n",
    "    ssq_shape[j]=np.var(sampless_shape[j])    \n",
    "Wvar_shape=np.mean(ssq_shape)"
   ]
  },
  {
   "cell_type": "code",
   "execution_count": 12,
   "metadata": {},
   "outputs": [
    {
     "name": "stdout",
     "output_type": "stream",
     "text": [
      "1.00099990521\n"
     ]
    }
   ],
   "source": [
    "# Between Chain Variance\n",
    "schain_shape=0\n",
    "chainlng_shape=len(sampless_shape[0])\n",
    "for j in range(0,m):\n",
    "    schain_shape = schain_shape + np.mean(sampless_shape[j])\n",
    "mubar2_shape = (1/m)*schain_shape\n",
    "bs_shape=0\n",
    "for j in range(0,m):\n",
    "    bs_shape=bs_shape+(np.mean(sampless_shape[j])-mubar2_shape)**2\n",
    "Bvar_shape = (chainlng_shape/(m-1))*bs_shape\n",
    "# Estimated variance\n",
    "muvar_shape = (1-1/chainlng_shape)*Wvar_shape + (1/chainlng_shape)*Bvar_shape\n",
    "\n",
    "# Potential Scale Reduction Factor\n",
    "R_shape = np.sqrt(muvar_shape/Wvar_shape) \n",
    "\n",
    "print(R_shape)# smaller than 1.1, so the chain has converged."
   ]
  },
  {
   "cell_type": "code",
   "execution_count": 13,
   "metadata": {},
   "outputs": [
    {
     "data": {
      "image/png": "[encoded data removed]",
      "text/plain": [
       "<matplotlib.figure.Figure at 0x1a991c4c9e8>"
      ]
     },
     "metadata": {},
     "output_type": "display_data"
    }
   ],
   "source": [
    "# Convergence of multiple chains for scale\n",
    "\n",
    "for samples in sampless_shape:\n",
    "    plt.plot(samples,lw=2)\n",
    "plt.xlim([0, 10000])\n",
    "plt.ylim([0.1,1])\n",
    "plt.ylabel(\"Shape parameter\")\n",
    "plt.xlabel(\"Number of iterations\")\n",
    "plt.show()"
   ]
  },
  {
   "cell_type": "code",
   "execution_count": null,
   "metadata": {
    "collapsed": true
   },
   "outputs": [],
   "source": []
  }
 ],
 "metadata": {
  "kernelspec": {
   "display_name": "Python 3",
   "language": "python",
   "name": "python3"
  },
  "language_info": {
   "codemirror_mode": {
    "name": "ipython",
    "version": 3
   },
   "file_extension": ".py",
   "mimetype": "text/x-python",
   "name": "python",
   "nbconvert_exporter": "python",
   "pygments_lexer": "ipython3",
   "version": "3.6.3"
  }
 },
 "nbformat": 4,
 "nbformat_minor": 2
}
