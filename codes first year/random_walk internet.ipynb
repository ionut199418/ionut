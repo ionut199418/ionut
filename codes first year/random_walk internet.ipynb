{
 "cells": [
  {
   "cell_type": "code",
   "execution_count": 2,
   "metadata": {},
   "outputs": [
    {
     "name": "stdout",
     "output_type": "stream",
     "text": [
      "(-1, -1) (0, -2) (2, 0) (-1, -1) (-2, 2) (2, 0) (2, 2) (-1, -1) (-1, -3) (-1, 1) (0, 2) (0, 2) (-2, 0) (3, -1) (-2, -2) (-1, 1) (-1, 1) (0, 0) (-1, 1) (0, -2) (1, 1) (0, 0) (-1, 1) (2, -2) (1, -3) (-1, 1) (2, -2) (1, -1) (-1, -1) (0, -2) (-3, -1) (-1, 1) (2, 0) (0, 2) (0, 0) (-3, 1) (1, 1) (1, -1) (-1, -3) (1, -5) (1, -1) (2, 0) (2, -2) (1, 1) (-1, 3) (0, 2) (2, 4) (-4, -2) (2, 0) (0, 0) (-2, 2) (0, 0) (3, 1) (-2, 0) (1, -1) (-2, -2) (0, 0) (1, 1) (1, -1) (2, 0) (-2, -2) (0, 0) (1, -3) (3, -1) (-1, -1) (0, 2) (2, 0) (-1, -1) (-1, 3) (-2, 2) (0, 0) (1, -1) (-1, -1) (-2, 2) (1, 1) (4, 0) (3, -1) (-2, -4) (0, 0) (1, 1) (0, 0) (3, -3) (0, -2) (-1, -1) (2, 0) (3, 3) (3, 1) (2, 2) (0, 0) (1, -1) (1, -1) (-1, 1) (-2, -4) (2, 0) (-1, 1) (-1, 1) (-5, 1) (0, 0) (2, 0) (-2, 0) "
     ]
    }
   ],
   "source": [
    "import random\n",
    "def randomwalk_2(n):\n",
    "    x,y=0,0\n",
    "    for i in range(n+1):\n",
    "        (dx,dy)=random.choice([(0,-1),(-1,0),(1,0),(0,1)])\n",
    "        x+=dx\n",
    "        y+=dy\n",
    "    return(x,y)   \n",
    "for i in range(100):\n",
    " print( randomwalk_2(5),end=' ')"
   ]
  },
  {
   "cell_type": "code",
   "execution_count": null,
   "metadata": {
    "collapsed": true
   },
   "outputs": [],
   "source": []
  }
 ],
 "metadata": {
  "kernelspec": {
   "display_name": "Python 3",
   "language": "python",
   "name": "python3"
  },
  "language_info": {
   "codemirror_mode": {
    "name": "ipython",
    "version": 3
   },
   "file_extension": ".py",
   "mimetype": "text/x-python",
   "name": "python",
   "nbconvert_exporter": "python",
   "pygments_lexer": "ipython3",
   "version": "3.6.3"
  }
 },
 "nbformat": 4,
 "nbformat_minor": 2
}
