{
 "cells": [
  {
   "cell_type": "code",
   "execution_count": 1,
   "metadata": {},
   "outputs": [
    {
     "name": "stderr",
     "output_type": "stream",
     "text": [
      "C:\\Anaconda\\lib\\site-packages\\statsmodels\\compat\\pandas.py:56: FutureWarning: The pandas.core.datetools module is deprecated and will be removed in a future version. Please use the pandas.tseries module instead.\n",
      "  from pandas.core import datetools\n"
     ]
    }
   ],
   "source": [
    "import pandas as pd\n",
    "import statsmodels.api as sm\n",
    "from scipy import interpolate\n",
    "from pandas import Series, DataFrame, Panel\n",
    "from string import ascii_lowercase as letters\n",
    "from scipy.stats import chisqprob\n",
    "from __future__ import division\n",
    "import os\n",
    "import sys\n",
    "import glob\n",
    "import matplotlib.pyplot as plt\n",
    "import numpy as np\n",
    "import pandas as pd\n",
    "import random\n",
    "import math\n",
    "from scipy.stats import wrapcauchy\n",
    "import matplotlib.pyplot as plt\n",
    "%matplotlib inline\n",
    "%precision 4\n",
    "plt.style.use('ggplot')\n",
    "from mpl_toolkits.mplot3d import Axes3D\n",
    "import scipy.stats as stats\n",
    "from functools import partial\n",
    "np.random.seed(1234)"
   ]
  },
  {
   "cell_type": "code",
   "execution_count": 2,
   "metadata": {
    "collapsed": true
   },
   "outputs": [],
   "source": [
    "def rw2(n):# this gives samples from weibull(5,2)\n",
    "    x=np.zeros(n)\n",
    "    y=np.zeros(n)\n",
    "    theta=[0]*n\n",
    "    theta[0]=wrapcauchy.rvs(c,loc=0,size=1)\n",
    "    if theta[0]>2*math.pi:\n",
    "            theta[0] = theta[0] - 2* math.pi\n",
    "    if theta[0]<0:\n",
    "            theta[0] = theta[0] + 2* math.pi\n",
    "    for i in range(1,n):\n",
    "        r=random.weibullvariate(alpha,beta)\n",
    "        theta[i]=wrapcauchy.rvs(c,loc=theta[i-1],size=1)# c is the shape parameter\n",
    "        if theta[i]>2*math.pi:\n",
    "            theta[i] =theta[i] - 2* math.pi\n",
    "        if theta[i]<0:\n",
    "            theta[i] = theta[i] + 2* math.pi\n",
    "        x[i]=x[i-1]+r*math.cos(theta[i])\n",
    "        y[i]=y[i-1]+r*math.sin(theta[i])\n",
    "    return(x,y)   \n",
    "    \n",
    "n=100 #int(input(\"how many steps?\"))\n",
    "alpha=2 #int(input(\"what's the scale?\"))\n",
    "beta=5 #int(input(\"what's the shape?\"))\n",
    "c=0.9# float(input(\"What's the shape parameter for the wrapped Cauchy?\"))# this needs to be between 0 and 1\n",
    "data = rw2(n)\n",
    "x=data[0]\n",
    "y=data[1]\n",
    "t=range(0,n)"
   ]
  },
  {
   "cell_type": "code",
   "execution_count": 3,
   "metadata": {
    "collapsed": true
   },
   "outputs": [],
   "source": [
    "# The Series datatype can also be used to represent time series\n",
    "\n",
    "import datetime as dt\n",
    "from pandas import date_range\n",
    "\n",
    "today = dt.date.today()\n",
    "days = date_range(today, periods=n, freq='S')\n",
    "tx = Series(x,index=days)# here I should put my function\n",
    "ty=Series(y,index=days)\n",
    "#ty.columns=('date','seconds','x-coordinate')\n",
    "dftx=pd.Series.to_frame(tx)\n",
    "#print(dftx)\n",
    "#print (tx, '\\n') # Note - includes end time\n",
    "#print (ty, '\\n') # Note - includes end time\n"
   ]
  },
  {
   "cell_type": "code",
   "execution_count": 4,
   "metadata": {
    "collapsed": true
   },
   "outputs": [],
   "source": [
    "dftx=dftx.assign(coordinate=y)\n",
    "#dftx.columns=['x-coordinate']\n"
   ]
  },
  {
   "cell_type": "code",
   "execution_count": 5,
   "metadata": {},
   "outputs": [
    {
     "data": {
      "text/html": [
       "<div>\n",
       "<style>\n",
       "    .dataframe thead tr:only-child th {\n",
       "        text-align: right;\n",
       "    }\n",
       "\n",
       "    .dataframe thead th {\n",
       "        text-align: left;\n",
       "    }\n",
       "\n",
       "    .dataframe tbody tr th {\n",
       "        vertical-align: top;\n",
       "    }\n",
       "</style>\n",
       "<table border=\"1\" class=\"dataframe\">\n",
       "  <thead>\n",
       "    <tr style=\"text-align: right;\">\n",
       "      <th></th>\n",
       "      <th>column1</th>\n",
       "      <th>column2</th>\n",
       "      <th>y</th>\n",
       "    </tr>\n",
       "  </thead>\n",
       "  <tbody>\n",
       "    <tr>\n",
       "      <th>0</th>\n",
       "      <td>1</td>\n",
       "      <td>3</td>\n",
       "      <td>0</td>\n",
       "    </tr>\n",
       "    <tr>\n",
       "      <th>1</th>\n",
       "      <td>2</td>\n",
       "      <td>4</td>\n",
       "      <td>1</td>\n",
       "    </tr>\n",
       "  </tbody>\n",
       "</table>\n",
       "</div>"
      ],
      "text/plain": [
       "   column1  column2  y\n",
       "0        1        3  0\n",
       "1        2        4  1"
      ]
     },
     "execution_count": 5,
     "metadata": {},
     "output_type": "execute_result"
    }
   ],
   "source": [
    " d = {'col1': [1, 2], 'col2': [3, 4]}\n",
    "df = pd.DataFrame(data=d, dtype=np.int8)\n",
    "df.columns=['column1','column2']# changing the names\n",
    "R=range(0,2)\n",
    "df.assign(y=R)\n"
   ]
  },
  {
   "cell_type": "code",
   "execution_count": 6,
   "metadata": {
    "collapsed": true
   },
   "outputs": [],
   "source": [
    "#dftx.columns=['x-coordinate','y-coordinate'] It works! type this again when you run the code,for some reason it gets stuck\n",
    "dftx.columns=['x-coordinate','y-coordinate']\n",
    "#dftx"
   ]
  },
  {
   "cell_type": "code",
   "execution_count": 7,
   "metadata": {},
   "outputs": [
    {
     "name": "stdout",
     "output_type": "stream",
     "text": [
      "2018-02-28 20:07:13.091986\n",
      "91986\n",
      "2009-12-04 23:03:27.343000\n"
     ]
    }
   ],
   "source": [
    "from datetime import datetime, timedelta\n",
    "now = datetime.now()\n",
    "print(now)\n",
    "date=datetime(2009, 12, 4, 23, 3, 27, 343000)\n",
    "print(now.microsecond)\n",
    "print(date)"
   ]
  },
  {
   "cell_type": "code",
   "execution_count": 8,
   "metadata": {},
   "outputs": [
    {
     "name": "stdout",
     "output_type": "stream",
     "text": [
      "2018-02-28 20:07:13.091986\n",
      "2018-02-28 20:07:13.091986\n"
     ]
    }
   ],
   "source": [
    "print(now.strftime(\"%Y-%m-%d %H:%M:%S.%f\").rstrip('0'))\n",
    "print(now.strftime(\"%Y-%m-%d %H:%M:%S.%f\"))#they're the same\n"
   ]
  },
  {
   "cell_type": "code",
   "execution_count": 9,
   "metadata": {},
   "outputs": [
    {
     "name": "stdout",
     "output_type": "stream",
     "text": [
      "1:01:02.567000\n",
      "1:01:02.567000\n"
     ]
    }
   ],
   "source": [
    "# same thing, different code\n",
    "span = timedelta(seconds=3662.567)\n",
    "print(span)\n",
    "date_fraction=timedelta(0, 3662, 567000)\n",
    "print(date_fraction)"
   ]
  },
  {
   "cell_type": "code",
   "execution_count": 10,
   "metadata": {},
   "outputs": [
    {
     "name": "stdout",
     "output_type": "stream",
     "text": [
      "0:00:00.100000\n",
      "<class 'datetime.timedelta'>\n"
     ]
    }
   ],
   "source": [
    "fraction_seconds=timedelta(seconds=0.1)# what I need,but it doesn't work below\n",
    "print(fraction_seconds)\n",
    "print(type(fraction_seconds))"
   ]
  },
  {
   "cell_type": "code",
   "execution_count": 11,
   "metadata": {},
   "outputs": [
    {
     "name": "stdout",
     "output_type": "stream",
     "text": [
      "2018-02-10 00:00:00.000001\n"
     ]
    }
   ],
   "source": [
    "date_fraction_seconds=datetime(2018, 2, 10, 0, 0, 0,1)# try something else,maybe this is the right format\n",
    "print(date_fraction_seconds)"
   ]
  },
  {
   "cell_type": "code",
   "execution_count": 12,
   "metadata": {},
   "outputs": [
    {
     "name": "stdout",
     "output_type": "stream",
     "text": [
      "2\n",
      "1000\n"
     ]
    }
   ],
   "source": [
    "m=10*n\n",
    "def rw2(m):# this gives samples from weibull(5,2)\n",
    "    distance=[]\n",
    "    x=np.zeros(m)\n",
    "    y=np.zeros(m)\n",
    "    for i in range(1,m):\n",
    "        r=random.weibullvariate(alpha,beta)\n",
    "        theta=2.*math.pi*random.random()\n",
    "        x[i]=x[i-1]+r*math.cos(theta)\n",
    "        y[i]=y[i-1]+r*math.sin(theta)\n",
    "    return(x,y)   \n",
    "    \n",
    "alpha=2#float(input(\"what's the scale?\"))\n",
    "beta=5#float(input(\"what's the shape?\"))\n",
    "n=100#int(input(\"how many steps?\"))\n",
    "#tries=int(input(\"how many tries?\"))#  put tries=1  in order to properly save the list distance\n",
    "data_new = rw2(m)\n",
    "x_new=data_new[0]\n",
    "y_new=data_new[1]\n",
    "print(len(data_new))\n",
    "print(len(data_new[0]))"
   ]
  },
  {
   "cell_type": "code",
   "execution_count": 13,
   "metadata": {
    "collapsed": true
   },
   "outputs": [],
   "source": [
    "#So we have n observations, so for every second we have a pair (x,y). We want now a subsample consisting of a 0.1 seconds step.\n",
    "# Therefore instead of periods=n we have periods m=10*n\n",
    "today = dt.date.today()\n",
    "fraction_seconds = date_range(today, periods=m, freq='0.1S')\n",
    "tx_new = Series(x_new,index=fraction_seconds)\n",
    "ty_new=Series(y_new,index=fraction_seconds)\n",
    "#print (tx_new, '\\n') # Note - includes end time\n",
    "#print (ty_new, '\\n') # Note - includes end time"
   ]
  },
  {
   "cell_type": "code",
   "execution_count": 14,
   "metadata": {
    "collapsed": true
   },
   "outputs": [],
   "source": [
    "dftx_new=pd.Series.to_frame(tx_new)\n",
    "dftx_new=dftx_new.assign(coordinate=y_new)\n",
    "dftx_new.columns=['x-coordinate','y-coordinate']\n",
    "#dftx_new"
   ]
  },
  {
   "cell_type": "code",
   "execution_count": 15,
   "metadata": {
    "collapsed": true
   },
   "outputs": [],
   "source": [
    "time_file=pd.DataFrame.to_csv(dftx_new)\n"
   ]
  },
  {
   "cell_type": "code",
   "execution_count": 16,
   "metadata": {
    "collapsed": true
   },
   "outputs": [],
   "source": [
    "import csv\n",
    "#csv.open(\"time_file\")\n",
    "#?csv\n",
    "#open(time_file)"
   ]
  }
 ],
 "metadata": {
  "kernelspec": {
   "display_name": "Python 3",
   "language": "python",
   "name": "python3"
  },
  "language_info": {
   "codemirror_mode": {
    "name": "ipython",
    "version": 3
   },
   "file_extension": ".py",
   "mimetype": "text/x-python",
   "name": "python",
   "nbconvert_exporter": "python",
   "pygments_lexer": "ipython3",
   "version": "3.6.3"
  }
 },
 "nbformat": 4,
 "nbformat_minor": 2
}
