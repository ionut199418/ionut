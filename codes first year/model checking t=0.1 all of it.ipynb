{
 "cells": [
  {
   "cell_type": "code",
   "execution_count": 1,
   "metadata": {},
   "outputs": [
    {
     "name": "stderr",
     "output_type": "stream",
     "text": [
      "C:\\Anaconda\\lib\\site-packages\\statsmodels\\compat\\pandas.py:56: FutureWarning: The pandas.core.datetools module is deprecated and will be removed in a future version. Please use the pandas.tseries module instead.\n",
      "  from pandas.core import datetools\n"
     ]
    }
   ],
   "source": [
    "import pandas as pd\n",
    "import statsmodels.api as sm\n",
    "from scipy import interpolate\n",
    "from pandas import Series, DataFrame, Panel\n",
    "from string import ascii_lowercase as letters\n",
    "from scipy.stats import chisqprob\n",
    "from __future__ import division\n",
    "import os\n",
    "import sys\n",
    "import glob\n",
    "import matplotlib.pyplot as plt\n",
    "import numpy as np\n",
    "import pandas as pd\n",
    "import random\n",
    "import math\n",
    "from scipy.stats import wrapcauchy\n",
    "import matplotlib.pyplot as plt\n",
    "%matplotlib inline\n",
    "%precision 4\n",
    "plt.style.use('classic')\n",
    "from mpl_toolkits.mplot3d import Axes3D\n",
    "import scipy.stats as stats\n",
    "from functools import partial\n",
    "np.random.seed(1234)"
   ]
  },
  {
   "cell_type": "code",
   "execution_count": 2,
   "metadata": {
    "collapsed": true
   },
   "outputs": [],
   "source": [
    "def rw2(n):# this gives samples from weibull(5,2)\n",
    "    x=np.zeros(n)\n",
    "    y=np.zeros(n)\n",
    "    theta=[0]*n\n",
    "    distance=[]\n",
    "    theta[0]=wrapcauchy.rvs(c,loc=0,size=1)\n",
    "    if theta[0]>2*math.pi:\n",
    "            theta[0] = theta[0] - 2* math.pi\n",
    "    if theta[0]<0:\n",
    "            theta[0] = theta[0] + 2* math.pi\n",
    "    for i in range(1,n):\n",
    "        r=random.weibullvariate(alpha,beta)\n",
    "        theta[i]=wrapcauchy.rvs(c,loc=theta[i-1],size=1)# c is the shape parameter\n",
    "        if theta[i]>2*math.pi:\n",
    "            theta[i] =theta[i] - 2* math.pi\n",
    "        if theta[i]<0:\n",
    "            theta[i] = theta[i] + 2* math.pi\n",
    "        x[i]=x[i-1]+r*math.cos(theta[i])\n",
    "        y[i]=y[i-1]+r*math.sin(theta[i])\n",
    "        distance.append(r)\n",
    "    return(x,y,distance,theta)   \n",
    "    \n",
    "n=1000 #sample size\n",
    "alpha=2 #scale\n",
    "beta=5 #shape\n",
    "c=0.9# shape parameter for Wrapped Cauchy distribution, it needs to be between 0 and 1\n",
    "data = rw2(n)\n",
    "x=data[0]\n",
    "y=data[1]\n",
    "r_original=data[2]# this is a vector of step-lengths\n",
    "theta_original=data[3]# this is a vector of headings\n",
    "t=range(0,n)"
   ]
  },
  {
   "cell_type": "code",
   "execution_count": 3,
   "metadata": {
    "collapsed": true
   },
   "outputs": [],
   "source": [
    "# my code pretty much starts here\n",
    "time_step=0.1\n",
    "t_new=np.arange(0,n-1,time_step)\n",
    "f=interpolate.interp1d(t,x,kind='cubic')#,fill_value=\"extrapolate\")\n",
    "g=interpolate.interp1d(t,y,kind='cubic')#,fill_value=\"extrapolate\") don't do this"
   ]
  },
  {
   "cell_type": "code",
   "execution_count": 4,
   "metadata": {
    "collapsed": true
   },
   "outputs": [],
   "source": [
    "x_new=f(t_new)\n",
    "y_new=g(t_new)"
   ]
  },
  {
   "cell_type": "code",
   "execution_count": 39,
   "metadata": {},
   "outputs": [
    {
     "name": "stdout",
     "output_type": "stream",
     "text": [
      "9989\n",
      "9989\n",
      "9989\n",
      "9988\n",
      "9988\n",
      "9988\n"
     ]
    }
   ],
   "source": [
    "#get the distances now and the angles\n",
    "r=np.zeros(len(x_new)-1)# r the step-lengths\n",
    "theta=np.zeros(len(x_new)-1)# theta the angle\n",
    "new_data=np.zeros(len(x_new)-1)\n",
    "for i in range(0,len(x_new)-1):\n",
    "    r[i]=np.sqrt((x_new[i+1]-x_new[i])**2 + (y_new[i+1]-y_new[i])**2)\n",
    "    theta[i]=math.atan2(y_new[i+1]-y_new[i], x_new[i+1]-x_new[i])\n",
    "for i in range(0,len(x_new)-2):\n",
    "    new_data[i]=theta[i+1]-theta[i]# save the difference in the heading\n",
    "    if new_data[i]<0:\n",
    "        new_data[i]=new_data[i]+2*math.pi    \n",
    "data=r# save the step-lengths,have the same name as before in the MCMC sampler for the step-lengths\n",
    "#new_data is the data that we introduce in the heading MCMC sampler\n",
    "print(len(data))    \n",
    "print(len(theta))\n",
    "print(len(new_data))\n",
    "new_data# it has a zero at the end\n",
    "new_data=new_data[:-1]\n",
    "#new_data without zero.\n",
    "data=data[:-1]# change the step-lengths data as well\n",
    "theta=theta[:-1]\n",
    "print(len(data))# the step-lengths\n",
    "print(len(new_data))# make sure they have the same lenghts# the angles\n",
    "print(len(theta))# the angle before persistence"
   ]
  },
  {
   "cell_type": "code",
   "execution_count": 6,
   "metadata": {
    "collapsed": true
   },
   "outputs": [],
   "source": [
    "def log_likelihood(x,a,b):# a is shape, b is scale\n",
    "     return sum(dweibull.logpdf(x,scale=b,c=a))\n",
    "def log_wclikelihood(x,a,b):\n",
    "     return sum(wrapcauchy.logpdf(x,c=a,loc=b))# c is the shape parameter#MCMC sampler for the heading"
   ]
  },
  {
   "cell_type": "code",
   "execution_count": 7,
   "metadata": {},
   "outputs": [
    {
     "name": "stdout",
     "output_type": "stream",
     "text": [
      "Acceptance rate = 0.3641\n"
     ]
    }
   ],
   "source": [
    "# Now put them into the MCMC sampler, the second model is to be considered\n",
    "import scipy.stats \n",
    "from scipy.stats import dweibull#MCMC sampler for the heading\n",
    "# initial guess for theta(a) as array,these are shape(c) \n",
    "guess = 0.9\n",
    "# Prepare storing MCMC chain as array of arrays.\n",
    "A1 = [guess]\n",
    "# define stepsize of MCMC.\n",
    "stepsize = 0.0015 # array of stepsizes\n",
    "accepted  = 0.0\n",
    "old_theta=guess# define initial values for theta \n",
    "old_loglik = log_wclikelihood(new_data,old_theta,0)#calculate the first log likelihood\n",
    "# Metropolis-Hastings with 20,000 iterations.\n",
    "for p in range(20000):\n",
    "    new_theta = old_theta + stats.norm(0, stepsize).rvs() \n",
    "    #add the restraints on new_theta\n",
    "    if new_theta<0 or new_theta>1: \n",
    "        continue\n",
    "    new_loglik = log_wclikelihood(new_data,new_theta,0)\n",
    "    # Accept new candidate in Monte-Carlo fashing.\n",
    "    if (new_loglik > old_loglik):\n",
    "        A1.append(new_theta)\n",
    "        accepted = accepted + 1.0  # monitor acceptance\n",
    "        old_loglik=new_loglik\n",
    "        old_theta=new_theta\n",
    "    else:\n",
    "        u = random.uniform(0.0,1.0)\n",
    "        if (u < math.exp(new_loglik - old_loglik)):\n",
    "            A1.append(new_theta)\n",
    "            accepted = accepted + 1.0  # monitor acceptance\n",
    "            old_loglik=new_loglik\n",
    "            old_theta=new_theta\n",
    "        else:\n",
    "            A1.append(old_theta)\n",
    "print(\"Acceptance rate = \"+str(accepted/10000.0))\n",
    "\n",
    "#0.00050"
   ]
  },
  {
   "cell_type": "code",
   "execution_count": 8,
   "metadata": {},
   "outputs": [
    {
     "name": "stdout",
     "output_type": "stream",
     "text": [
      "0.983843271713\n",
      "0.984186929009\n",
      "19001\n"
     ]
    },
    {
     "data": {
      "image/png": "[encoded data removed]",
      "text/plain": [
       "<matplotlib.figure.Figure at 0x24c15a88a58>"
      ]
     },
     "metadata": {},
     "output_type": "display_data"
    },
    {
     "data": {
      "image/png": "[encoded data removed]",
      "text/plain": [
       "<matplotlib.figure.Figure at 0x24c15ca3978>"
      ]
     },
     "metadata": {},
     "output_type": "display_data"
    }
   ],
   "source": [
    "print(np.mean(A1))\n",
    "print(np.mean(A1[1000:]))# burn in 1000\n",
    "plt.hist(A1,bins=50)\n",
    "B1=np.array(A1[1000:])\n",
    "print(len(B1))\n",
    "plt.xlabel(\"Shape Parameter\")\n",
    "plt.show()\n",
    "plt.hist(B1,bins=50)\n",
    "plt.xlabel(\"Shape Parameter\")\n",
    "plt.show()\n"
   ]
  },
  {
   "cell_type": "code",
   "execution_count": 9,
   "metadata": {},
   "outputs": [
    {
     "name": "stdout",
     "output_type": "stream",
     "text": [
      "Acceptance rate = 0.3315\n"
     ]
    }
   ],
   "source": [
    "#MCMC sampler for the step-lengths\n",
    "import scipy.stats as stats\n",
    "import numpy as np\n",
    "# initial guess for theta(a and b) as array.\n",
    "guess = [5.0,2.0]\n",
    "# Prepare storing MCMC chain as array of arrays.\n",
    "A2 = [guess]\n",
    "# define stepsize of MCMC.\n",
    "stepsizes = [0.0050,0.0050] # array of stepsizes\n",
    "accepted  = 0.0\n",
    "old_theta=guess# define initial values for theta \n",
    "old_loglik = log_likelihood(data,old_theta[0],old_theta[1])#calculate the first log likelihood\n",
    "# Metropolis-Hastings with 25,000 iterations.\n",
    "for p in range(25000):\n",
    "    # Suggest new candidate from Gaussian proposal distribution.\n",
    "    new_theta = old_theta + stats.norm(0, stepsizes).rvs() \n",
    "    #add the restraints on new_theta\n",
    "    if new_theta[0]<0 or new_theta[1]<0: \n",
    "        continue\n",
    "    new_loglik = log_likelihood(data,new_theta[0],new_theta[1])\n",
    "    # Accept new candidate in Monte-Carlo fashing.\n",
    "    if (new_loglik > old_loglik):\n",
    "        A2.append(new_theta)\n",
    "        accepted = accepted + 1.0  # monitor acceptance\n",
    "        old_loglik=new_loglik\n",
    "        old_theta=new_theta\n",
    "    else:\n",
    "        u = random.uniform(0.0,1.0)\n",
    "        if (u < math.exp(new_loglik - old_loglik)):\n",
    "            A2.append(new_theta)\n",
    "            accepted = accepted + 1.0  # monitor acceptance\n",
    "            old_loglik=new_loglik\n",
    "            old_theta=new_theta\n",
    "        else:\n",
    "            A2.append(old_theta)\n",
    "print(\"Acceptance rate = \"+str(accepted/10000.0))\n",
    "#0.0015"
   ]
  },
  {
   "cell_type": "code",
   "execution_count": 10,
   "metadata": {},
   "outputs": [
    {
     "name": "stdout",
     "output_type": "stream",
     "text": [
      "25001\n",
      "4.40306367219\n",
      "0.201334738925\n"
     ]
    },
    {
     "data": {
      "image/png": "[encoded data removed]",
      "text/plain": [
       "<matplotlib.figure.Figure at 0x24c11bee908>"
      ]
     },
     "metadata": {},
     "output_type": "display_data"
    },
    {
     "data": {
      "image/png": "[encoded data removed]",
      "text/plain": [
       "<matplotlib.figure.Figure at 0x24c16365e80>"
      ]
     },
     "metadata": {},
     "output_type": "display_data"
    }
   ],
   "source": [
    "print(len(A2))\n",
    "B2=np.array(A2[5000:])#burn-in 1000\n",
    "shape_mean=np.mean(B2[:,0])\n",
    "scale_mean=np.mean(B2[:,1])\n",
    "print(shape_mean)\n",
    "print(scale_mean)\n",
    "plt.hist(B2[:,0],bins=50)\n",
    "plt.xlabel(\"Shape Parameter\")\n",
    "plt.show()\n",
    "plt.hist(B2[:,1],bins=50)\n",
    "plt.xlabel(\"Scale Parameter\")\n",
    "plt.show()"
   ]
  },
  {
   "cell_type": "code",
   "execution_count": 18,
   "metadata": {},
   "outputs": [
    {
     "name": "stdout",
     "output_type": "stream",
     "text": [
      "200\n",
      "200\n",
      "200\n"
     ]
    }
   ],
   "source": [
    "# Weibull\n",
    "shape_parameters=B2[:,0]\n",
    "scale_parameters=B2[:,1]\n",
    "# select every 10th observation\n",
    "shape_parameters_need=shape_parameters[::10][:-1801]# same length now\n",
    "scale_parameters_need=scale_parameters[::10][:-1801]\n",
    "#Wrapped Cauchy\n",
    "shapewc_parameters=B1\n",
    "shapewc_parameters_need=B1[::10][:-1701]\n",
    "print(len(shapewc_parameters_need))\n",
    "print(len(scale_parameters_need))\n",
    "print(len(shape_parameters_need))\n",
    "#made some changes here"
   ]
  },
  {
   "cell_type": "code",
   "execution_count": 19,
   "metadata": {
    "collapsed": true
   },
   "outputs": [],
   "source": [
    "# now changing the parameters and n with the ones that I got\n",
    "def rw2_change(n_change,alpha_change,beta_change,c_change):# this gives samples from the inference model\n",
    "    x_change=np.zeros(n_change)\n",
    "    y_change=np.zeros(n_change)\n",
    "    theta=np.zeros(n_change)\n",
    "    distance=[]\n",
    "    theta[0]=wrapcauchy.rvs(c_change,loc=0,size=1)\n",
    "    if theta[0]>2*math.pi:\n",
    "            theta[0] = theta[0] - 2* math.pi\n",
    "    if theta[0]<0:\n",
    "            theta[0] = theta[0] + 2* math.pi\n",
    "    for i in range(1,n_change):\n",
    "        r=random.weibullvariate(alpha_change,beta_change)\n",
    "        theta[i]=wrapcauchy.rvs(c_change,loc=theta[i-1],size=1)# c is the shape parameter\n",
    "        if theta[i]>2*math.pi:\n",
    "            theta[i] =theta[i] - 2* math.pi\n",
    "        if theta[i]<0:\n",
    "            theta[i] = theta[i] + 2* math.pi\n",
    "        x_change[i]=x_change[i-1]+r*math.cos(theta[i])\n",
    "        y_change[i]=y_change[i-1]+r*math.sin(theta[i])\n",
    "        distance.append(r)# save the distances r for the mcmc sampler\n",
    "    return [x_change,y_change,distance,theta]   \n",
    "    \n",
    "n_change=len(new_data) #int(input(\"how many steps?\"))\n",
    "alpha_change=scale_parameters_need#int(input(\"what's the scale?\"))\n",
    "beta_change=shape_parameters_need #int(input(\"what's the shape?\"))\n",
    "c_change=shapewc_parameters_need# float(input(\"What's the shape parameter for the wrapped Cauchy?\"))# this needs to be between 0 and 1\n",
    "#x_change = np.array(rw2_change(n_change)[0])\n",
    "#y_change=np.array(rw2_change(n_change)[1])\n",
    "#data_change=np.array(rw2_change(n_change)[2])\n",
    "#theta_change=np.array(rw2_change(n_change)[3])\n",
    "#the previous code"
   ]
  },
  {
   "cell_type": "code",
   "execution_count": 20,
   "metadata": {},
   "outputs": [
    {
     "data": {
      "text/plain": [
       "9988"
      ]
     },
     "execution_count": 20,
     "metadata": {},
     "output_type": "execute_result"
    }
   ],
   "source": [
    "n_change\n",
    "# make this smaller\n",
    "# I went for 1000\n",
    "# So basically I have a big list, the length is the number of parameters and each entry has 1000 elements"
   ]
  },
  {
   "cell_type": "code",
   "execution_count": 21,
   "metadata": {},
   "outputs": [
    {
     "name": "stdout",
     "output_type": "stream",
     "text": [
      "[ 0.2009  0.2009  0.2009  0.2011  0.2006  0.2016  0.2006  0.2006  0.2014\n",
      "  0.2013  0.2005  0.201   0.201   0.201   0.201   0.2003  0.2004  0.2008\n",
      "  0.2004  0.2007  0.2007  0.2006  0.2005  0.2014  0.2011  0.2011  0.2011\n",
      "  0.2014  0.2014  0.2008  0.2019  0.2012  0.2011  0.2016  0.2007  0.2008\n",
      "  0.2008  0.2008  0.202   0.2014  0.2012  0.2012  0.2012  0.2012  0.2008\n",
      "  0.2008  0.2012  0.2001  0.2005  0.2005  0.2027  0.2017  0.2022  0.2015\n",
      "  0.2011  0.2011  0.2006  0.2015  0.2012  0.2012  0.2012  0.2005  0.2005\n",
      "  0.2005  0.2019  0.2021  0.2011  0.2011  0.2017  0.2011  0.2011  0.2011\n",
      "  0.2011  0.2018  0.2021  0.2021  0.2007  0.201   0.201   0.2012  0.2012\n",
      "  0.2012  0.202   0.2013  0.2013  0.2022  0.2022  0.2013  0.2013  0.2018\n",
      "  0.201   0.2008  0.2018  0.2011  0.2016  0.2016  0.2016  0.2016  0.2016\n",
      "  0.2014  0.2014  0.2015  0.2012  0.2007  0.2007  0.2021  0.2015  0.2013\n",
      "  0.2018  0.2013  0.202   0.2011  0.2017  0.2012  0.2014  0.2013  0.2014\n",
      "  0.2014  0.2014  0.2018  0.2017  0.2017  0.2014  0.2014  0.2014  0.2013\n",
      "  0.2022  0.2017  0.2018  0.201   0.2017  0.2005  0.2018  0.2012  0.2012\n",
      "  0.2019  0.2022  0.2011  0.2011  0.2007  0.2007  0.201   0.2022  0.2008\n",
      "  0.2018  0.202   0.2006  0.2006  0.2007  0.2014  0.2014  0.2011  0.2008\n",
      "  0.2015  0.2018  0.2012  0.2006  0.2018  0.2009  0.2012  0.2017  0.2017\n",
      "  0.2017  0.2017  0.202   0.2007  0.2015  0.2009  0.2013  0.2013  0.2006\n",
      "  0.2014  0.2014  0.2017  0.2014  0.2007  0.2007  0.2016  0.2006  0.2021\n",
      "  0.2013  0.2016  0.2012  0.2006  0.2006  0.2009  0.2008  0.2015  0.2015\n",
      "  0.2009  0.2009  0.2013  0.2013  0.2011  0.2011  0.2016  0.2011  0.2018\n",
      "  0.2016  0.2016]\n",
      "[ 4.3605  4.3605  4.3577  4.3555  4.354   4.3578  4.3502  4.3502  4.3302\n",
      "  4.3268  4.327   4.3334  4.3334  4.3334  4.3334  4.3311  4.3377  4.3431\n",
      "  4.3456  4.3467  4.372   4.3652  4.3635  4.3717  4.3712  4.3712  4.3712\n",
      "  4.3648  4.3648  4.3684  4.3708  4.3742  4.3723  4.3745  4.3821  4.381\n",
      "  4.381   4.381   4.3627  4.3523  4.3672  4.3672  4.3672  4.3672  4.3677\n",
      "  4.3742  4.3752  4.3784  4.376   4.376   4.3857  4.3944  4.4035  4.4086\n",
      "  4.407   4.407   4.4088  4.4055  4.3999  4.3926  4.3926  4.3891  4.3891\n",
      "  4.3891  4.3868  4.3968  4.4048  4.4076  4.4042  4.4017  4.4017  4.4115\n",
      "  4.4115  4.418   4.4226  4.4226  4.4172  4.4251  4.4251  4.427   4.427\n",
      "  4.427   4.4271  4.4227  4.4227  4.4235  4.4235  4.4152  4.4153  4.4087\n",
      "  4.4195  4.4152  4.4123  4.4159  4.4186  4.4186  4.4141  4.414   4.414\n",
      "  4.4166  4.4166  4.4221  4.426   4.4304  4.4304  4.4365  4.4451  4.4516\n",
      "  4.4412  4.4402  4.4458  4.4403  4.4408  4.4313  4.4342  4.4365  4.4363\n",
      "  4.4363  4.4363  4.4329  4.4427  4.4427  4.4481  4.4481  4.4481  4.4283\n",
      "  4.425   4.4295  4.4189  4.4196  4.4192  4.4224  4.4207  4.4286  4.4286\n",
      "  4.4182  4.3917  4.398   4.398   4.3966  4.3966  4.3877  4.3846  4.3822\n",
      "  4.3686  4.3703  4.3754  4.3754  4.3852  4.3903  4.3903  4.3961  4.3922\n",
      "  4.3903  4.3871  4.3918  4.3901  4.3877  4.3838  4.381   4.3853  4.394\n",
      "  4.394   4.394   4.3897  4.3838  4.385   4.3932  4.3827  4.3827  4.39\n",
      "  4.3895  4.3895  4.3917  4.3922  4.3831  4.3854  4.3841  4.3836  4.3849\n",
      "  4.3912  4.3928  4.3921  4.3809  4.3809  4.3825  4.3874  4.3874  4.3874\n",
      "  4.3915  4.3915  4.3957  4.3957  4.402   4.402   4.405   4.4006  4.4081\n",
      "  4.4124  4.4124]\n",
      "[ 0.9844  0.984   0.9843  0.9841  0.984   0.9844  0.9847  0.9845  0.9841\n",
      "  0.9845  0.9845  0.984   0.9841  0.9842  0.984   0.9842  0.9843  0.9842\n",
      "  0.9843  0.9843  0.9842  0.9846  0.9841  0.9841  0.9841  0.9841  0.9842\n",
      "  0.9842  0.9844  0.9845  0.9841  0.9839  0.9845  0.9843  0.9844  0.9842\n",
      "  0.9842  0.9844  0.9838  0.9844  0.9845  0.9842  0.9841  0.9841  0.9841\n",
      "  0.9842  0.9844  0.9847  0.9841  0.9845  0.9838  0.984   0.9839  0.9846\n",
      "  0.9838  0.9838  0.984   0.984   0.9847  0.9841  0.9841  0.9841  0.984\n",
      "  0.9841  0.984   0.9844  0.9843  0.9842  0.9843  0.9839  0.9842  0.9843\n",
      "  0.9841  0.9843  0.9841  0.9841  0.9841  0.984   0.9842  0.9842  0.9841\n",
      "  0.9843  0.9841  0.9841  0.9843  0.9841  0.9841  0.9843  0.9843  0.9842\n",
      "  0.9843  0.9843  0.9843  0.9843  0.9843  0.9843  0.9845  0.984   0.9842\n",
      "  0.9842  0.984   0.9841  0.9841  0.9839  0.984   0.9843  0.9843  0.984\n",
      "  0.984   0.9847  0.9844  0.984   0.9842  0.9845  0.9843  0.984   0.984\n",
      "  0.9844  0.9844  0.9842  0.9842  0.9844  0.9836  0.9843  0.984   0.984\n",
      "  0.9837  0.9844  0.9843  0.984   0.9842  0.9845  0.9841  0.9844  0.984\n",
      "  0.9844  0.9842  0.9844  0.9842  0.9841  0.9843  0.9844  0.9844  0.9842\n",
      "  0.9839  0.9842  0.9839  0.9846  0.9842  0.9842  0.9842  0.9842  0.9842\n",
      "  0.9843  0.9839  0.9842  0.9841  0.9847  0.9847  0.9845  0.9838  0.9839\n",
      "  0.9844  0.9844  0.9842  0.9844  0.9844  0.9845  0.9838  0.9841  0.9839\n",
      "  0.9843  0.9843  0.9845  0.9846  0.9838  0.9845  0.9846  0.9839  0.9843\n",
      "  0.9838  0.9841  0.9839  0.984   0.984   0.9841  0.9844  0.9844  0.9838\n",
      "  0.9839  0.984   0.9844  0.9844  0.9842  0.9843  0.9842  0.984   0.9841\n",
      "  0.9841  0.9843]\n",
      "9988\n"
     ]
    }
   ],
   "source": [
    "print(scale_parameters_need)\n",
    "print(shape_parameters_need)\n",
    "print(shapewc_parameters_need)\n",
    "print(n_change)"
   ]
  },
  {
   "cell_type": "code",
   "execution_count": 22,
   "metadata": {},
   "outputs": [
    {
     "name": "stdout",
     "output_type": "stream",
     "text": [
      "200\n",
      "200\n",
      "200\n"
     ]
    }
   ],
   "source": [
    "print(len(shapewc_parameters_need))\n",
    "print(len(scale_parameters_need))\n",
    "print(len(shape_parameters_need))\n",
    "#make them the same size, check again"
   ]
  },
  {
   "cell_type": "code",
   "execution_count": 68,
   "metadata": {},
   "outputs": [],
   "source": [
    "length_datas=len(t_new)"
   ]
  },
  {
   "cell_type": "code",
   "execution_count": 69,
   "metadata": {},
   "outputs": [
    {
     "data": {
      "text/plain": [
       "9990"
      ]
     },
     "execution_count": 69,
     "metadata": {},
     "output_type": "execute_result"
    }
   ],
   "source": [
    "len(t_new)"
   ]
  },
  {
   "cell_type": "code",
   "execution_count": 63,
   "metadata": {},
   "outputs": [
    {
     "data": {
      "text/plain": [
       "9988"
      ]
     },
     "execution_count": 63,
     "metadata": {},
     "output_type": "execute_result"
    }
   ],
   "source": [
    "n_change"
   ]
  },
  {
   "cell_type": "code",
   "execution_count": 73,
   "metadata": {
    "collapsed": true
   },
   "outputs": [],
   "source": [
    "data_change=np.zeros((len(shape_parameters_need),length_datas-1))\n",
    "theta_change=np.zeros((len(shapewc_parameters_need),length_datas))\n",
    "# do arrays, matrices#if you want to make them the same size"
   ]
  },
  {
   "cell_type": "code",
   "execution_count": 74,
   "metadata": {},
   "outputs": [
    {
     "name": "stdout",
     "output_type": "stream",
     "text": [
      "200\n",
      "1000\n",
      "999\n",
      "200\n"
     ]
    }
   ],
   "source": [
    "print(len(theta_change))\n",
    "print(len(theta_original))\n",
    "print(len(r_original))\n",
    "print(len(data_change))\n",
    "#Let's go to 999 then\n",
    "#theta_change=theta_change[:999]\n",
    "#theta_original=theta_original[:999]\n",
    "#data_change=data_change[:999]\n",
    "#shape_parameters_need=shape_parameters_need[:999]\n",
    "#scale_parameters_need=scale_parameters_need[:999]\n",
    "#shapewc_parameters_need=shapewc_parameters_need[:999]"
   ]
  },
  {
   "cell_type": "code",
   "execution_count": 76,
   "metadata": {},
   "outputs": [],
   "source": [
    "for i in range(len(shape_parameters_need)):\n",
    "                     data_change[i,]=np.array(rw2_change(length_datas,alpha_change[i],beta_change[i],c_change[i])[2])#the distances"
   ]
  },
  {
   "cell_type": "code",
   "execution_count": 77,
   "metadata": {
    "collapsed": true
   },
   "outputs": [],
   "source": [
    "for i in range(len(shape_parameters_need)):\n",
    "                     theta_change[i,]=np.array(rw2_change(length_datas,alpha_change[i],beta_change[i],c_change[i])[3])#the angles"
   ]
  },
  {
   "cell_type": "code",
   "execution_count": 78,
   "metadata": {},
   "outputs": [
    {
     "name": "stdout",
     "output_type": "stream",
     "text": [
      "4.40306367219\n",
      "0.201334738925\n",
      "0.984186929009\n"
     ]
    }
   ],
   "source": [
    "# the mean of the inferred parameters\n",
    "mean_shape_weibullparameter=np.mean(shape_parameters)\n",
    "mean_scale_weibullparameter=np.mean(scale_parameters)\n",
    "mean_shape_wcparameter=np.mean(shapewc_parameters)\n",
    "print(mean_shape_weibullparameter)\n",
    "print(mean_scale_weibullparameter)\n",
    "print(mean_shape_wcparameter)"
   ]
  },
  {
   "cell_type": "code",
   "execution_count": 79,
   "metadata": {},
   "outputs": [
    {
     "data": {
      "text/plain": [
       "27589.6712"
      ]
     },
     "execution_count": 79,
     "metadata": {},
     "output_type": "execute_result"
    }
   ],
   "source": [
    "#calculate T_y for the downsampled data i.e. new data obtained after interpolation\n",
    "T_y_weibull=log_likelihood(data,mean_shape_weibullparameter,mean_scale_weibullparameter)\n",
    "T_y_wc=log_wclikelihood(new_data,mean_shape_wcparameter,0)\n",
    "# T_y in total\n",
    "T_y=T_y_weibull+T_y_wc\n",
    "T_y\n",
    "#huge value,28129.6766 with p-value of 0\n"
   ]
  },
  {
   "cell_type": "code",
   "execution_count": 80,
   "metadata": {},
   "outputs": [
    {
     "name": "stdout",
     "output_type": "stream",
     "text": [
      "200\n",
      "200\n",
      "9988\n",
      "9988\n"
     ]
    }
   ],
   "source": [
    "print(len(data_change))\n",
    "print(len(theta_change))\n",
    "print(len(data))\n",
    "print(len(new_data))"
   ]
  },
  {
   "cell_type": "code",
   "execution_count": 81,
   "metadata": {
    "collapsed": true
   },
   "outputs": [],
   "source": [
    "#data_change-step-lengths after the change of the parameters after inference\n",
    "#theta_change-headings after the change of the parameters after inference"
   ]
  },
  {
   "cell_type": "code",
   "execution_count": 82,
   "metadata": {
    "collapsed": true
   },
   "outputs": [],
   "source": [
    "T_y_rep_weibull=np.zeros(len(shape_parameters_need))\n",
    "for i in range(len(shape_parameters_need)):\n",
    "    T_y_rep_weibull[i]=log_likelihood(data_change[i],shape_parameters_need[i],scale_parameters_need[i])\n",
    "    "
   ]
  },
  {
   "cell_type": "code",
   "execution_count": 83,
   "metadata": {},
   "outputs": [
    {
     "name": "stdout",
     "output_type": "stream",
     "text": [
      "200\n"
     ]
    }
   ],
   "source": [
    "print(len(T_y_rep_weibull))\n",
    "#T_y_rep_weibull"
   ]
  },
  {
   "cell_type": "code",
   "execution_count": 84,
   "metadata": {},
   "outputs": [
    {
     "data": {
      "text/plain": [
       "0"
      ]
     },
     "execution_count": 84,
     "metadata": {},
     "output_type": "execute_result"
    }
   ],
   "source": [
    "count_zeros=0\n",
    "for i in range(len(shape_parameters_need)):\n",
    "    if T_y_rep_weibull[i]==0:\n",
    "        count_zeros+=1\n",
    "count_zeros"
   ]
  },
  {
   "cell_type": "code",
   "execution_count": 85,
   "metadata": {
    "collapsed": true
   },
   "outputs": [],
   "source": [
    "T_y_rep_wc=np.zeros(len(shapewc_parameters_need))\n",
    "for i in range(len(shapewc_parameters_need)):\n",
    "    T_y_rep_wc[i]=log_wclikelihood(theta_change[i],shapewc_parameters_need[i],0)\n"
   ]
  },
  {
   "cell_type": "code",
   "execution_count": 86,
   "metadata": {},
   "outputs": [
    {
     "data": {
      "text/plain": [
       "0"
      ]
     },
     "execution_count": 86,
     "metadata": {},
     "output_type": "execute_result"
    }
   ],
   "source": [
    "count_zeros=0\n",
    "for i in range(len(shapewc_parameters_need)):\n",
    "    if T_y_rep_wc[i]==0:\n",
    "        count_zeros+=1\n",
    "count_zeros"
   ]
  },
  {
   "cell_type": "code",
   "execution_count": 87,
   "metadata": {},
   "outputs": [
    {
     "name": "stdout",
     "output_type": "stream",
     "text": [
      "200\n"
     ]
    }
   ],
   "source": [
    "print(len(T_y_rep_wc))\n",
    "#T_y_rep_wc"
   ]
  },
  {
   "cell_type": "code",
   "execution_count": 88,
   "metadata": {},
   "outputs": [
    {
     "data": {
      "text/plain": [
       "array([-44200.4412, -45921.4014, -41840.2742, -42239.4436, -43643.8459,\n",
       "       -43595.0491, -41045.5853, -42658.4888, -42219.2248, -38026.6474,\n",
       "       -42459.7442, -44316.8913, -44652.8408, -43026.4256, -42969.0934,\n",
       "       -46361.693 , -42635.126 , -44794.3147, -42894.8128, -42868.9109,\n",
       "       -40896.9942, -39328.1818, -41054.4573, -43221.7924, -45329.7534,\n",
       "       -43647.9413, -43974.9971, -46653.7718, -42950.9508, -43156.0471,\n",
       "       -41876.939 , -42589.735 , -44829.0985, -42929.7566, -44336.069 ,\n",
       "       -42103.3958, -44114.6746, -43905.7277, -45088.0042, -45536.7961,\n",
       "       -44492.1402, -43859.9798, -46512.5871, -43082.1316, -44033.8316,\n",
       "       -45588.2528, -39864.8547, -43848.8088, -44033.9935, -44429.8249,\n",
       "       -44652.3196, -43059.2847, -42188.443 , -44875.6548, -39248.3133,\n",
       "       -46466.4903, -42650.4671, -40369.5162, -45179.4114, -45266.1102,\n",
       "       -43789.4403, -42995.5141, -43973.2919, -43227.6322, -46183.4338,\n",
       "       -43002.8242, -43077.0677, -41386.332 , -43150.4498, -41194.5159,\n",
       "       -44698.6469, -39825.034 , -46149.8153, -41807.8713, -44263.6248,\n",
       "       -45005.9918, -43113.5049, -42179.4648, -46528.6701, -44540.2222,\n",
       "       -40650.6767, -41292.3103, -43521.4292, -40686.2349, -46013.4422,\n",
       "       -45370.1971, -41546.366 , -41591.3076, -41644.3743, -41737.2181,\n",
       "       -41400.0415, -44750.31  , -45572.3782, -42938.5362, -44536.2633,\n",
       "       -44200.5843, -42920.4591, -43048.6621, -40478.9213, -45260.8862,\n",
       "       -43714.0557, -41680.9991, -41441.0052, -46142.6704, -43822.7056,\n",
       "       -42524.4917, -44130.7904, -45453.2313, -42646.3672, -41527.9344,\n",
       "       -45773.0928, -43076.4747, -43438.8763, -43529.2304, -43522.7027,\n",
       "       -45560.4521, -44261.7898, -42775.0643, -46913.026 , -41865.9804,\n",
       "       -45690.9228, -43093.5574, -46345.1959, -41963.4421, -40808.7234,\n",
       "       -41743.7864, -42476.55  , -43160.8276, -45800.682 , -44755.6352,\n",
       "       -47000.2419, -40172.5082, -44663.1381, -41971.7956, -46322.7194,\n",
       "       -45485.5729, -43368.7894, -44865.907 , -41161.9774, -45305.8015,\n",
       "       -42096.4403, -45387.305 , -46097.6162, -44691.339 , -44800.4511,\n",
       "       -42270.0818, -42127.3289, -44230.6415, -42258.3815, -43567.6165,\n",
       "       -45888.7178, -43822.0193, -44481.584 , -41338.7059, -46141.5722,\n",
       "       -45084.2883, -42146.1804, -40841.9553, -40818.6841, -43192.3215,\n",
       "       -43316.2679, -43623.2   , -40411.3903, -39455.1764, -43418.5778,\n",
       "       -42524.5943, -42825.4086, -43223.3612, -40772.1486, -42400.5482,\n",
       "       -42609.129 , -43681.9285, -44910.5099, -45756.2575, -43302.2784,\n",
       "       -45319.8661, -46102.1379, -44395.1931, -40469.88  , -43124.8732,\n",
       "       -40768.3666, -42606.5248, -41688.272 , -43367.1779, -42658.1441,\n",
       "       -43474.0866, -43090.6202, -44396.7801, -43406.639 , -44734.9792,\n",
       "       -43209.9542, -44610.0998, -45946.3442, -43322.1433, -41571.653 ,\n",
       "       -42565.3143, -43855.0765, -41775.2415, -43267.593 , -45082.6695])"
      ]
     },
     "execution_count": 88,
     "metadata": {},
     "output_type": "execute_result"
    }
   ],
   "source": [
    "T_y_rep=T_y_rep_weibull+T_y_rep_wc   \n",
    "T_y_rep"
   ]
  },
  {
   "cell_type": "code",
   "execution_count": 89,
   "metadata": {},
   "outputs": [
    {
     "name": "stdout",
     "output_type": "stream",
     "text": [
      "0\n",
      "200\n",
      "0.0\n"
     ]
    }
   ],
   "source": [
    "count=0\n",
    "for i in range(len(shape_parameters_need)):\n",
    "    if T_y_rep[i]>T_y:\n",
    "        count+=1\n",
    "print(count)\n",
    "print(len(shape_parameters_need))\n",
    "ppp_value=count/len(shape_parameters_need)\n",
    "print(ppp_value)\n"
   ]
  },
  {
   "cell_type": "code",
   "execution_count": 90,
   "metadata": {},
   "outputs": [
    {
     "data": {
      "image/png": "[encoded data removed]",
      "text/plain": [
       "<matplotlib.figure.Figure at 0x24c165f3c18>"
      ]
     },
     "metadata": {},
     "output_type": "display_data"
    }
   ],
   "source": [
    "plt.hist(T_y_rep,bins=100)\n",
    "plt.axvline(T_y,linestyle='dashed', linewidth=1.5,color='red')\n",
    "plt.show()\n"
   ]
  },
  {
   "cell_type": "code",
   "execution_count": null,
   "metadata": {
    "collapsed": true
   },
   "outputs": [],
   "source": []
  },
  {
   "cell_type": "code",
   "execution_count": null,
   "metadata": {
    "collapsed": true
   },
   "outputs": [],
   "source": []
  }
 ],
 "metadata": {
  "kernelspec": {
   "display_name": "Python 3",
   "language": "python",
   "name": "python3"
  },
  "language_info": {
   "codemirror_mode": {
    "name": "ipython",
    "version": 3
   },
   "file_extension": ".py",
   "mimetype": "text/x-python",
   "name": "python",
   "nbconvert_exporter": "python",
   "pygments_lexer": "ipython3",
   "version": "3.6.3"
  }
 },
 "nbformat": 4,
 "nbformat_minor": 2
}
