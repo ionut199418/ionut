{
 "cells": [
  {
   "cell_type": "code",
   "execution_count": 1,
   "metadata": {
    "collapsed": true
   },
   "outputs": [],
   "source": [
    "56.1 s ± 3.12 s per loop (mean ± std. dev. of 7 runs, 1 loop each)\n",
    "#n=10000\n",
    "#10000 loops for the sampler"
   ]
  },
  {
   "cell_type": "code",
   "execution_count": 2,
   "metadata": {
    "collapsed": true
   },
   "outputs": [],
   "source": [
    "15.3 s ± 1.13 s per loop (mean ± std. dev. of 7 runs, 1 loop each)\n",
    "n=100\n"
   ]
  },
  {
   "cell_type": "code",
   "execution_count": 5,
   "metadata": {},
   "outputs": [],
   "source": [
    "14.8 s ± 1.15 s per loop (mean ± std. dev. of 7 runs, 1 loop each)\n",
    "n-250"
   ]
  },
  {
   "cell_type": "code",
   "execution_count": null,
   "metadata": {
    "collapsed": true
   },
   "outputs": [],
   "source": [
    "15.5 s ± 388 ms per loop (mean ± std. dev. of 7 runs, 1 loop each)\n",
    "n=500"
   ]
  },
  {
   "cell_type": "code",
   "execution_count": null,
   "metadata": {
    "collapsed": true
   },
   "outputs": [],
   "source": [
    "24.5 s ± 4.3 s per loop (mean ± std. dev. of 7 runs, 1 loop each)\n",
    "n=750"
   ]
  }
 ],
 "metadata": {
  "kernelspec": {
   "display_name": "Python 3",
   "language": "python",
   "name": "python3"
  },
  "language_info": {
   "codemirror_mode": {
    "name": "ipython",
    "version": 3
   },
   "file_extension": ".py",
   "mimetype": "text/x-python",
   "name": "python",
   "nbconvert_exporter": "python",
   "pygments_lexer": "ipython3",
   "version": "3.6.3"
  }
 },
 "nbformat": 4,
 "nbformat_minor": 2
}
