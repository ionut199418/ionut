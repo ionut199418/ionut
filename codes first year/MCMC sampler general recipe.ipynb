{
 "cells": [
  {
   "cell_type": "code",
   "execution_count": null,
   "metadata": {
    "collapsed": true
   },
   "outputs": [],
   "source": [
    "%matplotlib inline\n",
    "import random\n",
    "import numpy as np\n",
    "import matplotlib.pyplot as plt\n",
    "import seaborn as sns\n",
    "import pandas as pd\n",
    "from functools import partial\n",
    "\n",
    "\n",
    "def metroplis(start=0, target=random.weibullvariate(alpha,beta), proposal, niter=10000, nburn=0):# what proposal and what alpha and beta?\n",
    "    current = start\n",
    "    post = [current]\n",
    "    for i in range(niter):\n",
    "        proposed = proposal(current)\n",
    "        p = min(target(proposed)/target(current), 1)\n",
    "        if np.random.random() < p:\n",
    "            current = proposed# not good, just do it in other way\n",
    "        post.append(current)\n",
    "    return post[nburn:]"
   ]
  }
 ],
 "metadata": {
  "kernelspec": {
   "display_name": "Python 3",
   "language": "python",
   "name": "python3"
  },
  "language_info": {
   "codemirror_mode": {
    "name": "ipython",
    "version": 3
   },
   "file_extension": ".py",
   "mimetype": "text/x-python",
   "name": "python",
   "nbconvert_exporter": "python",
   "pygments_lexer": "ipython3",
   "version": "3.6.3"
  }
 },
 "nbformat": 4,
 "nbformat_minor": 2
}
