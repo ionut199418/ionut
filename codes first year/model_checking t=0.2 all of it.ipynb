{
 "cells": [
  {
   "cell_type": "code",
   "execution_count": 1,
   "metadata": {},
   "outputs": [
    {
     "name": "stderr",
     "output_type": "stream",
     "text": [
      "C:\\Anaconda\\lib\\site-packages\\statsmodels\\compat\\pandas.py:56: FutureWarning: The pandas.core.datetools module is deprecated and will be removed in a future version. Please use the pandas.tseries module instead.\n",
      "  from pandas.core import datetools\n"
     ]
    }
   ],
   "source": [
    "import pandas as pd\n",
    "import statsmodels.api as sm\n",
    "from scipy import interpolate\n",
    "from pandas import Series, DataFrame, Panel\n",
    "from string import ascii_lowercase as letters\n",
    "from scipy.stats import chisqprob\n",
    "from __future__ import division\n",
    "import os\n",
    "import sys\n",
    "import glob\n",
    "import matplotlib.pyplot as plt\n",
    "import numpy as np\n",
    "import pandas as pd\n",
    "import random\n",
    "import math\n",
    "from scipy.stats import wrapcauchy\n",
    "import matplotlib.pyplot as plt\n",
    "%matplotlib inline\n",
    "%precision 4\n",
    "plt.style.use('classic')\n",
    "from mpl_toolkits.mplot3d import Axes3D\n",
    "import scipy.stats as stats\n",
    "from functools import partial\n",
    "np.random.seed(1234)"
   ]
  },
  {
   "cell_type": "code",
   "execution_count": 2,
   "metadata": {
    "collapsed": true
   },
   "outputs": [],
   "source": [
    "def rw2(n):# this gives samples from weibull(5,2)\n",
    "    x=np.zeros(n)\n",
    "    y=np.zeros(n)\n",
    "    theta=[0]*n\n",
    "    distance=[]\n",
    "    theta[0]=wrapcauchy.rvs(c,loc=0,size=1)\n",
    "    if theta[0]>2*math.pi:\n",
    "            theta[0] = theta[0] - 2* math.pi\n",
    "    if theta[0]<0:\n",
    "            theta[0] = theta[0] + 2* math.pi\n",
    "    for i in range(1,n):\n",
    "        r=random.weibullvariate(alpha,beta)\n",
    "        theta[i]=wrapcauchy.rvs(c,loc=theta[i-1],size=1)# c is the shape parameter\n",
    "        if theta[i]>2*math.pi:\n",
    "            theta[i] =theta[i] - 2* math.pi\n",
    "        if theta[i]<0:\n",
    "            theta[i] = theta[i] + 2* math.pi\n",
    "        x[i]=x[i-1]+r*math.cos(theta[i])\n",
    "        y[i]=y[i-1]+r*math.sin(theta[i])\n",
    "        distance.append(r)\n",
    "    return(x,y,distance,theta)   \n",
    "    \n",
    "n=1000 #sample size\n",
    "alpha=2 #scale\n",
    "beta=5 #shape\n",
    "c=0.9# shape parameter for Wrapped Cauchy distribution, it needs to be between 0 and 1\n",
    "data = rw2(n)\n",
    "x=data[0]\n",
    "y=data[1]\n",
    "r_original=data[2]# this is a vector of step-lengths\n",
    "theta_original=data[3]# this is a vector of headings\n",
    "t=range(0,n)"
   ]
  },
  {
   "cell_type": "code",
   "execution_count": 3,
   "metadata": {
    "collapsed": true
   },
   "outputs": [],
   "source": [
    "# my code pretty much starts here\n",
    "time_step=0.2\n",
    "t_new=np.arange(0,n-1,time_step)\n",
    "f=interpolate.interp1d(t,x,kind='cubic')#,fill_value=\"extrapolate\")\n",
    "g=interpolate.interp1d(t,y,kind='cubic')#,fill_value=\"extrapolate\") don't do this"
   ]
  },
  {
   "cell_type": "code",
   "execution_count": 4,
   "metadata": {
    "collapsed": true
   },
   "outputs": [],
   "source": [
    "x_new=f(t_new)\n",
    "y_new=g(t_new)"
   ]
  },
  {
   "cell_type": "code",
   "execution_count": 5,
   "metadata": {},
   "outputs": [
    {
     "name": "stdout",
     "output_type": "stream",
     "text": [
      "4994\n",
      "4994\n",
      "4994\n",
      "4993\n",
      "4993\n"
     ]
    }
   ],
   "source": [
    "#get the distances now and the angles\n",
    "r=np.zeros(len(x_new)-1)# r the step-lengths\n",
    "theta=np.zeros(len(x_new)-1)# theta the angle\n",
    "new_data=np.zeros(len(x_new)-1)\n",
    "for i in range(0,len(x_new)-1):\n",
    "    r[i]=np.sqrt((x_new[i+1]-x_new[i])**2 + (y_new[i+1]-y_new[i])**2)\n",
    "    theta[i]=math.atan2(y_new[i+1]-y_new[i], x_new[i+1]-x_new[i])\n",
    "for i in range(0,len(x_new)-2):\n",
    "    new_data[i]=theta[i+1]-theta[i]# save the difference in the heading\n",
    "    if new_data[i]<0:\n",
    "        new_data[i]=new_data[i]+2*math.pi    \n",
    "data=r# save the step-lengths,have the same name as before in the MCMC sampler for the step-lengths\n",
    "#new_data is the data that we introduce in the heading MCMC sampler\n",
    "print(len(data))    \n",
    "print(len(theta))\n",
    "print(len(new_data))\n",
    "new_data# it has a zero at the end\n",
    "new_data=new_data[:-1]\n",
    "#new_data without zero.\n",
    "data=data[:-1]# change the step-lengths data as well\n",
    "print(len(data))\n",
    "print(len(new_data))# make sure they have the same lenghts"
   ]
  },
  {
   "cell_type": "code",
   "execution_count": 6,
   "metadata": {
    "collapsed": true
   },
   "outputs": [],
   "source": [
    "# Now put them into the MCMC sampler, the second model is to be considered\n",
    "import scipy.stats \n",
    "from scipy.stats import dweibull\n",
    "def log_likelihood(x,a,b):# a is shape, b is scale\n",
    "     return sum(dweibull.logpdf(x,scale=b,c=a))\n",
    "def log_wclikelihood(x,a,b):\n",
    "     return sum(wrapcauchy.logpdf(x,c=a,loc=b))# c is the shape parameter"
   ]
  },
  {
   "cell_type": "code",
   "execution_count": 7,
   "metadata": {},
   "outputs": [
    {
     "name": "stdout",
     "output_type": "stream",
     "text": [
      "Acceptance rate = 0.3684\n"
     ]
    }
   ],
   "source": [
    "#MCMC sampler for the heading\n",
    "# initial guess for theta(a) as array,these are shape(c) \n",
    "guess = 0.9\n",
    "# Prepare storing MCMC chain as array of arrays.\n",
    "A1 = [guess]\n",
    "# define stepsize of MCMC.\n",
    "stepsize = 0.004 # array of stepsizes\n",
    "accepted  = 0.0\n",
    "old_theta=guess# define initial values for theta \n",
    "old_loglik = log_wclikelihood(new_data,old_theta,0)#calculate the first log likelihood\n",
    "# Metropolis-Hastings with 20,000 iterations.\n",
    "for p in range(20000):\n",
    "    new_theta = old_theta + stats.norm(0, stepsize).rvs() \n",
    "    #add the restraints on new_theta\n",
    "    if new_theta<0 or new_theta>1: \n",
    "        continue\n",
    "    new_loglik = log_wclikelihood(new_data,new_theta,0)\n",
    "    # Accept new candidate in Monte-Carlo fashing.\n",
    "    if (new_loglik > old_loglik):\n",
    "        A1.append(new_theta)\n",
    "        accepted = accepted + 1.0  # monitor acceptance\n",
    "        old_loglik=new_loglik\n",
    "        old_theta=new_theta\n",
    "    else:\n",
    "        u = random.uniform(0.0,1.0)\n",
    "        if (u < math.exp(new_loglik - old_loglik)):\n",
    "            A1.append(new_theta)\n",
    "            accepted = accepted + 1.0  # monitor acceptance\n",
    "            old_loglik=new_loglik\n",
    "            old_theta=new_theta\n",
    "        else:\n",
    "            A1.append(old_theta)\n",
    "print(\"Acceptance rate = \"+str(accepted/10000.0))\n",
    "\n",
    "#0.0012"
   ]
  },
  {
   "cell_type": "code",
   "execution_count": 8,
   "metadata": {},
   "outputs": [
    {
     "name": "stdout",
     "output_type": "stream",
     "text": [
      "0.968830036406\n",
      "0.968917979498\n"
     ]
    },
    {
     "data": {
      "image/png": "[encoded data removed]",
      "text/plain": [
       "<matplotlib.figure.Figure at 0x2a877b9ee80>"
      ]
     },
     "metadata": {},
     "output_type": "display_data"
    },
    {
     "name": "stdout",
     "output_type": "stream",
     "text": [
      "19001\n"
     ]
    },
    {
     "data": {
      "image/png": "[encoded data removed]",
      "text/plain": [
       "<matplotlib.figure.Figure at 0x2a87bf42908>"
      ]
     },
     "metadata": {},
     "output_type": "display_data"
    }
   ],
   "source": [
    "print(np.mean(A1))\n",
    "print(np.mean(A1[1000:]))# burn in 1000\n",
    "plt.hist(A1,bins=50)\n",
    "plt.xlabel(\"Shape Parameter\")\n",
    "plt.show()\n",
    "B1=np.array(A1[1000:])\n",
    "print(len(B1))\n",
    "plt.hist(B1,bins=50)\n",
    "plt.xlabel(\"Shape Parameter\")\n",
    "plt.show()\n"
   ]
  },
  {
   "cell_type": "code",
   "execution_count": 9,
   "metadata": {},
   "outputs": [
    {
     "name": "stdout",
     "output_type": "stream",
     "text": [
      "Acceptance rate = 0.3277\n"
     ]
    }
   ],
   "source": [
    "#MCMC sampler for the step-lengths\n",
    "import scipy.stats as stats\n",
    "import numpy as np\n",
    "# initial guess for theta(a and b) as array.\n",
    "guess = [5.0,2.0]\n",
    "# Prepare storing MCMC chain as array of arrays.\n",
    "A2 = [guess]\n",
    "# define stepsize of MCMC.\n",
    "stepsizes = [0.01,0.01]  # array of stepsizes\n",
    "accepted  = 0.0\n",
    "old_theta=guess# define initial values for theta \n",
    "old_loglik = log_likelihood(data,old_theta[0],old_theta[1])#calculate the first log likelihood\n",
    "# Metropolis-Hastings with 20,000 iterations.\n",
    "for p in range(20000):\n",
    "    # Suggest new candidate from Gaussian proposal distribution.\n",
    "    new_theta = old_theta + stats.norm(0, stepsizes).rvs() \n",
    "    #add the restraints on new_theta\n",
    "    if new_theta[0]<0 or new_theta[1]<0: \n",
    "        continue\n",
    "    new_loglik = log_likelihood(data,new_theta[0],new_theta[1])\n",
    "    # Accept new candidate in Monte-Carlo fashing.\n",
    "    if (new_loglik > old_loglik):\n",
    "        A2.append(new_theta)\n",
    "        accepted = accepted + 1.0  # monitor acceptance\n",
    "        old_loglik=new_loglik\n",
    "        old_theta=new_theta\n",
    "    else:\n",
    "        u = random.uniform(0.0,1.0)\n",
    "        if (u < math.exp(new_loglik - old_loglik)):\n",
    "            A2.append(new_theta)\n",
    "            accepted = accepted + 1.0  # monitor acceptance\n",
    "            old_loglik=new_loglik\n",
    "            old_theta=new_theta\n",
    "        else:\n",
    "            A2.append(old_theta)\n",
    "print(\"Acceptance rate = \"+str(accepted/10000.0))\n",
    "#0.0029"
   ]
  },
  {
   "cell_type": "code",
   "execution_count": 10,
   "metadata": {},
   "outputs": [
    {
     "name": "stdout",
     "output_type": "stream",
     "text": [
      "20001\n",
      "4.49813541886\n",
      "0.40790908999\n"
     ]
    },
    {
     "data": {
      "image/png": "[encoded data removed]",
      "text/plain": [
       "<matplotlib.figure.Figure at 0x2a87b9eff60>"
      ]
     },
     "metadata": {},
     "output_type": "display_data"
    },
    {
     "data": {
      "image/png": "[encoded data removed]",
      "text/plain": [
       "<matplotlib.figure.Figure at 0x2a87c3cf668>"
      ]
     },
     "metadata": {},
     "output_type": "display_data"
    }
   ],
   "source": [
    "print(len(A2))\n",
    "B2=np.array(A2[5000:])#burn-in 1000\n",
    "shape_mean=np.mean(B2[:,0])\n",
    "scale_mean=np.mean(B2[:,1])\n",
    "print(shape_mean)\n",
    "print(scale_mean)\n",
    "plt.hist(B2[:,0],bins=50)\n",
    "plt.xlabel(\"Shape Parameter\")\n",
    "plt.show()\n",
    "plt.hist(B2[:,1],bins=50)\n",
    "plt.xlabel(\"Scale Parameter\")\n",
    "plt.show()"
   ]
  },
  {
   "cell_type": "code",
   "execution_count": 13,
   "metadata": {},
   "outputs": [
    {
     "name": "stdout",
     "output_type": "stream",
     "text": [
      "200\n",
      "200\n",
      "200\n"
     ]
    }
   ],
   "source": [
    "# Weibull\n",
    "shape_parameters=B2[:,0]\n",
    "scale_parameters=B2[:,1]\n",
    "# select every 10th observation\n",
    "shape_parameters_need=shape_parameters[::10][:-1301]\n",
    "scale_parameters_need=scale_parameters[::10][:-1301]\n",
    "#Wrapped Cauchy\n",
    "shapewc_parameters=B1\n",
    "shapewc_parameters_need=B1[::10][:-1701]# same length now\n",
    "print(len(shapewc_parameters_need))\n",
    "print(len(scale_parameters_need))\n",
    "print(len(shape_parameters_need))"
   ]
  },
  {
   "cell_type": "code",
   "execution_count": 14,
   "metadata": {
    "collapsed": true
   },
   "outputs": [],
   "source": [
    "# now changing the parameters and n with the ones that I got\n",
    "def rw2_change(n_change,alpha_change,beta_change,c_change):# this gives samples from the inference model\n",
    "    x_change=np.zeros(n_change)\n",
    "    y_change=np.zeros(n_change)\n",
    "    theta=np.zeros(n_change)\n",
    "    distance=[]\n",
    "    theta[0]=wrapcauchy.rvs(c_change,loc=0,size=1)\n",
    "    if theta[0]>2*math.pi:\n",
    "            theta[0] = theta[0] - 2* math.pi\n",
    "    if theta[0]<0:\n",
    "            theta[0] = theta[0] + 2* math.pi\n",
    "    for i in range(1,n_change):\n",
    "        r=random.weibullvariate(alpha_change,beta_change)\n",
    "        theta[i]=wrapcauchy.rvs(c_change,loc=theta[i-1],size=1)# c is the shape parameter\n",
    "        if theta[i]>2*math.pi:\n",
    "            theta[i] =theta[i] - 2* math.pi\n",
    "        if theta[i]<0:\n",
    "            theta[i] = theta[i] + 2* math.pi\n",
    "        x_change[i]=x_change[i-1]+r*math.cos(theta[i])\n",
    "        y_change[i]=y_change[i-1]+r*math.sin(theta[i])\n",
    "        distance.append(r)# save the distances r for the mcmc sampler\n",
    "    return [x_change,y_change,distance,theta]   \n",
    "    \n",
    "n_change=len(new_data) #int(input(\"how many steps?\"))\n",
    "alpha_change=scale_parameters_need#int(input(\"what's the scale?\"))\n",
    "beta_change=shape_parameters_need #int(input(\"what's the shape?\"))\n",
    "c_change=shapewc_parameters_need# float(input(\"What's the shape parameter for the wrapped Cauchy?\"))# this needs to be between 0 and 1\n",
    "#x_change = np.array(rw2_change(n_change)[0])\n",
    "#y_change=np.array(rw2_change(n_change)[1])\n",
    "#data_change=np.array(rw2_change(n_change)[2])\n",
    "#theta_change=np.array(rw2_change(n_change)[3])\n",
    "#the previous code"
   ]
  },
  {
   "cell_type": "code",
   "execution_count": 15,
   "metadata": {},
   "outputs": [
    {
     "name": "stdout",
     "output_type": "stream",
     "text": [
      "[ 0.4091  0.4067  0.4068  0.4035  0.4079  0.4079  0.4071  0.4064  0.4064\n",
      "  0.4083  0.4068  0.4076  0.4117  0.4073  0.4064  0.4064  0.4058  0.405\n",
      "  0.4054  0.4088  0.4089  0.4059  0.4053  0.4072  0.4072  0.4097  0.4073\n",
      "  0.4081  0.4089  0.4058  0.4082  0.4066  0.4066  0.4075  0.4077  0.403\n",
      "  0.4074  0.4072  0.4084  0.4079  0.4097  0.409   0.409   0.409   0.4081\n",
      "  0.4082  0.406   0.406   0.4069  0.4069  0.4076  0.4056  0.4067  0.409\n",
      "  0.408   0.4073  0.4073  0.4103  0.4065  0.4085  0.4085  0.4047  0.4087\n",
      "  0.4087  0.4087  0.409   0.4094  0.4094  0.4105  0.4106  0.4106  0.4105\n",
      "  0.4067  0.408   0.4094  0.4094  0.409   0.409   0.4078  0.4076  0.4089\n",
      "  0.4074  0.4103  0.4069  0.409   0.4084  0.4084  0.4066  0.4096  0.4094\n",
      "  0.4079  0.4088  0.4065  0.4065  0.4094  0.4075  0.4076  0.4063  0.4086\n",
      "  0.4071  0.4071  0.4071  0.4065  0.4092  0.406   0.4062  0.407   0.4099\n",
      "  0.4091  0.4095  0.4087  0.4066  0.4099  0.4094  0.4076  0.4089  0.4083\n",
      "  0.4049  0.4059  0.4069  0.4067  0.4093  0.4076  0.4076  0.4098  0.409\n",
      "  0.4086  0.4076  0.4085  0.4068  0.4082  0.4059  0.4084  0.4072  0.4063\n",
      "  0.4077  0.4101  0.4065  0.4065  0.4044  0.4087  0.4082  0.4082  0.4066\n",
      "  0.4068  0.4073  0.4073  0.4073  0.4079  0.4079  0.4061  0.4094  0.4083\n",
      "  0.4072  0.4079  0.4077  0.4064  0.4064  0.4064  0.4069  0.4062  0.4095\n",
      "  0.4113  0.4113  0.4063  0.4057  0.4072  0.406   0.4067  0.4074  0.4074\n",
      "  0.406   0.4077  0.4082  0.4085  0.4072  0.4107  0.4081  0.4063  0.4091\n",
      "  0.4082  0.41    0.4051  0.4064  0.4059  0.4097  0.4078  0.4078  0.4078\n",
      "  0.4066  0.4066  0.4093  0.4081  0.4077  0.4077  0.405   0.4058  0.4073\n",
      "  0.4088  0.4091]\n",
      "[ 4.4458  4.4408  4.4352  4.4044  4.4269  4.4269  4.4165  4.4105  4.4105\n",
      "  4.4012  4.4015  4.4228  4.4434  4.4412  4.4422  4.4422  4.441   4.4527\n",
      "  4.4716  4.4899  4.5334  4.5117  4.5005  4.5168  4.5168  4.5083  4.4819\n",
      "  4.4691  4.4678  4.4769  4.4816  4.4884  4.4847  4.489   4.4992  4.4896\n",
      "  4.4991  4.4811  4.4577  4.4583  4.4859  4.4756  4.4756  4.4756  4.4767\n",
      "  4.4896  4.5112  4.5112  4.5063  4.5063  4.5194  4.5367  4.555   4.5524\n",
      "  4.54    4.5364  4.5364  4.518   4.5297  4.514   4.514   4.5057  4.495\n",
      "  4.495   4.495   4.5151  4.5339  4.5396  4.5328  4.5609  4.5575  4.5771\n",
      "  4.5699  4.583   4.593   4.593   4.5819  4.5819  4.5666  4.5532  4.5721\n",
      "  4.5686  4.5476  4.5311  4.5111  4.5303  4.5303  4.5137  4.5155  4.4983\n",
      "  4.52    4.5142  4.5083  4.4986  4.5016  4.4952  4.4801  4.4749  4.4717\n",
      "  4.495   4.495   4.495   4.5028  4.5105  4.5375  4.5251  4.529   4.5456\n",
      "  4.521   4.4985  4.4839  4.4842  4.5012  4.4706  4.4942  4.5082  4.518\n",
      "  4.4965  4.4999  4.4987  4.5182  4.5072  4.5303  4.5303  4.5173  4.4834\n",
      "  4.4527  4.4617  4.4728  4.4742  4.4734  4.4798  4.4764  4.4921  4.4689\n",
      "  4.4481  4.4289  4.4293  4.4293  4.431   4.4419  4.4268  4.4268  4.4303\n",
      "  4.4162  4.4195  4.4195  4.4195  4.4223  4.4223  4.4045  4.419   4.4146\n",
      "  4.409   4.4026  4.4124  4.4091  4.4091  4.4091  4.4083  4.4007  4.4269\n",
      "  4.425   4.425   4.4107  4.4116  4.4141  4.4304  4.4237  4.4448  4.4448\n",
      "  4.4349  4.4532  4.4577  4.4599  4.4636  4.4602  4.4452  4.4442  4.4469\n",
      "  4.475   4.4768  4.4656  4.4592  4.4571  4.4658  4.4695  4.4695  4.4695\n",
      "  4.4778  4.4778  4.4787  4.4821  4.4947  4.4947  4.5078  4.4848  4.4998\n",
      "  4.4948  4.5004]\n",
      "[ 0.9689  0.9685  0.969   0.9696  0.9688  0.9688  0.9696  0.97    0.9688\n",
      "  0.9688  0.9688  0.969   0.9692  0.9688  0.9696  0.9698  0.9687  0.9683\n",
      "  0.9686  0.9686  0.9689  0.9693  0.9693  0.9689  0.9689  0.9689  0.9688\n",
      "  0.9688  0.9693  0.9696  0.9682  0.9682  0.9696  0.9687  0.969   0.9691\n",
      "  0.9695  0.9692  0.9679  0.9694  0.9698  0.9688  0.9686  0.9686  0.9683\n",
      "  0.9681  0.9678  0.9694  0.9688  0.9678  0.9686  0.9686  0.9681  0.969\n",
      "  0.9681  0.9688  0.969   0.969   0.9687  0.969   0.9683  0.9687  0.9683\n",
      "  0.9686  0.9686  0.9691  0.9689  0.9687  0.9688  0.9689  0.9697  0.9691\n",
      "  0.9684  0.9693  0.9686  0.9686  0.9695  0.9695  0.9683  0.969   0.9685\n",
      "  0.9692  0.9686  0.9686  0.9688  0.9696  0.9696  0.969   0.9689  0.969\n",
      "  0.9694  0.9694  0.9693  0.9693  0.9681  0.9681  0.9691  0.9685  0.9691\n",
      "  0.969   0.9687  0.9687  0.9685  0.9696  0.969   0.9686  0.9691  0.969\n",
      "  0.9681  0.9691  0.9689  0.968   0.9683  0.9692  0.9692  0.9703  0.9688\n",
      "  0.9689  0.9691  0.9685  0.9685  0.9687  0.9689  0.9687  0.968   0.968\n",
      "  0.969   0.9695  0.9693  0.9687  0.9691  0.9691  0.9689  0.9687  0.9702\n",
      "  0.97    0.9694  0.9699  0.9694  0.9686  0.9686  0.9686  0.9689  0.9687\n",
      "  0.9697  0.969   0.969   0.969   0.9688  0.9688  0.9689  0.9689  0.9684\n",
      "  0.9687  0.9682  0.9689  0.9693  0.97    0.97    0.9688  0.9687  0.9682\n",
      "  0.9695  0.9689  0.9689  0.9695  0.9694  0.9688  0.9684  0.9692  0.9685\n",
      "  0.9681  0.9695  0.9695  0.969   0.9691  0.9684  0.9686  0.968   0.9691\n",
      "  0.9681  0.969   0.9685  0.969   0.9686  0.9688  0.9697  0.9697  0.968\n",
      "  0.9681  0.9698  0.9693  0.9681  0.969   0.9691  0.9693  0.9687  0.9689\n",
      "  0.969   0.969 ]\n",
      "4993\n"
     ]
    }
   ],
   "source": [
    "print(scale_parameters_need)\n",
    "print(shape_parameters_need)\n",
    "print(shapewc_parameters_need)\n",
    "print(n_change)"
   ]
  },
  {
   "cell_type": "code",
   "execution_count": 16,
   "metadata": {},
   "outputs": [
    {
     "name": "stdout",
     "output_type": "stream",
     "text": [
      "200\n",
      "200\n",
      "200\n"
     ]
    }
   ],
   "source": [
    "print(len(shapewc_parameters_need))\n",
    "print(len(scale_parameters_need))\n",
    "print(len(shape_parameters_need))\n",
    "#make them the same size, check again"
   ]
  },
  {
   "cell_type": "code",
   "execution_count": 17,
   "metadata": {
    "collapsed": true
   },
   "outputs": [],
   "source": [
    "length_datas=len(t_new)"
   ]
  },
  {
   "cell_type": "code",
   "execution_count": 18,
   "metadata": {
    "collapsed": true
   },
   "outputs": [],
   "source": [
    "data_change=np.zeros((len(shape_parameters_need),length_datas-1))\n",
    "theta_change=np.zeros((len(shapewc_parameters_need),length_datas))\n",
    "# do arrays, matrices#if you want to make them the same size"
   ]
  },
  {
   "cell_type": "code",
   "execution_count": 19,
   "metadata": {},
   "outputs": [
    {
     "name": "stdout",
     "output_type": "stream",
     "text": [
      "200\n",
      "1000\n",
      "999\n",
      "200\n"
     ]
    }
   ],
   "source": [
    "#if you want to make them the same size\n",
    "print(len(theta_change))\n",
    "print(len(theta_original))\n",
    "print(len(r_original))\n",
    "print(len(data_change))\n",
    "#Let's go to 999 then\n",
    "#theta_change=theta_change[:999]\n",
    "#theta_original=theta_original[:999]\n",
    "#data_change=data_change[:999]\n",
    "#shape_parameters_need=shape_parameters_need[:999]\n",
    "#scale_parameters_need=scale_parameters_need[:999]\n",
    "#shapewc_parameters_need=shapewc_parameters_need[:999]"
   ]
  },
  {
   "cell_type": "code",
   "execution_count": 20,
   "metadata": {
    "collapsed": true
   },
   "outputs": [],
   "source": [
    "#generates data using the parameters obtained from the inference\n",
    "for i in range(len(shape_parameters_need)):\n",
    "                     data_change[i]=np.array(rw2_change(length_datas,alpha_change[i],beta_change[i],c_change[i])[2])#the distances"
   ]
  },
  {
   "cell_type": "code",
   "execution_count": 21,
   "metadata": {
    "collapsed": true
   },
   "outputs": [],
   "source": [
    "#generates data using the parameters obtained from the inference\n",
    "for i in range(len(shape_parameters_need)):\n",
    "                     theta_change[i]=np.array(rw2_change(length_datas,alpha_change[i],beta_change[i],c_change[i])[3])#the angles"
   ]
  },
  {
   "cell_type": "code",
   "execution_count": 22,
   "metadata": {
    "collapsed": true
   },
   "outputs": [],
   "source": [
    "# the mean of the inferred parameters\n",
    "mean_shape_weibullparameter=np.mean(shape_parameters)\n",
    "mean_scale_weibullparameter=np.mean(scale_parameters)\n",
    "mean_shape_wcparameter=np.mean(shapewc_parameters)"
   ]
  },
  {
   "cell_type": "code",
   "execution_count": 23,
   "metadata": {},
   "outputs": [
    {
     "data": {
      "text/plain": [
       "6984.9134"
      ]
     },
     "execution_count": 23,
     "metadata": {},
     "output_type": "execute_result"
    }
   ],
   "source": [
    "#calculate T_y for the downsampled data i.e. new data obtained after interpolation\n",
    "T_y_weibull=log_likelihood(data,mean_shape_weibullparameter,mean_scale_weibullparameter)\n",
    "T_y_wc=log_wclikelihood(new_data,mean_shape_wcparameter,0)\n",
    "# T_y in total\n",
    "T_y=T_y_weibull+T_y_wc\n",
    "T_y"
   ]
  },
  {
   "cell_type": "code",
   "execution_count": 35,
   "metadata": {},
   "outputs": [
    {
     "name": "stdout",
     "output_type": "stream",
     "text": [
      "200\n",
      "200\n",
      "4995\n",
      "4993\n",
      "4993\n"
     ]
    }
   ],
   "source": [
    "print(len(data_change))# the number of rows # the number of replicate samples\n",
    "print(len(theta_change))# the number of rows\n",
    "print(len(theta_change[1]))# the number of columns # also how many data points in one replicate sample\n",
    "print(len(data_change[1]))# the number of columns\n",
    "print(len(data))\n",
    "print(len(new_data))"
   ]
  },
  {
   "cell_type": "code",
   "execution_count": 25,
   "metadata": {
    "collapsed": true
   },
   "outputs": [],
   "source": [
    "#data_change-step-lengths after the change of the parameters after inference\n",
    "#theta_change-headings after the change of the parameters after inference"
   ]
  },
  {
   "cell_type": "code",
   "execution_count": 26,
   "metadata": {
    "collapsed": true
   },
   "outputs": [],
   "source": [
    "T_y_rep_weibull=np.zeros(len(shape_parameters_need))\n",
    "for i in range(len(shape_parameters_need)):\n",
    "    T_y_rep_weibull[i]=log_likelihood(data_change[i],shape_parameters_need[i],scale_parameters_need[i])\n",
    "    "
   ]
  },
  {
   "cell_type": "code",
   "execution_count": 27,
   "metadata": {},
   "outputs": [
    {
     "name": "stdout",
     "output_type": "stream",
     "text": [
      "200\n"
     ]
    },
    {
     "data": {
      "text/plain": [
       "array([ 1265.8089,  1198.4533,  1276.6865,  1267.0121,  1277.0636,\n",
       "        1237.2056,  1274.983 ,  1202.8637,  1210.1729,  1223.116 ,\n",
       "        1179.8815,  1260.0805,  1173.5469,  1260.7307,  1260.1497,\n",
       "        1235.8798,  1240.0423,  1298.0729,  1304.1946,  1186.2063,\n",
       "        1386.1353,  1347.4436,  1328.6478,  1354.3936,  1367.1943,\n",
       "        1274.446 ,  1298.6861,  1224.4311,  1243.3134,  1272.559 ,\n",
       "        1296.0861,  1324.8454,  1354.5581,  1335.1434,  1291.9003,\n",
       "        1324.5234,  1356.5224,  1289.1279,  1313.752 ,  1272.6953,\n",
       "        1219.8445,  1203.8709,  1188.5156,  1268.1252,  1263.9974,\n",
       "        1348.9489,  1333.0704,  1239.0823,  1379.9048,  1177.9463,\n",
       "        1296.1878,  1399.1992,  1400.8726,  1374.1259,  1306.6565,\n",
       "        1329.9228,  1273.2901,  1263.7043,  1340.8071,  1275.7869,\n",
       "        1307.3507,  1281.4857,  1243.1361,  1239.7866,  1302.991 ,\n",
       "        1314.1649,  1269.8675,  1405.3391,  1279.224 ,  1255.2862,\n",
       "        1318.7352,  1308.1407,  1338.186 ,  1409.517 ,  1409.6611,\n",
       "        1462.7773,  1356.9309,  1366.5138,  1269.5832,  1320.9346,\n",
       "        1357.4713,  1306.4638,  1370.8642,  1332.8271,  1270.8021,\n",
       "        1378.5797,  1365.0204,  1352.3647,  1251.0726,  1262.4814,\n",
       "        1274.2052,  1289.95  ,  1291.1519,  1264.3321,  1237.9257,\n",
       "        1374.7776,  1290.5094,  1323.9719,  1220.295 ,  1257.7404,\n",
       "        1193.6772,  1395.7758,  1214.0402,  1224.1653,  1401.0225,\n",
       "        1310.8896,  1403.9887,  1379.1482,  1234.9849,  1334.612 ,\n",
       "        1357.3685,  1282.0809,  1250.7376,  1202.907 ,  1221.1773,\n",
       "        1334.4825,  1395.3274,  1349.5367,  1231.3229,  1277.5591,\n",
       "        1404.3504,  1264.7502,  1238.5521,  1408.416 ,  1279.7565,\n",
       "        1236.6804,  1246.5963,  1269.1923,  1234.4295,  1263.4538,\n",
       "        1285.9437,  1237.5659,  1277.0045,  1254.5624,  1270.3183,\n",
       "        1182.4224,  1184.1165,  1274.2874,  1329.5727,  1192.8849,\n",
       "        1143.9056,  1251.6729,  1232.1545,  1296.005 ,  1242.1303,\n",
       "        1112.76  ,  1201.6356,  1263.8396,  1256.2578,  1147.5186,\n",
       "        1178.1793,  1223.97  ,  1193.8711,  1141.2239,  1285.3034,\n",
       "        1204.8944,  1159.8293,  1212.0609,  1267.948 ,  1223.6844,\n",
       "        1174.6898,  1221.752 ,  1091.3674,  1173.4056,  1275.7363,\n",
       "        1293.1082,  1228.2399,  1235.3908,  1287.4476,  1163.2188,\n",
       "        1259.8591,  1277.1486,  1153.8446,  1263.1276,  1279.1181,\n",
       "        1302.6745,  1172.3092,  1305.4279,  1336.429 ,  1119.308 ,\n",
       "        1237.6916,  1274.8922,  1262.4686,  1385.2507,  1243.482 ,\n",
       "        1237.8433,  1270.4872,  1300.5544,  1182.7768,  1260.085 ,\n",
       "        1264.091 ,  1218.109 ,  1286.7832,  1280.4516,  1196.7506,\n",
       "        1338.6603,  1398.7134,  1316.7222,  1276.6815,  1259.9621])"
      ]
     },
     "execution_count": 27,
     "metadata": {},
     "output_type": "execute_result"
    }
   ],
   "source": [
    "print(len(T_y_rep_weibull))\n",
    "T_y_rep_weibull"
   ]
  },
  {
   "cell_type": "code",
   "execution_count": 28,
   "metadata": {},
   "outputs": [
    {
     "data": {
      "text/plain": [
       "0"
      ]
     },
     "execution_count": 28,
     "metadata": {},
     "output_type": "execute_result"
    }
   ],
   "source": [
    "count_zeros=0\n",
    "for i in range(len(shape_parameters_need)-1):\n",
    "    if T_y_rep_weibull[i]==0:\n",
    "        count_zeros+=1\n",
    "count_zeros"
   ]
  },
  {
   "cell_type": "code",
   "execution_count": 29,
   "metadata": {
    "collapsed": true
   },
   "outputs": [],
   "source": [
    "T_y_rep_wc=np.zeros(len(shapewc_parameters_need))\n",
    "for i in range(len(shapewc_parameters_need)):\n",
    "    T_y_rep_wc[i]=log_wclikelihood(theta_change[i],shapewc_parameters_need[i],0)"
   ]
  },
  {
   "cell_type": "code",
   "execution_count": 30,
   "metadata": {},
   "outputs": [
    {
     "data": {
      "text/plain": [
       "0"
      ]
     },
     "execution_count": 30,
     "metadata": {},
     "output_type": "execute_result"
    }
   ],
   "source": [
    "count_zeros=0\n",
    "for i in range(len(shapewc_parameters_need)):\n",
    "    if T_y_rep_wc[i]==0:\n",
    "        count_zeros+=1\n",
    "count_zeros"
   ]
  },
  {
   "cell_type": "code",
   "execution_count": 31,
   "metadata": {},
   "outputs": [
    {
     "name": "stdout",
     "output_type": "stream",
     "text": [
      "200\n"
     ]
    },
    {
     "data": {
      "text/plain": [
       "array([-22904.3368, -23595.5828, -23953.686 , -23198.053 , -23481.5424,\n",
       "       -21849.2841, -22442.619 , -23380.178 , -23154.9732, -23213.1418,\n",
       "       -21466.9093, -22418.8712, -23406.1181, -23622.2287, -22222.6983,\n",
       "       -23257.0348, -23930.507 , -23065.6627, -23955.0973, -23577.7452,\n",
       "       -22533.7577, -22441.0902, -23377.0721, -23649.7393, -22967.6185,\n",
       "       -21666.9472, -23541.0428, -23408.0115, -22353.9214, -24358.3408,\n",
       "       -22950.6709, -23426.41  , -22642.9494, -22991.3025, -22015.1116,\n",
       "       -24089.5392, -22528.1397, -22255.731 , -23742.7987, -24476.8204,\n",
       "       -22743.6716, -23283.8609, -23818.393 , -22210.1354, -22521.7366,\n",
       "       -23328.0507, -22598.9089, -22331.11  , -22829.5447, -21451.7065,\n",
       "       -22114.8842, -22681.689 , -23872.0016, -23828.7431, -21716.8172,\n",
       "       -23662.3634, -22395.9343, -22545.9249, -23668.0317, -23016.2778,\n",
       "       -22304.9337, -24165.8913, -23333.9566, -22975.7983, -22883.3553,\n",
       "       -24382.6451, -22505.802 , -23969.6631, -20898.1609, -23930.8446,\n",
       "       -24585.6908, -23035.2447, -20787.7908, -25494.9505, -22871.9505,\n",
       "       -23739.1008, -23144.3471, -24243.2672, -21336.2877, -24334.2067,\n",
       "       -22753.4447, -23983.3912, -22440.4822, -23153.4735, -22978.2974,\n",
       "       -24216.94  , -20496.6749, -22858.0392, -23738.9051, -23697.9177,\n",
       "       -24070.8691, -23711.8941, -24078.2027, -22743.9761, -24364.1591,\n",
       "       -22693.5365, -23372.523 , -22307.7325, -23300.9285, -23404.119 ,\n",
       "       -22882.4074, -23726.9464, -22872.8643, -23860.4583, -22257.7679,\n",
       "       -22196.3525, -22170.0684, -22408.3596, -20763.4592, -22641.8078,\n",
       "       -23349.2501, -24342.7041, -22242.4725, -22142.9666, -23646.0961,\n",
       "       -21954.8866, -24070.4964, -22516.9452, -23131.5309, -23770.4296,\n",
       "       -23318.7312, -22956.772 , -23609.1761, -23100.3453, -23603.2813,\n",
       "       -23920.5787, -23530.8614, -23061.5192, -21476.2246, -22514.1412,\n",
       "       -24630.2617, -22458.0761, -22134.9155, -23352.3123, -23094.7704,\n",
       "       -23390.958 , -21038.4709, -23812.5048, -21508.2953, -21993.9767,\n",
       "       -22774.0794, -23364.5349, -23493.1823, -23379.1332, -22771.1671,\n",
       "       -23660.0848, -21012.6278, -22401.4116, -22386.915 , -22969.9866,\n",
       "       -22332.3861, -22861.9213, -22812.4833, -23788.7007, -23547.9288,\n",
       "       -24419.0026, -23553.5684, -25715.0772, -24150.9749, -23012.2503,\n",
       "       -22935.5088, -22951.9896, -22667.9315, -21703.6383, -24849.8046,\n",
       "       -22875.3471, -23983.7702, -21921.0865, -23191.5399, -21570.3561,\n",
       "       -22034.654 , -23165.6338, -23111.963 , -22279.7247, -24032.4559,\n",
       "       -23219.3202, -23006.8698, -23635.3958, -22621.0872, -23254.9173,\n",
       "       -23184.2004, -24294.5166, -23256.1214, -21512.3131, -23048.9196,\n",
       "       -23574.5073, -22589.7961, -23377.8248, -22771.4739, -21972.4077,\n",
       "       -21177.9483, -23404.1042, -21872.8563, -23649.2924, -23427.4879,\n",
       "       -23045.0156, -23703.5803, -23857.3703, -23996.9411, -21427.8526])"
      ]
     },
     "execution_count": 31,
     "metadata": {},
     "output_type": "execute_result"
    }
   ],
   "source": [
    "print(len(T_y_rep_wc))\n",
    "T_y_rep_wc"
   ]
  },
  {
   "cell_type": "code",
   "execution_count": 32,
   "metadata": {},
   "outputs": [
    {
     "data": {
      "text/plain": [
       "array([-21638.5279, -22397.1295, -22676.9995, -21931.041 , -22204.4788,\n",
       "       -20612.0785, -21167.6361, -22177.3143, -21944.8003, -21990.0257,\n",
       "       -20287.0278, -21158.7907, -22232.5711, -22361.4979, -20962.5486,\n",
       "       -22021.155 , -22690.4648, -21767.5898, -22650.9026, -22391.5389,\n",
       "       -21147.6224, -21093.6466, -22048.4244, -22295.3457, -21600.4242,\n",
       "       -20392.5012, -22242.3567, -22183.5804, -21110.6081, -23085.7818,\n",
       "       -21654.5847, -22101.5646, -21288.3913, -21656.1591, -20723.2113,\n",
       "       -22765.0158, -21171.6173, -20966.6032, -22429.0466, -23204.1251,\n",
       "       -21523.8271, -22079.9899, -22629.8774, -20942.0102, -21257.7392,\n",
       "       -21979.1018, -21265.8385, -21092.0277, -21449.6399, -20273.7603,\n",
       "       -20818.6964, -21282.4898, -22471.1289, -22454.6173, -20410.1607,\n",
       "       -22332.4406, -21122.6442, -21282.2206, -22327.2246, -21740.4909,\n",
       "       -20997.5829, -22884.4056, -22090.8204, -21736.0117, -21580.3643,\n",
       "       -23068.4801, -21235.9345, -22564.3241, -19618.9368, -22675.5584,\n",
       "       -23266.9556, -21727.104 , -19449.6048, -24085.4335, -21462.2894,\n",
       "       -22276.3235, -21787.4162, -22876.7534, -20066.7045, -23013.2721,\n",
       "       -21395.9733, -22676.9274, -21069.618 , -21820.6464, -21707.4953,\n",
       "       -22838.3603, -19131.6546, -21505.6745, -22487.8325, -22435.4363,\n",
       "       -22796.6639, -22421.9441, -22787.0508, -21479.644 , -23126.2334,\n",
       "       -21318.759 , -22082.0136, -20983.7606, -22080.6335, -22146.3787,\n",
       "       -21688.7302, -22331.1705, -21658.8241, -22636.293 , -20856.7453,\n",
       "       -20885.4628, -20766.0796, -21029.2114, -19528.4743, -21307.1957,\n",
       "       -21991.8815, -23060.6232, -20991.735 , -20940.0597, -22424.9188,\n",
       "       -20620.4041, -22675.169 , -21167.4084, -21900.208 , -22492.8705,\n",
       "       -21914.3808, -21692.0218, -22370.624 , -21691.9294, -22323.5248,\n",
       "       -22683.8983, -22284.2651, -21792.327 , -20241.7952, -21250.6874,\n",
       "       -23344.318 , -21220.5102, -20857.911 , -22097.7499, -21824.4521,\n",
       "       -22208.5357, -19854.3544, -22538.2174, -20178.7226, -20801.0918,\n",
       "       -21630.1737, -22112.862 , -22261.0277, -22083.1282, -21529.0368,\n",
       "       -22547.3248, -19810.9923, -21137.572 , -21130.6572, -21822.468 ,\n",
       "       -21154.2068, -21637.9514, -21618.6122, -22647.4768, -22262.6255,\n",
       "       -23214.1082, -22393.7392, -24503.0162, -22883.0269, -21788.5659,\n",
       "       -21760.819 , -21730.2376, -21576.5642, -20530.2327, -23574.0683,\n",
       "       -21582.2388, -22755.5303, -20685.6957, -21904.0923, -20407.1373,\n",
       "       -20774.7949, -21888.4851, -21958.1185, -21016.5971, -22753.3378,\n",
       "       -21916.6458, -21834.5606, -22329.9679, -21284.6582, -22135.6093,\n",
       "       -21946.5088, -23019.6244, -21993.6528, -20127.0624, -21805.4375,\n",
       "       -22336.664 , -21319.3089, -22077.2704, -21588.6971, -20712.3227,\n",
       "       -19913.8573, -22185.9953, -20586.0731, -22368.8408, -22230.7372,\n",
       "       -21706.3554, -22304.8669, -22540.6481, -22720.2597, -20167.8906])"
      ]
     },
     "execution_count": 32,
     "metadata": {},
     "output_type": "execute_result"
    }
   ],
   "source": [
    "T_y_rep=T_y_rep_weibull+T_y_rep_wc   \n",
    "T_y_rep"
   ]
  },
  {
   "cell_type": "code",
   "execution_count": 33,
   "metadata": {},
   "outputs": [
    {
     "name": "stdout",
     "output_type": "stream",
     "text": [
      "0\n",
      "200\n",
      "0.0\n"
     ]
    }
   ],
   "source": [
    "count=0\n",
    "for i in range(len(shape_parameters_need)):\n",
    "    if T_y_rep[i]>T_y:\n",
    "        count+=1\n",
    "print(count)\n",
    "print(len(shape_parameters_need))\n",
    "ppp_value=count/len(shape_parameters_need)\n",
    "print(ppp_value)\n"
   ]
  },
  {
   "cell_type": "code",
   "execution_count": 34,
   "metadata": {},
   "outputs": [
    {
     "data": {
      "image/png": "[encoded data removed]",
      "text/plain": [
       "<matplotlib.figure.Figure at 0x2a87c490be0>"
      ]
     },
     "metadata": {},
     "output_type": "display_data"
    }
   ],
   "source": [
    "plt.hist(T_y_rep,bins=100)\n",
    "plt.axvline(T_y,linestyle='dashed', linewidth=1.5,color='red')\n",
    "plt.show()"
   ]
  },
  {
   "cell_type": "code",
   "execution_count": null,
   "metadata": {
    "collapsed": true
   },
   "outputs": [],
   "source": []
  },
  {
   "cell_type": "code",
   "execution_count": null,
   "metadata": {
    "collapsed": true
   },
   "outputs": [],
   "source": []
  }
 ],
 "metadata": {
  "kernelspec": {
   "display_name": "Python 3",
   "language": "python",
   "name": "python3"
  },
  "language_info": {
   "codemirror_mode": {
    "name": "ipython",
    "version": 3
   },
   "file_extension": ".py",
   "mimetype": "text/x-python",
   "name": "python",
   "nbconvert_exporter": "python",
   "pygments_lexer": "ipython3",
   "version": "3.6.3"
  }
 },
 "nbformat": 4,
 "nbformat_minor": 2
}
