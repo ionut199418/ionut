{
 "cells": [
  {
   "cell_type": "code",
   "execution_count": 1,
   "metadata": {},
   "outputs": [
    {
     "name": "stderr",
     "output_type": "stream",
     "text": [
      "C:\\Anaconda\\lib\\site-packages\\statsmodels\\compat\\pandas.py:56: FutureWarning: The pandas.core.datetools module is deprecated and will be removed in a future version. Please use the pandas.tseries module instead.\n",
      "  from pandas.core import datetools\n"
     ]
    }
   ],
   "source": [
    "import pandas as pd\n",
    "import statsmodels.api as sm\n",
    "from scipy import interpolate\n",
    "from pandas import Series, DataFrame, Panel\n",
    "from string import ascii_lowercase as letters\n",
    "from scipy.stats import chisqprob\n",
    "from __future__ import division\n",
    "import os\n",
    "import sys\n",
    "import glob\n",
    "import matplotlib.pyplot as plt\n",
    "import numpy as np\n",
    "import pandas as pd\n",
    "import random\n",
    "import math\n",
    "from scipy.stats import wrapcauchy\n",
    "import matplotlib.pyplot as plt\n",
    "%matplotlib inline\n",
    "%precision 4\n",
    "plt.style.use('classic')\n",
    "from mpl_toolkits.mplot3d import Axes3D\n",
    "import scipy.stats as stats\n",
    "from functools import partial\n",
    "np.random.seed(1234)"
   ]
  },
  {
   "cell_type": "code",
   "execution_count": 2,
   "metadata": {
    "collapsed": true
   },
   "outputs": [],
   "source": [
    "def rw2(n):# this gives samples from weibull(5,2)\n",
    "    x=np.zeros(n)\n",
    "    y=np.zeros(n)\n",
    "    theta=[0]*n\n",
    "    distance=[]\n",
    "    theta[0]=wrapcauchy.rvs(c,loc=0,size=1)\n",
    "    if theta[0]>2*math.pi:\n",
    "            theta[0] = theta[0] - 2* math.pi\n",
    "    if theta[0]<0:\n",
    "            theta[0] = theta[0] + 2* math.pi\n",
    "    for i in range(1,n):\n",
    "        r=random.weibullvariate(alpha,beta)\n",
    "        theta[i]=wrapcauchy.rvs(c,loc=theta[i-1],size=1)# c is the shape parameter\n",
    "        if theta[i]>2*math.pi:\n",
    "            theta[i] =theta[i] - 2* math.pi\n",
    "        if theta[i]<0:\n",
    "            theta[i] = theta[i] + 2* math.pi\n",
    "        x[i]=x[i-1]+r*math.cos(theta[i])\n",
    "        y[i]=y[i-1]+r*math.sin(theta[i])\n",
    "        distance.append(r)\n",
    "    return(x,y,distance,theta)   \n",
    "    \n",
    "n=10000 #sample size\n",
    "alpha=2 #scale\n",
    "beta=5 #shape\n",
    "c=0.9# shape parameter for Wrapped Cauchy distribution, it needs to be between 0 and 1\n",
    "data = rw2(n)\n",
    "x=data[0]\n",
    "y=data[1]\n",
    "r_original=data[2]# this is a vector of step-lengths\n",
    "theta_original=data[3]# this is a vector of headings\n",
    "t=range(0,n)"
   ]
  },
  {
   "cell_type": "code",
   "execution_count": 3,
   "metadata": {
    "collapsed": true
   },
   "outputs": [],
   "source": [
    "# my code pretty much starts here\n",
    "time_step=0.2\n",
    "t_new=np.arange(0,n-1,time_step)\n",
    "f=interpolate.interp1d(t,x,kind='cubic')#,fill_value=\"extrapolate\")\n",
    "g=interpolate.interp1d(t,y,kind='cubic')#,fill_value=\"extrapolate\") don't do this"
   ]
  },
  {
   "cell_type": "code",
   "execution_count": 4,
   "metadata": {
    "collapsed": true
   },
   "outputs": [],
   "source": [
    "x_new=f(t_new)\n",
    "y_new=g(t_new)"
   ]
  },
  {
   "cell_type": "code",
   "execution_count": 5,
   "metadata": {},
   "outputs": [
    {
     "name": "stdout",
     "output_type": "stream",
     "text": [
      "49994\n",
      "49994\n",
      "49994\n",
      "49993\n",
      "49993\n"
     ]
    }
   ],
   "source": [
    "#get the distances now and the angles\n",
    "r=np.zeros(len(x_new)-1)# r the step-lengths\n",
    "theta=np.zeros(len(x_new)-1)# theta the angle\n",
    "new_data=np.zeros(len(x_new)-1)\n",
    "for i in range(0,len(x_new)-1):\n",
    "    r[i]=np.sqrt((x_new[i+1]-x_new[i])**2 + (y_new[i+1]-y_new[i])**2)\n",
    "    theta[i]=math.atan2(y_new[i+1]-y_new[i], x_new[i+1]-x_new[i])\n",
    "for i in range(0,len(x_new)-2):\n",
    "    new_data[i]=theta[i+1]-theta[i]# save the difference in the heading\n",
    "    if new_data[i]<0:\n",
    "        new_data[i]=new_data[i]+2*math.pi    \n",
    "data=r# save the step-lengths,have the same name as before in the MCMC sampler for the step-lengths\n",
    "#new_data is the data that we introduce in the heading MCMC sampler\n",
    "print(len(data))    \n",
    "print(len(theta))\n",
    "print(len(new_data))\n",
    "new_data# it has a zero at the end\n",
    "new_data=new_data[:-1]\n",
    "#new_data without zero.\n",
    "data=data[:-1]# change the step-lengths data as well\n",
    "print(len(data))\n",
    "print(len(new_data))# make sure they have the same lenghts"
   ]
  },
  {
   "cell_type": "code",
   "execution_count": 6,
   "metadata": {
    "collapsed": true
   },
   "outputs": [],
   "source": [
    "# Now put them into the MCMC sampler, the second model is to be considered\n",
    "import scipy.stats \n",
    "from scipy.stats import dweibull\n",
    "def log_likelihood(x,a,b):# a is shape, b is scale\n",
    "     return sum(dweibull.logpdf(x,scale=b,c=a))\n",
    "def log_wclikelihood(x,a,b):\n",
    "     return sum(wrapcauchy.logpdf(x,c=a,loc=b))# c is the shape parameter"
   ]
  },
  {
   "cell_type": "code",
   "execution_count": 9,
   "metadata": {},
   "outputs": [
    {
     "name": "stdout",
     "output_type": "stream",
     "text": [
      "Acceptance rate = 0.395\n"
     ]
    }
   ],
   "source": [
    "#MCMC sampler for the heading\n",
    "# initial guess for theta(a) as array,these are shape(c) \n",
    "guess = 0.9\n",
    "# Prepare storing MCMC chain as array of arrays.\n",
    "A1 = [guess]\n",
    "# define stepsize of MCMC.\n",
    "stepsize = 0.0012 # array of stepsizes\n",
    "accepted  = 0.0\n",
    "old_theta=guess# define initial values for theta \n",
    "old_loglik = log_wclikelihood(new_data,old_theta,0)#calculate the first log likelihood\n",
    "# Metropolis-Hastings with 20,000 iterations.\n",
    "for p in range(20000):\n",
    "    new_theta = old_theta + stats.norm(0, stepsize).rvs() \n",
    "    #add the restraints on new_theta\n",
    "    if new_theta<0 or new_theta>1: \n",
    "        continue\n",
    "    new_loglik = log_wclikelihood(new_data,new_theta,0)\n",
    "    # Accept new candidate in Monte-Carlo fashing.\n",
    "    if (new_loglik > old_loglik):\n",
    "        A1.append(new_theta)\n",
    "        accepted = accepted + 1.0  # monitor acceptance\n",
    "        old_loglik=new_loglik\n",
    "        old_theta=new_theta\n",
    "    else:\n",
    "        u = random.uniform(0.0,1.0)\n",
    "        if (u < math.exp(new_loglik - old_loglik)):\n",
    "            A1.append(new_theta)\n",
    "            accepted = accepted + 1.0  # monitor acceptance\n",
    "            old_loglik=new_loglik\n",
    "            old_theta=new_theta\n",
    "        else:\n",
    "            A1.append(old_theta)\n",
    "print(\"Acceptance rate = \"+str(accepted/10000.0))\n",
    "\n"
   ]
  },
  {
   "cell_type": "code",
   "execution_count": 10,
   "metadata": {},
   "outputs": [
    {
     "name": "stdout",
     "output_type": "stream",
     "text": [
      "0.968204058896\n",
      "0.968492429674\n"
     ]
    },
    {
     "data": {
      "image/png": "[encoded data removed]",
      "text/plain": [
       "<matplotlib.figure.Figure at 0x21caca5a438>"
      ]
     },
     "metadata": {},
     "output_type": "display_data"
    },
    {
     "name": "stdout",
     "output_type": "stream",
     "text": [
      "19001\n"
     ]
    },
    {
     "data": {
      "image/png": "[encoded data removed]",
      "text/plain": [
       "<matplotlib.figure.Figure at 0x21cacb6b7b8>"
      ]
     },
     "metadata": {},
     "output_type": "display_data"
    }
   ],
   "source": [
    "print(np.mean(A1))\n",
    "print(np.mean(A1[1000:]))# burn in 1000\n",
    "plt.hist(A1,bins=50)\n",
    "plt.xlabel(\"Shape Parameter\")\n",
    "plt.show()\n",
    "B1=np.array(A1[1000:])\n",
    "plt.hist(B1,bins=50)\n",
    "print(len(B1))\n",
    "plt.xlabel(\"Shape Parameter\")\n",
    "plt.show()\n"
   ]
  },
  {
   "cell_type": "code",
   "execution_count": 11,
   "metadata": {},
   "outputs": [
    {
     "name": "stdout",
     "output_type": "stream",
     "text": [
      "Acceptance rate = 0.3992\n"
     ]
    }
   ],
   "source": [
    "#MCMC sampler for the step-lengths\n",
    "import scipy.stats as stats\n",
    "import numpy as np\n",
    "# initial guess for theta(a and b) as array.\n",
    "guess = [5.0,2.0]\n",
    "# Prepare storing MCMC chain as array of arrays.\n",
    "A2 = [guess]\n",
    "# define stepsize of MCMC.\n",
    "stepsizes = [0.0029,0.0029]  # array of stepsizes\n",
    "accepted  = 0.0\n",
    "old_theta=guess# define initial values for theta \n",
    "old_loglik = log_likelihood(data,old_theta[0],old_theta[1])#calculate the first log likelihood\n",
    "# Metropolis-Hastings with 20,000 iterations.\n",
    "for p in range(20000):\n",
    "    # Suggest new candidate from Gaussian proposal distribution.\n",
    "    new_theta = old_theta + stats.norm(0, stepsizes).rvs() \n",
    "    #add the restraints on new_theta\n",
    "    if new_theta[0]<0 or new_theta[1]<0: \n",
    "        continue\n",
    "    new_loglik = log_likelihood(data,new_theta[0],new_theta[1])\n",
    "    # Accept new candidate in Monte-Carlo fashing.\n",
    "    if (new_loglik > old_loglik):\n",
    "        A2.append(new_theta)\n",
    "        accepted = accepted + 1.0  # monitor acceptance\n",
    "        old_loglik=new_loglik\n",
    "        old_theta=new_theta\n",
    "    else:\n",
    "        u = random.uniform(0.0,1.0)\n",
    "        if (u < math.exp(new_loglik - old_loglik)):\n",
    "            A2.append(new_theta)\n",
    "            accepted = accepted + 1.0  # monitor acceptance\n",
    "            old_loglik=new_loglik\n",
    "            old_theta=new_theta\n",
    "        else:\n",
    "            A2.append(old_theta)\n",
    "print(\"Acceptance rate = \"+str(accepted/10000.0))"
   ]
  },
  {
   "cell_type": "code",
   "execution_count": 12,
   "metadata": {},
   "outputs": [
    {
     "name": "stdout",
     "output_type": "stream",
     "text": [
      "20001\n",
      "4.44395686857\n",
      "0.404277636938\n"
     ]
    },
    {
     "data": {
      "image/png": "[encoded data removed]",
      "text/plain": [
       "<matplotlib.figure.Figure at 0x21cac788ba8>"
      ]
     },
     "metadata": {},
     "output_type": "display_data"
    },
    {
     "data": {
      "image/png": "[encoded data removed]",
      "text/plain": [
       "<matplotlib.figure.Figure at 0x21cadeded68>"
      ]
     },
     "metadata": {},
     "output_type": "display_data"
    }
   ],
   "source": [
    "print(len(A2))\n",
    "B2=np.array(A2[5000:])#burn-in 1000\n",
    "shape_mean=np.mean(B2[:,0])\n",
    "scale_mean=np.mean(B2[:,1])\n",
    "print(shape_mean)\n",
    "print(scale_mean)\n",
    "plt.hist(B2[:,0],bins=50)\n",
    "plt.xlabel(\"Shape Parameter\")\n",
    "plt.show()\n",
    "plt.hist(B2[:,1],bins=50)\n",
    "plt.xlabel(\"Scale Parameter\")\n",
    "plt.show()"
   ]
  },
  {
   "cell_type": "code",
   "execution_count": 13,
   "metadata": {
    "collapsed": true
   },
   "outputs": [],
   "source": [
    "# now changing the parameters and n with the ones that I got\n",
    "def rw2_change(n_change):# this gives samples from weibull(5,2)\n",
    "    x_change=np.zeros(n_change)\n",
    "    y_change=np.zeros(n_change)\n",
    "    theta=[0]*n_change\n",
    "    distance=[]\n",
    "    theta[0]=wrapcauchy.rvs(c_change,loc=0,size=1)\n",
    "    if theta[0]>2*math.pi:\n",
    "            theta[0] = theta[0] - 2* math.pi\n",
    "    if theta[0]<0:\n",
    "            theta[0] = theta[0] + 2* math.pi\n",
    "    for i in range(1,n_change):\n",
    "        r=random.weibullvariate(alpha_change,beta_change)\n",
    "        theta[i]=wrapcauchy.rvs(c_change,loc=theta[i-1],size=1)# c is the shape parameter\n",
    "        if theta[i]>2*math.pi:\n",
    "            theta[i] =theta[i] - 2* math.pi\n",
    "        if theta[i]<0:\n",
    "            theta[i] = theta[i] + 2* math.pi\n",
    "        x_change[i]=x_change[i-1]+r*math.cos(theta[i])\n",
    "        y_change[i]=y_change[i-1]+r*math.sin(theta[i])\n",
    "        distance.append(r)# save the distances r for the mcmc sampler\n",
    "    return [x_change,y_change,distance,theta]   \n",
    "    \n",
    "n_change=len(new_data) #int(input(\"how many steps?\"))\n",
    "alpha_change=scale_mean #int(input(\"what's the scale?\"))\n",
    "beta_change=shape_mean #int(input(\"what's the shape?\"))\n",
    "c_change=np.mean(A1)# float(input(\"What's the shape parameter for the wrapped Cauchy?\"))# this needs to be between 0 and 1\n",
    "x_change = np.array(rw2_change(n_change)[0])\n",
    "y_change=np.array(rw2_change(n_change)[1])\n",
    "data_change=np.array(rw2_change(n_change)[2])\n",
    "theta_change=np.array(rw2_change(n_change)[3])"
   ]
  },
  {
   "cell_type": "code",
   "execution_count": 14,
   "metadata": {},
   "outputs": [
    {
     "data": {
      "text/plain": [
       "array([-46258.2941])"
      ]
     },
     "execution_count": 14,
     "metadata": {},
     "output_type": "execute_result"
    }
   ],
   "source": [
    "T_y_weibull=log_likelihood(r_original,5,2)\n",
    "T_y_wc=log_wclikelihood(theta_original,c,0)\n",
    "# T_y in total\n",
    "T_y=T_y_weibull+T_y_wc\n",
    "T_y"
   ]
  },
  {
   "cell_type": "code",
   "execution_count": 15,
   "metadata": {},
   "outputs": [
    {
     "name": "stdout",
     "output_type": "stream",
     "text": [
      "1501\n",
      "1501\n",
      "1501\n"
     ]
    }
   ],
   "source": [
    "# Weibull\n",
    "shape_parameters=B2[:,0]\n",
    "scale_parameters=B2[:,1]\n",
    "# select every 10th observation\n",
    "shape_parameters_need=shape_parameters[::10]\n",
    "scale_parameters_need=scale_parameters[::10]\n",
    "#Wrapped Cauchy\n",
    "shapewc_parameters=B1\n",
    "shapewc_parameters_need=B1[::10][:-400]# same length now\n",
    "print(len(shapewc_parameters_need))\n",
    "print(len(scale_parameters_need))\n",
    "print(len(shape_parameters_need))"
   ]
  },
  {
   "cell_type": "code",
   "execution_count": 16,
   "metadata": {
    "collapsed": true
   },
   "outputs": [],
   "source": [
    "#data_change-step-lengths after the change of the parameters after inference\n",
    "#theta_change-headings after the change of the parameters after inference"
   ]
  },
  {
   "cell_type": "code",
   "execution_count": 17,
   "metadata": {
    "collapsed": true
   },
   "outputs": [],
   "source": [
    "T_y_rep_weibull=np.zeros(len(shape_parameters_need))\n",
    "for i in range(len(shape_parameters_need)-1):\n",
    "    T_y_rep_weibull[i]=log_likelihood(data_change,shape_parameters_need[i],scale_parameters_need[i])\n",
    "    "
   ]
  },
  {
   "cell_type": "code",
   "execution_count": 18,
   "metadata": {},
   "outputs": [
    {
     "name": "stdout",
     "output_type": "stream",
     "text": [
      "1501\n"
     ]
    },
    {
     "data": {
      "text/plain": [
       "array([ 12819.4458,  12819.5043,  12822.4611, ...,  12820.6232,\n",
       "        12820.7768,      0.    ])"
      ]
     },
     "execution_count": 18,
     "metadata": {},
     "output_type": "execute_result"
    }
   ],
   "source": [
    "print(len(T_y_rep_weibull))\n",
    "T_y_rep_weibull"
   ]
  },
  {
   "cell_type": "code",
   "execution_count": 19,
   "metadata": {},
   "outputs": [
    {
     "data": {
      "text/plain": [
       "0"
      ]
     },
     "execution_count": 19,
     "metadata": {},
     "output_type": "execute_result"
    }
   ],
   "source": [
    "count_zeros=0\n",
    "for i in range(len(shape_parameters_need)-1):\n",
    "    if T_y_rep_weibull[i]==0:\n",
    "        count_zeros+=1\n",
    "count_zeros"
   ]
  },
  {
   "cell_type": "code",
   "execution_count": 20,
   "metadata": {
    "collapsed": true
   },
   "outputs": [],
   "source": [
    "T_y_rep_wc=np.zeros(len(shapewc_parameters_need))\n",
    "for i in range(len(shapewc_parameters_need)-1):\n",
    "    T_y_rep_wc[i]=log_wclikelihood(theta_change,shapewc_parameters_need[i],0)\n"
   ]
  },
  {
   "cell_type": "code",
   "execution_count": 21,
   "metadata": {},
   "outputs": [
    {
     "data": {
      "text/plain": [
       "0"
      ]
     },
     "execution_count": 21,
     "metadata": {},
     "output_type": "execute_result"
    }
   ],
   "source": [
    "count_zeros=0\n",
    "for i in range(len(shapewc_parameters_need)-1):\n",
    "    if T_y_rep_wc[i]==0:\n",
    "        count_zeros+=1\n",
    "count_zeros"
   ]
  },
  {
   "cell_type": "code",
   "execution_count": 22,
   "metadata": {},
   "outputs": [
    {
     "name": "stdout",
     "output_type": "stream",
     "text": [
      "1501\n"
     ]
    },
    {
     "data": {
      "text/plain": [
       "array([-232119.2907, -231959.1467, -232094.7592, ..., -231701.4775,\n",
       "       -232382.2704,       0.    ])"
      ]
     },
     "execution_count": 22,
     "metadata": {},
     "output_type": "execute_result"
    }
   ],
   "source": [
    "print(len(T_y_rep_wc))\n",
    "T_y_rep_wc"
   ]
  },
  {
   "cell_type": "code",
   "execution_count": 23,
   "metadata": {},
   "outputs": [
    {
     "data": {
      "text/plain": [
       "array([-219299.8449, -219139.6425, -219272.2981, ..., -218880.8543,\n",
       "       -219561.4936,       0.    ])"
      ]
     },
     "execution_count": 23,
     "metadata": {},
     "output_type": "execute_result"
    }
   ],
   "source": [
    "T_y_rep=T_y_rep_weibull+T_y_rep_wc   \n",
    "T_y_rep"
   ]
  },
  {
   "cell_type": "code",
   "execution_count": 24,
   "metadata": {},
   "outputs": [
    {
     "name": "stdout",
     "output_type": "stream",
     "text": [
      "0\n",
      "1501\n",
      "0.0\n"
     ]
    }
   ],
   "source": [
    "count=0\n",
    "for i in range(len(shape_parameters_need)-1):\n",
    "    if T_y_rep[i]>T_y:\n",
    "        count+=1\n",
    "print(count)\n",
    "print(len(shape_parameters_need))\n",
    "ppp_value=count/len(shape_parameters)\n",
    "print(ppp_value)\n"
   ]
  },
  {
   "cell_type": "code",
   "execution_count": 25,
   "metadata": {},
   "outputs": [
    {
     "data": {
      "image/png": "[encoded data removed]",
      "text/plain": [
       "<matplotlib.figure.Figure at 0x21cac713b38>"
      ]
     },
     "metadata": {},
     "output_type": "display_data"
    }
   ],
   "source": [
    "plt.hist(T_y_rep,bins=100)\n",
    "plt.show()"
   ]
  },
  {
   "cell_type": "code",
   "execution_count": null,
   "metadata": {
    "collapsed": true
   },
   "outputs": [],
   "source": []
  }
 ],
 "metadata": {
  "kernelspec": {
   "display_name": "Python 3",
   "language": "python",
   "name": "python3"
  },
  "language_info": {
   "codemirror_mode": {
    "name": "ipython",
    "version": 3
   },
   "file_extension": ".py",
   "mimetype": "text/x-python",
   "name": "python",
   "nbconvert_exporter": "python",
   "pygments_lexer": "ipython3",
   "version": "3.6.3"
  }
 },
 "nbformat": 4,
 "nbformat_minor": 2
}
