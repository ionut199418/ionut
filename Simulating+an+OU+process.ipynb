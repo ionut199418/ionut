{
 "cells": [
  {
   "cell_type": "code",
   "execution_count": 2,
   "metadata": {
    "collapsed": true
   },
   "outputs": [],
   "source": [
    "class ModelParameters:\n",
    "   # \"\"\"\n",
    "    #Encapsulates model parameters\n",
    "    #\"\"\"\n",
    "\n",
    "    def __init__(self,\n",
    "                 all_s0, all_time, all_delta, all_sigma, gbm_mu,\n",
    "                 jumps_lamda=0.0, jumps_sigma=0.0, jumps_mu=0.0,\n",
    "                 cir_a=0.0, cir_mu=0.0, all_r0=0.0, cir_rho=0.0,\n",
    "                 ou_a=0.0, ou_mu=0.0,\n",
    "                 heston_a=0.0, heston_mu=0.0, heston_vol0=0.0):\n",
    "        # This is the starting asset value\n",
    "        self.all_s0 = all_s0\n",
    "        # This is the amount of time to simulate for\n",
    "        self.all_time = all_time\n",
    "        # This is the delta, the rate of time e.g. 1/252 = daily, 1/12 = monthly\n",
    "        self.all_delta = all_delta\n",
    "        # This is the volatility of the stochastic processes\n",
    "        self.all_sigma = all_sigma\n",
    "        # This is the annual drift factor for geometric brownian motion\n",
    "        self.gbm_mu = gbm_mu\n",
    "        # This is the probability of a jump happening at each point in time\n",
    "        self.lamda = jumps_lamda\n",
    "        # This is the volatility of the jump size\n",
    "        self.jumps_sigma = jumps_sigma\n",
    "        # This is the average jump size\n",
    "        self.jumps_mu = jumps_mu\n",
    "        # This is the rate of mean reversion for Cox Ingersoll Ross\n",
    "        self.cir_a = cir_a\n",
    "        # This is the long run average interest rate for Cox Ingersoll Ross\n",
    "        self.cir_mu = cir_mu\n",
    "        # This is the starting interest rate value\n",
    "        self.all_r0 = all_r0\n",
    "        # This is the correlation between the wiener processes of the Heston model\n",
    "        self.cir_rho = cir_rho\n",
    "        # This is the rate of mean reversion for Ornstein Uhlenbeck\n",
    "        self.ou_a = ou_a\n",
    "        # This is the long run average interest rate for Ornstein Uhlenbeck\n",
    "        self.ou_mu = ou_mu\n",
    "        # This is the rate of mean reversion for volatility in the Heston model\n",
    "        self.heston_a = heston_a\n",
    "        # This is the long run average volatility for the Heston model\n",
    "        self.heston_mu = heston_mu\n",
    "        # This is the starting volatility value for the Heston model\n",
    "        self.heston_vol0 = heston_vol0"
   ]
  },
  {
   "cell_type": "code",
   "execution_count": 3,
   "metadata": {
    "collapsed": true
   },
   "outputs": [],
   "source": [
    "def convert_to_returns(log_returns):\n",
    "    #\"\"\"\n",
    "    #This method exponentiates a sequence of log returns to get daily returns.\n",
    "    #:param log_returns: the log returns to exponentiated\n",
    "    #:return: the exponentiated returns\n",
    "    #\"\"\"\n",
    "    return numpy.exp(log_returns)\n",
    "\n",
    "\n",
    "def convert_to_prices(param, log_returns):\n",
    "    #\"\"\"\n",
    "    #This method converts a sequence of log returns into normal returns (exponentiation) and then computes a price\n",
    "    #sequence given a starting price, param.all_s0.\n",
    "    #:param param: the model parameters object\n",
    "    #:param log_returns: the log returns to exponentiated\n",
    "    #:return:\n",
    "    #\"\"\"\n",
    "    returns = convert_to_returns(log_returns)\n",
    "    # A sequence of prices starting with param.all_s0\n",
    "    price_sequence = [param.all_s0]\n",
    "    for i in range(1, len(returns)):\n",
    "        # Add the price at t-1 * return at t\n",
    "        price_sequence.append(price_sequence[i - 1] * returns[i - 1])\n",
    "    return numpy.array(price_sequence)"
   ]
  },
  {
   "cell_type": "code",
   "execution_count": 4,
   "metadata": {
    "collapsed": true
   },
   "outputs": [],
   "source": [
    "def plot_stochastic_processes(processes, title):\n",
    "    #\"\"\"\n",
    "    #This method plots a list of stochastic processes with a specified title\n",
    "    #:return: plots the graph of the two\n",
    "    #\"\"\"\n",
    "    plt.style.use(['bmh'])\n",
    "    fig, ax = plt.subplots(1)\n",
    "    fig.suptitle(title, fontsize=16)\n",
    "    ax.set_xlabel('Time, t')\n",
    "    ax.set_ylabel('Simulated Asset Price')\n",
    "    x_axis = numpy.arange(0, len(processes[0]), 1)\n",
    "    for i in range(len(processes)):\n",
    "        plt.plot(x_axis, processes[i])\n",
    "    plt.show()"
   ]
  },
  {
   "cell_type": "code",
   "execution_count": 5,
   "metadata": {
    "collapsed": true
   },
   "outputs": [],
   "source": [
    "#BROWNIAN MOTION STOCHASTIC PROCESS\n",
    "#Brownian motion is the random motion exhibited by particles which have been suspended in a gas or liquid. This random motion is caused by the collision of the particles with the atoms or molecules in the liquid or gas. Brownian Motion is named after the Botanist Robert Brown who observed the random movements in 1827. The relationship between Brownian Motion and financial markets dates back to a paper written many years later, in 1900, by Louis Bachelier entitled The Theory of Speculation. His paper was the first to propose the use of Brownian Motion to evaluate stock options. The paper did not surface until later works in deriving the famous Black Scholes options pricing formula developed by Fisher Black and Myron Scholes in 1973. In the context of stochastic processes used in finance, Brownian Motion is often described as a Wiener process, denoted by Wt. A Wiener process is described by the following properties,\n",
    "\n",
    "#W0=0\n",
    "#The function t→Wt is continuous\n",
    "#Wt has independent normally distributed increments i.e. Wt−Ws ~ N(0,t−s)\n",
    "#In practice Brownian Motion is not used to model asset prices. I have included it because it is the foundation of every other stochastic process discussed in this article.\n",
    "\n"
   ]
  },
  {
   "cell_type": "code",
   "execution_count": 6,
   "metadata": {
    "collapsed": true
   },
   "outputs": [],
   "source": [
    "# mistakes in the codes, see mine\n",
    "import math\n",
    "import numpy\n",
    "import random\n",
    "import decimal\n",
    "import scipy.linalg\n",
    "import numpy.random as nrand\n",
    "import matplotlib.pyplot as plt\n",
    "\n",
    "#\"\"\"\n",
    "#Note that this Gist uses the Model Parameters class found here  - https://gist.github.com/StuartGordonReid/f01f479c783dd40cc21e\n",
    "#\"\"\"\n",
    "\n",
    "def brownian_motion_log_returns(param):\n",
    " #   \"\"\"\n",
    "  #  This method returns a Wiener process. The Wiener process is also called Brownian motion. For more information\n",
    "   # about the Wiener process check out the Wikipedia page: http://en.wikipedia.org/wiki/Wiener_process\n",
    "    #:param param: the model parameters object\n",
    "    #:return: brownian motion log returns\n",
    "    #\"\"\"\n",
    "    sqrt_delta_sigma = math.sqrt(param.all_delta) * param.all_sigma\n",
    "    return nrand.normal(loc=0, scale=sqrt_delta_sigma, size=param.all_time)\n",
    "\n",
    "\n",
    "def brownian_motion_levels(param):\n",
    "    #\"\"\"\n",
    "    #Returns a price sequence whose returns evolve according to a brownian motion\n",
    "    #:param param: model parameters object\n",
    "    #:return: returns a price sequence which follows a brownian motion\n",
    "    #\"\"\"\n",
    "    return convert_to_prices(param, brownian_motion_log_returns(param))"
   ]
  },
  {
   "cell_type": "code",
   "execution_count": 7,
   "metadata": {
    "collapsed": true
   },
   "outputs": [],
   "source": [
    "#THE ORNSTEIN–UHLENBECK STOCHASTIC PROCESS\n",
    "#The Ornstein Uhlebneck stochastic process is another mean-reverting process which is sometimes used for modelling interest rates. The Ornstein Uhlenbeck process is named after Leonard Ornstein and George Eugene Uhlenbeck. The difference between the Ornstein Uhlenbeck stochastic process and the CIR process is that the CIR processes multiplies the stochastic component by the square root of the previous value for the interest rate. The stochastic differential equation for the Ornstein Uhlenbeck process is,\n",
    "\n",
    "#drt=a(b−rt)dt+σdWt # rt can be replaced by xt, b is the mean miu and sigma is the diffusion coefficient(not sure though)\n",
    "\n",
    "#where Wt is a Wiener process, a is the rate at which the process mean reverts (a larger number results in a faster mean reverting process), b is the long run average interest rate, and σ is the volatility of the process. The code for the Ornstein Uhlenbeck stochastic process is given below."
   ]
  },
  {
   "cell_type": "code",
   "execution_count": 8,
   "metadata": {
    "collapsed": true
   },
   "outputs": [],
   "source": [
    "# OU process\n",
    "import math\n",
    "import numpy\n",
    "import random\n",
    "import decimal\n",
    "import scipy.linalg\n",
    "import numpy.random as nrand\n",
    "import matplotlib.pyplot as plt\n",
    "\n",
    "#\"\"\"\n",
    "#Note that this Gist uses the Model Parameters class found here  - https://gist.github.com/StuartGordonReid/f01f479c783dd40cc21e\n",
    "#\"\"\"\n",
    "\n",
    "def ornstein_uhlenbeck_levels(param):\n",
    "    #\"\"\"\n",
    "    #This method returns the rate levels of a mean-reverting ornstein uhlenbeck process.\n",
    "    #:param param: the model parameters object\n",
    "    #:return: the interest rate levels for the Ornstein Uhlenbeck process\n",
    "    #\"\"\"\n",
    "    ou_levels = [param.all_r0]\n",
    "    brownian_motion_returns = brownian_motion_log_returns(param)\n",
    "    for i in range(1, param.all_time):\n",
    "        drift = param.ou_a * (param.ou_mu - ou_levels[i-1]) * param.all_delta\n",
    "        randomness = brownian_motion_returns[i - 1]\n",
    "        ou_levels.append(ou_levels[i - 1] + drift + randomness)\n",
    "    return ou_levels"
   ]
  },
  {
   "cell_type": "code",
   "execution_count": 9,
   "metadata": {
    "collapsed": true
   },
   "outputs": [],
   "source": [
    "# putting everything together\n",
    "import math\n",
    "import numpy as np\n",
    "import random\n",
    "import decimal\n",
    "import scipy.linalg\n",
    "import numpy.random as nrand\n",
    "import matplotlib.pyplot as plt\n",
    "\n",
    "def brownian_motion_log_returns(param_all_delta,param_all_sigma,param_all_time):\n",
    "    #  This method returns a Wiener process\n",
    "    sqrt_delta_sigma = math.sqrt(param_all_delta) * param_all_sigma\n",
    "    return sqrt_delta_sigma*np.random.normal(0,1)\n",
    "\n",
    "#define now the hyperparameters for the two functions\n",
    "\n",
    "def ornstein_uhlenbeck_levels(param_all_r0,param_ou_a,param_ou_mu):\n",
    "    #This method returns the rate levels of a mean-reverting ornstein uhlenbeck process.\n",
    "    ou_levels = np.zeros(len(param_all_time))#[param_all_r0]\n",
    "    brownian_motion_returns = brownian_motion_log_returns(param_all_delta,param_all_sigma,param_all_time)\n",
    "    for i in range(1, len(param_all_time)):\n",
    "        drift = param_ou_a * (param_ou_mu - ou_levels[i-1]) * param_all_delta\n",
    "        randomness = brownian_motion_returns\n",
    "        ou_levels[i]=ou_levels[i - 1] + drift + randomness\n",
    "    return ou_levels"
   ]
  },
  {
   "cell_type": "code",
   "execution_count": 10,
   "metadata": {
    "collapsed": true
   },
   "outputs": [],
   "source": [
    "dt=0.02\n",
    "param_all_time=np.arange(0,2,dt)# time\n",
    "param_all_r0=np.zeros(len(param_all_time))# initial values\n",
    "param_all_sigma=0.3\n",
    "param_all_delta=dt\n",
    "param_ou_a=1# the coefficient in front, the rate\n",
    "param_ou_mu=1.2# the mean"
   ]
  },
  {
   "cell_type": "code",
   "execution_count": 11,
   "metadata": {},
   "outputs": [
    {
     "data": {
      "text/plain": [
       "array([0.        , 0.03918588, 0.07758805, 0.11522217, 0.1521036 ,\n",
       "       0.18824741, 0.22366835, 0.25838086, 0.29239912, 0.32573702,\n",
       "       0.35840816, 0.39042588, 0.42180325, 0.45255306, 0.48268788,\n",
       "       0.51222001, 0.54116149, 0.56952414, 0.59731954, 0.62455903,\n",
       "       0.65125373, 0.67741454, 0.70305213, 0.72817697, 0.75279931,\n",
       "       0.7769292 , 0.8005765 , 0.82375085, 0.84646172, 0.86871836,\n",
       "       0.89052988, 0.91190516, 0.93285294, 0.95338176, 0.97350001,\n",
       "       0.99321589, 1.01253745, 1.03147259, 1.05002902, 1.06821432,\n",
       "       1.08603591, 1.10350107, 1.12061693, 1.13739048, 1.15382855,\n",
       "       1.16993786, 1.18572498, 1.20119637, 1.21635832, 1.23121703,\n",
       "       1.24577858, 1.26004889, 1.27403379, 1.28773899, 1.3011701 ,\n",
       "       1.31433258, 1.32723181, 1.33987305, 1.35226147, 1.36440212,\n",
       "       1.37629996, 1.38795984, 1.39938653, 1.41058468, 1.42155887,\n",
       "       1.43231357, 1.44285318, 1.453182  , 1.46330424, 1.47322404,\n",
       "       1.48294544, 1.49247241, 1.50180884, 1.51095855, 1.51992526,\n",
       "       1.52871263, 1.53732426, 1.54576366, 1.55403427, 1.56213946,\n",
       "       1.57008256, 1.57786679, 1.58549533, 1.59297131, 1.60029776,\n",
       "       1.60747769, 1.61451402, 1.62140962, 1.62816731, 1.63478984,\n",
       "       1.64127993, 1.64764021, 1.65387329, 1.6599817 , 1.66596795,\n",
       "       1.67183447, 1.67758366, 1.68321787, 1.6887394 , 1.69415049])"
      ]
     },
     "execution_count": 11,
     "metadata": {},
     "output_type": "execute_result"
    }
   ],
   "source": [
    "# Simulation of OU process\n",
    "ornstein_uhlenbeck_levels(param_all_r0,param_ou_a,param_ou_mu)# the first one is zero because param_all_r0 starts at 0\n"
   ]
  },
  {
   "cell_type": "code",
   "execution_count": 12,
   "metadata": {},
   "outputs": [
    {
     "data": {
      "text/plain": [
       "-0.009675027106805057"
      ]
     },
     "execution_count": 12,
     "metadata": {},
     "output_type": "execute_result"
    }
   ],
   "source": [
    "brownian_motion_log_returns(param_all_delta,param_all_sigma,param_all_time)"
   ]
  },
  {
   "cell_type": "code",
   "execution_count": 13,
   "metadata": {
    "collapsed": true
   },
   "outputs": [],
   "source": [
    "#1. Simulating the Ornstein–Uhlenbeck process\n",
    "\n",
    "#You should first be familiar with how to simulate this process using the Euler–Maruyama method. The stochastic differential equation (SDE)\n",
    "\n",
    "#dxt=θ(μ−xt)dt+σdWt\n",
    "#can be discretized and approximated via\n",
    "\n",
    "#Xn+1=Xn+θ(μ−Xn)Δt+σΔWn\n",
    "#where ΔWn are independent identically distributed Wiener increments, i.e., normal variates with zero mean and variance Δt. Thus, Wtn+1−Wtn=ΔWn∼N(0,Δt)=Δt−−−√ N(0,1). This can be simulated in Matlab very easily using randn to generate standard normal variates:\n",
    "\n",
    "\n",
    "#another way of simulating an OU process; MATLAB CODE\n",
    "#th = 1;\n",
    "#mu = 1.2;\n",
    "#sig = 0.3;\n",
    "#dt = 1e-2;\n",
    "#t = 0:dt:2;             % Time vector\n",
    "#x = zeros(1,length(t)); % Allocate output vector, set initial condition\n",
    "#rng(1);                 % Set random seed\n",
    "#for i = 1:length(t)-1\n",
    " #   x(i+1) = x(i)+th*(mu-x(i))*dt+sig*sqrt(dt)*randn;\n",
    "#end\n",
    "#figure;\n",
    "#plot(t,x);"
   ]
  },
  {
   "cell_type": "code",
   "execution_count": 14,
   "metadata": {
    "collapsed": true
   },
   "outputs": [],
   "source": [
    "#Simulation of an OU process\n",
    "training_data=ornstein_uhlenbeck_levels(param_all_r0,param_ou_a,param_ou_mu)# the first one is zero because param_all_r0 starts at 0\n",
    "t=param_all_time# time vector\n",
    "x=training_data"
   ]
  },
  {
   "cell_type": "code",
   "execution_count": 15,
   "metadata": {},
   "outputs": [
    {
     "data": {
      "text/plain": [
       "array([0.        , 0.04376407, 0.08665286, 0.12868388, 0.16987427,\n",
       "       0.21024086, 0.24980012, 0.28856819, 0.32656089, 0.36379375,\n",
       "       0.40028195, 0.43604038, 0.47108364, 0.50542604, 0.53908159,\n",
       "       0.57206403, 0.60438683, 0.63606316, 0.66710597, 0.69752792,\n",
       "       0.72734144, 0.75655868, 0.78519158, 0.81325182, 0.84075086,\n",
       "       0.86769991, 0.89410999, 0.91999186, 0.94535609, 0.97021304,\n",
       "       0.99457286, 1.01844547, 1.04184063, 1.06476789, 1.08723661,\n",
       "       1.10925595, 1.1308349 , 1.15198228, 1.1727067 , 1.19301664,\n",
       "       1.21292038, 1.23242605, 1.2515416 , 1.27027484, 1.28863341,\n",
       "       1.30662482, 1.32425639, 1.34153534, 1.3584687 , 1.3750634 ,\n",
       "       1.39132621, 1.40726375, 1.42288255, 1.43818897, 1.45318926,\n",
       "       1.46788955, 1.48229583, 1.49641399, 1.51024978, 1.52380886,\n",
       "       1.53709675, 1.55011889, 1.56288059, 1.57538705, 1.58764338,\n",
       "       1.59965458, 1.61142556, 1.62296112, 1.63426597, 1.64534473,\n",
       "       1.6562019 , 1.66684194, 1.67726917, 1.68748786, 1.69750218,\n",
       "       1.7073162 , 1.71693395, 1.72635935, 1.73559623, 1.74464838,\n",
       "       1.75351948, 1.76221317, 1.77073298, 1.77908239, 1.78726481,\n",
       "       1.79528359, 1.80314199, 1.81084322, 1.81839043, 1.82578669,\n",
       "       1.83303503, 1.8401384 , 1.84709971, 1.85392179, 1.86060742,\n",
       "       1.86715935, 1.87358023, 1.8798727 , 1.88603932, 1.8920826 ])"
      ]
     },
     "execution_count": 15,
     "metadata": {},
     "output_type": "execute_result"
    }
   ],
   "source": [
    "training_data"
   ]
  },
  {
   "cell_type": "code",
   "execution_count": 22,
   "metadata": {},
   "outputs": [
    {
     "data": {
      "image/png": "[encoded data removed]",
      "text/plain": [
       "<Figure size 864x432 with 1 Axes>"
      ]
     },
     "metadata": {},
     "output_type": "display_data"
    }
   ],
   "source": [
    "plt.plot(t,x)\n",
    "plt.xlabel('Time')\n",
    "plt.ylabel('OU levels')\n",
    "plt.show()"
   ]
  },
  {
   "cell_type": "code",
   "execution_count": 17,
   "metadata": {},
   "outputs": [
    {
     "name": "stderr",
     "output_type": "stream",
     "text": [
      "C:\\Anaconda\\lib\\site-packages\\h5py\\__init__.py:34: FutureWarning: Conversion of the second argument of issubdtype from `float` to `np.floating` is deprecated. In future, it will be treated as `np.float64 == np.dtype(float).type`.\n",
      "  from ._conv import register_converters as _register_converters\n",
      "C:\\Anaconda\\lib\\site-packages\\multipledispatch\\dispatcher.py:24: AmbiguityWarning: \n",
      "Ambiguities exist in dispatched function _expectation\n",
      "\n",
      "The following signatures may result in ambiguous behavior:\n",
      "\t[Gaussian, Linear, NoneType, Sum, InducingPoints], [Gaussian, Identity, NoneType, Kernel, InducingPoints]\n",
      "\n",
      "\n",
      "Consider making the following additions:\n",
      "\n",
      "@dispatch(Gaussian, Identity, NoneType, Sum, InducingPoints)\n",
      "def _expectation(...)\n",
      "  warn(warning_text(dispatcher.name, ambiguities), AmbiguityWarning)\n"
     ]
    }
   ],
   "source": [
    "import gpflow\n",
    "import numpy as np\n",
    "import matplotlib\n",
    "%matplotlib inline\n",
    "matplotlib.rcParams['figure.figsize'] = (12, 6)\n",
    "plt = matplotlib.pyplot"
   ]
  },
  {
   "cell_type": "code",
   "execution_count": 18,
   "metadata": {
    "collapsed": true
   },
   "outputs": [],
   "source": [
    "# Setting everything to column vectors\n",
    "t_column=t.reshape(-1,1)\n",
    "x_column=x.reshape(-1,1)"
   ]
  },
  {
   "cell_type": "code",
   "execution_count": 19,
   "metadata": {},
   "outputs": [
    {
     "name": "stderr",
     "output_type": "stream",
     "text": [
      "WARNING:gpflow.logdensities:Shape of x must be 2D at computation.\n"
     ]
    }
   ],
   "source": [
    "k = gpflow.kernels.Matern12(1,lengthscales=0.3)\n",
    "m = gpflow.models.GPR(t_column,x_column,kern=k)\n",
    "m.likelihood.variance = 0.01"
   ]
  },
  {
   "cell_type": "code",
   "execution_count": 20,
   "metadata": {
    "collapsed": true
   },
   "outputs": [],
   "source": [
    "#They have everything as column vectors\n",
    "#N = 12\n",
    "#X = np.random.rand(N,1)\n",
    "#Y = np.sin(12*X) + 0.66*np.cos(25*X) + np.random.randn(N,1)*0.1 + 3\n",
    "#plt.plot(X, Y, 'kx', mew=2)"
   ]
  },
  {
   "cell_type": "code",
   "execution_count": 28,
   "metadata": {},
   "outputs": [
    {
     "data": {
      "text/plain": [
       "Text(0,0.5,'OU level')"
      ]
     },
     "execution_count": 28,
     "metadata": {},
     "output_type": "execute_result"
    },
    {
     "data": {
      "image/png": "[encoded data removed]",
      "text/plain": [
       "<Figure size 864x432 with 1 Axes>"
      ]
     },
     "metadata": {},
     "output_type": "display_data"
    }
   ],
   "source": [
    "def plot(m):\n",
    "    tt = np.linspace(0, 3, 100).reshape(100, 1)\n",
    "    mean, var = m.predict_y(tt)\n",
    "    plt.figure(figsize=(12, 6))\n",
    "    plt.plot(t_column,x_column, 'kx', mew=2)\n",
    "    plt.plot(tt, mean, 'C0', lw=2)\n",
    "    plt.fill_between(tt[:,0],\n",
    "                     mean[:,0] - 2*np.sqrt(var[:,0]),\n",
    "                     mean[:,0] + 2*np.sqrt(var[:,0]),\n",
    "                     color='C0', alpha=0.2)\n",
    "    plt.xlim(0, 3)\n",
    "    \n",
    "plot(m)\n",
    "plt.xlabel('Time')\n",
    "plt.ylabel('OU level')"
   ]
  },
  {
   "cell_type": "code",
   "execution_count": 24,
   "metadata": {},
   "outputs": [
    {
     "data": {
      "text/html": [
       "<div>\n",
       "<style scoped>\n",
       "    .dataframe tbody tr th:only-of-type {\n",
       "        vertical-align: middle;\n",
       "    }\n",
       "\n",
       "    .dataframe tbody tr th {\n",
       "        vertical-align: top;\n",
       "    }\n",
       "\n",
       "    .dataframe thead th {\n",
       "        text-align: right;\n",
       "    }\n",
       "</style>\n",
       "<table border=\"1\" class=\"dataframe\">\n",
       "  <thead>\n",
       "    <tr style=\"text-align: right;\">\n",
       "      <th></th>\n",
       "      <th>class</th>\n",
       "      <th>prior</th>\n",
       "      <th>transform</th>\n",
       "      <th>trainable</th>\n",
       "      <th>shape</th>\n",
       "      <th>fixed_shape</th>\n",
       "      <th>value</th>\n",
       "    </tr>\n",
       "  </thead>\n",
       "  <tbody>\n",
       "    <tr>\n",
       "      <th>GPR/kern/variance</th>\n",
       "      <td>Parameter</td>\n",
       "      <td>None</td>\n",
       "      <td>+ve</td>\n",
       "      <td>True</td>\n",
       "      <td>()</td>\n",
       "      <td>True</td>\n",
       "      <td>1.0</td>\n",
       "    </tr>\n",
       "    <tr>\n",
       "      <th>GPR/kern/lengthscales</th>\n",
       "      <td>Parameter</td>\n",
       "      <td>None</td>\n",
       "      <td>+ve</td>\n",
       "      <td>True</td>\n",
       "      <td>()</td>\n",
       "      <td>True</td>\n",
       "      <td>0.3</td>\n",
       "    </tr>\n",
       "    <tr>\n",
       "      <th>GPR/likelihood/variance</th>\n",
       "      <td>Parameter</td>\n",
       "      <td>None</td>\n",
       "      <td>+ve</td>\n",
       "      <td>True</td>\n",
       "      <td>()</td>\n",
       "      <td>True</td>\n",
       "      <td>0.01</td>\n",
       "    </tr>\n",
       "  </tbody>\n",
       "</table>\n",
       "</div>"
      ],
      "text/plain": [
       "                             class prior transform  trainable shape  \\\n",
       "GPR/kern/variance        Parameter  None       +ve       True    ()   \n",
       "GPR/kern/lengthscales    Parameter  None       +ve       True    ()   \n",
       "GPR/likelihood/variance  Parameter  None       +ve       True    ()   \n",
       "\n",
       "                         fixed_shape value  \n",
       "GPR/kern/variance               True   1.0  \n",
       "GPR/kern/lengthscales           True   0.3  \n",
       "GPR/likelihood/variance         True  0.01  "
      ]
     },
     "execution_count": 24,
     "metadata": {},
     "output_type": "execute_result"
    }
   ],
   "source": [
    "m.as_pandas_table()\n"
   ]
  },
  {
   "cell_type": "code",
   "execution_count": 29,
   "metadata": {},
   "outputs": [
    {
     "name": "stdout",
     "output_type": "stream",
     "text": [
      "INFO:tensorflow:Optimization terminated with:\n",
      "  Message: b'CONVERGENCE: NORM_OF_PROJECTED_GRADIENT_<=_PGTOL'\n",
      "  Objective function value: -235.923954\n",
      "  Number of iterations: 0\n",
      "  Number of functions evaluations: 1\n"
     ]
    },
    {
     "name": "stderr",
     "output_type": "stream",
     "text": [
      "INFO:tensorflow:Optimization terminated with:\n",
      "  Message: b'CONVERGENCE: NORM_OF_PROJECTED_GRADIENT_<=_PGTOL'\n",
      "  Objective function value: -235.923954\n",
      "  Number of iterations: 0\n",
      "  Number of functions evaluations: 1\n"
     ]
    },
    {
     "data": {
      "text/html": [
       "<div>\n",
       "<style scoped>\n",
       "    .dataframe tbody tr th:only-of-type {\n",
       "        vertical-align: middle;\n",
       "    }\n",
       "\n",
       "    .dataframe tbody tr th {\n",
       "        vertical-align: top;\n",
       "    }\n",
       "\n",
       "    .dataframe thead th {\n",
       "        text-align: right;\n",
       "    }\n",
       "</style>\n",
       "<table border=\"1\" class=\"dataframe\">\n",
       "  <thead>\n",
       "    <tr style=\"text-align: right;\">\n",
       "      <th></th>\n",
       "      <th>class</th>\n",
       "      <th>prior</th>\n",
       "      <th>transform</th>\n",
       "      <th>trainable</th>\n",
       "      <th>shape</th>\n",
       "      <th>fixed_shape</th>\n",
       "      <th>value</th>\n",
       "    </tr>\n",
       "  </thead>\n",
       "  <tbody>\n",
       "    <tr>\n",
       "      <th>GPR/kern/variance</th>\n",
       "      <td>Parameter</td>\n",
       "      <td>None</td>\n",
       "      <td>+ve</td>\n",
       "      <td>True</td>\n",
       "      <td>()</td>\n",
       "      <td>True</td>\n",
       "      <td>1.7904049295887265</td>\n",
       "    </tr>\n",
       "    <tr>\n",
       "      <th>GPR/kern/lengthscales</th>\n",
       "      <td>Parameter</td>\n",
       "      <td>None</td>\n",
       "      <td>+ve</td>\n",
       "      <td>True</td>\n",
       "      <td>()</td>\n",
       "      <td>True</td>\n",
       "      <td>148.72461835284744</td>\n",
       "    </tr>\n",
       "    <tr>\n",
       "      <th>GPR/likelihood/variance</th>\n",
       "      <td>Parameter</td>\n",
       "      <td>None</td>\n",
       "      <td>+ve</td>\n",
       "      <td>True</td>\n",
       "      <td>()</td>\n",
       "      <td>True</td>\n",
       "      <td>1.0000000002220446e-06</td>\n",
       "    </tr>\n",
       "  </tbody>\n",
       "</table>\n",
       "</div>"
      ],
      "text/plain": [
       "                             class prior transform  trainable shape  \\\n",
       "GPR/kern/variance        Parameter  None       +ve       True    ()   \n",
       "GPR/kern/lengthscales    Parameter  None       +ve       True    ()   \n",
       "GPR/likelihood/variance  Parameter  None       +ve       True    ()   \n",
       "\n",
       "                         fixed_shape                   value  \n",
       "GPR/kern/variance               True      1.7904049295887265  \n",
       "GPR/kern/lengthscales           True      148.72461835284744  \n",
       "GPR/likelihood/variance         True  1.0000000002220446e-06  "
      ]
     },
     "execution_count": 29,
     "metadata": {},
     "output_type": "execute_result"
    },
    {
     "data": {
      "image/png": "[encoded data removed]",
      "text/plain": [
       "<Figure size 864x432 with 1 Axes>"
      ]
     },
     "metadata": {},
     "output_type": "display_data"
    }
   ],
   "source": [
    "gpflow.train.ScipyOptimizer().minimize(m)\n",
    "plot(m)\n",
    "m.as_pandas_table()"
   ]
  },
  {
   "cell_type": "code",
   "execution_count": null,
   "metadata": {
    "collapsed": true
   },
   "outputs": [],
   "source": []
  }
 ],
 "metadata": {
  "kernelspec": {
   "display_name": "Python 3",
   "language": "python",
   "name": "python3"
  },
  "language_info": {
   "codemirror_mode": {
    "name": "ipython",
    "version": 3
   },
   "file_extension": ".py",
   "mimetype": "text/x-python",
   "name": "python",
   "nbconvert_exporter": "python",
   "pygments_lexer": "ipython3",
   "version": "3.6.6"
  }
 },
 "nbformat": 4,
 "nbformat_minor": 2
}
