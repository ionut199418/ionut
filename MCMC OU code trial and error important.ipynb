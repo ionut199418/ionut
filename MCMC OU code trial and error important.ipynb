{
 "cells": [
  {
   "cell_type": "code",
   "execution_count": 1,
   "metadata": {},
   "outputs": [],
   "source": [
    "import math\n",
    "import random\n",
    "import decimal\n",
    "import scipy.linalg\n",
    "import numpy.random as nrand\n",
    "import matplotlib.pyplot as plt\n",
    "import gpflow\n",
    "import numpy as np\n",
    "import matplotlib\n",
    "%matplotlib inline\n",
    "matplotlib.rcParams['figure.figsize'] = (12, 6)\n",
    "plt = matplotlib.pyplot"
   ]
  },
  {
   "cell_type": "code",
   "execution_count": 2,
   "metadata": {},
   "outputs": [],
   "source": [
    "def ou_values(a,b,dt,sigma,time):\n",
    "    #This method returns the rate levels of a mean-reverting ornstein uhlenbeck process.\n",
    "    x = np.zeros(len(time))\n",
    "    for i in range(0, len(time)-1):\n",
    "        x[i+1]=x[i]+a*(b-x[i])*dt+math.sqrt(dt)*sigma*np.random.normal(0,1)\n",
    "    return x"
   ]
  },
  {
   "cell_type": "code",
   "execution_count": 3,
   "metadata": {},
   "outputs": [
    {
     "data": {
      "image/png": "[encoded data removed]",
      "text/plain": [
       "<Figure size 432x288 with 1 Axes>"
      ]
     },
     "metadata": {
      "needs_background": "light"
     },
     "output_type": "display_data"
    }
   ],
   "source": [
    "dt=0.02\n",
    "time=np.arange(0,5,dt)# time\n",
    "sigma=2\n",
    "a=1# the coefficient in front, the rate\n",
    "b=0# the mean\n",
    "#Simulation of an OU process\n",
    "x=ou_values(a,b,dt,sigma,time)# the first one is zero because param_all_r0 starts at 0\n",
    "t=time# time vector\n",
    "plt.plot(t,x)\n",
    "plt.xlabel('Time')\n",
    "plt.ylabel('OU process')\n",
    "plt.show()"
   ]
  },
  {
   "cell_type": "code",
   "execution_count": 4,
   "metadata": {},
   "outputs": [
    {
     "data": {
      "text/plain": [
       "250"
      ]
     },
     "execution_count": 4,
     "metadata": {},
     "output_type": "execute_result"
    }
   ],
   "source": [
    "len(time)\n"
   ]
  },
  {
   "cell_type": "code",
   "execution_count": 5,
   "metadata": {},
   "outputs": [],
   "source": [
    "t_column=t.reshape(-1,1)\n",
    "x_column=x.reshape(-1,1)"
   ]
  },
  {
   "cell_type": "code",
   "execution_count": 6,
   "metadata": {},
   "outputs": [
    {
     "name": "stderr",
     "output_type": "stream",
     "text": [
      "WARNING:gpflow.logdensities:Shape of x must be 2D at computation.\n"
     ]
    }
   ],
   "source": [
    "k=gpflow.kernels.Matern12(1, lengthscales=0.3)\n",
    "meanf = gpflow.mean_functions.Linear(1.0, 0.0)\n",
    "m = gpflow.models.GPR(t_column,x_column, k, meanf)\n",
    "m.likelihood.variance = 0.1# get this to be bigger"
   ]
  },
  {
   "cell_type": "code",
   "execution_count": 7,
   "metadata": {},
   "outputs": [
    {
     "name": "stdout",
     "output_type": "stream",
     "text": [
      "ERROR:tensorflow:==================================\n",
      "Object was never used (type <class 'tensorflow.python.framework.ops.Tensor'>):\n",
      "<tf.Tensor 'GPR-d0a38b09-10/X/IsVariableInitialized:0' shape=() dtype=bool>\n",
      "If you want to mark it as used call its \"mark_used()\" method.\n",
      "It was originally created here:\n",
      "  File \"C:\\Users\\Ionut\\Anaconda3\\lib\\site-packages\\IPython\\core\\interactiveshell.py\", line 3285, in run_code\n",
      "    return outflag  File \"<ipython-input-6-0b355a35524f>\", line 3, in <module>\n",
      "    m = gpflow.models.GPR(t_column,x_column, k, meanf)  File \"C:\\Users\\Ionut\\Anaconda3\\lib\\site-packages\\gpflow\\core\\compilable.py\", line 91, in __init__\n",
      "    self.initialize(force=True)  File \"C:\\Users\\Ionut\\Anaconda3\\lib\\site-packages\\gpflow\\core\\node.py\", line 156, in build\n",
      "    self._build()  File \"C:\\Users\\Ionut\\Anaconda3\\lib\\site-packages\\gpflow\\models\\model.py\", line 83, in _build\n",
      "    self._objective = objective  File \"C:\\Users\\Ionut\\Anaconda3\\lib\\site-packages\\gpflow\\params\\parameterized.py\", line 302, in _build\n",
      "    self._prior_tensor = self._build_prior(priors)  File \"C:\\Users\\Ionut\\Anaconda3\\lib\\site-packages\\gpflow\\core\\node.py\", line 156, in build\n",
      "    self._build()  File \"C:\\Users\\Ionut\\Anaconda3\\lib\\site-packages\\gpflow\\params\\dataholders.py\", line 91, in _build\n",
      "    self._is_initialized_tensor = tf.is_variable_initialized(tensor)  File \"C:\\Users\\Ionut\\Anaconda3\\lib\\site-packages\\tensorflow\\python\\util\\tf_should_use.py\", line 189, in wrapped\n",
      "    return _add_should_use_warning(fn(*args, **kwargs))\n",
      "==================================\n"
     ]
    },
    {
     "name": "stderr",
     "output_type": "stream",
     "text": [
      "ERROR:tensorflow:==================================\n",
      "Object was never used (type <class 'tensorflow.python.framework.ops.Tensor'>):\n",
      "<tf.Tensor 'GPR-d0a38b09-10/X/IsVariableInitialized:0' shape=() dtype=bool>\n",
      "If you want to mark it as used call its \"mark_used()\" method.\n",
      "It was originally created here:\n",
      "  File \"C:\\Users\\Ionut\\Anaconda3\\lib\\site-packages\\IPython\\core\\interactiveshell.py\", line 3285, in run_code\n",
      "    return outflag  File \"<ipython-input-6-0b355a35524f>\", line 3, in <module>\n",
      "    m = gpflow.models.GPR(t_column,x_column, k, meanf)  File \"C:\\Users\\Ionut\\Anaconda3\\lib\\site-packages\\gpflow\\core\\compilable.py\", line 91, in __init__\n",
      "    self.initialize(force=True)  File \"C:\\Users\\Ionut\\Anaconda3\\lib\\site-packages\\gpflow\\core\\node.py\", line 156, in build\n",
      "    self._build()  File \"C:\\Users\\Ionut\\Anaconda3\\lib\\site-packages\\gpflow\\models\\model.py\", line 83, in _build\n",
      "    self._objective = objective  File \"C:\\Users\\Ionut\\Anaconda3\\lib\\site-packages\\gpflow\\params\\parameterized.py\", line 302, in _build\n",
      "    self._prior_tensor = self._build_prior(priors)  File \"C:\\Users\\Ionut\\Anaconda3\\lib\\site-packages\\gpflow\\core\\node.py\", line 156, in build\n",
      "    self._build()  File \"C:\\Users\\Ionut\\Anaconda3\\lib\\site-packages\\gpflow\\params\\dataholders.py\", line 91, in _build\n",
      "    self._is_initialized_tensor = tf.is_variable_initialized(tensor)  File \"C:\\Users\\Ionut\\Anaconda3\\lib\\site-packages\\tensorflow\\python\\util\\tf_should_use.py\", line 189, in wrapped\n",
      "    return _add_should_use_warning(fn(*args, **kwargs))\n",
      "==================================\n"
     ]
    },
    {
     "name": "stdout",
     "output_type": "stream",
     "text": [
      "ERROR:tensorflow:==================================\n",
      "Object was never used (type <class 'tensorflow.python.framework.ops.Tensor'>):\n",
      "<tf.Tensor 'GPR-d0a38b09-10/Y/IsVariableInitialized:0' shape=() dtype=bool>\n",
      "If you want to mark it as used call its \"mark_used()\" method.\n",
      "It was originally created here:\n",
      "  File \"C:\\Users\\Ionut\\Anaconda3\\lib\\site-packages\\IPython\\core\\interactiveshell.py\", line 3285, in run_code\n",
      "    return outflag  File \"<ipython-input-6-0b355a35524f>\", line 3, in <module>\n",
      "    m = gpflow.models.GPR(t_column,x_column, k, meanf)  File \"C:\\Users\\Ionut\\Anaconda3\\lib\\site-packages\\gpflow\\core\\compilable.py\", line 91, in __init__\n",
      "    self.initialize(force=True)  File \"C:\\Users\\Ionut\\Anaconda3\\lib\\site-packages\\gpflow\\core\\node.py\", line 156, in build\n",
      "    self._build()  File \"C:\\Users\\Ionut\\Anaconda3\\lib\\site-packages\\gpflow\\models\\model.py\", line 83, in _build\n",
      "    self._objective = objective  File \"C:\\Users\\Ionut\\Anaconda3\\lib\\site-packages\\gpflow\\params\\parameterized.py\", line 302, in _build\n",
      "    self._prior_tensor = self._build_prior(priors)  File \"C:\\Users\\Ionut\\Anaconda3\\lib\\site-packages\\gpflow\\core\\node.py\", line 156, in build\n",
      "    self._build()  File \"C:\\Users\\Ionut\\Anaconda3\\lib\\site-packages\\gpflow\\params\\dataholders.py\", line 91, in _build\n",
      "    self._is_initialized_tensor = tf.is_variable_initialized(tensor)  File \"C:\\Users\\Ionut\\Anaconda3\\lib\\site-packages\\tensorflow\\python\\util\\tf_should_use.py\", line 189, in wrapped\n",
      "    return _add_should_use_warning(fn(*args, **kwargs))\n",
      "==================================\n"
     ]
    },
    {
     "name": "stderr",
     "output_type": "stream",
     "text": [
      "ERROR:tensorflow:==================================\n",
      "Object was never used (type <class 'tensorflow.python.framework.ops.Tensor'>):\n",
      "<tf.Tensor 'GPR-d0a38b09-10/Y/IsVariableInitialized:0' shape=() dtype=bool>\n",
      "If you want to mark it as used call its \"mark_used()\" method.\n",
      "It was originally created here:\n",
      "  File \"C:\\Users\\Ionut\\Anaconda3\\lib\\site-packages\\IPython\\core\\interactiveshell.py\", line 3285, in run_code\n",
      "    return outflag  File \"<ipython-input-6-0b355a35524f>\", line 3, in <module>\n",
      "    m = gpflow.models.GPR(t_column,x_column, k, meanf)  File \"C:\\Users\\Ionut\\Anaconda3\\lib\\site-packages\\gpflow\\core\\compilable.py\", line 91, in __init__\n",
      "    self.initialize(force=True)  File \"C:\\Users\\Ionut\\Anaconda3\\lib\\site-packages\\gpflow\\core\\node.py\", line 156, in build\n",
      "    self._build()  File \"C:\\Users\\Ionut\\Anaconda3\\lib\\site-packages\\gpflow\\models\\model.py\", line 83, in _build\n",
      "    self._objective = objective  File \"C:\\Users\\Ionut\\Anaconda3\\lib\\site-packages\\gpflow\\params\\parameterized.py\", line 302, in _build\n",
      "    self._prior_tensor = self._build_prior(priors)  File \"C:\\Users\\Ionut\\Anaconda3\\lib\\site-packages\\gpflow\\core\\node.py\", line 156, in build\n",
      "    self._build()  File \"C:\\Users\\Ionut\\Anaconda3\\lib\\site-packages\\gpflow\\params\\dataholders.py\", line 91, in _build\n",
      "    self._is_initialized_tensor = tf.is_variable_initialized(tensor)  File \"C:\\Users\\Ionut\\Anaconda3\\lib\\site-packages\\tensorflow\\python\\util\\tf_should_use.py\", line 189, in wrapped\n",
      "    return _add_should_use_warning(fn(*args, **kwargs))\n",
      "==================================\n"
     ]
    },
    {
     "name": "stdout",
     "output_type": "stream",
     "text": [
      "ERROR:tensorflow:==================================\n",
      "Object was never used (type <class 'tensorflow.python.framework.ops.Tensor'>):\n",
      "<tf.Tensor 'Matern12-38d9d388-0/lengthscales/IsVariableInitialized:0' shape=() dtype=bool>\n",
      "If you want to mark it as used call its \"mark_used()\" method.\n",
      "It was originally created here:\n",
      "  File \"C:\\Users\\Ionut\\Anaconda3\\lib\\site-packages\\IPython\\core\\interactiveshell.py\", line 3285, in run_code\n",
      "    return outflag  File \"<ipython-input-6-0b355a35524f>\", line 1, in <module>\n",
      "    k=gpflow.kernels.Matern12(1, lengthscales=0.3)  File \"C:\\Users\\Ionut\\Anaconda3\\lib\\site-packages\\gpflow\\core\\compilable.py\", line 91, in __init__\n",
      "    self.initialize(force=True)  File \"C:\\Users\\Ionut\\Anaconda3\\lib\\site-packages\\gpflow\\core\\node.py\", line 156, in build\n",
      "    self._build()  File \"C:\\Users\\Ionut\\Anaconda3\\lib\\site-packages\\gpflow\\params\\parameterized.py\", line 302, in _build\n",
      "    self._prior_tensor = self._build_prior(priors)  File \"C:\\Users\\Ionut\\Anaconda3\\lib\\site-packages\\gpflow\\core\\node.py\", line 156, in build\n",
      "    self._build()  File \"C:\\Users\\Ionut\\Anaconda3\\lib\\site-packages\\gpflow\\params\\parameter.py\", line 370, in _build\n",
      "    self._prior_tensor = prior  File \"C:\\Users\\Ionut\\Anaconda3\\lib\\site-packages\\tensorflow\\python\\util\\tf_should_use.py\", line 189, in wrapped\n",
      "    return _add_should_use_warning(fn(*args, **kwargs))\n",
      "==================================\n"
     ]
    },
    {
     "name": "stderr",
     "output_type": "stream",
     "text": [
      "ERROR:tensorflow:==================================\n",
      "Object was never used (type <class 'tensorflow.python.framework.ops.Tensor'>):\n",
      "<tf.Tensor 'Matern12-38d9d388-0/lengthscales/IsVariableInitialized:0' shape=() dtype=bool>\n",
      "If you want to mark it as used call its \"mark_used()\" method.\n",
      "It was originally created here:\n",
      "  File \"C:\\Users\\Ionut\\Anaconda3\\lib\\site-packages\\IPython\\core\\interactiveshell.py\", line 3285, in run_code\n",
      "    return outflag  File \"<ipython-input-6-0b355a35524f>\", line 1, in <module>\n",
      "    k=gpflow.kernels.Matern12(1, lengthscales=0.3)  File \"C:\\Users\\Ionut\\Anaconda3\\lib\\site-packages\\gpflow\\core\\compilable.py\", line 91, in __init__\n",
      "    self.initialize(force=True)  File \"C:\\Users\\Ionut\\Anaconda3\\lib\\site-packages\\gpflow\\core\\node.py\", line 156, in build\n",
      "    self._build()  File \"C:\\Users\\Ionut\\Anaconda3\\lib\\site-packages\\gpflow\\params\\parameterized.py\", line 302, in _build\n",
      "    self._prior_tensor = self._build_prior(priors)  File \"C:\\Users\\Ionut\\Anaconda3\\lib\\site-packages\\gpflow\\core\\node.py\", line 156, in build\n",
      "    self._build()  File \"C:\\Users\\Ionut\\Anaconda3\\lib\\site-packages\\gpflow\\params\\parameter.py\", line 370, in _build\n",
      "    self._prior_tensor = prior  File \"C:\\Users\\Ionut\\Anaconda3\\lib\\site-packages\\tensorflow\\python\\util\\tf_should_use.py\", line 189, in wrapped\n",
      "    return _add_should_use_warning(fn(*args, **kwargs))\n",
      "==================================\n"
     ]
    },
    {
     "name": "stdout",
     "output_type": "stream",
     "text": [
      "ERROR:tensorflow:==================================\n",
      "Object was never used (type <class 'tensorflow.python.framework.ops.Tensor'>):\n",
      "<tf.Tensor 'Matern12-38d9d388-0/variance/IsVariableInitialized:0' shape=() dtype=bool>\n",
      "If you want to mark it as used call its \"mark_used()\" method.\n",
      "It was originally created here:\n",
      "  File \"C:\\Users\\Ionut\\Anaconda3\\lib\\site-packages\\IPython\\core\\interactiveshell.py\", line 3285, in run_code\n",
      "    return outflag  File \"<ipython-input-6-0b355a35524f>\", line 1, in <module>\n",
      "    k=gpflow.kernels.Matern12(1, lengthscales=0.3)  File \"C:\\Users\\Ionut\\Anaconda3\\lib\\site-packages\\gpflow\\core\\compilable.py\", line 91, in __init__\n",
      "    self.initialize(force=True)  File \"C:\\Users\\Ionut\\Anaconda3\\lib\\site-packages\\gpflow\\core\\node.py\", line 156, in build\n",
      "    self._build()  File \"C:\\Users\\Ionut\\Anaconda3\\lib\\site-packages\\gpflow\\params\\parameterized.py\", line 302, in _build\n",
      "    self._prior_tensor = self._build_prior(priors)  File \"C:\\Users\\Ionut\\Anaconda3\\lib\\site-packages\\gpflow\\core\\node.py\", line 156, in build\n",
      "    self._build()  File \"C:\\Users\\Ionut\\Anaconda3\\lib\\site-packages\\gpflow\\params\\parameter.py\", line 370, in _build\n",
      "    self._prior_tensor = prior  File \"C:\\Users\\Ionut\\Anaconda3\\lib\\site-packages\\tensorflow\\python\\util\\tf_should_use.py\", line 189, in wrapped\n",
      "    return _add_should_use_warning(fn(*args, **kwargs))\n",
      "==================================\n"
     ]
    },
    {
     "name": "stderr",
     "output_type": "stream",
     "text": [
      "ERROR:tensorflow:==================================\n",
      "Object was never used (type <class 'tensorflow.python.framework.ops.Tensor'>):\n",
      "<tf.Tensor 'Matern12-38d9d388-0/variance/IsVariableInitialized:0' shape=() dtype=bool>\n",
      "If you want to mark it as used call its \"mark_used()\" method.\n",
      "It was originally created here:\n",
      "  File \"C:\\Users\\Ionut\\Anaconda3\\lib\\site-packages\\IPython\\core\\interactiveshell.py\", line 3285, in run_code\n",
      "    return outflag  File \"<ipython-input-6-0b355a35524f>\", line 1, in <module>\n",
      "    k=gpflow.kernels.Matern12(1, lengthscales=0.3)  File \"C:\\Users\\Ionut\\Anaconda3\\lib\\site-packages\\gpflow\\core\\compilable.py\", line 91, in __init__\n",
      "    self.initialize(force=True)  File \"C:\\Users\\Ionut\\Anaconda3\\lib\\site-packages\\gpflow\\core\\node.py\", line 156, in build\n",
      "    self._build()  File \"C:\\Users\\Ionut\\Anaconda3\\lib\\site-packages\\gpflow\\params\\parameterized.py\", line 302, in _build\n",
      "    self._prior_tensor = self._build_prior(priors)  File \"C:\\Users\\Ionut\\Anaconda3\\lib\\site-packages\\gpflow\\core\\node.py\", line 156, in build\n",
      "    self._build()  File \"C:\\Users\\Ionut\\Anaconda3\\lib\\site-packages\\gpflow\\params\\parameter.py\", line 370, in _build\n",
      "    self._prior_tensor = prior  File \"C:\\Users\\Ionut\\Anaconda3\\lib\\site-packages\\tensorflow\\python\\util\\tf_should_use.py\", line 189, in wrapped\n",
      "    return _add_should_use_warning(fn(*args, **kwargs))\n",
      "==================================\n"
     ]
    },
    {
     "name": "stdout",
     "output_type": "stream",
     "text": [
      "ERROR:tensorflow:==================================\n",
      "Object was never used (type <class 'tensorflow.python.framework.ops.Tensor'>):\n",
      "<tf.Tensor 'GPR-d0a38b09-10/likelihood/variance/IsVariableInitialized:0' shape=() dtype=bool>\n",
      "If you want to mark it as used call its \"mark_used()\" method.\n",
      "It was originally created here:\n",
      "  File \"C:\\Users\\Ionut\\Anaconda3\\lib\\site-packages\\IPython\\core\\interactiveshell.py\", line 3285, in run_code\n",
      "    return outflag  File \"<ipython-input-6-0b355a35524f>\", line 3, in <module>\n",
      "    m = gpflow.models.GPR(t_column,x_column, k, meanf)  File \"C:\\Users\\Ionut\\Anaconda3\\lib\\site-packages\\gpflow\\core\\compilable.py\", line 91, in __init__\n",
      "    self.initialize(force=True)  File \"C:\\Users\\Ionut\\Anaconda3\\lib\\site-packages\\gpflow\\core\\node.py\", line 156, in build\n",
      "    self._build()  File \"C:\\Users\\Ionut\\Anaconda3\\lib\\site-packages\\gpflow\\models\\model.py\", line 83, in _build\n",
      "    self._objective = objective  File \"C:\\Users\\Ionut\\Anaconda3\\lib\\site-packages\\gpflow\\params\\parameterized.py\", line 302, in _build\n",
      "    self._prior_tensor = self._build_prior(priors)  File \"C:\\Users\\Ionut\\Anaconda3\\lib\\site-packages\\gpflow\\core\\node.py\", line 156, in build\n",
      "    self._build()  File \"C:\\Users\\Ionut\\Anaconda3\\lib\\site-packages\\gpflow\\params\\parameterized.py\", line 302, in _build\n",
      "    self._prior_tensor = self._build_prior(priors)  File \"C:\\Users\\Ionut\\Anaconda3\\lib\\site-packages\\gpflow\\core\\node.py\", line 156, in build\n",
      "    self._build()  File \"C:\\Users\\Ionut\\Anaconda3\\lib\\site-packages\\gpflow\\params\\parameter.py\", line 370, in _build\n",
      "    self._prior_tensor = prior  File \"C:\\Users\\Ionut\\Anaconda3\\lib\\site-packages\\tensorflow\\python\\util\\tf_should_use.py\", line 189, in wrapped\n",
      "    return _add_should_use_warning(fn(*args, **kwargs))\n",
      "==================================\n"
     ]
    },
    {
     "name": "stderr",
     "output_type": "stream",
     "text": [
      "ERROR:tensorflow:==================================\n",
      "Object was never used (type <class 'tensorflow.python.framework.ops.Tensor'>):\n",
      "<tf.Tensor 'GPR-d0a38b09-10/likelihood/variance/IsVariableInitialized:0' shape=() dtype=bool>\n",
      "If you want to mark it as used call its \"mark_used()\" method.\n",
      "It was originally created here:\n",
      "  File \"C:\\Users\\Ionut\\Anaconda3\\lib\\site-packages\\IPython\\core\\interactiveshell.py\", line 3285, in run_code\n",
      "    return outflag  File \"<ipython-input-6-0b355a35524f>\", line 3, in <module>\n",
      "    m = gpflow.models.GPR(t_column,x_column, k, meanf)  File \"C:\\Users\\Ionut\\Anaconda3\\lib\\site-packages\\gpflow\\core\\compilable.py\", line 91, in __init__\n",
      "    self.initialize(force=True)  File \"C:\\Users\\Ionut\\Anaconda3\\lib\\site-packages\\gpflow\\core\\node.py\", line 156, in build\n",
      "    self._build()  File \"C:\\Users\\Ionut\\Anaconda3\\lib\\site-packages\\gpflow\\models\\model.py\", line 83, in _build\n",
      "    self._objective = objective  File \"C:\\Users\\Ionut\\Anaconda3\\lib\\site-packages\\gpflow\\params\\parameterized.py\", line 302, in _build\n",
      "    self._prior_tensor = self._build_prior(priors)  File \"C:\\Users\\Ionut\\Anaconda3\\lib\\site-packages\\gpflow\\core\\node.py\", line 156, in build\n",
      "    self._build()  File \"C:\\Users\\Ionut\\Anaconda3\\lib\\site-packages\\gpflow\\params\\parameterized.py\", line 302, in _build\n",
      "    self._prior_tensor = self._build_prior(priors)  File \"C:\\Users\\Ionut\\Anaconda3\\lib\\site-packages\\gpflow\\core\\node.py\", line 156, in build\n",
      "    self._build()  File \"C:\\Users\\Ionut\\Anaconda3\\lib\\site-packages\\gpflow\\params\\parameter.py\", line 370, in _build\n",
      "    self._prior_tensor = prior  File \"C:\\Users\\Ionut\\Anaconda3\\lib\\site-packages\\tensorflow\\python\\util\\tf_should_use.py\", line 189, in wrapped\n",
      "    return _add_should_use_warning(fn(*args, **kwargs))\n",
      "==================================\n"
     ]
    },
    {
     "name": "stdout",
     "output_type": "stream",
     "text": [
      "ERROR:tensorflow:==================================\n",
      "Object was never used (type <class 'tensorflow.python.framework.ops.Tensor'>):\n",
      "<tf.Tensor 'Linear-4f2619fa-3/A/IsVariableInitialized:0' shape=() dtype=bool>\n",
      "If you want to mark it as used call its \"mark_used()\" method.\n",
      "It was originally created here:\n",
      "  File \"C:\\Users\\Ionut\\Anaconda3\\lib\\site-packages\\IPython\\core\\interactiveshell.py\", line 3285, in run_code\n",
      "    return outflag  File \"<ipython-input-6-0b355a35524f>\", line 2, in <module>\n",
      "    meanf = gpflow.mean_functions.Linear(1.0, 0.0)  File \"C:\\Users\\Ionut\\Anaconda3\\lib\\site-packages\\gpflow\\core\\compilable.py\", line 91, in __init__\n",
      "    self.initialize(force=True)  File \"C:\\Users\\Ionut\\Anaconda3\\lib\\site-packages\\gpflow\\core\\node.py\", line 156, in build\n",
      "    self._build()  File \"C:\\Users\\Ionut\\Anaconda3\\lib\\site-packages\\gpflow\\params\\parameterized.py\", line 302, in _build\n",
      "    self._prior_tensor = self._build_prior(priors)  File \"C:\\Users\\Ionut\\Anaconda3\\lib\\site-packages\\gpflow\\core\\node.py\", line 156, in build\n",
      "    self._build()  File \"C:\\Users\\Ionut\\Anaconda3\\lib\\site-packages\\gpflow\\params\\parameter.py\", line 370, in _build\n",
      "    self._prior_tensor = prior  File \"C:\\Users\\Ionut\\Anaconda3\\lib\\site-packages\\tensorflow\\python\\util\\tf_should_use.py\", line 189, in wrapped\n",
      "    return _add_should_use_warning(fn(*args, **kwargs))\n",
      "==================================\n"
     ]
    },
    {
     "name": "stderr",
     "output_type": "stream",
     "text": [
      "ERROR:tensorflow:==================================\n",
      "Object was never used (type <class 'tensorflow.python.framework.ops.Tensor'>):\n",
      "<tf.Tensor 'Linear-4f2619fa-3/A/IsVariableInitialized:0' shape=() dtype=bool>\n",
      "If you want to mark it as used call its \"mark_used()\" method.\n",
      "It was originally created here:\n",
      "  File \"C:\\Users\\Ionut\\Anaconda3\\lib\\site-packages\\IPython\\core\\interactiveshell.py\", line 3285, in run_code\n",
      "    return outflag  File \"<ipython-input-6-0b355a35524f>\", line 2, in <module>\n",
      "    meanf = gpflow.mean_functions.Linear(1.0, 0.0)  File \"C:\\Users\\Ionut\\Anaconda3\\lib\\site-packages\\gpflow\\core\\compilable.py\", line 91, in __init__\n",
      "    self.initialize(force=True)  File \"C:\\Users\\Ionut\\Anaconda3\\lib\\site-packages\\gpflow\\core\\node.py\", line 156, in build\n",
      "    self._build()  File \"C:\\Users\\Ionut\\Anaconda3\\lib\\site-packages\\gpflow\\params\\parameterized.py\", line 302, in _build\n",
      "    self._prior_tensor = self._build_prior(priors)  File \"C:\\Users\\Ionut\\Anaconda3\\lib\\site-packages\\gpflow\\core\\node.py\", line 156, in build\n",
      "    self._build()  File \"C:\\Users\\Ionut\\Anaconda3\\lib\\site-packages\\gpflow\\params\\parameter.py\", line 370, in _build\n",
      "    self._prior_tensor = prior  File \"C:\\Users\\Ionut\\Anaconda3\\lib\\site-packages\\tensorflow\\python\\util\\tf_should_use.py\", line 189, in wrapped\n",
      "    return _add_should_use_warning(fn(*args, **kwargs))\n",
      "==================================\n"
     ]
    },
    {
     "name": "stdout",
     "output_type": "stream",
     "text": [
      "ERROR:tensorflow:==================================\n",
      "Object was never used (type <class 'tensorflow.python.framework.ops.Tensor'>):\n",
      "<tf.Tensor 'Linear-4f2619fa-3/b/IsVariableInitialized:0' shape=() dtype=bool>\n",
      "If you want to mark it as used call its \"mark_used()\" method.\n",
      "It was originally created here:\n",
      "  File \"C:\\Users\\Ionut\\Anaconda3\\lib\\site-packages\\IPython\\core\\interactiveshell.py\", line 3285, in run_code\n",
      "    return outflag  File \"<ipython-input-6-0b355a35524f>\", line 2, in <module>\n",
      "    meanf = gpflow.mean_functions.Linear(1.0, 0.0)  File \"C:\\Users\\Ionut\\Anaconda3\\lib\\site-packages\\gpflow\\core\\compilable.py\", line 91, in __init__\n",
      "    self.initialize(force=True)  File \"C:\\Users\\Ionut\\Anaconda3\\lib\\site-packages\\gpflow\\core\\node.py\", line 156, in build\n",
      "    self._build()  File \"C:\\Users\\Ionut\\Anaconda3\\lib\\site-packages\\gpflow\\params\\parameterized.py\", line 302, in _build\n",
      "    self._prior_tensor = self._build_prior(priors)  File \"C:\\Users\\Ionut\\Anaconda3\\lib\\site-packages\\gpflow\\core\\node.py\", line 156, in build\n",
      "    self._build()  File \"C:\\Users\\Ionut\\Anaconda3\\lib\\site-packages\\gpflow\\params\\parameter.py\", line 370, in _build\n",
      "    self._prior_tensor = prior  File \"C:\\Users\\Ionut\\Anaconda3\\lib\\site-packages\\tensorflow\\python\\util\\tf_should_use.py\", line 189, in wrapped\n",
      "    return _add_should_use_warning(fn(*args, **kwargs))\n",
      "==================================\n"
     ]
    },
    {
     "name": "stderr",
     "output_type": "stream",
     "text": [
      "ERROR:tensorflow:==================================\n",
      "Object was never used (type <class 'tensorflow.python.framework.ops.Tensor'>):\n",
      "<tf.Tensor 'Linear-4f2619fa-3/b/IsVariableInitialized:0' shape=() dtype=bool>\n",
      "If you want to mark it as used call its \"mark_used()\" method.\n",
      "It was originally created here:\n",
      "  File \"C:\\Users\\Ionut\\Anaconda3\\lib\\site-packages\\IPython\\core\\interactiveshell.py\", line 3285, in run_code\n",
      "    return outflag  File \"<ipython-input-6-0b355a35524f>\", line 2, in <module>\n",
      "    meanf = gpflow.mean_functions.Linear(1.0, 0.0)  File \"C:\\Users\\Ionut\\Anaconda3\\lib\\site-packages\\gpflow\\core\\compilable.py\", line 91, in __init__\n",
      "    self.initialize(force=True)  File \"C:\\Users\\Ionut\\Anaconda3\\lib\\site-packages\\gpflow\\core\\node.py\", line 156, in build\n",
      "    self._build()  File \"C:\\Users\\Ionut\\Anaconda3\\lib\\site-packages\\gpflow\\params\\parameterized.py\", line 302, in _build\n",
      "    self._prior_tensor = self._build_prior(priors)  File \"C:\\Users\\Ionut\\Anaconda3\\lib\\site-packages\\gpflow\\core\\node.py\", line 156, in build\n",
      "    self._build()  File \"C:\\Users\\Ionut\\Anaconda3\\lib\\site-packages\\gpflow\\params\\parameter.py\", line 370, in _build\n",
      "    self._prior_tensor = prior  File \"C:\\Users\\Ionut\\Anaconda3\\lib\\site-packages\\tensorflow\\python\\util\\tf_should_use.py\", line 189, in wrapped\n",
      "    return _add_should_use_warning(fn(*args, **kwargs))\n",
      "==================================\n",
      "WARNING:gpflow.logdensities:Shape of x must be 2D at computation.\n"
     ]
    },
    {
     "data": {
      "text/html": [
       "<div>\n",
       "<style scoped>\n",
       "    .dataframe tbody tr th:only-of-type {\n",
       "        vertical-align: middle;\n",
       "    }\n",
       "\n",
       "    .dataframe tbody tr th {\n",
       "        vertical-align: top;\n",
       "    }\n",
       "\n",
       "    .dataframe thead th {\n",
       "        text-align: right;\n",
       "    }\n",
       "</style>\n",
       "<table border=\"1\" class=\"dataframe\">\n",
       "  <thead>\n",
       "    <tr style=\"text-align: right;\">\n",
       "      <th></th>\n",
       "      <th>class</th>\n",
       "      <th>prior</th>\n",
       "      <th>transform</th>\n",
       "      <th>trainable</th>\n",
       "      <th>shape</th>\n",
       "      <th>fixed_shape</th>\n",
       "      <th>value</th>\n",
       "    </tr>\n",
       "  </thead>\n",
       "  <tbody>\n",
       "    <tr>\n",
       "      <th>GPR/kern/lengthscales</th>\n",
       "      <td>Parameter</td>\n",
       "      <td>Ga(1.0,1.0)</td>\n",
       "      <td>+ve</td>\n",
       "      <td>True</td>\n",
       "      <td>()</td>\n",
       "      <td>True</td>\n",
       "      <td>0.3</td>\n",
       "    </tr>\n",
       "    <tr>\n",
       "      <th>GPR/kern/variance</th>\n",
       "      <td>Parameter</td>\n",
       "      <td>Ga(1.0,1.0)</td>\n",
       "      <td>+ve</td>\n",
       "      <td>True</td>\n",
       "      <td>()</td>\n",
       "      <td>True</td>\n",
       "      <td>1.0</td>\n",
       "    </tr>\n",
       "    <tr>\n",
       "      <th>GPR/likelihood/variance</th>\n",
       "      <td>Parameter</td>\n",
       "      <td>Ga(1.0,1.0)</td>\n",
       "      <td>+ve</td>\n",
       "      <td>True</td>\n",
       "      <td>()</td>\n",
       "      <td>True</td>\n",
       "      <td>0.1</td>\n",
       "    </tr>\n",
       "    <tr>\n",
       "      <th>GPR/mean_function/A</th>\n",
       "      <td>Parameter</td>\n",
       "      <td>N(0.0,10.0)</td>\n",
       "      <td>(none)</td>\n",
       "      <td>True</td>\n",
       "      <td>(1, 1)</td>\n",
       "      <td>True</td>\n",
       "      <td>[[1.0]]</td>\n",
       "    </tr>\n",
       "    <tr>\n",
       "      <th>GPR/mean_function/b</th>\n",
       "      <td>Parameter</td>\n",
       "      <td>N(0.0,10.0)</td>\n",
       "      <td>(none)</td>\n",
       "      <td>True</td>\n",
       "      <td>()</td>\n",
       "      <td>True</td>\n",
       "      <td>0.0</td>\n",
       "    </tr>\n",
       "  </tbody>\n",
       "</table>\n",
       "</div>"
      ],
      "text/plain": [
       "                             class        prior transform  trainable   shape  \\\n",
       "GPR/kern/lengthscales    Parameter  Ga(1.0,1.0)       +ve       True      ()   \n",
       "GPR/kern/variance        Parameter  Ga(1.0,1.0)       +ve       True      ()   \n",
       "GPR/likelihood/variance  Parameter  Ga(1.0,1.0)       +ve       True      ()   \n",
       "GPR/mean_function/A      Parameter  N(0.0,10.0)    (none)       True  (1, 1)   \n",
       "GPR/mean_function/b      Parameter  N(0.0,10.0)    (none)       True      ()   \n",
       "\n",
       "                         fixed_shape    value  \n",
       "GPR/kern/lengthscales           True      0.3  \n",
       "GPR/kern/variance               True      1.0  \n",
       "GPR/likelihood/variance         True      0.1  \n",
       "GPR/mean_function/A             True  [[1.0]]  \n",
       "GPR/mean_function/b             True      0.0  "
      ]
     },
     "execution_count": 7,
     "metadata": {},
     "output_type": "execute_result"
    }
   ],
   "source": [
    "m.clear()\n",
    "m.kern.lengthscales.prior = gpflow.priors.Gamma(1., 1.)\n",
    "m.kern.variance.prior = gpflow.priors.Gamma(1., 1.)\n",
    "m.likelihood.variance.prior = gpflow.priors.Gamma(1., 1.)\n",
    "m.mean_function.A.prior = gpflow.priors.Gaussian(0., 10.)\n",
    "m.mean_function.b.prior = gpflow.priors.Gaussian(0., 10.)\n",
    "m.compile()\n",
    "m.as_pandas_table()"
   ]
  },
  {
   "cell_type": "code",
   "execution_count": 8,
   "metadata": {},
   "outputs": [
    {
     "name": "stderr",
     "output_type": "stream",
     "text": [
      "WARNING:gpflow.logdensities:Shape of x must be 2D at computation.\n"
     ]
    }
   ],
   "source": [
    "k1=gpflow.kernels.Matern12(1, lengthscales=5,variance=5)\n",
    "meanf1 = gpflow.mean_functions.Linear(5.0, 10.0)\n",
    "m1 = gpflow.models.GPR(t_column,x_column, k1, meanf1)\n",
    "m1.likelihood.variance = 1# get this to be bigger"
   ]
  },
  {
   "cell_type": "code",
   "execution_count": 9,
   "metadata": {},
   "outputs": [
    {
     "name": "stdout",
     "output_type": "stream",
     "text": [
      "ERROR:tensorflow:==================================\n",
      "Object was never used (type <class 'tensorflow.python.framework.ops.Tensor'>):\n",
      "<tf.Tensor 'GPR-7aca47bc-37/X/IsVariableInitialized:0' shape=() dtype=bool>\n",
      "If you want to mark it as used call its \"mark_used()\" method.\n",
      "It was originally created here:\n",
      "  File \"C:\\Users\\Ionut\\Anaconda3\\lib\\site-packages\\IPython\\core\\interactiveshell.py\", line 3285, in run_code\n",
      "    return outflag  File \"<ipython-input-8-c9c5ebd0160c>\", line 3, in <module>\n",
      "    m1 = gpflow.models.GPR(t_column,x_column, k1, meanf1)  File \"C:\\Users\\Ionut\\Anaconda3\\lib\\site-packages\\gpflow\\core\\compilable.py\", line 91, in __init__\n",
      "    self.initialize(force=True)  File \"C:\\Users\\Ionut\\Anaconda3\\lib\\site-packages\\gpflow\\core\\node.py\", line 156, in build\n",
      "    self._build()  File \"C:\\Users\\Ionut\\Anaconda3\\lib\\site-packages\\gpflow\\models\\model.py\", line 83, in _build\n",
      "    self._objective = objective  File \"C:\\Users\\Ionut\\Anaconda3\\lib\\site-packages\\gpflow\\params\\parameterized.py\", line 302, in _build\n",
      "    self._prior_tensor = self._build_prior(priors)  File \"C:\\Users\\Ionut\\Anaconda3\\lib\\site-packages\\gpflow\\core\\node.py\", line 156, in build\n",
      "    self._build()  File \"C:\\Users\\Ionut\\Anaconda3\\lib\\site-packages\\gpflow\\params\\dataholders.py\", line 91, in _build\n",
      "    self._is_initialized_tensor = tf.is_variable_initialized(tensor)  File \"C:\\Users\\Ionut\\Anaconda3\\lib\\site-packages\\tensorflow\\python\\util\\tf_should_use.py\", line 189, in wrapped\n",
      "    return _add_should_use_warning(fn(*args, **kwargs))\n",
      "==================================\n"
     ]
    },
    {
     "name": "stderr",
     "output_type": "stream",
     "text": [
      "ERROR:tensorflow:==================================\n",
      "Object was never used (type <class 'tensorflow.python.framework.ops.Tensor'>):\n",
      "<tf.Tensor 'GPR-7aca47bc-37/X/IsVariableInitialized:0' shape=() dtype=bool>\n",
      "If you want to mark it as used call its \"mark_used()\" method.\n",
      "It was originally created here:\n",
      "  File \"C:\\Users\\Ionut\\Anaconda3\\lib\\site-packages\\IPython\\core\\interactiveshell.py\", line 3285, in run_code\n",
      "    return outflag  File \"<ipython-input-8-c9c5ebd0160c>\", line 3, in <module>\n",
      "    m1 = gpflow.models.GPR(t_column,x_column, k1, meanf1)  File \"C:\\Users\\Ionut\\Anaconda3\\lib\\site-packages\\gpflow\\core\\compilable.py\", line 91, in __init__\n",
      "    self.initialize(force=True)  File \"C:\\Users\\Ionut\\Anaconda3\\lib\\site-packages\\gpflow\\core\\node.py\", line 156, in build\n",
      "    self._build()  File \"C:\\Users\\Ionut\\Anaconda3\\lib\\site-packages\\gpflow\\models\\model.py\", line 83, in _build\n",
      "    self._objective = objective  File \"C:\\Users\\Ionut\\Anaconda3\\lib\\site-packages\\gpflow\\params\\parameterized.py\", line 302, in _build\n",
      "    self._prior_tensor = self._build_prior(priors)  File \"C:\\Users\\Ionut\\Anaconda3\\lib\\site-packages\\gpflow\\core\\node.py\", line 156, in build\n",
      "    self._build()  File \"C:\\Users\\Ionut\\Anaconda3\\lib\\site-packages\\gpflow\\params\\dataholders.py\", line 91, in _build\n",
      "    self._is_initialized_tensor = tf.is_variable_initialized(tensor)  File \"C:\\Users\\Ionut\\Anaconda3\\lib\\site-packages\\tensorflow\\python\\util\\tf_should_use.py\", line 189, in wrapped\n",
      "    return _add_should_use_warning(fn(*args, **kwargs))\n",
      "==================================\n"
     ]
    },
    {
     "name": "stdout",
     "output_type": "stream",
     "text": [
      "ERROR:tensorflow:==================================\n",
      "Object was never used (type <class 'tensorflow.python.framework.ops.Tensor'>):\n",
      "<tf.Tensor 'GPR-7aca47bc-37/Y/IsVariableInitialized:0' shape=() dtype=bool>\n",
      "If you want to mark it as used call its \"mark_used()\" method.\n",
      "It was originally created here:\n",
      "  File \"C:\\Users\\Ionut\\Anaconda3\\lib\\site-packages\\IPython\\core\\interactiveshell.py\", line 3285, in run_code\n",
      "    return outflag  File \"<ipython-input-8-c9c5ebd0160c>\", line 3, in <module>\n",
      "    m1 = gpflow.models.GPR(t_column,x_column, k1, meanf1)  File \"C:\\Users\\Ionut\\Anaconda3\\lib\\site-packages\\gpflow\\core\\compilable.py\", line 91, in __init__\n",
      "    self.initialize(force=True)  File \"C:\\Users\\Ionut\\Anaconda3\\lib\\site-packages\\gpflow\\core\\node.py\", line 156, in build\n",
      "    self._build()  File \"C:\\Users\\Ionut\\Anaconda3\\lib\\site-packages\\gpflow\\models\\model.py\", line 83, in _build\n",
      "    self._objective = objective  File \"C:\\Users\\Ionut\\Anaconda3\\lib\\site-packages\\gpflow\\params\\parameterized.py\", line 302, in _build\n",
      "    self._prior_tensor = self._build_prior(priors)  File \"C:\\Users\\Ionut\\Anaconda3\\lib\\site-packages\\gpflow\\core\\node.py\", line 156, in build\n",
      "    self._build()  File \"C:\\Users\\Ionut\\Anaconda3\\lib\\site-packages\\gpflow\\params\\dataholders.py\", line 91, in _build\n",
      "    self._is_initialized_tensor = tf.is_variable_initialized(tensor)  File \"C:\\Users\\Ionut\\Anaconda3\\lib\\site-packages\\tensorflow\\python\\util\\tf_should_use.py\", line 189, in wrapped\n",
      "    return _add_should_use_warning(fn(*args, **kwargs))\n",
      "==================================\n"
     ]
    },
    {
     "name": "stderr",
     "output_type": "stream",
     "text": [
      "ERROR:tensorflow:==================================\n",
      "Object was never used (type <class 'tensorflow.python.framework.ops.Tensor'>):\n",
      "<tf.Tensor 'GPR-7aca47bc-37/Y/IsVariableInitialized:0' shape=() dtype=bool>\n",
      "If you want to mark it as used call its \"mark_used()\" method.\n",
      "It was originally created here:\n",
      "  File \"C:\\Users\\Ionut\\Anaconda3\\lib\\site-packages\\IPython\\core\\interactiveshell.py\", line 3285, in run_code\n",
      "    return outflag  File \"<ipython-input-8-c9c5ebd0160c>\", line 3, in <module>\n",
      "    m1 = gpflow.models.GPR(t_column,x_column, k1, meanf1)  File \"C:\\Users\\Ionut\\Anaconda3\\lib\\site-packages\\gpflow\\core\\compilable.py\", line 91, in __init__\n",
      "    self.initialize(force=True)  File \"C:\\Users\\Ionut\\Anaconda3\\lib\\site-packages\\gpflow\\core\\node.py\", line 156, in build\n",
      "    self._build()  File \"C:\\Users\\Ionut\\Anaconda3\\lib\\site-packages\\gpflow\\models\\model.py\", line 83, in _build\n",
      "    self._objective = objective  File \"C:\\Users\\Ionut\\Anaconda3\\lib\\site-packages\\gpflow\\params\\parameterized.py\", line 302, in _build\n",
      "    self._prior_tensor = self._build_prior(priors)  File \"C:\\Users\\Ionut\\Anaconda3\\lib\\site-packages\\gpflow\\core\\node.py\", line 156, in build\n",
      "    self._build()  File \"C:\\Users\\Ionut\\Anaconda3\\lib\\site-packages\\gpflow\\params\\dataholders.py\", line 91, in _build\n",
      "    self._is_initialized_tensor = tf.is_variable_initialized(tensor)  File \"C:\\Users\\Ionut\\Anaconda3\\lib\\site-packages\\tensorflow\\python\\util\\tf_should_use.py\", line 189, in wrapped\n",
      "    return _add_should_use_warning(fn(*args, **kwargs))\n",
      "==================================\n"
     ]
    },
    {
     "name": "stdout",
     "output_type": "stream",
     "text": [
      "ERROR:tensorflow:==================================\n",
      "Object was never used (type <class 'tensorflow.python.framework.ops.Tensor'>):\n",
      "<tf.Tensor 'Matern12-0640bf34-27/lengthscales/IsVariableInitialized:0' shape=() dtype=bool>\n",
      "If you want to mark it as used call its \"mark_used()\" method.\n",
      "It was originally created here:\n",
      "  File \"C:\\Users\\Ionut\\Anaconda3\\lib\\site-packages\\IPython\\core\\interactiveshell.py\", line 3285, in run_code\n",
      "    return outflag  File \"<ipython-input-8-c9c5ebd0160c>\", line 1, in <module>\n",
      "    k1=gpflow.kernels.Matern12(1, lengthscales=5,variance=5)  File \"C:\\Users\\Ionut\\Anaconda3\\lib\\site-packages\\gpflow\\core\\compilable.py\", line 91, in __init__\n",
      "    self.initialize(force=True)  File \"C:\\Users\\Ionut\\Anaconda3\\lib\\site-packages\\gpflow\\core\\node.py\", line 156, in build\n",
      "    self._build()  File \"C:\\Users\\Ionut\\Anaconda3\\lib\\site-packages\\gpflow\\params\\parameterized.py\", line 302, in _build\n",
      "    self._prior_tensor = self._build_prior(priors)  File \"C:\\Users\\Ionut\\Anaconda3\\lib\\site-packages\\gpflow\\core\\node.py\", line 156, in build\n",
      "    self._build()  File \"C:\\Users\\Ionut\\Anaconda3\\lib\\site-packages\\gpflow\\params\\parameter.py\", line 370, in _build\n",
      "    self._prior_tensor = prior  File \"C:\\Users\\Ionut\\Anaconda3\\lib\\site-packages\\tensorflow\\python\\util\\tf_should_use.py\", line 189, in wrapped\n",
      "    return _add_should_use_warning(fn(*args, **kwargs))\n",
      "==================================\n"
     ]
    },
    {
     "name": "stderr",
     "output_type": "stream",
     "text": [
      "ERROR:tensorflow:==================================\n",
      "Object was never used (type <class 'tensorflow.python.framework.ops.Tensor'>):\n",
      "<tf.Tensor 'Matern12-0640bf34-27/lengthscales/IsVariableInitialized:0' shape=() dtype=bool>\n",
      "If you want to mark it as used call its \"mark_used()\" method.\n",
      "It was originally created here:\n",
      "  File \"C:\\Users\\Ionut\\Anaconda3\\lib\\site-packages\\IPython\\core\\interactiveshell.py\", line 3285, in run_code\n",
      "    return outflag  File \"<ipython-input-8-c9c5ebd0160c>\", line 1, in <module>\n",
      "    k1=gpflow.kernels.Matern12(1, lengthscales=5,variance=5)  File \"C:\\Users\\Ionut\\Anaconda3\\lib\\site-packages\\gpflow\\core\\compilable.py\", line 91, in __init__\n",
      "    self.initialize(force=True)  File \"C:\\Users\\Ionut\\Anaconda3\\lib\\site-packages\\gpflow\\core\\node.py\", line 156, in build\n",
      "    self._build()  File \"C:\\Users\\Ionut\\Anaconda3\\lib\\site-packages\\gpflow\\params\\parameterized.py\", line 302, in _build\n",
      "    self._prior_tensor = self._build_prior(priors)  File \"C:\\Users\\Ionut\\Anaconda3\\lib\\site-packages\\gpflow\\core\\node.py\", line 156, in build\n",
      "    self._build()  File \"C:\\Users\\Ionut\\Anaconda3\\lib\\site-packages\\gpflow\\params\\parameter.py\", line 370, in _build\n",
      "    self._prior_tensor = prior  File \"C:\\Users\\Ionut\\Anaconda3\\lib\\site-packages\\tensorflow\\python\\util\\tf_should_use.py\", line 189, in wrapped\n",
      "    return _add_should_use_warning(fn(*args, **kwargs))\n",
      "==================================\n"
     ]
    },
    {
     "name": "stdout",
     "output_type": "stream",
     "text": [
      "ERROR:tensorflow:==================================\n",
      "Object was never used (type <class 'tensorflow.python.framework.ops.Tensor'>):\n",
      "<tf.Tensor 'Matern12-0640bf34-27/variance/IsVariableInitialized:0' shape=() dtype=bool>\n",
      "If you want to mark it as used call its \"mark_used()\" method.\n",
      "It was originally created here:\n",
      "  File \"C:\\Users\\Ionut\\Anaconda3\\lib\\site-packages\\IPython\\core\\interactiveshell.py\", line 3285, in run_code\n",
      "    return outflag  File \"<ipython-input-8-c9c5ebd0160c>\", line 1, in <module>\n",
      "    k1=gpflow.kernels.Matern12(1, lengthscales=5,variance=5)  File \"C:\\Users\\Ionut\\Anaconda3\\lib\\site-packages\\gpflow\\core\\compilable.py\", line 91, in __init__\n",
      "    self.initialize(force=True)  File \"C:\\Users\\Ionut\\Anaconda3\\lib\\site-packages\\gpflow\\core\\node.py\", line 156, in build\n",
      "    self._build()  File \"C:\\Users\\Ionut\\Anaconda3\\lib\\site-packages\\gpflow\\params\\parameterized.py\", line 302, in _build\n",
      "    self._prior_tensor = self._build_prior(priors)  File \"C:\\Users\\Ionut\\Anaconda3\\lib\\site-packages\\gpflow\\core\\node.py\", line 156, in build\n",
      "    self._build()  File \"C:\\Users\\Ionut\\Anaconda3\\lib\\site-packages\\gpflow\\params\\parameter.py\", line 370, in _build\n",
      "    self._prior_tensor = prior  File \"C:\\Users\\Ionut\\Anaconda3\\lib\\site-packages\\tensorflow\\python\\util\\tf_should_use.py\", line 189, in wrapped\n",
      "    return _add_should_use_warning(fn(*args, **kwargs))\n",
      "==================================\n"
     ]
    },
    {
     "name": "stderr",
     "output_type": "stream",
     "text": [
      "ERROR:tensorflow:==================================\n",
      "Object was never used (type <class 'tensorflow.python.framework.ops.Tensor'>):\n",
      "<tf.Tensor 'Matern12-0640bf34-27/variance/IsVariableInitialized:0' shape=() dtype=bool>\n",
      "If you want to mark it as used call its \"mark_used()\" method.\n",
      "It was originally created here:\n",
      "  File \"C:\\Users\\Ionut\\Anaconda3\\lib\\site-packages\\IPython\\core\\interactiveshell.py\", line 3285, in run_code\n",
      "    return outflag  File \"<ipython-input-8-c9c5ebd0160c>\", line 1, in <module>\n",
      "    k1=gpflow.kernels.Matern12(1, lengthscales=5,variance=5)  File \"C:\\Users\\Ionut\\Anaconda3\\lib\\site-packages\\gpflow\\core\\compilable.py\", line 91, in __init__\n",
      "    self.initialize(force=True)  File \"C:\\Users\\Ionut\\Anaconda3\\lib\\site-packages\\gpflow\\core\\node.py\", line 156, in build\n",
      "    self._build()  File \"C:\\Users\\Ionut\\Anaconda3\\lib\\site-packages\\gpflow\\params\\parameterized.py\", line 302, in _build\n",
      "    self._prior_tensor = self._build_prior(priors)  File \"C:\\Users\\Ionut\\Anaconda3\\lib\\site-packages\\gpflow\\core\\node.py\", line 156, in build\n",
      "    self._build()  File \"C:\\Users\\Ionut\\Anaconda3\\lib\\site-packages\\gpflow\\params\\parameter.py\", line 370, in _build\n",
      "    self._prior_tensor = prior  File \"C:\\Users\\Ionut\\Anaconda3\\lib\\site-packages\\tensorflow\\python\\util\\tf_should_use.py\", line 189, in wrapped\n",
      "    return _add_should_use_warning(fn(*args, **kwargs))\n",
      "==================================\n"
     ]
    },
    {
     "name": "stdout",
     "output_type": "stream",
     "text": [
      "ERROR:tensorflow:==================================\n",
      "Object was never used (type <class 'tensorflow.python.framework.ops.Tensor'>):\n",
      "<tf.Tensor 'GPR-7aca47bc-37/likelihood/variance/IsVariableInitialized:0' shape=() dtype=bool>\n",
      "If you want to mark it as used call its \"mark_used()\" method.\n",
      "It was originally created here:\n",
      "  File \"C:\\Users\\Ionut\\Anaconda3\\lib\\site-packages\\IPython\\core\\interactiveshell.py\", line 3285, in run_code\n",
      "    return outflag  File \"<ipython-input-8-c9c5ebd0160c>\", line 3, in <module>\n",
      "    m1 = gpflow.models.GPR(t_column,x_column, k1, meanf1)  File \"C:\\Users\\Ionut\\Anaconda3\\lib\\site-packages\\gpflow\\core\\compilable.py\", line 91, in __init__\n",
      "    self.initialize(force=True)  File \"C:\\Users\\Ionut\\Anaconda3\\lib\\site-packages\\gpflow\\core\\node.py\", line 156, in build\n",
      "    self._build()  File \"C:\\Users\\Ionut\\Anaconda3\\lib\\site-packages\\gpflow\\models\\model.py\", line 83, in _build\n",
      "    self._objective = objective  File \"C:\\Users\\Ionut\\Anaconda3\\lib\\site-packages\\gpflow\\params\\parameterized.py\", line 302, in _build\n",
      "    self._prior_tensor = self._build_prior(priors)  File \"C:\\Users\\Ionut\\Anaconda3\\lib\\site-packages\\gpflow\\core\\node.py\", line 156, in build\n",
      "    self._build()  File \"C:\\Users\\Ionut\\Anaconda3\\lib\\site-packages\\gpflow\\params\\parameterized.py\", line 302, in _build\n",
      "    self._prior_tensor = self._build_prior(priors)  File \"C:\\Users\\Ionut\\Anaconda3\\lib\\site-packages\\gpflow\\core\\node.py\", line 156, in build\n",
      "    self._build()  File \"C:\\Users\\Ionut\\Anaconda3\\lib\\site-packages\\gpflow\\params\\parameter.py\", line 370, in _build\n",
      "    self._prior_tensor = prior  File \"C:\\Users\\Ionut\\Anaconda3\\lib\\site-packages\\tensorflow\\python\\util\\tf_should_use.py\", line 189, in wrapped\n",
      "    return _add_should_use_warning(fn(*args, **kwargs))\n",
      "==================================\n"
     ]
    },
    {
     "name": "stderr",
     "output_type": "stream",
     "text": [
      "ERROR:tensorflow:==================================\n",
      "Object was never used (type <class 'tensorflow.python.framework.ops.Tensor'>):\n",
      "<tf.Tensor 'GPR-7aca47bc-37/likelihood/variance/IsVariableInitialized:0' shape=() dtype=bool>\n",
      "If you want to mark it as used call its \"mark_used()\" method.\n",
      "It was originally created here:\n",
      "  File \"C:\\Users\\Ionut\\Anaconda3\\lib\\site-packages\\IPython\\core\\interactiveshell.py\", line 3285, in run_code\n",
      "    return outflag  File \"<ipython-input-8-c9c5ebd0160c>\", line 3, in <module>\n",
      "    m1 = gpflow.models.GPR(t_column,x_column, k1, meanf1)  File \"C:\\Users\\Ionut\\Anaconda3\\lib\\site-packages\\gpflow\\core\\compilable.py\", line 91, in __init__\n",
      "    self.initialize(force=True)  File \"C:\\Users\\Ionut\\Anaconda3\\lib\\site-packages\\gpflow\\core\\node.py\", line 156, in build\n",
      "    self._build()  File \"C:\\Users\\Ionut\\Anaconda3\\lib\\site-packages\\gpflow\\models\\model.py\", line 83, in _build\n",
      "    self._objective = objective  File \"C:\\Users\\Ionut\\Anaconda3\\lib\\site-packages\\gpflow\\params\\parameterized.py\", line 302, in _build\n",
      "    self._prior_tensor = self._build_prior(priors)  File \"C:\\Users\\Ionut\\Anaconda3\\lib\\site-packages\\gpflow\\core\\node.py\", line 156, in build\n",
      "    self._build()  File \"C:\\Users\\Ionut\\Anaconda3\\lib\\site-packages\\gpflow\\params\\parameterized.py\", line 302, in _build\n",
      "    self._prior_tensor = self._build_prior(priors)  File \"C:\\Users\\Ionut\\Anaconda3\\lib\\site-packages\\gpflow\\core\\node.py\", line 156, in build\n",
      "    self._build()  File \"C:\\Users\\Ionut\\Anaconda3\\lib\\site-packages\\gpflow\\params\\parameter.py\", line 370, in _build\n",
      "    self._prior_tensor = prior  File \"C:\\Users\\Ionut\\Anaconda3\\lib\\site-packages\\tensorflow\\python\\util\\tf_should_use.py\", line 189, in wrapped\n",
      "    return _add_should_use_warning(fn(*args, **kwargs))\n",
      "==================================\n"
     ]
    },
    {
     "name": "stdout",
     "output_type": "stream",
     "text": [
      "ERROR:tensorflow:==================================\n",
      "Object was never used (type <class 'tensorflow.python.framework.ops.Tensor'>):\n",
      "<tf.Tensor 'Linear-cd789a35-30/A/IsVariableInitialized:0' shape=() dtype=bool>\n",
      "If you want to mark it as used call its \"mark_used()\" method.\n",
      "It was originally created here:\n",
      "  File \"C:\\Users\\Ionut\\Anaconda3\\lib\\site-packages\\IPython\\core\\interactiveshell.py\", line 3285, in run_code\n",
      "    return outflag  File \"<ipython-input-8-c9c5ebd0160c>\", line 2, in <module>\n",
      "    meanf1 = gpflow.mean_functions.Linear(5.0, 10.0)  File \"C:\\Users\\Ionut\\Anaconda3\\lib\\site-packages\\gpflow\\core\\compilable.py\", line 91, in __init__\n",
      "    self.initialize(force=True)  File \"C:\\Users\\Ionut\\Anaconda3\\lib\\site-packages\\gpflow\\core\\node.py\", line 156, in build\n",
      "    self._build()  File \"C:\\Users\\Ionut\\Anaconda3\\lib\\site-packages\\gpflow\\params\\parameterized.py\", line 302, in _build\n",
      "    self._prior_tensor = self._build_prior(priors)  File \"C:\\Users\\Ionut\\Anaconda3\\lib\\site-packages\\gpflow\\core\\node.py\", line 156, in build\n",
      "    self._build()  File \"C:\\Users\\Ionut\\Anaconda3\\lib\\site-packages\\gpflow\\params\\parameter.py\", line 370, in _build\n",
      "    self._prior_tensor = prior  File \"C:\\Users\\Ionut\\Anaconda3\\lib\\site-packages\\tensorflow\\python\\util\\tf_should_use.py\", line 189, in wrapped\n",
      "    return _add_should_use_warning(fn(*args, **kwargs))\n",
      "==================================\n"
     ]
    },
    {
     "name": "stderr",
     "output_type": "stream",
     "text": [
      "ERROR:tensorflow:==================================\n",
      "Object was never used (type <class 'tensorflow.python.framework.ops.Tensor'>):\n",
      "<tf.Tensor 'Linear-cd789a35-30/A/IsVariableInitialized:0' shape=() dtype=bool>\n",
      "If you want to mark it as used call its \"mark_used()\" method.\n",
      "It was originally created here:\n",
      "  File \"C:\\Users\\Ionut\\Anaconda3\\lib\\site-packages\\IPython\\core\\interactiveshell.py\", line 3285, in run_code\n",
      "    return outflag  File \"<ipython-input-8-c9c5ebd0160c>\", line 2, in <module>\n",
      "    meanf1 = gpflow.mean_functions.Linear(5.0, 10.0)  File \"C:\\Users\\Ionut\\Anaconda3\\lib\\site-packages\\gpflow\\core\\compilable.py\", line 91, in __init__\n",
      "    self.initialize(force=True)  File \"C:\\Users\\Ionut\\Anaconda3\\lib\\site-packages\\gpflow\\core\\node.py\", line 156, in build\n",
      "    self._build()  File \"C:\\Users\\Ionut\\Anaconda3\\lib\\site-packages\\gpflow\\params\\parameterized.py\", line 302, in _build\n",
      "    self._prior_tensor = self._build_prior(priors)  File \"C:\\Users\\Ionut\\Anaconda3\\lib\\site-packages\\gpflow\\core\\node.py\", line 156, in build\n",
      "    self._build()  File \"C:\\Users\\Ionut\\Anaconda3\\lib\\site-packages\\gpflow\\params\\parameter.py\", line 370, in _build\n",
      "    self._prior_tensor = prior  File \"C:\\Users\\Ionut\\Anaconda3\\lib\\site-packages\\tensorflow\\python\\util\\tf_should_use.py\", line 189, in wrapped\n",
      "    return _add_should_use_warning(fn(*args, **kwargs))\n",
      "==================================\n"
     ]
    },
    {
     "name": "stdout",
     "output_type": "stream",
     "text": [
      "ERROR:tensorflow:==================================\n",
      "Object was never used (type <class 'tensorflow.python.framework.ops.Tensor'>):\n",
      "<tf.Tensor 'Linear-cd789a35-30/b/IsVariableInitialized:0' shape=() dtype=bool>\n",
      "If you want to mark it as used call its \"mark_used()\" method.\n",
      "It was originally created here:\n",
      "  File \"C:\\Users\\Ionut\\Anaconda3\\lib\\site-packages\\IPython\\core\\interactiveshell.py\", line 3285, in run_code\n",
      "    return outflag  File \"<ipython-input-8-c9c5ebd0160c>\", line 2, in <module>\n",
      "    meanf1 = gpflow.mean_functions.Linear(5.0, 10.0)  File \"C:\\Users\\Ionut\\Anaconda3\\lib\\site-packages\\gpflow\\core\\compilable.py\", line 91, in __init__\n",
      "    self.initialize(force=True)  File \"C:\\Users\\Ionut\\Anaconda3\\lib\\site-packages\\gpflow\\core\\node.py\", line 156, in build\n",
      "    self._build()  File \"C:\\Users\\Ionut\\Anaconda3\\lib\\site-packages\\gpflow\\params\\parameterized.py\", line 302, in _build\n",
      "    self._prior_tensor = self._build_prior(priors)  File \"C:\\Users\\Ionut\\Anaconda3\\lib\\site-packages\\gpflow\\core\\node.py\", line 156, in build\n",
      "    self._build()  File \"C:\\Users\\Ionut\\Anaconda3\\lib\\site-packages\\gpflow\\params\\parameter.py\", line 370, in _build\n",
      "    self._prior_tensor = prior  File \"C:\\Users\\Ionut\\Anaconda3\\lib\\site-packages\\tensorflow\\python\\util\\tf_should_use.py\", line 189, in wrapped\n",
      "    return _add_should_use_warning(fn(*args, **kwargs))\n",
      "==================================\n"
     ]
    },
    {
     "name": "stderr",
     "output_type": "stream",
     "text": [
      "ERROR:tensorflow:==================================\n",
      "Object was never used (type <class 'tensorflow.python.framework.ops.Tensor'>):\n",
      "<tf.Tensor 'Linear-cd789a35-30/b/IsVariableInitialized:0' shape=() dtype=bool>\n",
      "If you want to mark it as used call its \"mark_used()\" method.\n",
      "It was originally created here:\n",
      "  File \"C:\\Users\\Ionut\\Anaconda3\\lib\\site-packages\\IPython\\core\\interactiveshell.py\", line 3285, in run_code\n",
      "    return outflag  File \"<ipython-input-8-c9c5ebd0160c>\", line 2, in <module>\n",
      "    meanf1 = gpflow.mean_functions.Linear(5.0, 10.0)  File \"C:\\Users\\Ionut\\Anaconda3\\lib\\site-packages\\gpflow\\core\\compilable.py\", line 91, in __init__\n",
      "    self.initialize(force=True)  File \"C:\\Users\\Ionut\\Anaconda3\\lib\\site-packages\\gpflow\\core\\node.py\", line 156, in build\n",
      "    self._build()  File \"C:\\Users\\Ionut\\Anaconda3\\lib\\site-packages\\gpflow\\params\\parameterized.py\", line 302, in _build\n",
      "    self._prior_tensor = self._build_prior(priors)  File \"C:\\Users\\Ionut\\Anaconda3\\lib\\site-packages\\gpflow\\core\\node.py\", line 156, in build\n",
      "    self._build()  File \"C:\\Users\\Ionut\\Anaconda3\\lib\\site-packages\\gpflow\\params\\parameter.py\", line 370, in _build\n",
      "    self._prior_tensor = prior  File \"C:\\Users\\Ionut\\Anaconda3\\lib\\site-packages\\tensorflow\\python\\util\\tf_should_use.py\", line 189, in wrapped\n",
      "    return _add_should_use_warning(fn(*args, **kwargs))\n",
      "==================================\n",
      "WARNING:gpflow.logdensities:Shape of x must be 2D at computation.\n"
     ]
    },
    {
     "data": {
      "text/html": [
       "<div>\n",
       "<style scoped>\n",
       "    .dataframe tbody tr th:only-of-type {\n",
       "        vertical-align: middle;\n",
       "    }\n",
       "\n",
       "    .dataframe tbody tr th {\n",
       "        vertical-align: top;\n",
       "    }\n",
       "\n",
       "    .dataframe thead th {\n",
       "        text-align: right;\n",
       "    }\n",
       "</style>\n",
       "<table border=\"1\" class=\"dataframe\">\n",
       "  <thead>\n",
       "    <tr style=\"text-align: right;\">\n",
       "      <th></th>\n",
       "      <th>class</th>\n",
       "      <th>prior</th>\n",
       "      <th>transform</th>\n",
       "      <th>trainable</th>\n",
       "      <th>shape</th>\n",
       "      <th>fixed_shape</th>\n",
       "      <th>value</th>\n",
       "    </tr>\n",
       "  </thead>\n",
       "  <tbody>\n",
       "    <tr>\n",
       "      <th>GPR/kern/lengthscales</th>\n",
       "      <td>Parameter</td>\n",
       "      <td>Ga(1.0,1.0)</td>\n",
       "      <td>+ve</td>\n",
       "      <td>True</td>\n",
       "      <td>()</td>\n",
       "      <td>True</td>\n",
       "      <td>5.0</td>\n",
       "    </tr>\n",
       "    <tr>\n",
       "      <th>GPR/kern/variance</th>\n",
       "      <td>Parameter</td>\n",
       "      <td>Ga(1.0,1.0)</td>\n",
       "      <td>+ve</td>\n",
       "      <td>True</td>\n",
       "      <td>()</td>\n",
       "      <td>True</td>\n",
       "      <td>5.0</td>\n",
       "    </tr>\n",
       "    <tr>\n",
       "      <th>GPR/likelihood/variance</th>\n",
       "      <td>Parameter</td>\n",
       "      <td>Ga(1.0,1.0)</td>\n",
       "      <td>+ve</td>\n",
       "      <td>True</td>\n",
       "      <td>()</td>\n",
       "      <td>True</td>\n",
       "      <td>1.0</td>\n",
       "    </tr>\n",
       "    <tr>\n",
       "      <th>GPR/mean_function/A</th>\n",
       "      <td>Parameter</td>\n",
       "      <td>N(0.0,10.0)</td>\n",
       "      <td>(none)</td>\n",
       "      <td>True</td>\n",
       "      <td>(1, 1)</td>\n",
       "      <td>True</td>\n",
       "      <td>[[5.0]]</td>\n",
       "    </tr>\n",
       "    <tr>\n",
       "      <th>GPR/mean_function/b</th>\n",
       "      <td>Parameter</td>\n",
       "      <td>N(0.0,10.0)</td>\n",
       "      <td>(none)</td>\n",
       "      <td>True</td>\n",
       "      <td>()</td>\n",
       "      <td>True</td>\n",
       "      <td>10.0</td>\n",
       "    </tr>\n",
       "  </tbody>\n",
       "</table>\n",
       "</div>"
      ],
      "text/plain": [
       "                             class        prior transform  trainable   shape  \\\n",
       "GPR/kern/lengthscales    Parameter  Ga(1.0,1.0)       +ve       True      ()   \n",
       "GPR/kern/variance        Parameter  Ga(1.0,1.0)       +ve       True      ()   \n",
       "GPR/likelihood/variance  Parameter  Ga(1.0,1.0)       +ve       True      ()   \n",
       "GPR/mean_function/A      Parameter  N(0.0,10.0)    (none)       True  (1, 1)   \n",
       "GPR/mean_function/b      Parameter  N(0.0,10.0)    (none)       True      ()   \n",
       "\n",
       "                         fixed_shape    value  \n",
       "GPR/kern/lengthscales           True      5.0  \n",
       "GPR/kern/variance               True      5.0  \n",
       "GPR/likelihood/variance         True      1.0  \n",
       "GPR/mean_function/A             True  [[5.0]]  \n",
       "GPR/mean_function/b             True     10.0  "
      ]
     },
     "execution_count": 9,
     "metadata": {},
     "output_type": "execute_result"
    }
   ],
   "source": [
    "m1.clear()\n",
    "m1.kern.lengthscales.prior = gpflow.priors.Gamma(1., 1.)\n",
    "m1.kern.variance.prior = gpflow.priors.Gamma(1., 1.)\n",
    "m1.likelihood.variance.prior = gpflow.priors.Gamma(1., 1.)\n",
    "m1.mean_function.A.prior = gpflow.priors.Gaussian(0., 10.)\n",
    "m1.mean_function.b.prior = gpflow.priors.Gaussian(0., 10.)\n",
    "m1.compile()\n",
    "m1.as_pandas_table()\n"
   ]
  },
  {
   "cell_type": "code",
   "execution_count": 10,
   "metadata": {},
   "outputs": [
    {
     "name": "stderr",
     "output_type": "stream",
     "text": [
      "WARNING:gpflow.logdensities:Shape of x must be 2D at computation.\n"
     ]
    }
   ],
   "source": [
    "k2=gpflow.kernels.Matern12(1, lengthscales=20,variance=10)\n",
    "meanf2 = gpflow.mean_functions.Linear(10.0, 5.0)\n",
    "m2 = gpflow.models.GPR(t_column,x_column, k2, meanf2)\n",
    "m2.likelihood.variance = 2# get this to be bigger"
   ]
  },
  {
   "cell_type": "code",
   "execution_count": 11,
   "metadata": {},
   "outputs": [
    {
     "name": "stdout",
     "output_type": "stream",
     "text": [
      "ERROR:tensorflow:==================================\n",
      "Object was never used (type <class 'tensorflow.python.framework.ops.Tensor'>):\n",
      "<tf.Tensor 'GPR-91427dd9-64/X/IsVariableInitialized:0' shape=() dtype=bool>\n",
      "If you want to mark it as used call its \"mark_used()\" method.\n",
      "It was originally created here:\n",
      "  File \"C:\\Users\\Ionut\\Anaconda3\\lib\\site-packages\\IPython\\core\\interactiveshell.py\", line 3285, in run_code\n",
      "    return outflag  File \"<ipython-input-10-1a8ed500c9ee>\", line 3, in <module>\n",
      "    m2 = gpflow.models.GPR(t_column,x_column, k2, meanf2)  File \"C:\\Users\\Ionut\\Anaconda3\\lib\\site-packages\\gpflow\\core\\compilable.py\", line 91, in __init__\n",
      "    self.initialize(force=True)  File \"C:\\Users\\Ionut\\Anaconda3\\lib\\site-packages\\gpflow\\core\\node.py\", line 156, in build\n",
      "    self._build()  File \"C:\\Users\\Ionut\\Anaconda3\\lib\\site-packages\\gpflow\\models\\model.py\", line 83, in _build\n",
      "    self._objective = objective  File \"C:\\Users\\Ionut\\Anaconda3\\lib\\site-packages\\gpflow\\params\\parameterized.py\", line 302, in _build\n",
      "    self._prior_tensor = self._build_prior(priors)  File \"C:\\Users\\Ionut\\Anaconda3\\lib\\site-packages\\gpflow\\core\\node.py\", line 156, in build\n",
      "    self._build()  File \"C:\\Users\\Ionut\\Anaconda3\\lib\\site-packages\\gpflow\\params\\dataholders.py\", line 91, in _build\n",
      "    self._is_initialized_tensor = tf.is_variable_initialized(tensor)  File \"C:\\Users\\Ionut\\Anaconda3\\lib\\site-packages\\tensorflow\\python\\util\\tf_should_use.py\", line 189, in wrapped\n",
      "    return _add_should_use_warning(fn(*args, **kwargs))\n",
      "==================================\n"
     ]
    },
    {
     "name": "stderr",
     "output_type": "stream",
     "text": [
      "ERROR:tensorflow:==================================\n",
      "Object was never used (type <class 'tensorflow.python.framework.ops.Tensor'>):\n",
      "<tf.Tensor 'GPR-91427dd9-64/X/IsVariableInitialized:0' shape=() dtype=bool>\n",
      "If you want to mark it as used call its \"mark_used()\" method.\n",
      "It was originally created here:\n",
      "  File \"C:\\Users\\Ionut\\Anaconda3\\lib\\site-packages\\IPython\\core\\interactiveshell.py\", line 3285, in run_code\n",
      "    return outflag  File \"<ipython-input-10-1a8ed500c9ee>\", line 3, in <module>\n",
      "    m2 = gpflow.models.GPR(t_column,x_column, k2, meanf2)  File \"C:\\Users\\Ionut\\Anaconda3\\lib\\site-packages\\gpflow\\core\\compilable.py\", line 91, in __init__\n",
      "    self.initialize(force=True)  File \"C:\\Users\\Ionut\\Anaconda3\\lib\\site-packages\\gpflow\\core\\node.py\", line 156, in build\n",
      "    self._build()  File \"C:\\Users\\Ionut\\Anaconda3\\lib\\site-packages\\gpflow\\models\\model.py\", line 83, in _build\n",
      "    self._objective = objective  File \"C:\\Users\\Ionut\\Anaconda3\\lib\\site-packages\\gpflow\\params\\parameterized.py\", line 302, in _build\n",
      "    self._prior_tensor = self._build_prior(priors)  File \"C:\\Users\\Ionut\\Anaconda3\\lib\\site-packages\\gpflow\\core\\node.py\", line 156, in build\n",
      "    self._build()  File \"C:\\Users\\Ionut\\Anaconda3\\lib\\site-packages\\gpflow\\params\\dataholders.py\", line 91, in _build\n",
      "    self._is_initialized_tensor = tf.is_variable_initialized(tensor)  File \"C:\\Users\\Ionut\\Anaconda3\\lib\\site-packages\\tensorflow\\python\\util\\tf_should_use.py\", line 189, in wrapped\n",
      "    return _add_should_use_warning(fn(*args, **kwargs))\n",
      "==================================\n"
     ]
    },
    {
     "name": "stdout",
     "output_type": "stream",
     "text": [
      "ERROR:tensorflow:==================================\n",
      "Object was never used (type <class 'tensorflow.python.framework.ops.Tensor'>):\n",
      "<tf.Tensor 'GPR-91427dd9-64/Y/IsVariableInitialized:0' shape=() dtype=bool>\n",
      "If you want to mark it as used call its \"mark_used()\" method.\n",
      "It was originally created here:\n",
      "  File \"C:\\Users\\Ionut\\Anaconda3\\lib\\site-packages\\IPython\\core\\interactiveshell.py\", line 3285, in run_code\n",
      "    return outflag  File \"<ipython-input-10-1a8ed500c9ee>\", line 3, in <module>\n",
      "    m2 = gpflow.models.GPR(t_column,x_column, k2, meanf2)  File \"C:\\Users\\Ionut\\Anaconda3\\lib\\site-packages\\gpflow\\core\\compilable.py\", line 91, in __init__\n",
      "    self.initialize(force=True)  File \"C:\\Users\\Ionut\\Anaconda3\\lib\\site-packages\\gpflow\\core\\node.py\", line 156, in build\n",
      "    self._build()  File \"C:\\Users\\Ionut\\Anaconda3\\lib\\site-packages\\gpflow\\models\\model.py\", line 83, in _build\n",
      "    self._objective = objective  File \"C:\\Users\\Ionut\\Anaconda3\\lib\\site-packages\\gpflow\\params\\parameterized.py\", line 302, in _build\n",
      "    self._prior_tensor = self._build_prior(priors)  File \"C:\\Users\\Ionut\\Anaconda3\\lib\\site-packages\\gpflow\\core\\node.py\", line 156, in build\n",
      "    self._build()  File \"C:\\Users\\Ionut\\Anaconda3\\lib\\site-packages\\gpflow\\params\\dataholders.py\", line 91, in _build\n",
      "    self._is_initialized_tensor = tf.is_variable_initialized(tensor)  File \"C:\\Users\\Ionut\\Anaconda3\\lib\\site-packages\\tensorflow\\python\\util\\tf_should_use.py\", line 189, in wrapped\n",
      "    return _add_should_use_warning(fn(*args, **kwargs))\n",
      "==================================\n"
     ]
    },
    {
     "name": "stderr",
     "output_type": "stream",
     "text": [
      "ERROR:tensorflow:==================================\n",
      "Object was never used (type <class 'tensorflow.python.framework.ops.Tensor'>):\n",
      "<tf.Tensor 'GPR-91427dd9-64/Y/IsVariableInitialized:0' shape=() dtype=bool>\n",
      "If you want to mark it as used call its \"mark_used()\" method.\n",
      "It was originally created here:\n",
      "  File \"C:\\Users\\Ionut\\Anaconda3\\lib\\site-packages\\IPython\\core\\interactiveshell.py\", line 3285, in run_code\n",
      "    return outflag  File \"<ipython-input-10-1a8ed500c9ee>\", line 3, in <module>\n",
      "    m2 = gpflow.models.GPR(t_column,x_column, k2, meanf2)  File \"C:\\Users\\Ionut\\Anaconda3\\lib\\site-packages\\gpflow\\core\\compilable.py\", line 91, in __init__\n",
      "    self.initialize(force=True)  File \"C:\\Users\\Ionut\\Anaconda3\\lib\\site-packages\\gpflow\\core\\node.py\", line 156, in build\n",
      "    self._build()  File \"C:\\Users\\Ionut\\Anaconda3\\lib\\site-packages\\gpflow\\models\\model.py\", line 83, in _build\n",
      "    self._objective = objective  File \"C:\\Users\\Ionut\\Anaconda3\\lib\\site-packages\\gpflow\\params\\parameterized.py\", line 302, in _build\n",
      "    self._prior_tensor = self._build_prior(priors)  File \"C:\\Users\\Ionut\\Anaconda3\\lib\\site-packages\\gpflow\\core\\node.py\", line 156, in build\n",
      "    self._build()  File \"C:\\Users\\Ionut\\Anaconda3\\lib\\site-packages\\gpflow\\params\\dataholders.py\", line 91, in _build\n",
      "    self._is_initialized_tensor = tf.is_variable_initialized(tensor)  File \"C:\\Users\\Ionut\\Anaconda3\\lib\\site-packages\\tensorflow\\python\\util\\tf_should_use.py\", line 189, in wrapped\n",
      "    return _add_should_use_warning(fn(*args, **kwargs))\n",
      "==================================\n"
     ]
    },
    {
     "name": "stdout",
     "output_type": "stream",
     "text": [
      "ERROR:tensorflow:==================================\n",
      "Object was never used (type <class 'tensorflow.python.framework.ops.Tensor'>):\n",
      "<tf.Tensor 'Matern12-6c2a82da-54/lengthscales/IsVariableInitialized:0' shape=() dtype=bool>\n",
      "If you want to mark it as used call its \"mark_used()\" method.\n",
      "It was originally created here:\n",
      "  File \"C:\\Users\\Ionut\\Anaconda3\\lib\\site-packages\\IPython\\core\\interactiveshell.py\", line 3285, in run_code\n",
      "    return outflag  File \"<ipython-input-10-1a8ed500c9ee>\", line 1, in <module>\n",
      "    k2=gpflow.kernels.Matern12(1, lengthscales=20,variance=10)  File \"C:\\Users\\Ionut\\Anaconda3\\lib\\site-packages\\gpflow\\core\\compilable.py\", line 91, in __init__\n",
      "    self.initialize(force=True)  File \"C:\\Users\\Ionut\\Anaconda3\\lib\\site-packages\\gpflow\\core\\node.py\", line 156, in build\n",
      "    self._build()  File \"C:\\Users\\Ionut\\Anaconda3\\lib\\site-packages\\gpflow\\params\\parameterized.py\", line 302, in _build\n",
      "    self._prior_tensor = self._build_prior(priors)  File \"C:\\Users\\Ionut\\Anaconda3\\lib\\site-packages\\gpflow\\core\\node.py\", line 156, in build\n",
      "    self._build()  File \"C:\\Users\\Ionut\\Anaconda3\\lib\\site-packages\\gpflow\\params\\parameter.py\", line 370, in _build\n",
      "    self._prior_tensor = prior  File \"C:\\Users\\Ionut\\Anaconda3\\lib\\site-packages\\tensorflow\\python\\util\\tf_should_use.py\", line 189, in wrapped\n",
      "    return _add_should_use_warning(fn(*args, **kwargs))\n",
      "==================================\n"
     ]
    },
    {
     "name": "stderr",
     "output_type": "stream",
     "text": [
      "ERROR:tensorflow:==================================\n",
      "Object was never used (type <class 'tensorflow.python.framework.ops.Tensor'>):\n",
      "<tf.Tensor 'Matern12-6c2a82da-54/lengthscales/IsVariableInitialized:0' shape=() dtype=bool>\n",
      "If you want to mark it as used call its \"mark_used()\" method.\n",
      "It was originally created here:\n",
      "  File \"C:\\Users\\Ionut\\Anaconda3\\lib\\site-packages\\IPython\\core\\interactiveshell.py\", line 3285, in run_code\n",
      "    return outflag  File \"<ipython-input-10-1a8ed500c9ee>\", line 1, in <module>\n",
      "    k2=gpflow.kernels.Matern12(1, lengthscales=20,variance=10)  File \"C:\\Users\\Ionut\\Anaconda3\\lib\\site-packages\\gpflow\\core\\compilable.py\", line 91, in __init__\n",
      "    self.initialize(force=True)  File \"C:\\Users\\Ionut\\Anaconda3\\lib\\site-packages\\gpflow\\core\\node.py\", line 156, in build\n",
      "    self._build()  File \"C:\\Users\\Ionut\\Anaconda3\\lib\\site-packages\\gpflow\\params\\parameterized.py\", line 302, in _build\n",
      "    self._prior_tensor = self._build_prior(priors)  File \"C:\\Users\\Ionut\\Anaconda3\\lib\\site-packages\\gpflow\\core\\node.py\", line 156, in build\n",
      "    self._build()  File \"C:\\Users\\Ionut\\Anaconda3\\lib\\site-packages\\gpflow\\params\\parameter.py\", line 370, in _build\n",
      "    self._prior_tensor = prior  File \"C:\\Users\\Ionut\\Anaconda3\\lib\\site-packages\\tensorflow\\python\\util\\tf_should_use.py\", line 189, in wrapped\n",
      "    return _add_should_use_warning(fn(*args, **kwargs))\n",
      "==================================\n"
     ]
    },
    {
     "name": "stdout",
     "output_type": "stream",
     "text": [
      "ERROR:tensorflow:==================================\n",
      "Object was never used (type <class 'tensorflow.python.framework.ops.Tensor'>):\n",
      "<tf.Tensor 'Matern12-6c2a82da-54/variance/IsVariableInitialized:0' shape=() dtype=bool>\n",
      "If you want to mark it as used call its \"mark_used()\" method.\n",
      "It was originally created here:\n",
      "  File \"C:\\Users\\Ionut\\Anaconda3\\lib\\site-packages\\IPython\\core\\interactiveshell.py\", line 3285, in run_code\n",
      "    return outflag  File \"<ipython-input-10-1a8ed500c9ee>\", line 1, in <module>\n",
      "    k2=gpflow.kernels.Matern12(1, lengthscales=20,variance=10)  File \"C:\\Users\\Ionut\\Anaconda3\\lib\\site-packages\\gpflow\\core\\compilable.py\", line 91, in __init__\n",
      "    self.initialize(force=True)  File \"C:\\Users\\Ionut\\Anaconda3\\lib\\site-packages\\gpflow\\core\\node.py\", line 156, in build\n",
      "    self._build()  File \"C:\\Users\\Ionut\\Anaconda3\\lib\\site-packages\\gpflow\\params\\parameterized.py\", line 302, in _build\n",
      "    self._prior_tensor = self._build_prior(priors)  File \"C:\\Users\\Ionut\\Anaconda3\\lib\\site-packages\\gpflow\\core\\node.py\", line 156, in build\n",
      "    self._build()  File \"C:\\Users\\Ionut\\Anaconda3\\lib\\site-packages\\gpflow\\params\\parameter.py\", line 370, in _build\n",
      "    self._prior_tensor = prior  File \"C:\\Users\\Ionut\\Anaconda3\\lib\\site-packages\\tensorflow\\python\\util\\tf_should_use.py\", line 189, in wrapped\n",
      "    return _add_should_use_warning(fn(*args, **kwargs))\n",
      "==================================\n"
     ]
    },
    {
     "name": "stderr",
     "output_type": "stream",
     "text": [
      "ERROR:tensorflow:==================================\n",
      "Object was never used (type <class 'tensorflow.python.framework.ops.Tensor'>):\n",
      "<tf.Tensor 'Matern12-6c2a82da-54/variance/IsVariableInitialized:0' shape=() dtype=bool>\n",
      "If you want to mark it as used call its \"mark_used()\" method.\n",
      "It was originally created here:\n",
      "  File \"C:\\Users\\Ionut\\Anaconda3\\lib\\site-packages\\IPython\\core\\interactiveshell.py\", line 3285, in run_code\n",
      "    return outflag  File \"<ipython-input-10-1a8ed500c9ee>\", line 1, in <module>\n",
      "    k2=gpflow.kernels.Matern12(1, lengthscales=20,variance=10)  File \"C:\\Users\\Ionut\\Anaconda3\\lib\\site-packages\\gpflow\\core\\compilable.py\", line 91, in __init__\n",
      "    self.initialize(force=True)  File \"C:\\Users\\Ionut\\Anaconda3\\lib\\site-packages\\gpflow\\core\\node.py\", line 156, in build\n",
      "    self._build()  File \"C:\\Users\\Ionut\\Anaconda3\\lib\\site-packages\\gpflow\\params\\parameterized.py\", line 302, in _build\n",
      "    self._prior_tensor = self._build_prior(priors)  File \"C:\\Users\\Ionut\\Anaconda3\\lib\\site-packages\\gpflow\\core\\node.py\", line 156, in build\n",
      "    self._build()  File \"C:\\Users\\Ionut\\Anaconda3\\lib\\site-packages\\gpflow\\params\\parameter.py\", line 370, in _build\n",
      "    self._prior_tensor = prior  File \"C:\\Users\\Ionut\\Anaconda3\\lib\\site-packages\\tensorflow\\python\\util\\tf_should_use.py\", line 189, in wrapped\n",
      "    return _add_should_use_warning(fn(*args, **kwargs))\n",
      "==================================\n"
     ]
    },
    {
     "name": "stdout",
     "output_type": "stream",
     "text": [
      "ERROR:tensorflow:==================================\n",
      "Object was never used (type <class 'tensorflow.python.framework.ops.Tensor'>):\n",
      "<tf.Tensor 'GPR-91427dd9-64/likelihood/variance/IsVariableInitialized:0' shape=() dtype=bool>\n",
      "If you want to mark it as used call its \"mark_used()\" method.\n",
      "It was originally created here:\n",
      "  File \"C:\\Users\\Ionut\\Anaconda3\\lib\\site-packages\\IPython\\core\\interactiveshell.py\", line 3285, in run_code\n",
      "    return outflag  File \"<ipython-input-10-1a8ed500c9ee>\", line 3, in <module>\n",
      "    m2 = gpflow.models.GPR(t_column,x_column, k2, meanf2)  File \"C:\\Users\\Ionut\\Anaconda3\\lib\\site-packages\\gpflow\\core\\compilable.py\", line 91, in __init__\n",
      "    self.initialize(force=True)  File \"C:\\Users\\Ionut\\Anaconda3\\lib\\site-packages\\gpflow\\core\\node.py\", line 156, in build\n",
      "    self._build()  File \"C:\\Users\\Ionut\\Anaconda3\\lib\\site-packages\\gpflow\\models\\model.py\", line 83, in _build\n",
      "    self._objective = objective  File \"C:\\Users\\Ionut\\Anaconda3\\lib\\site-packages\\gpflow\\params\\parameterized.py\", line 302, in _build\n",
      "    self._prior_tensor = self._build_prior(priors)  File \"C:\\Users\\Ionut\\Anaconda3\\lib\\site-packages\\gpflow\\core\\node.py\", line 156, in build\n",
      "    self._build()  File \"C:\\Users\\Ionut\\Anaconda3\\lib\\site-packages\\gpflow\\params\\parameterized.py\", line 302, in _build\n",
      "    self._prior_tensor = self._build_prior(priors)  File \"C:\\Users\\Ionut\\Anaconda3\\lib\\site-packages\\gpflow\\core\\node.py\", line 156, in build\n",
      "    self._build()  File \"C:\\Users\\Ionut\\Anaconda3\\lib\\site-packages\\gpflow\\params\\parameter.py\", line 370, in _build\n",
      "    self._prior_tensor = prior  File \"C:\\Users\\Ionut\\Anaconda3\\lib\\site-packages\\tensorflow\\python\\util\\tf_should_use.py\", line 189, in wrapped\n",
      "    return _add_should_use_warning(fn(*args, **kwargs))\n",
      "==================================\n"
     ]
    },
    {
     "name": "stderr",
     "output_type": "stream",
     "text": [
      "ERROR:tensorflow:==================================\n",
      "Object was never used (type <class 'tensorflow.python.framework.ops.Tensor'>):\n",
      "<tf.Tensor 'GPR-91427dd9-64/likelihood/variance/IsVariableInitialized:0' shape=() dtype=bool>\n",
      "If you want to mark it as used call its \"mark_used()\" method.\n",
      "It was originally created here:\n",
      "  File \"C:\\Users\\Ionut\\Anaconda3\\lib\\site-packages\\IPython\\core\\interactiveshell.py\", line 3285, in run_code\n",
      "    return outflag  File \"<ipython-input-10-1a8ed500c9ee>\", line 3, in <module>\n",
      "    m2 = gpflow.models.GPR(t_column,x_column, k2, meanf2)  File \"C:\\Users\\Ionut\\Anaconda3\\lib\\site-packages\\gpflow\\core\\compilable.py\", line 91, in __init__\n",
      "    self.initialize(force=True)  File \"C:\\Users\\Ionut\\Anaconda3\\lib\\site-packages\\gpflow\\core\\node.py\", line 156, in build\n",
      "    self._build()  File \"C:\\Users\\Ionut\\Anaconda3\\lib\\site-packages\\gpflow\\models\\model.py\", line 83, in _build\n",
      "    self._objective = objective  File \"C:\\Users\\Ionut\\Anaconda3\\lib\\site-packages\\gpflow\\params\\parameterized.py\", line 302, in _build\n",
      "    self._prior_tensor = self._build_prior(priors)  File \"C:\\Users\\Ionut\\Anaconda3\\lib\\site-packages\\gpflow\\core\\node.py\", line 156, in build\n",
      "    self._build()  File \"C:\\Users\\Ionut\\Anaconda3\\lib\\site-packages\\gpflow\\params\\parameterized.py\", line 302, in _build\n",
      "    self._prior_tensor = self._build_prior(priors)  File \"C:\\Users\\Ionut\\Anaconda3\\lib\\site-packages\\gpflow\\core\\node.py\", line 156, in build\n",
      "    self._build()  File \"C:\\Users\\Ionut\\Anaconda3\\lib\\site-packages\\gpflow\\params\\parameter.py\", line 370, in _build\n",
      "    self._prior_tensor = prior  File \"C:\\Users\\Ionut\\Anaconda3\\lib\\site-packages\\tensorflow\\python\\util\\tf_should_use.py\", line 189, in wrapped\n",
      "    return _add_should_use_warning(fn(*args, **kwargs))\n",
      "==================================\n"
     ]
    },
    {
     "name": "stdout",
     "output_type": "stream",
     "text": [
      "ERROR:tensorflow:==================================\n",
      "Object was never used (type <class 'tensorflow.python.framework.ops.Tensor'>):\n",
      "<tf.Tensor 'Linear-839d0a19-57/A/IsVariableInitialized:0' shape=() dtype=bool>\n",
      "If you want to mark it as used call its \"mark_used()\" method.\n",
      "It was originally created here:\n",
      "  File \"C:\\Users\\Ionut\\Anaconda3\\lib\\site-packages\\IPython\\core\\interactiveshell.py\", line 3285, in run_code\n",
      "    return outflag  File \"<ipython-input-10-1a8ed500c9ee>\", line 2, in <module>\n",
      "    meanf2 = gpflow.mean_functions.Linear(10.0, 5.0)  File \"C:\\Users\\Ionut\\Anaconda3\\lib\\site-packages\\gpflow\\core\\compilable.py\", line 91, in __init__\n",
      "    self.initialize(force=True)  File \"C:\\Users\\Ionut\\Anaconda3\\lib\\site-packages\\gpflow\\core\\node.py\", line 156, in build\n",
      "    self._build()  File \"C:\\Users\\Ionut\\Anaconda3\\lib\\site-packages\\gpflow\\params\\parameterized.py\", line 302, in _build\n",
      "    self._prior_tensor = self._build_prior(priors)  File \"C:\\Users\\Ionut\\Anaconda3\\lib\\site-packages\\gpflow\\core\\node.py\", line 156, in build\n",
      "    self._build()  File \"C:\\Users\\Ionut\\Anaconda3\\lib\\site-packages\\gpflow\\params\\parameter.py\", line 370, in _build\n",
      "    self._prior_tensor = prior  File \"C:\\Users\\Ionut\\Anaconda3\\lib\\site-packages\\tensorflow\\python\\util\\tf_should_use.py\", line 189, in wrapped\n",
      "    return _add_should_use_warning(fn(*args, **kwargs))\n",
      "==================================\n"
     ]
    },
    {
     "name": "stderr",
     "output_type": "stream",
     "text": [
      "ERROR:tensorflow:==================================\n",
      "Object was never used (type <class 'tensorflow.python.framework.ops.Tensor'>):\n",
      "<tf.Tensor 'Linear-839d0a19-57/A/IsVariableInitialized:0' shape=() dtype=bool>\n",
      "If you want to mark it as used call its \"mark_used()\" method.\n",
      "It was originally created here:\n",
      "  File \"C:\\Users\\Ionut\\Anaconda3\\lib\\site-packages\\IPython\\core\\interactiveshell.py\", line 3285, in run_code\n",
      "    return outflag  File \"<ipython-input-10-1a8ed500c9ee>\", line 2, in <module>\n",
      "    meanf2 = gpflow.mean_functions.Linear(10.0, 5.0)  File \"C:\\Users\\Ionut\\Anaconda3\\lib\\site-packages\\gpflow\\core\\compilable.py\", line 91, in __init__\n",
      "    self.initialize(force=True)  File \"C:\\Users\\Ionut\\Anaconda3\\lib\\site-packages\\gpflow\\core\\node.py\", line 156, in build\n",
      "    self._build()  File \"C:\\Users\\Ionut\\Anaconda3\\lib\\site-packages\\gpflow\\params\\parameterized.py\", line 302, in _build\n",
      "    self._prior_tensor = self._build_prior(priors)  File \"C:\\Users\\Ionut\\Anaconda3\\lib\\site-packages\\gpflow\\core\\node.py\", line 156, in build\n",
      "    self._build()  File \"C:\\Users\\Ionut\\Anaconda3\\lib\\site-packages\\gpflow\\params\\parameter.py\", line 370, in _build\n",
      "    self._prior_tensor = prior  File \"C:\\Users\\Ionut\\Anaconda3\\lib\\site-packages\\tensorflow\\python\\util\\tf_should_use.py\", line 189, in wrapped\n",
      "    return _add_should_use_warning(fn(*args, **kwargs))\n",
      "==================================\n"
     ]
    },
    {
     "name": "stdout",
     "output_type": "stream",
     "text": [
      "ERROR:tensorflow:==================================\n",
      "Object was never used (type <class 'tensorflow.python.framework.ops.Tensor'>):\n",
      "<tf.Tensor 'Linear-839d0a19-57/b/IsVariableInitialized:0' shape=() dtype=bool>\n",
      "If you want to mark it as used call its \"mark_used()\" method.\n",
      "It was originally created here:\n",
      "  File \"C:\\Users\\Ionut\\Anaconda3\\lib\\site-packages\\IPython\\core\\interactiveshell.py\", line 3285, in run_code\n",
      "    return outflag  File \"<ipython-input-10-1a8ed500c9ee>\", line 2, in <module>\n",
      "    meanf2 = gpflow.mean_functions.Linear(10.0, 5.0)  File \"C:\\Users\\Ionut\\Anaconda3\\lib\\site-packages\\gpflow\\core\\compilable.py\", line 91, in __init__\n",
      "    self.initialize(force=True)  File \"C:\\Users\\Ionut\\Anaconda3\\lib\\site-packages\\gpflow\\core\\node.py\", line 156, in build\n",
      "    self._build()  File \"C:\\Users\\Ionut\\Anaconda3\\lib\\site-packages\\gpflow\\params\\parameterized.py\", line 302, in _build\n",
      "    self._prior_tensor = self._build_prior(priors)  File \"C:\\Users\\Ionut\\Anaconda3\\lib\\site-packages\\gpflow\\core\\node.py\", line 156, in build\n",
      "    self._build()  File \"C:\\Users\\Ionut\\Anaconda3\\lib\\site-packages\\gpflow\\params\\parameter.py\", line 370, in _build\n",
      "    self._prior_tensor = prior  File \"C:\\Users\\Ionut\\Anaconda3\\lib\\site-packages\\tensorflow\\python\\util\\tf_should_use.py\", line 189, in wrapped\n",
      "    return _add_should_use_warning(fn(*args, **kwargs))\n",
      "==================================\n"
     ]
    },
    {
     "name": "stderr",
     "output_type": "stream",
     "text": [
      "ERROR:tensorflow:==================================\n",
      "Object was never used (type <class 'tensorflow.python.framework.ops.Tensor'>):\n",
      "<tf.Tensor 'Linear-839d0a19-57/b/IsVariableInitialized:0' shape=() dtype=bool>\n",
      "If you want to mark it as used call its \"mark_used()\" method.\n",
      "It was originally created here:\n",
      "  File \"C:\\Users\\Ionut\\Anaconda3\\lib\\site-packages\\IPython\\core\\interactiveshell.py\", line 3285, in run_code\n",
      "    return outflag  File \"<ipython-input-10-1a8ed500c9ee>\", line 2, in <module>\n",
      "    meanf2 = gpflow.mean_functions.Linear(10.0, 5.0)  File \"C:\\Users\\Ionut\\Anaconda3\\lib\\site-packages\\gpflow\\core\\compilable.py\", line 91, in __init__\n",
      "    self.initialize(force=True)  File \"C:\\Users\\Ionut\\Anaconda3\\lib\\site-packages\\gpflow\\core\\node.py\", line 156, in build\n",
      "    self._build()  File \"C:\\Users\\Ionut\\Anaconda3\\lib\\site-packages\\gpflow\\params\\parameterized.py\", line 302, in _build\n",
      "    self._prior_tensor = self._build_prior(priors)  File \"C:\\Users\\Ionut\\Anaconda3\\lib\\site-packages\\gpflow\\core\\node.py\", line 156, in build\n",
      "    self._build()  File \"C:\\Users\\Ionut\\Anaconda3\\lib\\site-packages\\gpflow\\params\\parameter.py\", line 370, in _build\n",
      "    self._prior_tensor = prior  File \"C:\\Users\\Ionut\\Anaconda3\\lib\\site-packages\\tensorflow\\python\\util\\tf_should_use.py\", line 189, in wrapped\n",
      "    return _add_should_use_warning(fn(*args, **kwargs))\n",
      "==================================\n",
      "WARNING:gpflow.logdensities:Shape of x must be 2D at computation.\n"
     ]
    },
    {
     "data": {
      "text/html": [
       "<div>\n",
       "<style scoped>\n",
       "    .dataframe tbody tr th:only-of-type {\n",
       "        vertical-align: middle;\n",
       "    }\n",
       "\n",
       "    .dataframe tbody tr th {\n",
       "        vertical-align: top;\n",
       "    }\n",
       "\n",
       "    .dataframe thead th {\n",
       "        text-align: right;\n",
       "    }\n",
       "</style>\n",
       "<table border=\"1\" class=\"dataframe\">\n",
       "  <thead>\n",
       "    <tr style=\"text-align: right;\">\n",
       "      <th></th>\n",
       "      <th>class</th>\n",
       "      <th>prior</th>\n",
       "      <th>transform</th>\n",
       "      <th>trainable</th>\n",
       "      <th>shape</th>\n",
       "      <th>fixed_shape</th>\n",
       "      <th>value</th>\n",
       "    </tr>\n",
       "  </thead>\n",
       "  <tbody>\n",
       "    <tr>\n",
       "      <th>GPR/kern/lengthscales</th>\n",
       "      <td>Parameter</td>\n",
       "      <td>Ga(1.0,1.0)</td>\n",
       "      <td>+ve</td>\n",
       "      <td>True</td>\n",
       "      <td>()</td>\n",
       "      <td>True</td>\n",
       "      <td>20.0</td>\n",
       "    </tr>\n",
       "    <tr>\n",
       "      <th>GPR/kern/variance</th>\n",
       "      <td>Parameter</td>\n",
       "      <td>Ga(1.0,1.0)</td>\n",
       "      <td>+ve</td>\n",
       "      <td>True</td>\n",
       "      <td>()</td>\n",
       "      <td>True</td>\n",
       "      <td>10.0</td>\n",
       "    </tr>\n",
       "    <tr>\n",
       "      <th>GPR/likelihood/variance</th>\n",
       "      <td>Parameter</td>\n",
       "      <td>Ga(1.0,1.0)</td>\n",
       "      <td>+ve</td>\n",
       "      <td>True</td>\n",
       "      <td>()</td>\n",
       "      <td>True</td>\n",
       "      <td>2.0</td>\n",
       "    </tr>\n",
       "    <tr>\n",
       "      <th>GPR/mean_function/A</th>\n",
       "      <td>Parameter</td>\n",
       "      <td>N(0.0,10.0)</td>\n",
       "      <td>(none)</td>\n",
       "      <td>True</td>\n",
       "      <td>(1, 1)</td>\n",
       "      <td>True</td>\n",
       "      <td>[[10.0]]</td>\n",
       "    </tr>\n",
       "    <tr>\n",
       "      <th>GPR/mean_function/b</th>\n",
       "      <td>Parameter</td>\n",
       "      <td>N(0.0,10.0)</td>\n",
       "      <td>(none)</td>\n",
       "      <td>True</td>\n",
       "      <td>()</td>\n",
       "      <td>True</td>\n",
       "      <td>5.0</td>\n",
       "    </tr>\n",
       "  </tbody>\n",
       "</table>\n",
       "</div>"
      ],
      "text/plain": [
       "                             class        prior transform  trainable   shape  \\\n",
       "GPR/kern/lengthscales    Parameter  Ga(1.0,1.0)       +ve       True      ()   \n",
       "GPR/kern/variance        Parameter  Ga(1.0,1.0)       +ve       True      ()   \n",
       "GPR/likelihood/variance  Parameter  Ga(1.0,1.0)       +ve       True      ()   \n",
       "GPR/mean_function/A      Parameter  N(0.0,10.0)    (none)       True  (1, 1)   \n",
       "GPR/mean_function/b      Parameter  N(0.0,10.0)    (none)       True      ()   \n",
       "\n",
       "                         fixed_shape     value  \n",
       "GPR/kern/lengthscales           True      20.0  \n",
       "GPR/kern/variance               True      10.0  \n",
       "GPR/likelihood/variance         True       2.0  \n",
       "GPR/mean_function/A             True  [[10.0]]  \n",
       "GPR/mean_function/b             True       5.0  "
      ]
     },
     "execution_count": 11,
     "metadata": {},
     "output_type": "execute_result"
    }
   ],
   "source": [
    "m2.clear()\n",
    "m2.kern.lengthscales.prior = gpflow.priors.Gamma(1., 1.)\n",
    "m2.kern.variance.prior = gpflow.priors.Gamma(1., 1.)\n",
    "m2.likelihood.variance.prior = gpflow.priors.Gamma(1., 1.)\n",
    "m2.mean_function.A.prior = gpflow.priors.Gaussian(0., 10.)\n",
    "m2.mean_function.b.prior = gpflow.priors.Gaussian(0., 10.)\n",
    "m2.compile()\n",
    "m2.as_pandas_table()"
   ]
  },
  {
   "cell_type": "code",
   "execution_count": 12,
   "metadata": {
    "scrolled": true
   },
   "outputs": [
    {
     "name": "stderr",
     "output_type": "stream",
     "text": [
      "WARNING:gpflow.logdensities:Shape of x must be 2D at computation.\n",
      "WARNING:gpflow.logdensities:Shape of x must be 2D at computation.\n",
      "WARNING:gpflow.logdensities:Shape of x must be 2D at computation.\n",
      "WARNING:gpflow.logdensities:Shape of x must be 2D at computation.\n",
      "WARNING:gpflow.logdensities:Shape of x must be 2D at computation.\n",
      "WARNING:gpflow.logdensities:Shape of x must be 2D at computation.\n",
      "WARNING:gpflow.logdensities:Shape of x must be 2D at computation.\n"
     ]
    },
    {
     "name": "stdout",
     "output_type": "stream",
     "text": [
      "acceptance rate:  0.59\n"
     ]
    }
   ],
   "source": [
    "sampler = gpflow.train.HMC()\n",
    "samples = sampler.sample(m, num_samples=100, epsilon=0.003,logprobs=True,lmin=18, lmax=20, burn=100,thin=10)\n",
    "print('acceptance rate: ', len(set(samples.logprobs))/len(samples.logprobs))\n",
    "samples = samples.drop('logprobs', axis=1)"
   ]
  },
  {
   "cell_type": "code",
   "execution_count": 13,
   "metadata": {},
   "outputs": [],
   "source": [
    "#?sampler.sample"
   ]
  },
  {
   "cell_type": "code",
   "execution_count": 14,
   "metadata": {},
   "outputs": [
    {
     "data": {
      "text/plain": [
       "Text(0, 0.5, 'parameter value')"
      ]
     },
     "execution_count": 14,
     "metadata": {},
     "output_type": "execute_result"
    },
    {
     "data": {
      "image/png": "[encoded data removed]",
      "text/plain": [
       "<Figure size 576x288 with 1 Axes>"
      ]
     },
     "metadata": {
      "needs_background": "light"
     },
     "output_type": "display_data"
    }
   ],
   "source": [
    "plt.figure(figsize=(8,4))\n",
    "for i, col in samples.iteritems():\n",
    "    plt.plot(col, label=col.name)\n",
    "plt.legend(loc=0)\n",
    "plt.xlabel('hmc iteration')\n",
    "plt.ylabel('parameter value')"
   ]
  },
  {
   "cell_type": "code",
   "execution_count": 15,
   "metadata": {},
   "outputs": [
    {
     "data": {
      "text/plain": [
       "Text(0, 0.5, 'signal_variance')"
      ]
     },
     "execution_count": 15,
     "metadata": {},
     "output_type": "execute_result"
    },
    {
     "data": {
      "image/png": "[encoded data removed]",
      "text/plain": [
       "<Figure size 864x288 with 3 Axes>"
      ]
     },
     "metadata": {
      "needs_background": "light"
     },
     "output_type": "display_data"
    }
   ],
   "source": [
    "f, axs = plt.subplots(1,3, figsize=(12,4))\n",
    "\n",
    "axs[0].plot(samples['GPR/likelihood/variance'],\n",
    "            samples['GPR/kern/variance'], 'k.', alpha = 0.15)\n",
    "axs[0].set_xlabel('noise_variance')\n",
    "axs[0].set_ylabel('signal_variance')\n",
    "\n",
    "axs[1].plot(samples['GPR/likelihood/variance'],\n",
    "            samples['GPR/kern/lengthscales'], 'k.', alpha = 0.15)\n",
    "axs[1].set_xlabel('noise_variance')\n",
    "axs[1].set_ylabel('lengthscale')\n",
    "\n",
    "axs[2].plot(samples['GPR/kern/lengthscales'],\n",
    "            samples['GPR/kern/variance'], 'k.', alpha = 0.1)\n",
    "axs[2].set_xlabel('lengthscale')\n",
    "axs[2].set_ylabel('signal_variance')"
   ]
  },
  {
   "cell_type": "code",
   "execution_count": 16,
   "metadata": {},
   "outputs": [
    {
     "data": {
      "image/png": "[encoded data removed]",
      "text/plain": [
       "<Figure size 864x432 with 1 Axes>"
      ]
     },
     "metadata": {
      "needs_background": "light"
     },
     "output_type": "display_data"
    }
   ],
   "source": [
    "#plot the function posterior\n",
    "xx = np.linspace(0, 6, 300)[:,None]\n",
    "plt.figure(figsize=(12, 6))\n",
    "for i, s in samples.iloc[::20].iterrows():\n",
    "    f = m.predict_f_samples(xx, 1, initialize=False, feed_dict=m.sample_feed_dict(s))\n",
    "    plt.plot(xx, f[0,:,:], 'C0', lw=2, alpha=0.1)\n",
    "    \n",
    "plt.plot(t, x, 'kx', mew=2)\n",
    "_ = plt.xlim(xx.min(), xx.max())\n",
    "_ = plt.ylim(-8, 9)"
   ]
  },
  {
   "cell_type": "code",
   "execution_count": null,
   "metadata": {},
   "outputs": [],
   "source": []
  }
 ],
 "metadata": {
  "kernelspec": {
   "display_name": "Python 3",
   "language": "python",
   "name": "python3"
  },
  "language_info": {
   "codemirror_mode": {
    "name": "ipython",
    "version": 3
   },
   "file_extension": ".py",
   "mimetype": "text/x-python",
   "name": "python",
   "nbconvert_exporter": "python",
   "pygments_lexer": "ipython3",
   "version": "3.6.6"
  }
 },
 "nbformat": 4,
 "nbformat_minor": 2
}
