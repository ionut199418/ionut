{
 "cells": [
  {
   "cell_type": "code",
   "execution_count": 38,
   "metadata": {},
   "outputs": [],
   "source": [
    "import pandas as pd\n",
    "import statsmodels.api as sm\n",
    "from scipy import interpolate\n",
    "from pandas import Series, DataFrame, Panel\n",
    "from string import ascii_lowercase as letters\n",
    "from scipy.stats import chisqprob\n",
    "from __future__ import division\n",
    "import os\n",
    "import sys\n",
    "import glob\n",
    "import matplotlib.pyplot as plt\n",
    "import numpy as np\n",
    "import pandas as pd\n",
    "import random\n",
    "import math\n",
    "from scipy.stats import wrapcauchy\n",
    "import matplotlib.pyplot as plt\n",
    "%matplotlib inline\n",
    "%precision 4\n",
    "plt.style.use('classic')\n",
    "from mpl_toolkits.mplot3d import Axes3D\n",
    "import scipy.stats as stats\n",
    "from functools import partial\n",
    "np.random.seed(1234)"
   ]
  },
  {
   "cell_type": "code",
   "execution_count": 39,
   "metadata": {
    "collapsed": true
   },
   "outputs": [],
   "source": [
    "def rw2(n):# this gives samples from weibull(5,2)\n",
    "    x=np.zeros(n)\n",
    "    y=np.zeros(n)\n",
    "    theta=[0]*n# do the np. zeros thing \n",
    "    theta[0]=wrapcauchy.rvs(c,loc=0,size=1)\n",
    "    distance=[]\n",
    "    if theta[0]>2*math.pi:\n",
    "            theta[0] = theta[0] - 2* math.pi\n",
    "    if theta[0]<0:\n",
    "            theta[0] = theta[0] + 2* math.pi\n",
    "    for i in range(1,n):\n",
    "        r=random.weibullvariate(alpha,beta)\n",
    "        theta[i]=wrapcauchy.rvs(c,loc=theta[i-1],size=1)# c is the shape parameter\n",
    "        if theta[i]>2*math.pi:\n",
    "            theta[i] =theta[i] - 2* math.pi\n",
    "        if theta[i]<0:\n",
    "            theta[i] = theta[i] + 2* math.pi\n",
    "        x[i]=x[i-1]+r*math.cos(theta[i])\n",
    "        y[i]=y[i-1]+r*math.sin(theta[i])\n",
    "        distance.append(r)\n",
    "    return(x,y,distance,theta)  \n",
    "    \n",
    "n=1000 #int(input(\"how many steps?\"))\n",
    "alpha=2 #int(input(\"what's the scale?\"))\n",
    "beta=5 #int(input(\"what's the shape?\"))\n",
    "c=0.9# float(input(\"What's the shape parameter for the wrapped Cauchy?\"))# this needs to be between 0 and 1\n",
    "data = rw2(n)\n",
    "x=data[0]\n",
    "y=data[1]\n",
    "r_original=data[2]# this is a vector of step-lengths\n",
    "theta_original=data[3]# this is a vector of headings\n",
    "t=range(0,n)\n",
    "# I need to change n"
   ]
  },
  {
   "cell_type": "code",
   "execution_count": 40,
   "metadata": {
    "collapsed": true
   },
   "outputs": [],
   "source": [
    "#r_original"
   ]
  },
  {
   "cell_type": "code",
   "execution_count": 41,
   "metadata": {
    "collapsed": true
   },
   "outputs": [],
   "source": [
    "# my code pretty much starts here\n",
    "time_step=1\n",
    "t_new=np.arange(0,n-1,time_step)\n",
    "f=interpolate.interp1d(t,x,kind='cubic')#,fill_value=\"extrapolate\")\n",
    "g=interpolate.interp1d(t,y,kind='cubic')#,fill_value=\"extrapolate\") don't do this"
   ]
  },
  {
   "cell_type": "code",
   "execution_count": 42,
   "metadata": {
    "collapsed": true
   },
   "outputs": [],
   "source": [
    "x_new=f(t_new)\n",
    "y_new=g(t_new)"
   ]
  },
  {
   "cell_type": "code",
   "execution_count": 43,
   "metadata": {},
   "outputs": [
    {
     "name": "stdout",
     "output_type": "stream",
     "text": [
      "998\n",
      "998\n",
      "998\n",
      "997\n",
      "997\n"
     ]
    }
   ],
   "source": [
    "#get the distances now and the angles\n",
    "r=np.zeros(len(x_new)-1)# r the step-lengths\n",
    "theta=np.zeros(len(x_new)-1)# theta the angle\n",
    "new_data=np.zeros(len(x_new)-1)\n",
    "for i in range(0,len(x_new)-1):\n",
    "    r[i]=np.sqrt((x_new[i+1]-x_new[i])**2 + (y_new[i+1]-y_new[i])**2)\n",
    "    theta[i]=math.atan2(y_new[i+1]-y_new[i], x_new[i+1]-x_new[i])\n",
    "for i in range(0,len(x_new)-2):\n",
    "    new_data[i]=theta[i+1]-theta[i]# save the difference in the heading\n",
    "    if new_data[i]<0:\n",
    "        new_data[i]=new_data[i]+2*math.pi    \n",
    "data=r# save the step-lengths,have the same name as before in the MCMC sampler for the step-lengths\n",
    "#new_data is the data that we introduce in the heading MCMC sampler\n",
    "print(len(data))    \n",
    "print(len(theta))\n",
    "print(len(new_data))\n",
    "new_data# it has a zero at the end\n",
    "new_data=new_data[:-1]\n",
    "#new_data without zero.\n",
    "data=data[:-1]# change the step-lengths data as well\n",
    "print(len(data))\n",
    "print(len(new_data))"
   ]
  },
  {
   "cell_type": "code",
   "execution_count": 44,
   "metadata": {
    "collapsed": true
   },
   "outputs": [],
   "source": [
    "def log_likelihood(x,a,b):# a is shape, b is scale\n",
    "     return sum(dweibull.logpdf(x,scale=b,c=a))\n",
    "def log_wclikelihood(x,a,b):\n",
    "     return sum(wrapcauchy.logpdf(x,c=a,loc=b))# c is the shape parameter#MCMC sampler for the heading"
   ]
  },
  {
   "cell_type": "code",
   "execution_count": 45,
   "metadata": {},
   "outputs": [
    {
     "name": "stdout",
     "output_type": "stream",
     "text": [
      "Acceptance rate = 0.4043\n"
     ]
    }
   ],
   "source": [
    "# Now put them into the MCMC sampler, the second model is to be considered\n",
    "import scipy.stats \n",
    "from scipy.stats import dweibull#MCMC sampler for the heading\n",
    "# initial guess for theta(a) as array,these are shape(c) \n",
    "guess = 0.9\n",
    "# Prepare storing MCMC chain as array of arrays.\n",
    "A1 = [guess]\n",
    "# define stepsize of MCMC.\n",
    "stepsize = 0.025 # array of stepsizes\n",
    "accepted  = 0.0\n",
    "old_theta=guess# define initial values for theta \n",
    "old_loglik = log_wclikelihood(new_data,old_theta,0)#calculate the first log likelihood\n",
    "# Metropolis-Hastings with 20,000 iterations.\n",
    "for p in range(20000):\n",
    "    new_theta = old_theta + stats.norm(0, stepsize).rvs() \n",
    "    #add the restraints on new_theta\n",
    "    if new_theta<0 or new_theta>1: \n",
    "        continue\n",
    "    new_loglik = log_wclikelihood(new_data,new_theta,0)\n",
    "    # Accept new candidate in Monte-Carlo fashing.\n",
    "    if (new_loglik > old_loglik):\n",
    "        A1.append(new_theta)\n",
    "        accepted = accepted + 1.0  # monitor acceptance\n",
    "        old_loglik=new_loglik\n",
    "        old_theta=new_theta\n",
    "    else:\n",
    "        u = random.uniform(0.0,1.0)\n",
    "        if (u < math.exp(new_loglik - old_loglik)):\n",
    "            A1.append(new_theta)\n",
    "            accepted = accepted + 1.0  # monitor acceptance\n",
    "            old_loglik=new_loglik\n",
    "            old_theta=new_theta\n",
    "        else:\n",
    "            A1.append(old_theta)\n",
    "print(\"Acceptance rate = \"+str(accepted/10000.0))\n",
    "\n",
    "#0.0085"
   ]
  },
  {
   "cell_type": "code",
   "execution_count": 46,
   "metadata": {},
   "outputs": [
    {
     "name": "stdout",
     "output_type": "stream",
     "text": [
      "0.904962284326\n",
      "0.904988946091\n",
      "19001\n"
     ]
    },
    {
     "data": {
      "image/png": "[encoded data removed]",
      "text/plain": [
       "<matplotlib.figure.Figure at 0x252e2dd3be0>"
      ]
     },
     "metadata": {},
     "output_type": "display_data"
    },
    {
     "data": {
      "image/png": "[encoded data removed]",
      "text/plain": [
       "<matplotlib.figure.Figure at 0x252e2852978>"
      ]
     },
     "metadata": {},
     "output_type": "display_data"
    }
   ],
   "source": [
    "print(np.mean(A1))\n",
    "print(np.mean(A1[1000:]))# burn in 1000\n",
    "plt.hist(A1,bins=50)\n",
    "B1=np.array(A1[1000:])\n",
    "print(len(B1))\n",
    "plt.xlabel(\"Shape Parameter\")\n",
    "plt.show()\n",
    "plt.hist(B1,bins=50)\n",
    "plt.xlabel(\"Shape Parameter\")\n",
    "plt.show()"
   ]
  },
  {
   "cell_type": "code",
   "execution_count": 47,
   "metadata": {},
   "outputs": [
    {
     "name": "stdout",
     "output_type": "stream",
     "text": [
      "Acceptance rate = 0.3594\n"
     ]
    }
   ],
   "source": [
    "#MCMC sampler for the step-lengths\n",
    "import scipy.stats as stats\n",
    "import numpy as np\n",
    "# initial guess for theta(a and b) as array.\n",
    "guess = [5.0,2.0]\n",
    "# Prepare storing MCMC chain as array of arrays.\n",
    "A2 = [guess]\n",
    "# define stepsize of MCMC.\n",
    "stepsizes = [0.095,0.095] # array of stepsizes\n",
    "accepted  = 0.0\n",
    "old_theta=guess# define initial values for theta \n",
    "old_loglik = log_likelihood(data,old_theta[0],old_theta[1])#calculate the first log likelihood\n",
    "# Metropolis-Hastings with 25,000 iterations.\n",
    "for p in range(25000):\n",
    "    # Suggest new candidate from Gaussian proposal distribution.\n",
    "    new_theta = old_theta + stats.norm(0, stepsizes).rvs() \n",
    "    #add the restraints on new_theta\n",
    "    if new_theta[0]<0 or new_theta[1]<0: \n",
    "        continue\n",
    "    new_loglik = log_likelihood(data,new_theta[0],new_theta[1])\n",
    "    # Accept new candidate in Monte-Carlo fashing.\n",
    "    if (new_loglik > old_loglik):\n",
    "        A2.append(new_theta)\n",
    "        accepted = accepted + 1.0  # monitor acceptance\n",
    "        old_loglik=new_loglik\n",
    "        old_theta=new_theta\n",
    "    else:\n",
    "        u = random.uniform(0.0,1.0)\n",
    "        if (u < math.exp(new_loglik - old_loglik)):\n",
    "            A2.append(new_theta)\n",
    "            accepted = accepted + 1.0  # monitor acceptance\n",
    "            old_loglik=new_loglik\n",
    "            old_theta=new_theta\n",
    "        else:\n",
    "            A2.append(old_theta)\n",
    "print(\"Acceptance rate = \"+str(accepted/10000.0))\n",
    "#0.03"
   ]
  },
  {
   "cell_type": "code",
   "execution_count": 48,
   "metadata": {},
   "outputs": [
    {
     "name": "stdout",
     "output_type": "stream",
     "text": [
      "25001\n",
      "5.05178146553\n",
      "2.00133102584\n"
     ]
    },
    {
     "data": {
      "image/png": "[encoded data removed]",
      "text/plain": [
       "<matplotlib.figure.Figure at 0x252e2de8780>"
      ]
     },
     "metadata": {},
     "output_type": "display_data"
    },
    {
     "data": {
      "image/png": "[encoded data removed]",
      "text/plain": [
       "<matplotlib.figure.Figure at 0x252e23eee48>"
      ]
     },
     "metadata": {},
     "output_type": "display_data"
    }
   ],
   "source": [
    "print(len(A2))\n",
    "B2=np.array(A2[5000:])#burn-in 1000\n",
    "shape_mean=np.mean(B2[:,0])\n",
    "scale_mean=np.mean(B2[:,1])\n",
    "print(shape_mean)\n",
    "print(scale_mean)\n",
    "plt.hist(B2[:,0],bins=50)\n",
    "plt.xlabel(\"Shape Parameter\")\n",
    "plt.show()\n",
    "plt.hist(B2[:,1],bins=50)# now changing the parameters and n with the ones that I got\n",
    "plt.xlabel(\"Scale Parameter\")\n",
    "plt.show()# now changing the parameters and n with the ones that I got\n",
    "\n"
   ]
  },
  {
   "cell_type": "code",
   "execution_count": 49,
   "metadata": {},
   "outputs": [
    {
     "name": "stdout",
     "output_type": "stream",
     "text": [
      "1500\n",
      "1500\n",
      "1500\n"
     ]
    }
   ],
   "source": [
    "# Weibull\n",
    "shape_parameters=B2[:,0]\n",
    "scale_parameters=B2[:,1]\n",
    "# select every 10th observation\n",
    "shape_parameters_need=shape_parameters[::10][:-501]# same length now\n",
    "scale_parameters_need=scale_parameters[::10][:-501]\n",
    "#Wrapped Cauchy\n",
    "shapewc_parameters=B1\n",
    "shapewc_parameters_need=B1[::10][:-401]\n",
    "print(len(shapewc_parameters_need))\n",
    "print(len(scale_parameters_need))\n",
    "print(len(shape_parameters_need))"
   ]
  },
  {
   "cell_type": "code",
   "execution_count": 50,
   "metadata": {
    "collapsed": true
   },
   "outputs": [],
   "source": [
    "def rw2_change(n_change,alpha_change,beta_change,c_change):# this gives samples from the inference model\n",
    "    x_change=np.zeros(n_change)\n",
    "    y_change=np.zeros(n_change)\n",
    "    theta=np.zeros(n_change)\n",
    "    distance=[]\n",
    "    theta[0]=wrapcauchy.rvs(c_change,loc=0,size=1)\n",
    "    if theta[0]>2*math.pi:\n",
    "            theta[0] = theta[0] - 2* math.pi\n",
    "    if theta[0]<0:\n",
    "            theta[0] = theta[0] + 2* math.pi\n",
    "    for i in range(1,n_change):\n",
    "        r=random.weibullvariate(alpha_change,beta_change)\n",
    "        theta[i]=wrapcauchy.rvs(c_change,loc=theta[i-1],size=1)# c is the shape parameter\n",
    "        if theta[i]>2*math.pi:\n",
    "            theta[i] =theta[i] - 2* math.pi\n",
    "        if theta[i]<0:\n",
    "            theta[i] = theta[i] + 2* math.pi\n",
    "        x_change[i]=x_change[i-1]+r*math.cos(theta[i])\n",
    "        y_change[i]=y_change[i-1]+r*math.sin(theta[i])\n",
    "        distance.append(r)# save the distances r for the mcmc sampler\n",
    "    return [x_change,y_change,distance,theta]   \n",
    "    \n",
    "n_change=len(new_data) #int(input(\"how many steps?\"))\n",
    "alpha_change=scale_parameters_need#int(input(\"what's the scale?\"))\n",
    "beta_change=shape_parameters_need #int(input(\"what's the shape?\"))\n",
    "c_change=shapewc_parameters_need# float(input(\"What's the shape parameter for the wrapped Cauchy?\"))# this needs to be between 0 and 1\n",
    "#x_change = np.array(rw2_change(n_change)[0])\n",
    "#y_change=np.array(rw2_change(n_change)[1])\n",
    "#data_change=np.array(rw2_change(n_change)[2])\n",
    "#theta_change=np.array(rw2_change(n_change)[3])\n",
    "#the previous code"
   ]
  },
  {
   "cell_type": "code",
   "execution_count": 51,
   "metadata": {},
   "outputs": [
    {
     "name": "stdout",
     "output_type": "stream",
     "text": [
      "[ 2.0105  2.0105  2.0116 ...,  2.0074  2.0067  2.0128]\n",
      "[ 5.0988  5.0988  5.0454 ...,  5.1022  4.9731  4.9139]\n",
      "[ 0.9027  0.9059  0.9092 ...,  0.9018  0.8999  0.9036]\n",
      "997\n"
     ]
    }
   ],
   "source": [
    "print(scale_parameters_need)\n",
    "print(shape_parameters_need)\n",
    "print(shapewc_parameters_need)\n",
    "print(n_change)"
   ]
  },
  {
   "cell_type": "code",
   "execution_count": 52,
   "metadata": {},
   "outputs": [
    {
     "name": "stdout",
     "output_type": "stream",
     "text": [
      "1500\n",
      "1500\n",
      "1500\n"
     ]
    }
   ],
   "source": [
    "print(len(shapewc_parameters_need))\n",
    "print(len(scale_parameters_need))\n",
    "print(len(shape_parameters_need))\n",
    "#make them the same size, check again"
   ]
  },
  {
   "cell_type": "code",
   "execution_count": 71,
   "metadata": {
    "collapsed": true
   },
   "outputs": [],
   "source": [
    "data_change=list(np.zeros(len(shape_parameters_need)))\n",
    "theta_change=list(np.zeros(len(shapewc_parameters_need)))"
   ]
  },
  {
   "cell_type": "code",
   "execution_count": 72,
   "metadata": {},
   "outputs": [
    {
     "name": "stdout",
     "output_type": "stream",
     "text": [
      "1500\n",
      "1000\n",
      "999\n",
      "1500\n"
     ]
    }
   ],
   "source": [
    "#if you want to make them the same size\n",
    "print(len(theta_change))\n",
    "print(len(theta_original))\n",
    "print(len(r_original))\n",
    "print(len(data_change))\n",
    "#Let's go to 999 then\n",
    "#theta_change=theta_change[:999]\n",
    "#theta_original=theta_original[:999]\n",
    "#data_change=data_change[:999]\n",
    "#shape_parameters_need=shape_parameters_need[:999]\n",
    "#scale_parameters_need=scale_parameters_need[:999]\n",
    "#shapewc_parameters_need=shapewc_parameters_need[:999]"
   ]
  },
  {
   "cell_type": "code",
   "execution_count": 73,
   "metadata": {
    "collapsed": true
   },
   "outputs": [],
   "source": [
    "for i in range(len(shape_parameters_need)-1):\n",
    "                     data_change[i]=np.array(rw2_change(1000,alpha_change[i],beta_change[i],c_change[i])[2])#the distances\n",
    "# you want n to be the same as before, the likelihood to be as informative as the previous likelihood\n",
    "# the i determines how many T_y_rep"
   ]
  },
  {
   "cell_type": "code",
   "execution_count": 74,
   "metadata": {
    "collapsed": true
   },
   "outputs": [],
   "source": [
    "for i in range(len(shape_parameters_need)-1):\n",
    "                     theta_change[i]=np.array(rw2_change(1000,alpha_change[i],beta_change[i],c_change[i])[3])#the angles"
   ]
  },
  {
   "cell_type": "code",
   "execution_count": 75,
   "metadata": {},
   "outputs": [
    {
     "data": {
      "text/plain": [
       "array([-4609.4635])"
      ]
     },
     "execution_count": 75,
     "metadata": {},
     "output_type": "execute_result"
    }
   ],
   "source": [
    "T_y_weibull=log_likelihood(r_original,5,2)\n",
    "T_y_wc=log_wclikelihood(theta_original,c,0)\n",
    "# T_y in total\n",
    "T_y=T_y_weibull+T_y_wc\n",
    "T_y"
   ]
  },
  {
   "cell_type": "code",
   "execution_count": 76,
   "metadata": {
    "collapsed": true
   },
   "outputs": [],
   "source": [
    "#data_change-step-lengths after the change of the parameters after inference\n",
    "#theta_change-headings after the change of the parameters after inference"
   ]
  },
  {
   "cell_type": "code",
   "execution_count": 77,
   "metadata": {
    "collapsed": true
   },
   "outputs": [],
   "source": [
    "T_y_rep_weibull=np.zeros(len(data_change))\n",
    "for i in range(len(data_change)-1):\n",
    "    T_y_rep_weibull[i]=log_likelihood(data_change[i],shape_parameters_need[i],scale_parameters_need[i])\n",
    "# ask if the length of data_change should be the same as r_original   "
   ]
  },
  {
   "cell_type": "code",
   "execution_count": 78,
   "metadata": {
    "collapsed": true
   },
   "outputs": [],
   "source": [
    "#x=range(1,100)\n",
    "#y=range(1,200)\n",
    "#L=[x,y]\n",
    "#d=[]\n",
    "#for i in range(2):\n",
    " #   d.append(log_likelihood(L[i],shape_parameters_need[1],scale_parameters_need[1]))\n",
    "#d    # it works"
   ]
  },
  {
   "cell_type": "code",
   "execution_count": 79,
   "metadata": {},
   "outputs": [
    {
     "name": "stdout",
     "output_type": "stream",
     "text": [
      "999\n"
     ]
    },
    {
     "data": {
      "text/plain": [
       "array([-1227.6309, -1227.2745, -1219.9029, -1212.6404, -1233.1529,\n",
       "       -1278.5245, -1234.162 , -1275.097 , -1284.9582, -1246.4392,\n",
       "       -1230.5545, -1211.9106, -1191.8139, -1238.411 , -1177.7819,\n",
       "       -1215.8458, -1237.7132, -1186.2909, -1211.0876, -1215.5483,\n",
       "       -1194.6057, -1185.4766, -1235.1388, -1239.7683, -1235.465 ,\n",
       "       -1252.9181, -1202.0886, -1243.0961, -1262.7691, -1228.9703,\n",
       "       -1263.3617, -1275.1399, -1241.646 , -1257.3886, -1272.4635,\n",
       "       -1195.0679, -1264.0578, -1286.7473, -1216.4483, -1219.0818,\n",
       "       -1219.3384, -1232.2087, -1243.5095, -1240.9698, -1242.2879,\n",
       "       -1208.5419, -1229.4564, -1244.1514, -1227.5273, -1223.9469,\n",
       "       -1251.189 , -1217.5698, -1261.7738, -1247.379 , -1238.2693,\n",
       "       -1220.7132, -1241.8627, -1259.8121, -1272.3561, -1245.0331,\n",
       "       -1262.3981, -1225.7711, -1277.8279, -1276.1874, -1246.5811,\n",
       "       -1216.4255, -1279.9352, -1280.917 , -1215.0286, -1222.9509,\n",
       "       -1220.2792, -1257.5048, -1241.1897, -1221.9954, -1204.1451,\n",
       "       -1209.6741, -1271.3304, -1154.8581, -1233.6007, -1234.1298,\n",
       "       -1204.76  , -1204.5775, -1267.4011, -1259.4418, -1252.4386,\n",
       "       -1276.6962, -1280.7375, -1277.8439, -1270.2725, -1230.396 ,\n",
       "       -1279.6495, -1277.2276, -1225.8139, -1256.0818, -1224.0647,\n",
       "       -1247.5377, -1259.0556, -1234.1006, -1316.9774, -1260.6866,\n",
       "       -1253.0946, -1269.2747, -1242.4348, -1244.6168, -1167.732 ,\n",
       "       -1244.2774, -1185.6595, -1196.2491, -1215.7657, -1233.9794,\n",
       "       -1278.5211, -1194.6533, -1224.668 , -1203.8225, -1208.8117,\n",
       "       -1197.2397, -1194.5927, -1229.3189, -1206.8371, -1246.9621,\n",
       "       -1212.0393, -1217.9759, -1202.8709, -1229.0093, -1218.8633,\n",
       "       -1206.1408, -1223.188 , -1222.207 , -1208.0248, -1249.1442,\n",
       "       -1219.9189, -1244.7295, -1263.7437, -1240.6442, -1277.7692,\n",
       "       -1242.6683, -1241.8462, -1280.056 , -1226.3967, -1255.9355,\n",
       "       -1289.9348, -1249.3457, -1289.5183, -1251.8838, -1257.0756,\n",
       "       -1221.8132, -1272.2942, -1266.7976, -1253.7705, -1229.4849,\n",
       "       -1234.1953, -1267.1156, -1223.8692, -1215.207 , -1198.7625,\n",
       "       -1248.0288, -1241.2413, -1228.139 , -1242.2115, -1267.3865,\n",
       "       -1291.9034, -1294.7063, -1289.2862, -1282.2349, -1281.5803,\n",
       "       -1241.235 , -1305.0464, -1219.2979, -1213.9701, -1273.3136,\n",
       "       -1268.0192, -1274.7214, -1214.5205, -1228.4551, -1224.1446,\n",
       "       -1230.5838, -1226.0896, -1297.5777, -1224.6583, -1259.8519,\n",
       "       -1223.6019, -1230.8571, -1237.9777, -1226.1456, -1215.0894,\n",
       "       -1272.2584, -1226.1315, -1192.1322, -1210.0861, -1233.3579,\n",
       "       -1228.9135, -1177.3658, -1204.9382, -1182.6829, -1209.9915,\n",
       "       -1138.5084, -1251.1135, -1280.9038, -1233.2158, -1233.0058,\n",
       "       -1244.7166, -1203.8949, -1245.3041, -1221.6976, -1198.9801,\n",
       "       -1202.6729, -1230.8495, -1261.34  , -1179.6669, -1212.8451,\n",
       "       -1199.5781, -1261.4453, -1241.0608, -1237.5053, -1267.9399,\n",
       "       -1268.1115, -1301.6295, -1282.3877, -1238.2249, -1216.6525,\n",
       "       -1174.2986, -1247.4136, -1238.7025, -1215.038 , -1179.3178,\n",
       "       -1240.4678, -1257.1245, -1273.6609, -1214.5231, -1292.7211,\n",
       "       -1202.8828, -1204.2296, -1237.2546, -1186.5893, -1207.399 ,\n",
       "       -1210.6668, -1225.0189, -1212.6796, -1278.6219, -1200.9069,\n",
       "       -1181.3324, -1236.4787, -1197.9484, -1193.3293, -1206.2423,\n",
       "       -1224.4295, -1229.3049, -1186.2795, -1223.2961, -1255.5389,\n",
       "       -1151.4361, -1170.9792, -1207.1166, -1240.9588, -1252.1271,\n",
       "       -1228.5345, -1178.118 , -1212.0521, -1179.847 , -1254.7448,\n",
       "       -1177.2979, -1164.7067, -1260.952 , -1238.0612, -1195.0102,\n",
       "       -1213.4468, -1197.6949, -1251.3668, -1278.7387, -1269.3042,\n",
       "       -1273.6138, -1269.0749, -1232.1361, -1271.5464, -1252.2944,\n",
       "       -1235.4035, -1248.0685, -1257.7225, -1263.5497, -1246.8724,\n",
       "       -1255.1179, -1211.7016, -1206.4154, -1207.937 , -1223.7486,\n",
       "       -1221.4664, -1220.4981, -1246.572 , -1180.0779, -1235.2432,\n",
       "       -1187.7167, -1219.9358, -1245.6116, -1219.4364, -1259.3763,\n",
       "       -1252.5693, -1206.2847, -1214.354 , -1243.9095, -1246.1505,\n",
       "       -1246.3233, -1237.9891, -1230.3783, -1245.9086, -1275.8678,\n",
       "       -1240.4273, -1233.5496, -1231.5974, -1244.765 , -1277.0392,\n",
       "       -1256.8955, -1232.4074, -1203.6705, -1233.5843, -1208.891 ,\n",
       "       -1199.6113, -1248.0939, -1217.0594, -1195.0944, -1235.7323,\n",
       "       -1241.0073, -1280.5679, -1250.6612, -1237.8796, -1224.4065,\n",
       "       -1246.8787, -1207.1993, -1269.7581, -1197.9362, -1220.1967,\n",
       "       -1198.3972, -1232.9267, -1188.2683, -1173.7888, -1207.2079,\n",
       "       -1224.3588, -1211.8691, -1261.0263, -1203.0693, -1203.5672,\n",
       "       -1250.4407, -1267.2678, -1187.1382, -1191.5623, -1219.3283,\n",
       "       -1212.7013, -1189.6483, -1244.4987, -1234.5246, -1232.0024,\n",
       "       -1231.5702, -1215.6307, -1188.9414, -1222.4523, -1200.7302,\n",
       "       -1224.5591, -1281.2627, -1269.2854, -1279.4867, -1290.3727,\n",
       "       -1280.8375, -1216.7137, -1270.35  , -1264.8962, -1283.3287,\n",
       "       -1242.6893, -1241.8814, -1254.7461, -1254.392 , -1235.1441,\n",
       "       -1268.8857, -1244.5112, -1287.067 , -1263.1936, -1246.0502,\n",
       "       -1233.6359, -1187.8104, -1187.6611, -1191.712 , -1202.9127,\n",
       "       -1166.7523, -1184.8729, -1216.4798, -1252.6337, -1220.6995,\n",
       "       -1220.4618, -1214.8254, -1178.1679, -1240.4367, -1166.9832,\n",
       "       -1232.9723, -1235.8379, -1211.9612, -1193.2238, -1258.7351,\n",
       "       -1216.7159, -1217.9453, -1229.7364, -1191.3657, -1247.5723,\n",
       "       -1198.839 , -1187.8173, -1167.9257, -1180.528 , -1167.9657,\n",
       "       -1272.9328, -1201.1464, -1205.3447, -1242.6622, -1195.9421,\n",
       "       -1220.3342, -1220.4058, -1203.5542, -1192.5446, -1231.1719,\n",
       "       -1192.806 , -1235.4007, -1228.803 , -1255.4274, -1232.3719,\n",
       "       -1226.5614, -1268.0114, -1216.7107, -1245.3128, -1245.9162,\n",
       "       -1250.4169, -1252.8086, -1222.4169, -1263.6635, -1262.6875,\n",
       "       -1299.2927, -1248.9251, -1260.1352, -1198.2631, -1208.157 ,\n",
       "       -1230.5648, -1233.8059, -1205.9757, -1234.6791, -1215.4152,\n",
       "       -1234.5674, -1225.2551, -1235.7034, -1247.9463, -1245.2067,\n",
       "       -1228.7669, -1217.5187, -1210.7232, -1255.6368, -1257.8873,\n",
       "       -1223.9898, -1244.1591, -1203.1396, -1230.3492, -1233.6981,\n",
       "       -1209.5505, -1183.8553, -1171.7156, -1205.4948, -1197.8036,\n",
       "       -1164.1371, -1280.3038, -1240.1831, -1280.2781, -1279.474 ,\n",
       "       -1281.8914, -1250.4046, -1282.4291, -1254.0071, -1265.5187,\n",
       "       -1248.7592, -1219.3209, -1257.6355, -1191.141 , -1196.5862,\n",
       "       -1213.9633, -1226.6244, -1228.0851, -1277.5474, -1182.1902,\n",
       "       -1217.0557, -1172.2588, -1252.8046, -1207.2425, -1210.9566,\n",
       "       -1187.3681, -1226.8338, -1267.6881, -1211.7996, -1243.0491,\n",
       "       -1206.1716, -1244.1851, -1282.5281, -1245.3559, -1251.8304,\n",
       "       -1268.0871, -1221.7376, -1237.0767, -1249.9054, -1229.7197,\n",
       "       -1274.7562, -1274.6302, -1234.9792, -1268.5859, -1276.02  ,\n",
       "       -1222.1498, -1228.8338, -1232.8857, -1255.8153, -1190.7118,\n",
       "       -1199.4424, -1211.1627, -1263.842 , -1237.9841, -1207.2191,\n",
       "       -1224.0302, -1240.0398, -1247.5722, -1216.804 , -1251.7822,\n",
       "       -1222.5253, -1190.349 , -1174.9707, -1170.6806, -1192.7905,\n",
       "       -1175.715 , -1221.5865, -1216.2298, -1216.994 , -1273.401 ,\n",
       "       -1244.9621, -1213.8269, -1240.2773, -1243.2825, -1250.6436,\n",
       "       -1275.18  , -1204.9276, -1199.885 , -1190.4942, -1188.3343,\n",
       "       -1169.5488, -1204.0956, -1211.1558, -1210.1505, -1197.2779,\n",
       "       -1181.9946, -1212.5824, -1183.4762, -1182.7964, -1197.7343,\n",
       "       -1236.1608, -1250.914 , -1206.9407, -1265.8723, -1241.5872,\n",
       "       -1246.6761, -1218.1723, -1213.426 , -1278.9185, -1302.7491,\n",
       "       -1264.5993, -1258.8541, -1272.5612, -1226.9131, -1205.8452,\n",
       "       -1213.2101, -1248.0263, -1226.4198, -1243.1747, -1233.0069,\n",
       "       -1236.788 , -1181.3686, -1208.8585, -1233.2875, -1202.0709,\n",
       "       -1211.7389, -1256.9379, -1226.6633, -1201.3073, -1246.7394,\n",
       "       -1210.0746, -1238.3183, -1248.3333, -1238.8843, -1223.6201,\n",
       "       -1252.7156, -1220.5207, -1221.37  , -1226.6659, -1165.2435,\n",
       "       -1187.4962, -1197.4173, -1217.0614, -1223.4536, -1213.6089,\n",
       "       -1247.7922, -1215.0489, -1262.9347, -1198.0191, -1237.5402,\n",
       "       -1211.9998, -1187.1494, -1238.9073, -1184.0546, -1217.7407,\n",
       "       -1186.9037, -1286.7742, -1295.8055, -1267.5984, -1271.0082,\n",
       "       -1257.3708, -1235.1492, -1178.8687, -1224.3892, -1271.3745,\n",
       "       -1250.083 , -1199.8974, -1202.5382, -1217.9859, -1209.6204,\n",
       "       -1224.9471, -1189.8384, -1155.9777, -1236.3328, -1200.6532,\n",
       "       -1234.5468, -1221.4193, -1179.8364, -1184.099 , -1199.2768,\n",
       "       -1170.1959, -1184.9188, -1238.8292, -1256.8237, -1205.7706,\n",
       "       -1234.7395, -1232.6443, -1222.0188, -1222.2282, -1222.441 ,\n",
       "       -1212.7436, -1253.6868, -1188.3942, -1246.98  , -1219.1614,\n",
       "       -1265.6353, -1290.9746, -1234.9109, -1284.4345, -1246.4225,\n",
       "       -1264.7219, -1245.5942, -1168.1125, -1174.253 , -1206.2389,\n",
       "       -1203.9709, -1212.1341, -1253.891 , -1220.2624, -1240.3169,\n",
       "       -1232.065 , -1176.9644, -1208.9888, -1269.1269, -1258.2373,\n",
       "       -1219.7511, -1268.2383, -1265.3683, -1221.5715, -1237.297 ,\n",
       "       -1237.2565, -1244.3768, -1250.5625, -1224.8791, -1205.7808,\n",
       "       -1241.9672, -1249.3186, -1281.3175, -1242.1692, -1249.009 ,\n",
       "       -1238.7587, -1220.3543, -1239.3546, -1250.4044, -1252.3862,\n",
       "       -1212.0556, -1237.1431, -1180.7258, -1251.1141, -1229.5534,\n",
       "       -1205.509 , -1243.7376, -1177.2473, -1200.6554, -1232.8234,\n",
       "       -1216.9441, -1241.0051, -1213.9833, -1236.1782, -1175.7794,\n",
       "       -1217.4217, -1214.5544, -1245.1937, -1223.0961, -1247.381 ,\n",
       "       -1285.2413, -1266.0887, -1272.2565, -1202.1187, -1218.0505,\n",
       "       -1239.9305, -1236.5843, -1242.4409, -1275.5285, -1228.2772,\n",
       "       -1241.2972, -1262.6219, -1276.1949, -1233.6319, -1207.0032,\n",
       "       -1279.6934, -1275.4443, -1258.2583, -1221.7812, -1196.4197,\n",
       "       -1208.1183, -1206.2013, -1228.5552, -1232.3457, -1273.0981,\n",
       "       -1258.8657, -1227.827 , -1248.4986, -1221.0598, -1222.6055,\n",
       "       -1229.1247, -1175.746 , -1180.7998, -1202.9229, -1224.2573,\n",
       "       -1222.7559, -1224.9165, -1210.1282, -1233.4144, -1208.787 ,\n",
       "       -1192.4424, -1207.0211, -1209.0608, -1249.5673, -1249.269 ,\n",
       "       -1229.4093, -1242.061 , -1206.4668, -1248.4117, -1247.2577,\n",
       "       -1222.5006, -1259.2963, -1227.5441, -1216.1656, -1265.8609,\n",
       "       -1237.9075, -1252.0996, -1230.1071, -1187.5316, -1177.0987,\n",
       "       -1180.9266, -1219.9264, -1240.9202, -1239.4711, -1241.7549,\n",
       "       -1269.1904, -1265.9961, -1232.7895, -1247.4257, -1264.0855,\n",
       "       -1226.7578, -1278.4466, -1231.1355, -1234.7367, -1224.3399,\n",
       "       -1225.2832, -1269.9437, -1230.3712, -1216.7096, -1222.0922,\n",
       "       -1206.9041, -1204.7489, -1235.6572, -1231.6673, -1257.0607,\n",
       "       -1246.9255, -1215.7986, -1273.4508, -1214.3393, -1209.7573,\n",
       "       -1196.4172, -1156.2722, -1180.2442, -1230.1399, -1204.7825,\n",
       "       -1152.8245, -1164.0484, -1188.2649, -1233.0497, -1209.2526,\n",
       "       -1256.897 , -1294.2617, -1231.4537, -1181.2922, -1230.9903,\n",
       "       -1195.3295, -1231.5932, -1177.2053, -1193.1827, -1282.3407,\n",
       "       -1267.0059, -1241.8521, -1285.8837, -1253.5492, -1293.1255,\n",
       "       -1240.0077, -1257.0439, -1255.4677, -1296.9556, -1256.8891,\n",
       "       -1251.7339, -1272.6628, -1275.903 , -1237.4631, -1209.6483,\n",
       "       -1212.493 , -1262.6894, -1184.2253, -1206.7882, -1235.8297,\n",
       "       -1203.0396, -1216.5315, -1184.2505, -1201.8113, -1231.6701,\n",
       "       -1247.6974, -1256.9677, -1230.759 , -1231.9243, -1260.1042,\n",
       "       -1221.5723, -1245.8709, -1229.2982, -1228.9088, -1188.8525,\n",
       "       -1240.2546, -1268.1328, -1248.8628, -1246.5149, -1182.1499,\n",
       "       -1208.4356, -1187.8255, -1216.5332, -1187.7703, -1222.5631,\n",
       "       -1187.7329, -1251.0783, -1247.4715, -1195.9279, -1226.8464,\n",
       "       -1232.723 , -1197.9808, -1199.6304, -1256.7604, -1260.9345,\n",
       "       -1208.1393, -1257.8583, -1206.2434, -1207.7224, -1229.7266,\n",
       "       -1239.1675, -1230.4188, -1245.7804, -1223.8016, -1244.7558,\n",
       "       -1218.5501, -1236.2384, -1234.7932, -1238.1261, -1250.9227,\n",
       "       -1228.133 , -1241.9957, -1232.6425, -1198.1038, -1194.8195,\n",
       "       -1256.3718, -1305.9226, -1239.9936, -1223.4349, -1179.8805,\n",
       "       -1216.8584, -1255.1855, -1230.9942, -1263.6955, -1229.5839,\n",
       "       -1262.3347, -1253.145 , -1205.6898, -1229.9076, -1225.8732,\n",
       "       -1241.5874, -1169.5234, -1184.1232, -1184.729 , -1171.7019,\n",
       "       -1217.2792, -1188.5519, -1200.4564, -1204.4079, -1192.5554,\n",
       "       -1179.3915, -1244.5177, -1264.5738, -1232.1076, -1169.1243,\n",
       "       -1230.063 , -1229.7134, -1179.1419, -1179.9173, -1174.5654,\n",
       "       -1212.8883, -1205.7556, -1226.5498, -1185.9061, -1213.4716,\n",
       "       -1235.0689, -1237.1131, -1271.8206, -1217.2274, -1253.9239,\n",
       "       -1295.9746, -1218.9628, -1219.0322, -1207.392 , -1253.1819,\n",
       "       -1224.8405, -1216.8442, -1242.0498, -1239.3447, -1239.4513,\n",
       "       -1205.7388, -1200.2246, -1161.681 , -1197.0637, -1246.4671,\n",
       "       -1248.5809, -1224.7133, -1207.5217, -1195.1953, -1163.6884,\n",
       "       -1223.8311, -1193.8437, -1189.6865, -1196.0816, -1222.891 ,\n",
       "       -1164.9503, -1157.4316, -1219.3372, -1212.3368, -1178.8976,\n",
       "       -1205.4894, -1197.8585, -1240.3644, -1223.0428, -1218.4031,\n",
       "       -1228.6883, -1214.4831, -1241.7403, -1250.2627, -1205.9807,\n",
       "       -1173.8694, -1185.2561, -1213.7758, -1224.8681, -1185.1245,\n",
       "       -1157.1963, -1190.2452, -1257.8941, -1233.7916, -1238.533 ,\n",
       "       -1242.4689, -1189.9184, -1234.709 , -1209.1885, -1218.4491,\n",
       "       -1207.6958, -1208.5873, -1276.8166, -1222.5863, -1209.7751,\n",
       "       -1192.4908, -1257.201 , -1242.0418,     0.    ])"
      ]
     },
     "execution_count": 79,
     "metadata": {},
     "output_type": "execute_result"
    }
   ],
   "source": [
    "print(len(T_y_rep_weibull))\n",
    "#T_y_rep_weibull"
   ]
  },
  {
   "cell_type": "code",
   "execution_count": 80,
   "metadata": {
    "collapsed": true
   },
   "outputs": [],
   "source": [
    "#data_change  looks good\n",
    "#theta_change looks good\n",
    "#len(data_change[2])# they all have length 9996"
   ]
  },
  {
   "cell_type": "code",
   "execution_count": 81,
   "metadata": {},
   "outputs": [
    {
     "data": {
      "text/plain": [
       "0"
      ]
     },
     "execution_count": 81,
     "metadata": {},
     "output_type": "execute_result"
    }
   ],
   "source": [
    "count_zeros=0\n",
    "for i in range(len(data_change)-1):\n",
    "    if T_y_rep_weibull[i]==0:\n",
    "        count_zeros+=1\n",
    "count_zeros"
   ]
  },
  {
   "cell_type": "code",
   "execution_count": 82,
   "metadata": {
    "collapsed": true
   },
   "outputs": [],
   "source": [
    "T_y_rep_wc=np.zeros(len(theta_change))\n",
    "for i in range(len(theta_change)-1):\n",
    "    T_y_rep_wc[i]=log_wclikelihood(theta_change[i],shapewc_parameters_need[i],0)\n"
   ]
  },
  {
   "cell_type": "code",
   "execution_count": 83,
   "metadata": {},
   "outputs": [
    {
     "data": {
      "text/plain": [
       "0"
      ]
     },
     "execution_count": 83,
     "metadata": {},
     "output_type": "execute_result"
    }
   ],
   "source": [
    "count_zeros=0\n",
    "for i in range(len(theta_change)-1):\n",
    "    if T_y_rep_wc[i]==0:\n",
    "        count_zeros+=1\n",
    "count_zeros"
   ]
  },
  {
   "cell_type": "code",
   "execution_count": 84,
   "metadata": {},
   "outputs": [
    {
     "name": "stdout",
     "output_type": "stream",
     "text": [
      "999\n"
     ]
    }
   ],
   "source": [
    "print(len(T_y_rep_wc))\n",
    "#T_y_rep_wc"
   ]
  },
  {
   "cell_type": "code",
   "execution_count": 85,
   "metadata": {
    "collapsed": true
   },
   "outputs": [],
   "source": [
    "T_y_rep=T_y_rep_weibull+T_y_rep_wc#[:-1]   \n",
    "#T_y_rep"
   ]
  },
  {
   "cell_type": "code",
   "execution_count": 86,
   "metadata": {},
   "outputs": [
    {
     "data": {
      "text/plain": [
       "array([-4609.4635])"
      ]
     },
     "execution_count": 86,
     "metadata": {},
     "output_type": "execute_result"
    }
   ],
   "source": [
    "T_y"
   ]
  },
  {
   "cell_type": "code",
   "execution_count": 87,
   "metadata": {},
   "outputs": [
    {
     "name": "stdout",
     "output_type": "stream",
     "text": [
      "230\n",
      "999\n",
      "0.23023023023023023\n"
     ]
    }
   ],
   "source": [
    "count=0\n",
    "for i in range(len(T_y_rep)-1):\n",
    "    if T_y_rep[i]>T_y:\n",
    "        count+=1\n",
    "print(count)\n",
    "print(len(T_y_rep))\n",
    "ppp_value=count/len(T_y_rep)\n",
    "print(ppp_value)\n",
    "#256 out 999,0.256 ppp-value with equal length in datas\n",
    "#375 out of 1500, 0.25 ppp-value wiht not equal lengths in datas\n",
    "#it's fine as long as we have n_change=n_original i.e. likelihood are equally informative"
   ]
  },
  {
   "cell_type": "code",
   "execution_count": 88,
   "metadata": {},
   "outputs": [
    {
     "data": {
      "image/png": "[encoded data removed]",
      "text/plain": [
       "<matplotlib.figure.Figure at 0x252e28a0550>"
      ]
     },
     "metadata": {},
     "output_type": "display_data"
    }
   ],
   "source": [
    "plt.hist(T_y_rep,bins=100)\n",
    "#plt.hist(T_y)\n",
    "plt.show()\n"
   ]
  },
  {
   "cell_type": "code",
   "execution_count": null,
   "metadata": {
    "collapsed": true
   },
   "outputs": [],
   "source": []
  },
  {
   "cell_type": "code",
   "execution_count": null,
   "metadata": {
    "collapsed": true
   },
   "outputs": [],
   "source": []
  }
 ],
 "metadata": {
  "kernelspec": {
   "display_name": "Python 3",
   "language": "python",
   "name": "python3"
  },
  "language_info": {
   "codemirror_mode": {
    "name": "ipython",
    "version": 3
   },
   "file_extension": ".py",
   "mimetype": "text/x-python",
   "name": "python",
   "nbconvert_exporter": "python",
   "pygments_lexer": "ipython3",
   "version": "3.6.3"
  }
 },
 "nbformat": 4,
 "nbformat_minor": 2
}
