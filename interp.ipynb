{
 "cells": [
  {
   "cell_type": "code",
   "execution_count": 5,
   "metadata": {},
   "outputs": [],
   "source": [
    "import pandas as pd\n",
    "import statsmodels.api as sm\n",
    "from scipy import interpolate\n",
    "from pandas import Series, DataFrame, Panel\n",
    "from string import ascii_lowercase as letters\n",
    "from scipy.stats import chisqprob\n",
    "from __future__ import division\n",
    "import os\n",
    "import sys\n",
    "import glob\n",
    "import matplotlib.pyplot as plt\n",
    "import numpy as np\n",
    "import pandas as pd\n",
    "import random\n",
    "import math\n",
    "from scipy.stats import wrapcauchy\n",
    "import matplotlib.pyplot as plt\n",
    "%matplotlib inline\n",
    "%precision 4\n",
    "plt.style.use('ggplot')\n",
    "from mpl_toolkits.mplot3d import Axes3D\n",
    "import scipy.stats as stats\n",
    "from functools import partial\n",
    "np.random.seed(1234)"
   ]
  },
  {
   "cell_type": "code",
   "execution_count": 6,
   "metadata": {
    "collapsed": true
   },
   "outputs": [],
   "source": [
    "def rw2(n):# this gives samples from weibull(5,2)\n",
    "    x=np.zeros(n)\n",
    "    y=np.zeros(n)\n",
    "    theta=[0]*n\n",
    "    theta[0]=wrapcauchy.rvs(c,loc=0,size=1)\n",
    "    if theta[0]>2*math.pi:\n",
    "            theta[0] = theta[0] - 2* math.pi\n",
    "    if theta[0]<0:\n",
    "            theta[0] = theta[0] + 2* math.pi\n",
    "    for i in range(1,n):\n",
    "        r=random.weibullvariate(alpha,beta)\n",
    "        theta[i]=wrapcauchy.rvs(c,loc=theta[i-1],size=1)# c is the shape parameter\n",
    "        if theta[i]>2*math.pi:\n",
    "            theta[i] =theta[i] - 2* math.pi\n",
    "        if theta[i]<0:\n",
    "            theta[i] = theta[i] + 2* math.pi\n",
    "        x[i]=x[i-1]+r*math.cos(theta[i])\n",
    "        y[i]=y[i-1]+r*math.sin(theta[i])\n",
    "    return(x,y)   \n",
    "    \n",
    "n=100 #int(input(\"how many steps?\"))\n",
    "alpha=2 #int(input(\"what's the scale?\"))\n",
    "beta=5 #int(input(\"what's the shape?\"))\n",
    "c=0.9# float(input(\"What's the shape parameter for the wrapped Cauchy?\"))# this needs to be between 0 and 1\n",
    "data = rw2(n)\n",
    "x=data[0]\n",
    "y=data[1]\n",
    "t=range(0,n)"
   ]
  },
  {
   "cell_type": "code",
   "execution_count": 3,
   "metadata": {
    "collapsed": true
   },
   "outputs": [],
   "source": [
    "# The Series datatype can also be used to represent time series\n",
    "\n",
    "import datetime as dt\n",
    "from pandas import date_range\n",
    "\n",
    "today = dt.date.today()\n",
    "days = date_range(today, periods=n, freq='S')\n",
    "tx = Series(x,index=days)# here I should put my function\n",
    "ty=Series(y,index=days)\n",
    "#ty.columns=('date','seconds','x-coordinate')\n",
    "dftx=pd.Series.to_frame(tx)\n",
    "#print(dftx)\n",
    "#print (tx, '\\n') # Note - includes end time\n",
    "#print (ty, '\\n') # Note - includes end time\n"
   ]
  },
  {
   "cell_type": "code",
   "execution_count": 4,
   "metadata": {
    "collapsed": true
   },
   "outputs": [],
   "source": [
    "dftx=dftx.assign(coordinate=y)\n",
    "#dftx.columns=['x-coordinate']\n"
   ]
  },
  {
   "cell_type": "code",
   "execution_count": 5,
   "metadata": {},
   "outputs": [
    {
     "data": {
      "text/html": [
       "<div>\n",
       "<style>\n",
       "    .dataframe thead tr:only-child th {\n",
       "        text-align: right;\n",
       "    }\n",
       "\n",
       "    .dataframe thead th {\n",
       "        text-align: left;\n",
       "    }\n",
       "\n",
       "    .dataframe tbody tr th {\n",
       "        vertical-align: top;\n",
       "    }\n",
       "</style>\n",
       "<table border=\"1\" class=\"dataframe\">\n",
       "  <thead>\n",
       "    <tr style=\"text-align: right;\">\n",
       "      <th></th>\n",
       "      <th>column1</th>\n",
       "      <th>column2</th>\n",
       "      <th>y</th>\n",
       "    </tr>\n",
       "  </thead>\n",
       "  <tbody>\n",
       "    <tr>\n",
       "      <th>0</th>\n",
       "      <td>1</td>\n",
       "      <td>3</td>\n",
       "      <td>0</td>\n",
       "    </tr>\n",
       "    <tr>\n",
       "      <th>1</th>\n",
       "      <td>2</td>\n",
       "      <td>4</td>\n",
       "      <td>1</td>\n",
       "    </tr>\n",
       "  </tbody>\n",
       "</table>\n",
       "</div>"
      ],
      "text/plain": [
       "   column1  column2  y\n",
       "0        1        3  0\n",
       "1        2        4  1"
      ]
     },
     "execution_count": 5,
     "metadata": {},
     "output_type": "execute_result"
    }
   ],
   "source": [
    " d = {'col1': [1, 2], 'col2': [3, 4]}\n",
    "df = pd.DataFrame(data=d, dtype=np.int8)\n",
    "df.columns=['column1','column2']# changing the names\n",
    "R=range(0,2)\n",
    "df.assign(y=R)\n"
   ]
  },
  {
   "cell_type": "code",
   "execution_count": 6,
   "metadata": {
    "collapsed": true
   },
   "outputs": [],
   "source": [
    "#dftx.columns=['x-coordinate','y-coordinate'] It works! type this again when you run the code,for some reason it gets stuck\n",
    "dftx.columns=['x-coordinate','y-coordinate']\n",
    "#dftx"
   ]
  },
  {
   "cell_type": "code",
   "execution_count": 7,
   "metadata": {},
   "outputs": [
    {
     "name": "stdout",
     "output_type": "stream",
     "text": [
      "2018-02-26 18:14:33.864599\n",
      "864599\n",
      "2009-12-04 23:03:27.343000\n"
     ]
    }
   ],
   "source": [
    "from datetime import datetime, timedelta\n",
    "now = datetime.now()\n",
    "print(now)\n",
    "date=datetime(2009, 12, 4, 23, 3, 27, 343000)\n",
    "print(now.microsecond)\n",
    "print(date)"
   ]
  },
  {
   "cell_type": "code",
   "execution_count": 8,
   "metadata": {},
   "outputs": [
    {
     "name": "stdout",
     "output_type": "stream",
     "text": [
      "2018-02-26 18:14:33.864599\n",
      "2018-02-26 18:14:33.864599\n"
     ]
    }
   ],
   "source": [
    "print(now.strftime(\"%Y-%m-%d %H:%M:%S.%f\").rstrip('0'))\n",
    "print(now.strftime(\"%Y-%m-%d %H:%M:%S.%f\"))#they're the same\n"
   ]
  },
  {
   "cell_type": "code",
   "execution_count": 9,
   "metadata": {},
   "outputs": [
    {
     "name": "stdout",
     "output_type": "stream",
     "text": [
      "1:01:02.567000\n",
      "1:01:02.567000\n"
     ]
    }
   ],
   "source": [
    "# same thing, different code\n",
    "span = timedelta(seconds=3662.567)\n",
    "print(span)\n",
    "date_fraction=timedelta(0, 3662, 567000)\n",
    "print(date_fraction)"
   ]
  },
  {
   "cell_type": "code",
   "execution_count": 10,
   "metadata": {},
   "outputs": [
    {
     "name": "stdout",
     "output_type": "stream",
     "text": [
      "0:00:00.100000\n",
      "<class 'datetime.timedelta'>\n"
     ]
    }
   ],
   "source": [
    "fraction_seconds=timedelta(seconds=0.1)# what I need,but it doesn't work below\n",
    "print(fraction_seconds)\n",
    "print(type(fraction_seconds))"
   ]
  },
  {
   "cell_type": "code",
   "execution_count": 11,
   "metadata": {},
   "outputs": [
    {
     "name": "stdout",
     "output_type": "stream",
     "text": [
      "2018-02-10 00:00:00.000001\n"
     ]
    }
   ],
   "source": [
    "date_fraction_seconds=datetime(2018, 2, 10, 0, 0, 0,1)# try something else,maybe this is the right format\n",
    "print(date_fraction_seconds)"
   ]
  },
  {
   "cell_type": "code",
   "execution_count": 12,
   "metadata": {},
   "outputs": [
    {
     "name": "stdout",
     "output_type": "stream",
     "text": [
      "2\n",
      "1000\n"
     ]
    }
   ],
   "source": [
    "m=10*n\n",
    "def rw2(m):# this gives samples from weibull(5,2)\n",
    "    distance=[]\n",
    "    x=np.zeros(m)\n",
    "    y=np.zeros(m)\n",
    "    for i in range(1,m):\n",
    "        r=random.weibullvariate(alpha,beta)\n",
    "        theta=2.*math.pi*random.random()\n",
    "        x[i]=x[i-1]+r*math.cos(theta)\n",
    "        y[i]=y[i-1]+r*math.sin(theta)\n",
    "    return(x,y)   \n",
    "    \n",
    "alpha=2#float(input(\"what's the scale?\"))\n",
    "beta=5#float(input(\"what's the shape?\"))\n",
    "n=100#int(input(\"how many steps?\"))\n",
    "#tries=int(input(\"how many tries?\"))#  put tries=1  in order to properly save the list distance\n",
    "data_new = rw2(m)\n",
    "x_new=data_new[0]\n",
    "y_new=data_new[1]\n",
    "print(len(data_new))\n",
    "print(len(data_new[0]))"
   ]
  },
  {
   "cell_type": "code",
   "execution_count": 13,
   "metadata": {
    "collapsed": true
   },
   "outputs": [],
   "source": [
    "#So we have n observations, so for every second we have a pair (x,y). We want now a subsample consisting of a 0.1 seconds step.\n",
    "# Therefore instead of periods=n we have periods m=10*n\n",
    "today = dt.date.today()\n",
    "fraction_seconds = date_range(today, periods=m, freq='0.1S')\n",
    "tx_new = Series(x_new,index=fraction_seconds)\n",
    "ty_new=Series(y_new,index=fraction_seconds)\n",
    "#print (tx_new, '\\n') # Note - includes end time\n",
    "#print (ty_new, '\\n') # Note - includes end time"
   ]
  },
  {
   "cell_type": "code",
   "execution_count": 14,
   "metadata": {
    "collapsed": true
   },
   "outputs": [],
   "source": [
    "dftx_new=pd.Series.to_frame(tx_new)\n",
    "dftx_new=dftx_new.assign(coordinate=y_new)\n",
    "dftx_new.columns=['x-coordinate','y-coordinate']\n",
    "#dftx_new"
   ]
  },
  {
   "cell_type": "code",
   "execution_count": 15,
   "metadata": {
    "collapsed": true
   },
   "outputs": [],
   "source": [
    "time_file=pd.DataFrame.to_csv(dftx_new)\n",
    "# what now?? "
   ]
  },
  {
   "cell_type": "code",
   "execution_count": 16,
   "metadata": {
    "collapsed": true
   },
   "outputs": [],
   "source": [
    "import csv\n",
    "#csv.open(\"time_file\")\n",
    "#?csv\n",
    "#open(time_file)"
   ]
  },
  {
   "cell_type": "code",
   "execution_count": 17,
   "metadata": {
    "collapsed": true
   },
   "outputs": [],
   "source": [
    "import matplotlib.pyplot as plt\n",
    "from scipy import interpolate\n",
    "x1 = np.arange(0, 10)\n",
    "y1 = np.exp(-x1/3.0)\n",
    "f1 = interpolate.interp1d(x1, y1)\n",
    "#print(x1)\n"
   ]
  },
  {
   "cell_type": "code",
   "execution_count": 18,
   "metadata": {},
   "outputs": [
    {
     "data": {
      "image/png": "[encoded data removed]",
      "text/plain": [
       "<matplotlib.figure.Figure at 0x22d0fd27748>"
      ]
     },
     "metadata": {},
     "output_type": "display_data"
    }
   ],
   "source": [
    "x1new = np.arange(0, 9, 0.1)\n",
    "y1new = f1(x1new)   # use interpolation function returned by `interp1d`\n",
    "plt.plot(x1, y1, 'o', x1new, y1new, '-')\n",
    "plt.show()\n",
    "#print(y1new)"
   ]
  },
  {
   "cell_type": "code",
   "execution_count": 19,
   "metadata": {
    "collapsed": true
   },
   "outputs": [],
   "source": [
    "#time_step=0.1\n",
    "#f=interpolate.interp1d(x, y,kind='cubic')# that's my function for t=[0,n-1]\n",
    "#t_new=np.arange(0,n-1,time_step)\n",
    "# what now?"
   ]
  },
  {
   "cell_type": "code",
   "execution_count": 20,
   "metadata": {
    "collapsed": true
   },
   "outputs": [],
   "source": [
    "from scipy import interpolate\n",
    "x2 = np.arange(-5.01, 5.01, 0.25)\n",
    "y2 = np.arange(-5.01, 5.01, 0.25)\n",
    "xx, yy = np.meshgrid(x2, y2)\n",
    "z2 = np.sin(xx**2+yy**2)\n",
    "f2 = interpolate.interp2d(x2, y2, z2, kind='cubic')\n",
    "#Now use the obtained interpolation function and plot the result:\n"
   ]
  },
  {
   "cell_type": "code",
   "execution_count": 21,
   "metadata": {},
   "outputs": [
    {
     "data": {
      "image/png": "[encoded data removed]",
      "text/plain": [
       "<matplotlib.figure.Figure at 0x22d0fd276a0>"
      ]
     },
     "metadata": {},
     "output_type": "display_data"
    },
    {
     "name": "stdout",
     "output_type": "stream",
     "text": [
      "1002\n"
     ]
    }
   ],
   "source": [
    "import matplotlib.pyplot as plt\n",
    "xnew2 = np.arange(-5.01, 5.01, 1e-2)\n",
    "ynew2 = np.arange(-5.01, 5.01, 1e-2)\n",
    "znew2 = f2(xnew2, ynew2)\n",
    "plt.plot(x2, z2[0, :], 'ro-', xnew2, znew2[0, :], 'b-')\n",
    "plt.show()\n",
    "print(len(xnew2))"
   ]
  },
  {
   "cell_type": "code",
   "execution_count": 7,
   "metadata": {},
   "outputs": [],
   "source": [
    "# my code pretty much starts here\n",
    "time_step=0.1\n",
    "t_new=np.arange(0,n,time_step)\n",
    "f=interpolate.interp1d(t,x,kind='cubic',fill_value=\"extrapolate\")# ask colin here\n",
    "g=interpolate.interp1d(t,y,kind='cubic',fill_value=\"extrapolate\")"
   ]
  },
  {
   "cell_type": "code",
   "execution_count": 11,
   "metadata": {},
   "outputs": [],
   "source": [
    "x_new=f(t_new)\n",
    "y_new=g(t_new)\n"
   ]
  },
  {
   "cell_type": "code",
   "execution_count": 12,
   "metadata": {},
   "outputs": [],
   "source": [
    "#get the distances now and the angles\n",
    "r=np.zeros(len(x_new))# r the step-lengths\n",
    "theta=np.zeros(len(x_new))# theta the angle\n",
    "new_data=np.zeros(len(x_new))\n",
    "for i in range(0,len(x_new)-1):\n",
    "    r[i]=np.sqrt((x_new[i+1]-x_new[i])**2 + (y_new[i+1]-y_new[i])**2)\n",
    "    theta[i]=math.atan2(y_new[i+1]-y_new[i], x_new[i+1]-x_new[i])\n",
    "    new_data[i]=theta[i+1]-theta[i]# save the difference in the heading\n",
    "    if new_data[i]<0:\n",
    "        new_data[i]=new_data[i]+2*math.pi    \n",
    "data=r# save the step-lengths,have the same name as before in the MCMC sampler for the step-lengths\n",
    "#new_data is the data that we introduce in the heading MCMC sampler\n",
    "for i in range(len(data)):\n",
    "    if data[i]==0:\n",
    "        data[i]=data[i]+0.0001# to avoid zero's which lead to errors\n",
    "#data        "
   ]
  },
  {
   "cell_type": "code",
   "execution_count": 13,
   "metadata": {
    "collapsed": true
   },
   "outputs": [],
   "source": [
    "# Now put them into the MCMC sampler, the second model is to be considered\n",
    "import scipy.stats \n",
    "from scipy.stats import dweibull\n",
    "def log_likelihood(x,a,b):# a is shape, b is scale\n",
    "     return sum(dweibull.logpdf(x,scale=b,c=a))\n",
    "def log_wclikelihood(x,a,b):\n",
    "     return sum(wrapcauchy.logpdf(x,c=a,loc=b))# c is the shape parameter"
   ]
  },
  {
   "cell_type": "code",
   "execution_count": 14,
   "metadata": {},
   "outputs": [
    {
     "name": "stdout",
     "output_type": "stream",
     "text": [
      "Acceptance rate = 0.4176\n"
     ]
    }
   ],
   "source": [
    "#MCMC sampler for the heading\n",
    "# initial guess for theta(a) as array,these are shape(c) \n",
    "guess = 0.9\n",
    "# Prepare storing MCMC chain as array of arrays.\n",
    "A1 = [guess]\n",
    "# define stepsize of MCMC.\n",
    "stepsize = 0.065 # array of stepsizes\n",
    "accepted  = 0.0\n",
    "old_theta=guess# define initial values for theta \n",
    "old_loglik = log_wclikelihood(new_data,old_theta,0)#calculate the first log likelihood\n",
    "# Metropolis-Hastings with 10,000 iterations.\n",
    "for p in range(10000):\n",
    "    new_theta = old_theta + stats.norm(0, stepsize).rvs() \n",
    "    #add the restraints on new_theta\n",
    "    if new_theta<0 or new_theta>1: \n",
    "        continue\n",
    "    new_loglik = log_wclikelihood(new_data,new_theta,0)\n",
    "    # Accept new candidate in Monte-Carlo fashing.\n",
    "    if (new_loglik > old_loglik):\n",
    "        A1.append(new_theta)\n",
    "        accepted = accepted + 1.0  # monitor acceptance\n",
    "        old_loglik=new_loglik\n",
    "        old_theta=new_theta\n",
    "    else:\n",
    "        u = random.uniform(0.0,1.0)\n",
    "        if (u < math.exp(new_loglik - old_loglik)):\n",
    "            A1.append(new_theta)\n",
    "            accepted = accepted + 1.0  # monitor acceptance\n",
    "            old_loglik=new_loglik\n",
    "            old_theta=new_theta\n",
    "        else:\n",
    "            A1.append(old_theta)\n",
    "print(\"Acceptance rate = \"+str(accepted/10000.0))"
   ]
  },
  {
   "cell_type": "code",
   "execution_count": 15,
   "metadata": {},
   "outputs": [
    {
     "name": "stdout",
     "output_type": "stream",
     "text": [
      "0.168904003446\n"
     ]
    },
    {
     "data": {
      "image/png": "[encoded data removed]",
      "text/plain": [
       "<matplotlib.figure.Figure at 0x236c6f74438>"
      ]
     },
     "metadata": {},
     "output_type": "display_data"
    }
   ],
   "source": [
    "print(np.mean(A1))\n",
    "#print(A1)\n",
    "B1=np.array(A1)\n",
    "plt.hist(B1,bins=50)\n",
    "plt.xlabel(\"Shape Parameter\")\n",
    "plt.show()\n"
   ]
  },
  {
   "cell_type": "code",
   "execution_count": 16,
   "metadata": {},
   "outputs": [
    {
     "name": "stdout",
     "output_type": "stream",
     "text": [
      "Acceptance rate = 0.384\n"
     ]
    }
   ],
   "source": [
    "#MCMC sampler for the step-lengths\n",
    "import scipy.stats as stats\n",
    "import numpy as np\n",
    "# initial guess for theta(a and b) as array.\n",
    "guess = [5.0,2.0]\n",
    "# Prepare storing MCMC chain as array of arrays.\n",
    "A2 = [guess]\n",
    "# define stepsize of MCMC.\n",
    "stepsizes = [0.005,0.005]  # array of stepsizes\n",
    "accepted  = 0.0\n",
    "old_theta=guess# define initial values for theta \n",
    "old_loglik = log_likelihood(data,old_theta[0],old_theta[1])#calculate the first log likelihood\n",
    "# Metropolis-Hastings with 10,000 iterations.\n",
    "for p in range(10000):\n",
    "    # Suggest new candidate from Gaussian proposal distribution.\n",
    "    new_theta = old_theta + stats.norm(0, stepsizes).rvs() \n",
    "    #add the restraints on new_theta\n",
    "    if new_theta[0]<0 or new_theta[1]<0: \n",
    "        continue\n",
    "    new_loglik = log_likelihood(data,new_theta[0],new_theta[1])\n",
    "    # Accept new candidate in Monte-Carlo fashing.\n",
    "    if (new_loglik > old_loglik):\n",
    "        A2.append(new_theta)\n",
    "        accepted = accepted + 1.0  # monitor acceptance\n",
    "        old_loglik=new_loglik\n",
    "        old_theta=new_theta\n",
    "    else:\n",
    "        u = random.uniform(0.0,1.0)\n",
    "        if (u < math.exp(new_loglik - old_loglik)):\n",
    "            A2.append(new_theta)\n",
    "            accepted = accepted + 1.0  # monitor acceptance\n",
    "            old_loglik=new_loglik\n",
    "            old_theta=new_theta\n",
    "        else:\n",
    "            A2.append(old_theta)\n",
    "print(\"Acceptance rate = \"+str(accepted/10000.0))"
   ]
  },
  {
   "cell_type": "code",
   "execution_count": 19,
   "metadata": {},
   "outputs": [
    {
     "name": "stdout",
     "output_type": "stream",
     "text": [
      "3.92931960453\n",
      "0.298123176235\n"
     ]
    },
    {
     "data": {
      "image/png": "[encoded data removed]",
      "text/plain": [
       "<matplotlib.figure.Figure at 0x236c7675518>"
      ]
     },
     "metadata": {},
     "output_type": "display_data"
    },
    {
     "data": {
      "image/png": "[encoded data removed]",
      "text/plain": [
       "<matplotlib.figure.Figure at 0x236c74fb710>"
      ]
     },
     "metadata": {},
     "output_type": "display_data"
    }
   ],
   "source": [
    "B2=np.array(A2)\n",
    "shape_mean=np.mean(B2[:,0])\n",
    "scale_mean=np.mean(B2[:,1])\n",
    "print(shape_mean)\n",
    "print(scale_mean)\n",
    "plt.hist(B2[:,0],bins=100)\n",
    "plt.xlabel(\"Shape Parameter\")\n",
    "plt.show()\n",
    "plt.hist(B2[:,1],bins=100)\n",
    "plt.xlabel(\"Scale Parameter\")\n",
    "plt.show()"
   ]
  },
  {
   "cell_type": "code",
   "execution_count": null,
   "metadata": {
    "collapsed": true
   },
   "outputs": [],
   "source": []
  },
  {
   "cell_type": "code",
   "execution_count": 44,
   "metadata": {},
   "outputs": [
    {
     "name": "stdout",
     "output_type": "stream",
     "text": [
      "[ 4.9992  1.9992]\n"
     ]
    },
    {
     "data": {
      "text/plain": [
       "-inf"
      ]
     },
     "execution_count": 44,
     "metadata": {},
     "output_type": "execute_result"
    }
   ],
   "source": [
    "#print(new_theta)\n",
    "#log_likelihood(data,new_theta[0],new_theta[1])# this is the source of error, data has a zero in there\n"
   ]
  },
  {
   "cell_type": "code",
   "execution_count": 56,
   "metadata": {},
   "outputs": [],
   "source": [
    "#try_again=[0.2197,  0.2101,  0.2037,0.2   ,  0.1987,  0.1993,  0.2011,\n",
    "        0.2038,  0.2068,  0.2098,  0.2126,  0.2148,  0.2162,  0.2168,\n",
    "        0.2164,  0.215 ,  0.2124,  0.2086,  0.2037,  0.1977,  0.1909,\n",
    "        0.1844,  0.1784,  0.1729,  0.1679,  0.1633,  0.1593,  0.1557,\n",
    "        0.1525,  0.1497,  0.1474,  0.1453,  0.1434,  0.1417,  0.1403,\n",
    "        0.1391,  0.1381,  0.1373,  0.1368,  0.1366,  0.1366,  0.1369,\n",
    "        0.1376,  0.1388,  0.1403,  0.1422,  0.1445,  0.1472,  0.1504,\n",
    "        0.1539,  0.1578,  0.1615,  0.1648,  0.1679,  0.1705,  0.1728,\n",
    "        0.1747,  0.1763,  0.1775,  0.1784,  0.1791,  0.1801,  0.1815,\n",
    "        0.1834,  0.1855,  0.1881,  0.191 ,  0.1942,  0.1979,  0.2018,\n",
    "        0.2059,  0.2091,  0.2111,  0.2119,  0.2115,  0.21  ,  0.2072,\n",
    "        0.2034,  0.1985,  0.1926,  0.1864,  0.1832,  0.1833,  0.1869,\n",
    "        0.1939,  0.2045,  0.2188,  0.237 ,  0.2593,  0.2859,  0.3142,\n",
    "        0.334 ,  0.3426,  0.3398,  0.3255,  0.2998,  0.2626,  0.2139,\n",
    "        0.1537,  0.0821,  0.0099,  0.0706,  0.1308,  0.1798,  0.2174,\n",
    "        0.2437,  0.2585,  0.262 ,  0.254 ,  0.2346,  0.2064,  0.1803,\n",
    "        0.1587,  0.1419,  0.1299,  0.1227,  0.1205,  0.1231,  0.1307,\n",
    "        0.143 ,  0.1589,  0.174 ,  0.1871,  0.1983,  0.2076,  0.2151]"
   ]
  },
  {
   "cell_type": "code",
   "execution_count": 57,
   "metadata": {},
   "outputs": [
    {
     "data": {
      "text/plain": [
       "-1189.1616"
      ]
     },
     "execution_count": 57,
     "metadata": {},
     "output_type": "execute_result"
    }
   ],
   "source": [
    "#log_likelihood(try_again,5,2)# half the data"
   ]
  },
  {
   "cell_type": "code",
   "execution_count": 65,
   "metadata": {},
   "outputs": [],
   "source": [
    "#try_again2=[0.2197,  0.2101,  0.2037,  0.2   ,  0.1987,  0.1993,  0.2011,\n",
    "        0.2038,  0.2068,  0.2098,  0.2126,  0.2148,  0.2162,  0.2168,\n",
    "        0.2164,  0.215 ,  0.2124,  0.2086,  0.2037,  0.1977,  0.1909,\n",
    "        0.1844,  0.1784,  0.1729,  0.1679,  0.1633,  0.1593,  0.1557,\n",
    "        0.1525,  0.1497,  0.1474,  0.1453,  0.1434,  0.1417,  0.1403,\n",
    "        0.1391,  0.1381,  0.1373,  0.1368,  0.1366,  0.1366,  0.1369,\n",
    "        0.1376,  0.1388,  0.1403,  0.1422,  0.1445,  0.1472,  0.1504,\n",
    "        0.1539,  0.1578,  0.1615,  0.1648,  0.1679,  0.1705,  0.1728,\n",
    "        0.1747,  0.1763,  0.1775,  0.1784,  0.1791,  0.1801,  0.1815,\n",
    "        0.1834,  0.1855,  0.1881,  0.191 ,  0.1942,  0.1979,  0.2018,\n",
    "        0.2059,  0.2091,  0.2111,  0.2119,  0.2115,  0.21  ,  0.2072,\n",
    "        0.2034,  0.1985,  0.1926,  0.1864,  0.1832,  0.1833,  0.1869,\n",
    "        0.1939,  0.2045,  0.2188,  0.237 ,  0.2593,  0.2859,  0.3142,\n",
    "        0.334 ,  0.3426,  0.3398,  0.3255,  0.2998,  0.2626,  0.2139,\n",
    "        0.1537,  0.0821,  0.0099,  0.0706,  0.1308,  0.1798,  0.2174,\n",
    "        0.2437,  0.2585,  0.262 ,  0.254 ,  0.2346,  0.2064,  0.1803,\n",
    "        0.1587,  0.1419,  0.1299,  0.1227,  0.1205,  0.1231,  0.1307,\n",
    "        0.143 ,  0.1589,  0.174 ,  0.1871,  0.1983,  0.2076,  0.2151,\n",
    "        0.221 ,  0.2254,  0.2284,  0.2305,  0.2319,  0.2336,  0.2352,\n",
    "        0.2364,  0.2371,  0.2373,  0.237 ,  0.2364,  0.2361,  0.2365,\n",
    "        0.2369,  0.2324,  0.221 ,  0.2027,  0.1772,  0.1449,  0.107 ,\n",
    "        0.0683,  0.0552,  0.0966,  0.1603,  0.2195,  0.2678,  0.3043,\n",
    "        0.3286,  0.3406,  0.3403,  0.3277,  0.3027,  0.2653,  0.2188,\n",
    "        0.1762,  0.1408,  0.1125,  0.0913,  0.0773,  0.0704,  0.0705,\n",
    "        0.0778,  0.0922,  0.112 ,  0.1301,  0.1447,  0.1559,  0.1636,\n",
    "        0.1679,  0.1686,  0.1659,  0.1598,  0.1502,  0.1382,  0.1275,\n",
    "        0.119 ,  0.1127,  0.1085,  0.1066,  0.107 ,  0.1098,  0.1153,\n",
    "        0.1234,  0.1338,  0.1438,  0.1526,  0.1602,  0.1665,  0.1715,\n",
    "        0.1753,  0.1779,  0.1794,  0.1801,  0.1803,  0.1811,  0.1826,\n",
    "        0.1846,  0.187 ,  0.1897,  0.1927,  0.1959,  0.1992,  0.2027,\n",
    "        0.2063,  0.2091,  0.2111,  0.2123,  0.2128,  0.2125,  0.2114,\n",
    "        0.2097,  0.2074,  0.2044,  0.2011,  0.1977,  0.1945,  0.1912,\n",
    "        0.1878,  0.1843,  0.1806,  0.1767,  0.1726,  0.1682,  0.1636,\n",
    "        0.1584,  0.1526,  0.1462,  0.1393,  0.1318,  0.1239,  0.1154,\n",
    "        0.1066,  0.0975,  0.0887,  0.0823,  0.0786,  0.0775,  0.0786,\n",
    "        0.0823,  0.0887,  0.098 ,  0.1106,  0.1266,  0.1449,  0.1612,\n",
    "        0.1743,  0.1841,  0.1904,  0.1933,  0.1927,  0.1886,  0.1812,\n",
    "        0.1703,  0.1573,  0.146 ,  0.1376,  0.1317,  0.1285,  0.1278,\n",
    "        0.1297,  0.1344,  0.1419,  0.1524,  0.1651,  0.1762,  0.1846,\n",
    "        0.1902,  0.1929,  0.1928,  0.1899,  0.1843,  0.1761,  0.1656,\n",
    "        0.1538,  0.1434,  0.1351,  0.1286,  0.1237,  0.1202,  0.1179,\n",
    "        0.1166,  0.1159,  0.1157,  0.116 ,  0.1166,  0.1174,  0.1187,\n",
    "        0.1205,  0.1231,  0.1268,  0.132 ,  0.1387,  0.1474,  0.1578,\n",
    "        0.1684,  0.1783,  0.1872,  0.1951,  0.2016,  0.2069,  0.2108,\n",
    "        0.2135,  0.2149,  0.2153,  0.2149,  0.2137,  0.2117,  0.2088,\n",
    "        0.205 ,  0.2003,  0.1946,  0.1881,  0.1806,  0.1729,  0.1672,\n",
    "        0.1639,  0.163 ,  0.1646,  0.1685,  0.1748,  0.1835,  0.1947,\n",
    "        0.2084,  0.2237,  0.2363,  0.2451,  0.2501,  0.2514,  0.2489,\n",
    "        0.2426,  0.2326,  0.2187,  0.2011,  0.1811,  0.1639,  0.1508,\n",
    "        0.1417,  0.1365,  0.1352,  0.1378,  0.1443,  0.1549,  0.1695,\n",
    "        0.187 ,  0.2023,  0.2138,  0.2217,  0.2259,  0.2264,  0.2232,\n",
    "        0.2164,  0.206 ,  0.1921,  0.1761,  0.1622,  0.1513,  0.1431,\n",
    "        0.1376,  0.1352,  0.1365,  0.142 ,  0.1526,  0.1686,  0.1887,\n",
    "        0.2067,  0.2205,  0.2297,  0.2341,  0.2336,  0.2281,  0.2176,\n",
    "        0.202 ,  0.1814,  0.1574,  0.1368,  0.1214,  0.1111,  0.106 ,\n",
    "        0.1059,  0.1109,  0.1209,  0.136 ,  0.1561,  0.1799,  0.2018,\n",
    "        0.2203,  0.2354,  0.2472,  0.2556,  0.2607,  0.2624,  0.2608,\n",
    "        0.2558,  0.2481,  0.24  ,  0.2322,  0.2245,  0.2171,  0.2098,\n",
    "        0.2028,  0.1959,  0.1893,  0.1828,  0.1765,  0.1701,  0.1636,\n",
    "        0.157 ,  0.1503,  0.1435,  0.1366,  0.1296,  0.1225,  0.1153,\n",
    "        0.1084,  0.1032,  0.0999,  0.0986,  0.0993,  0.102 ,  0.1067,\n",
    "        0.1134,  0.122 ,  0.1326,  0.1443,  0.1538,  0.1605,  0.1645,\n",
    "        0.166 ,  0.1654,  0.1633,  0.1602,  0.1573,  0.1557,  0.1572,\n",
    "        0.1626,  0.1703,  0.1788,  0.1872,  0.1947,  0.2011,  0.2062,\n",
    "        0.21  ,  0.2128,  0.2147,  0.2154,  0.2147,  0.2123,  0.208 ,\n",
    "        0.202 ,  0.1943,  0.1852,  0.1752,  0.1649,  0.1561,  0.1518,\n",
    "        0.1518,  0.155 ,  0.1608,  0.1686,  0.1783,  0.1899,  0.204 ,\n",
    "        0.2209,  0.2392,  0.2514,  0.2551,  0.2501,  0.2361,  0.2132,\n",
    "        0.1813,  0.1405,  0.0912,  0.0372,  0.0448,  0.1004,  0.15  ,\n",
    "        0.1911,  0.2234,  0.2466,  0.2609,  0.2661,  0.2624,  0.2497,\n",
    "        0.2302,  0.212 ,  0.1971,  0.1853,  0.1768,  0.1713,  0.169 ,\n",
    "        0.1699,  0.1743,  0.1822,  0.1926,  0.2015,  0.2076,  0.2111,\n",
    "        0.2118,  0.2098,  0.2051,  0.1978,  0.188 ,  0.176 ,  0.1627,\n",
    "        0.1515,  0.143 ,  0.1368,  0.1326,  0.1301,  0.1289,  0.1291,\n",
    "        0.1305,  0.1334,  0.1378,  0.1431,  0.1488,  0.1548,  0.1612,\n",
    "        0.1679,  0.175 ,  0.1827,  0.1911,  0.2004,  0.2104,  0.2187,\n",
    "        0.2247,  0.2282,  0.2291,  0.2273,  0.2229,  0.2156,  0.2056,\n",
    "        0.1928,  0.1781,  0.1653,  0.1552,  0.1479,  0.1433,  0.1414,\n",
    "        0.1422,  0.1457,  0.152 ,  0.1611,  0.1721,  0.1811,  0.1872,\n",
    "        0.1904,  0.1908,  0.1882,  0.1827,  0.1744,  0.1631,  0.1489,\n",
    "        0.1329,  0.1191,  0.1086,  0.1013,  0.0973,  0.0967,  0.0993,\n",
    "        0.1051,  0.1143,  0.1267,  0.1415,  0.155 ,  0.1662,  0.1752,\n",
    "        0.182 ,  0.1865,  0.1888,  0.189 ,  0.1869,  0.1828,  0.1768,\n",
    "        0.1703,  0.1636,  0.1566,  0.1492,  0.1415,  0.1335,  0.1254,\n",
    "        0.1172,  0.1092,  0.1025,  0.0992,  0.0993,  0.1025,  0.1088,\n",
    "        0.1187,  0.1328,  0.1515,  0.1753,  0.2043,  0.2366,  0.2635,\n",
    "        0.2824,  0.2931,  0.2958,  0.2905,  0.2776,  0.2579,  0.2327,\n",
    "        0.2047,  0.1806,  0.17  ,  0.1717,  0.1811,  0.1935,  0.206 ,\n",
    "        0.2164,  0.224 ,  0.2284,  0.2297,  0.2289,  0.2285,  0.2285,\n",
    "        0.2288,  0.229 ,  0.2291,  0.2291,  0.2291,  0.2294,  0.2302,\n",
    "        0.2317,  0.2329,  0.2331,  0.2322,  0.2299,  0.226 ,  0.2205,\n",
    "        0.2132,  0.2043,  0.1936,  0.1818,  0.1701,  0.159 ,  0.1482,\n",
    "        0.1379,  0.128 ,  0.1186,  0.1098,  0.102 ,  0.0955,  0.0911,\n",
    "        0.0889,  0.0887,  0.09  ,  0.0922,  0.0952,  0.0986,  0.1022,\n",
    "        0.1062,  0.1104,  0.1151,  0.12  ,  0.125 ,  0.1303,  0.1356,\n",
    "        0.1411,  0.1466,  0.1522,  0.1579,  0.1637,  0.1696,  0.1759,\n",
    "        0.1825,  0.1896,  0.197 ,  0.2048,  0.2129,  0.2214,  0.2303,\n",
    "        0.2395,  0.2486,  0.2552,  0.2587,  0.2592,  0.2567,  0.2512,\n",
    "        0.2426,  0.231 ,  0.2164,  0.1988,  0.1789,  0.1601,  0.1431,\n",
    "        0.1279,  0.1147,  0.1038,  0.0954,  0.0902,  0.0886,  0.0911,\n",
    "        0.0969,  0.1027,  0.1069,  0.1092,  0.1099,  0.1097,  0.1101,\n",
    "        0.1131,  0.121 ,  0.1356,  0.1567,  0.1787,  0.1984,  0.2148,\n",
    "        0.2273,  0.2354,  0.2391,  0.2382,  0.2326,  0.2225,  0.2092,\n",
    "        0.1979,  0.1899,  0.1852,  0.1838,  0.1856,  0.1907,  0.1992,\n",
    "        0.211 ,  0.2263,  0.2438,  0.2586,  0.2693,  0.2758,  0.2782,\n",
    "        0.2765,  0.2706,  0.2606,  0.2466,  0.2286,  0.2082,  0.1901,\n",
    "        0.1754,  0.1639,  0.1555,  0.1505,  0.1494,  0.1526,  0.161 ,\n",
    "        0.1751,  0.1935,  0.2101,  0.2227,  0.2308,  0.2343,  0.2332,\n",
    "        0.2279,  0.2187,  0.2066,  0.1932,  0.1813,  0.1751,  0.174 ,\n",
    "        0.1762,  0.18  ,  0.1842,  0.1879,  0.1906,  0.1921,  0.1924,\n",
    "        0.192 ,  0.1917,  0.1917,  0.1918,  0.1919,  0.1919,  0.1917,\n",
    "        0.1914,  0.1909,  0.1902,  0.1893,  0.1879,  0.1859,  0.1835,\n",
    "        0.1807,  0.1777,  0.1747,  0.1721,  0.1704,  0.1701,  0.1717,\n",
    "        0.1752,  0.1799,  0.185 ,  0.1901,  0.195 ,  0.1996,  0.2042,\n",
    "        0.209 ,  0.2143,  0.2205,  0.2261,  0.2306,  0.2336,  0.2348,\n",
    "        0.2343,  0.2317,  0.2272,  0.2206,  0.212 ,  0.202 ,  0.1931,\n",
    "        0.1857,  0.18  ,  0.1758,  0.1731,  0.172 ,  0.1726,  0.175 ,\n",
    "        0.1792,  0.1849,  0.1899,  0.1936,  0.196 ,  0.1971,  0.1968,\n",
    "        0.195 ,  0.1919,  0.1872,  0.1811,  0.1741,  0.1687,  0.1653,\n",
    "        0.164 ,  0.1647,  0.1674,  0.1722,  0.179 ,  0.188 ,  0.199 ,\n",
    "        0.2115,  0.2229,  0.2327,  0.2407,  0.247 ,  0.2515,  0.2543,\n",
    "        0.2554,  0.2548,  0.2525,  0.249 ,  0.2454,  0.2421,  0.239 ,\n",
    "        0.2361,  0.2333,  0.2306,  0.2281,  0.2257,  0.2234,  0.2213,\n",
    "        0.219 ,  0.2167,  0.2142,  0.2115,  0.2089,  0.2064,  0.2041,\n",
    "        0.2024,  0.2013,  0.2011,  0.2018,  0.2027,  0.2035,  0.2042,\n",
    "        0.2047,  0.2053,  0.2064,  0.2085,  0.2123,  0.218 ,  0.2241,\n",
    "        0.2292,  0.233 ,  0.2351,  0.2352,  0.2332,  0.2288,  0.2219,\n",
    "        0.2125,  0.2014,  0.1922,  0.1859,  0.1824,  0.182 ,  0.1846,\n",
    "        0.1906,  0.2   ,  0.213 ,  0.2297,  0.2487,  0.2642,  0.2749,\n",
    "        0.281 ,  0.2825,  0.2799,  0.2736,  0.2643,  0.253 ,  0.2412,\n",
    "        0.2317,  0.2281,  0.2299,  0.2356,  0.2436,  0.2526,  0.2616,\n",
    "        0.2699,  0.277 ,  0.2824,  0.2856,  0.2843,  0.2781,  0.2673,\n",
    "        0.2524,  0.2348,  0.2163,  0.2004,  0.1924,  0.1983,  0.2201,\n",
    "        0.2458,  0.266 ,  0.2769,  0.2766,  0.2641,  0.239 ,  0.201 ,\n",
    "        0.1504,  0.0893,  0.0413,  0.0747,  0.1266,  0.1721,  0.2087,\n",
    "        0.2362,  0.2547,  0.2649,  0.2676,  0.2642,  0.2585,  0.2561,\n",
    "        0.2566,  0.2583,  0.2598,  0.2601,  0.2584,  0.2541,  0.247 ,\n",
    "        0.2368,  0.2247,  0.2142,  0.2062,  0.2008,  0.1978,  0.1973,\n",
    "        0.1992,  0.2034,  0.2101,  0.219 ,  0.2296,  0.2389,  0.2463,\n",
    "        0.2518,  0.2552,  0.2567,  0.2563,  0.2539,  0.2497,  0.2434,\n",
    "        0.2353,  0.2253,  0.2134,  0.1997,  0.1843,  0.1672,  0.1485,\n",
    "        0.1287,  0.1082,  0.0883,  0.0716,  0.0636,  0.07  ,  0.0899,\n",
    "        0.1183,  0.1519,  0.1891,  0.2292,  0.2719,0.0001]  # this zero makes log_likelihood inf which gives me an error"
   ]
  },
  {
   "cell_type": "code",
   "execution_count": 66,
   "metadata": {},
   "outputs": [
    {
     "data": {
      "text/plain": [
       "-9491.7504"
      ]
     },
     "execution_count": 66,
     "metadata": {},
     "output_type": "execute_result"
    }
   ],
   "source": [
    "log_likelihood(try_again2,5,2)"
   ]
  },
  {
   "cell_type": "code",
   "execution_count": null,
   "metadata": {
    "collapsed": true
   },
   "outputs": [],
   "source": []
  }
 ],
 "metadata": {
  "kernelspec": {
   "display_name": "Python 3",
   "language": "python",
   "name": "python3"
  },
  "language_info": {
   "codemirror_mode": {
    "name": "ipython",
    "version": 3
   },
   "file_extension": ".py",
   "mimetype": "text/x-python",
   "name": "python",
   "nbconvert_exporter": "python",
   "pygments_lexer": "ipython3",
   "version": "3.6.3"
  }
 },
 "nbformat": 4,
 "nbformat_minor": 2
}