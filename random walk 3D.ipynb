{
 "cells": [
  {
   "cell_type": "code",
   "execution_count": null,
   "metadata": {},
   "outputs": [
    {
     "name": "stdout",
     "output_type": "stream",
     "text": [
      "Please enter the number of steps: 100\n",
      "How many times should I perform the experiment? 100\n",
      "\n",
      "9.588762415150264\n",
      "\n"
     ]
    }
   ],
   "source": [
    "import random\n",
    "import math\n",
    "def rw3(n,tries):\n",
    "    s = 0\n",
    "    for m in range(1,tries+1):\n",
    "        x = 0\n",
    "        y = 0\n",
    "        z = 0\n",
    "        pi = math.pi\n",
    "        for step in range(1,n+1):\n",
    "            t = random.uniform(0,2*pi)\n",
    "            f = random.uniform(0,2*pi)\n",
    "            p = 1\n",
    "            x += p*math.sin(f)*math.cos(t)\n",
    "            y += p*math.sin(f)*math.sin(t)\n",
    "            z += p*math.cos(f)\n",
    "        s += (x**2+y**2+z**2)**.5\n",
    "    return s/tries\n",
    "life = 42\n",
    "while life:\n",
    "    n = int(input(\"Please enter the number of steps: \"))\n",
    "    tries = int(input(\"How many times should I perform the experiment? \"))\n",
    "    print()\n",
    "    print(rw3(n,tries))\n",
    "    print()"
   ]
  },
  {
   "cell_type": "code",
   "execution_count": null,
   "metadata": {
    "collapsed": true
   },
   "outputs": [],
   "source": []
  }
 ],
 "metadata": {
  "kernelspec": {
   "display_name": "Python 3",
   "language": "python",
   "name": "python3"
  },
  "language_info": {
   "codemirror_mode": {
    "name": "ipython",
    "version": 3
   },
   "file_extension": ".py",
   "mimetype": "text/x-python",
   "name": "python",
   "nbconvert_exporter": "python",
   "pygments_lexer": "ipython3",
   "version": "3.6.3"
  }
 },
 "nbformat": 4,
 "nbformat_minor": 2
}
