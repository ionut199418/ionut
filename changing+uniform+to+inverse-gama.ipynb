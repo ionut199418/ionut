{
 "cells": [
  {
   "cell_type": "code",
   "execution_count": 1,
   "metadata": {
    "collapsed": true
   },
   "outputs": [],
   "source": [
    "import random\n",
    "import math\n",
    "%matplotlib inline\n",
    "import numpy as np\n",
    "import matplotlib.pyplot as plt\n",
    "import seaborn as sns\n",
    "import pandas as pd\n",
    "from functools import partial\n",
    "import statistics"
   ]
  },
  {
   "cell_type": "code",
   "execution_count": 67,
   "metadata": {
    "collapsed": false
   },
   "outputs": [],
   "source": [
    "\n",
    "def rw2(n):# this gives samples from weibull(2,1)# put n=10000,the shape 2 and the scale 1\n",
    "    x,y=0,0\n",
    "    distance=[]\n",
    "    for i in range(1,n+1):\n",
    "            r=random.weibullvariate(alpha,beta) # step size r\n",
    "            theta=2.*math.pi*random.random()\n",
    "            x +=r*math.cos(theta)\n",
    "            y +=r*math.sin(theta)\n",
    "            distance.append(r)# save the distances r for the mcmc sampler\n",
    "    return(np.array(distance))# depending what do you want to do, either save the pairs, or save the distances r  between points\n",
    "    #return(x,y)\n",
    "    \n",
    "alpha=1 # scale\n",
    "beta=2 #shape parameter\n",
    "n=100\n",
    "#tries=int(input(\"how many tries?\"))#  put tries=1  in order to properly save the list distance\n",
    "data = rw2(n)# very important because you need the same data, if you put rw2(n) in there you change the data every time\n",
    "#data    "
   ]
  },
  {
   "cell_type": "code",
   "execution_count": 68,
   "metadata": {
    "collapsed": true
   },
   "outputs": [],
   "source": [
    "# calculate the log likelihood of weibull(a,b)\n",
    "import scipy.stats \n",
    "from scipy.stats import dweibull\n",
    "def log_likelihood(x,a,b):\n",
    "     return sum(dweibull.logpdf(x,scale=b,c=a))\n",
    "def likelihood(x,a_scale,b_shape):\n",
    "     return prod(dweibull.pdf(x,scale=a_scale,c=b_shape))    "
   ]
  },
  {
   "cell_type": "code",
   "execution_count": 72,
   "metadata": {
    "collapsed": false
   },
   "outputs": [
    {
     "name": "stdout",
     "output_type": "stream",
     "text": [
      "Acceptance rate = 0.5043\n",
      "0.998108330361\n"
     ]
    },
    {
     "data": {
      "image/png": "[encoded data removed]",
      "text/plain": [
       "<matplotlib.figure.Figure at 0x7faa3841ae10>"
      ]
     },
     "metadata": {},
     "output_type": "display_data"
    }
   ],
   "source": [
    "import scipy.stats as stats\n",
    "from scipy.stats import invgamma\n",
    "import numpy as np\n",
    "from numpy import prod\n",
    "# initial guess for theta(a and b) as array. Now the shape 2 is fixed, the prior is inverse gamma(1,2)\n",
    "guess = 2\n",
    "# Prepare storing MCMC chain as array of arrays.\n",
    "A = [guess]\n",
    "# define stepsize of MCMC.\n",
    "stepsizes = 0.1  # array of stepsizes\n",
    "accepted  = 0.0\n",
    "old_theta=guess# define initial values for theta \n",
    "old_lik = likelihood(data,old_theta,2)#calculate the first log likelihood\n",
    "old_target=old_lik*invgamma.pdf(old_theta,1,scale=2)\n",
    "# Metropolis-Hastings with 10,000 iterations.\n",
    "for p in range(10000):\n",
    "    new_theta = old_theta + stats.norm(0, stepsizes).rvs() \n",
    "    #add the restraints on new_theta\n",
    "    if new_theta<0: \n",
    "        continue\n",
    "    new_lik = likelihood(data,new_theta,2)\n",
    "    new_target=new_lik*invgamma.pdf(new_theta,1,scale=2)\n",
    "    # Accept new candidate in Monte-Carlo fashing.\n",
    "    if (new_target > old_target):\n",
    "        A.append(new_theta)\n",
    "        accepted = accepted + 1.0  # monitor acceptance\n",
    "        old_lik=new_lik\n",
    "        old_theta=new_theta\n",
    "        old_target=new_target\n",
    "    else:\n",
    "        u = random.uniform(0.0,1.0)\n",
    "        if (u < new_target/old_target):\n",
    "            A.append(new_theta)\n",
    "            accepted = accepted + 1.0  # monitor acceptance\n",
    "            old_lik=new_lik\n",
    "            old_theta=new_theta\n",
    "            old_target=new_target \n",
    "print(\"Acceptance rate = \"+str(accepted/10000.0))\n",
    "print(statistics.mean(A))\n",
    "plt.hist(A,bins=100)\n",
    "plt.xlabel(\"scale parameter\")\n",
    "plt.show()"
   ]
  },
  {
   "cell_type": "code",
   "execution_count": 81,
   "metadata": {
    "collapsed": false
   },
   "outputs": [
    {
     "data": {
      "image/png": "[encoded data removed]",
      "text/plain": [
       "<matplotlib.figure.Figure at 0x7faa37f03198>"
      ]
     },
     "metadata": {},
     "output_type": "display_data"
    }
   ],
   "source": [
    "a = 1+n\n",
    "b=2+sum(data**2)\n",
    "x = np.linspace(invgamma.ppf(0.001, a,scale=b),                invgamma.ppf(0.999, a,scale=b), 100)\n",
    "plt.plot(x, invgamma.pdf(x, a,scale=b),'r-', lw=5, alpha=0.6, label='invgamma pdf')\n",
    "plt.hist(A,bins=100,normed=True)\n",
    "plt.show()"
   ]
  },
  {
   "cell_type": "code",
   "execution_count": 79,
   "metadata": {
    "collapsed": false
   },
   "outputs": [
    {
     "data": {
      "text/plain": [
       "100"
      ]
     },
     "execution_count": 79,
     "metadata": {},
     "output_type": "execute_result"
    }
   ],
   "source": [
    "len(data)\n"
   ]
  },
  {
   "cell_type": "code",
   "execution_count": 78,
   "metadata": {
    "collapsed": false
   },
   "outputs": [
    {
     "data": {
      "text/plain": [
       "array([ 0.79478147,  0.75480851,  0.35753346,  0.68964622,  0.90514095,\n",
       "        1.16614379,  1.38054595,  0.5972529 ,  0.44111623,  1.93738362,\n",
       "        0.36238213,  0.30376037,  0.67902231,  0.82417976,  0.68746095,\n",
       "        1.06555216,  0.64454373,  0.64132839,  1.06997643,  1.55169695,\n",
       "        1.06166156,  0.99695764,  1.61357804,  0.65146302,  1.18428563,\n",
       "        0.63926051,  0.80976281,  0.52109708,  0.19688058,  0.94650326,\n",
       "        0.56886351,  1.02608232,  0.28389335,  1.38112342,  0.23319317,\n",
       "        0.95468688,  0.27952308,  0.82889742,  0.90465811,  0.98737648,\n",
       "        1.43967346,  1.56935741,  1.00926492,  0.21043992,  0.92648547,\n",
       "        0.41353574,  0.35366572,  1.05121006,  0.85245981,  0.76173816,\n",
       "        0.35149702,  0.44424677,  0.80189924,  1.41481877,  0.44019733,\n",
       "        0.41389849,  1.5523617 ,  1.08888697,  0.71198323,  0.71524275,\n",
       "        1.45229293,  0.71537292,  0.78156859,  1.33106008,  1.40523703,\n",
       "        2.14640868,  1.12591548,  0.80905995,  1.21763579,  0.40286425,\n",
       "        0.88527451,  1.46706543,  1.17189938,  1.28739273,  0.84311798,\n",
       "        1.22502992,  0.97819392,  1.75103094,  0.72493882,  1.21451353,\n",
       "        0.86433657,  0.68884127,  0.69954456,  1.01239763,  0.39485598,\n",
       "        1.2242916 ,  0.43562255,  0.76634081,  0.81383759,  0.5672873 ,\n",
       "        1.21979753,  0.28283581,  1.56268602,  0.58176951,  0.58185856,\n",
       "        1.83606009,  1.3609089 ,  0.8855376 ,  1.03477431,  0.2541151 ])"
      ]
     },
     "execution_count": 78,
     "metadata": {},
     "output_type": "execute_result"
    }
   ],
   "source": [
    "data"
   ]
  },
  {
   "cell_type": "code",
   "execution_count": 18,
   "metadata": {
    "collapsed": false
   },
   "outputs": [
    {
     "data": {
      "text/plain": [
       "98.778379867391223"
      ]
     },
     "execution_count": 18,
     "metadata": {},
     "output_type": "execute_result"
    }
   ],
   "source": [
    "2+sum(data**2)"
   ]
  },
  {
   "cell_type": "code",
   "execution_count": null,
   "metadata": {
    "collapsed": true
   },
   "outputs": [],
   "source": []
  }
 ],
 "metadata": {
  "kernelspec": {
   "display_name": "Python 3",
   "language": "python",
   "name": "python3"
  },
  "language_info": {
   "codemirror_mode": {
    "name": "ipython",
    "version": 3
   },
   "file_extension": ".py",
   "mimetype": "text/x-python",
   "name": "python",
   "nbconvert_exporter": "python",
   "pygments_lexer": "ipython3",
   "version": "3.5.2"
  }
 },
 "nbformat": 4,
 "nbformat_minor": 2
}
