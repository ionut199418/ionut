{
 "cells": [
  {
   "cell_type": "code",
   "execution_count": 1,
   "metadata": {},
   "outputs": [],
   "source": [
    "import numpy as np\n",
    "import matplotlib.pyplot as plt\n",
    "%matplotlib inline"
   ]
  },
  {
   "cell_type": "code",
   "execution_count": 2,
   "metadata": {},
   "outputs": [],
   "source": [
    "# Velocity model simulation\n",
    "def CVM(Tmax,beta,sigma,v0,dt):\n",
    "    T = np.arange(0,Tmax,dt)\n",
    "    n = len(T)\n",
    "    V = n*[0]\n",
    "    V[0] = v0 # set the initial value if you want to start with a different value rather than 0\n",
    "    dW = np.random.randn(n)*np.sqrt(dt) + 1j *np.random.randn(n)*np.sqrt(dt)# 2d motion \n",
    "    for i in range(1,n-1):\n",
    "        V[i] = V[i-1] - beta*V[i-1] * dt  + sigma *dW[i]\n",
    "    Z = np.cumsum(V)* dt\n",
    "    return(Z)"
   ]
  },
  {
   "cell_type": "code",
   "execution_count": 3,
   "metadata": {},
   "outputs": [],
   "source": [
    "n=CVM(1000,1,1,0,0.1).real"
   ]
  },
  {
   "cell_type": "code",
   "execution_count": 7,
   "metadata": {},
   "outputs": [],
   "source": [
    "# Simulate the velocity model multiple times\n",
    "matrix_1 = np.zeros((10000,90))\n",
    "#matrix_2 = np.zeros((1000,91)) # save including n[100]\n",
    "for i in range(0,10000):\n",
    "    n = CVM(1000,1,1,0,0.1).real\n",
    "    matrix_1[i,:] = n[10:100] * n[10] \n",
    "   # matrix_2[i,:] = n[10:101]# get the 100th entry as well"
   ]
  },
  {
   "cell_type": "code",
   "execution_count": 8,
   "metadata": {},
   "outputs": [
    {
     "name": "stdout",
     "output_type": "stream",
     "text": [
      "[0.19990859 0.22112089 0.24003262 0.25688036 0.27233365 0.28601883\n",
      " 0.29833701 0.30940507 0.31932023 0.32825201 0.33619732 0.34327676\n",
      " 0.34963474 0.35517808 0.36010599 0.36438904 0.36812505 0.37137702\n",
      " 0.37424157 0.37691901 0.37927173 0.38122134 0.3830879  0.38459262\n",
      " 0.38583492 0.38697513 0.38781266 0.38826351 0.38869647 0.38927802\n",
      " 0.39000611 0.39064101 0.3910892  0.39164986 0.39231344 0.39291133\n",
      " 0.3933982  0.39385209 0.39417175 0.39432391 0.39452349 0.39470653\n",
      " 0.39524644 0.39580854 0.39644984 0.39678986 0.39704428 0.39729973\n",
      " 0.39764334 0.39794949 0.39832404 0.39852423 0.39869453 0.3990016\n",
      " 0.39925316 0.39940797 0.39950464 0.39954722 0.39966527 0.39964601\n",
      " 0.399392   0.39933372 0.39941897 0.39949044 0.39956564 0.39990411\n",
      " 0.40031218 0.40076336 0.40121849 0.40162624 0.40205552 0.40230295\n",
      " 0.40245276 0.40276253 0.40311774 0.40370904 0.40429469 0.40490029\n",
      " 0.40543575 0.40583893 0.40593973 0.40617011 0.40620434 0.40625907\n",
      " 0.40632563 0.40640879 0.40634946 0.40626516 0.4061421  0.40593433]\n"
     ]
    }
   ],
   "source": [
    "print(matrix_1.mean(axis=0))"
   ]
  },
  {
   "cell_type": "code",
   "execution_count": 6,
   "metadata": {},
   "outputs": [],
   "source": [
    "E_XY = matrix_1.mean(axis=0)"
   ]
  },
  {
   "cell_type": "code",
   "execution_count": 40,
   "metadata": {},
   "outputs": [],
   "source": [
    "# Calculate the theoretical covariance first approach\n",
    "sigma = 1\n",
    "a = 1 \n",
    "s= 10\n",
    "t = np.array(range(10,100))\n",
    "theor_cov = np.zeros(len(t))\n",
    "gamma= np.zeros(len(t))\n",
    "for i in range(0,len(t)):\n",
    "    gamma[i] = min(t[i],s) "
   ]
  },
  {
   "cell_type": "code",
   "execution_count": 50,
   "metadata": {},
   "outputs": [],
   "source": [
    "theor_cov = (sigma**2/(a**2))*(2*gamma - 2*(np.exp(-a*(t-gamma)) + np.exp(-a*(s-gamma)) - np.exp(-a*t) - np.exp(-a*s)) -np.exp(-a*(s+t-2*gamma)) + np.exp(-a*(s+t)))/(2*a)\n"
   ]
  },
  {
   "cell_type": "code",
   "execution_count": 51,
   "metadata": {},
   "outputs": [
    {
     "data": {
      "text/plain": [
       "array([7.5000908 , 8.44824294, 8.79704862, 8.92536706, 8.97257277,\n",
       "       8.98993879, 8.99632738, 8.99867762, 8.99954222, 8.99986029,\n",
       "       8.9999773 , 9.00002035, 9.00003618, 9.00004201, 9.00004415,\n",
       "       9.00004494, 9.00004523, 9.00004534, 9.00004538, 9.00004539,\n",
       "       9.0000454 , 9.0000454 , 9.0000454 , 9.0000454 , 9.0000454 ,\n",
       "       9.0000454 , 9.0000454 , 9.0000454 , 9.0000454 , 9.0000454 ,\n",
       "       9.0000454 , 9.0000454 , 9.0000454 , 9.0000454 , 9.0000454 ,\n",
       "       9.0000454 , 9.0000454 , 9.0000454 , 9.0000454 , 9.0000454 ,\n",
       "       9.0000454 , 9.0000454 , 9.0000454 , 9.0000454 , 9.0000454 ,\n",
       "       9.0000454 , 9.0000454 , 9.0000454 , 9.0000454 , 9.0000454 ,\n",
       "       9.0000454 , 9.0000454 , 9.0000454 , 9.0000454 , 9.0000454 ,\n",
       "       9.0000454 , 9.0000454 , 9.0000454 , 9.0000454 , 9.0000454 ,\n",
       "       9.0000454 , 9.0000454 , 9.0000454 , 9.0000454 , 9.0000454 ,\n",
       "       9.0000454 , 9.0000454 , 9.0000454 , 9.0000454 , 9.0000454 ,\n",
       "       9.0000454 , 9.0000454 , 9.0000454 , 9.0000454 , 9.0000454 ,\n",
       "       9.0000454 , 9.0000454 , 9.0000454 , 9.0000454 , 9.0000454 ,\n",
       "       9.0000454 , 9.0000454 , 9.0000454 , 9.0000454 , 9.0000454 ,\n",
       "       9.0000454 , 9.0000454 , 9.0000454 , 9.0000454 , 9.0000454 ])"
      ]
     },
     "execution_count": 51,
     "metadata": {},
     "output_type": "execute_result"
    }
   ],
   "source": [
    "theor_cov"
   ]
  },
  {
   "cell_type": "code",
   "execution_count": 52,
   "metadata": {},
   "outputs": [
    {
     "data": {
      "image/png": "[encoded data removed]",
      "text/plain": [
       "<Figure size 432x288 with 1 Axes>"
      ]
     },
     "metadata": {
      "needs_background": "light"
     },
     "output_type": "display_data"
    }
   ],
   "source": [
    "plt.plot(matrix_1.mean(axis=0),label=\"Numerical Covariance\")\n",
    "plt.plot(theor_cov,label='Theoretical Covariance')\n",
    "plt.xlabel('Lag')\n",
    "plt.ylabel('Covariance function')\n",
    "plt.legend()\n",
    "plt.show()"
   ]
  },
  {
   "cell_type": "code",
   "execution_count": 32,
   "metadata": {},
   "outputs": [],
   "source": [
    "# Calculate the theoretical covariance second approach\n",
    "sigma = 1\n",
    "a = 1 \n",
    "s= 10\n",
    "t = np.array(range(10,100))\n",
    "theor_cov_diff_approach = np.zeros(len(t))\n",
    "gamma= np.zeros(len(t))\n",
    "for i in range(0,len(t)):\n",
    "    gamma[i] = min(t[i],s) "
   ]
  },
  {
   "cell_type": "code",
   "execution_count": 37,
   "metadata": {},
   "outputs": [],
   "source": [
    "theor_cov_diff_approach = (0.5*sigma**2/a**3)*(2*np.exp(-a*gamma) -2 - np.exp(-a*(t+s)) + np.exp(-a*np.abs(t-s)) +2*a*gamma)"
   ]
  },
  {
   "cell_type": "code",
   "execution_count": 38,
   "metadata": {},
   "outputs": [
    {
     "data": {
      "image/png": "[encoded data removed]",
      "text/plain": [
       "<Figure size 432x288 with 1 Axes>"
      ]
     },
     "metadata": {
      "needs_background": "light"
     },
     "output_type": "display_data"
    }
   ],
   "source": [
    "plt.plot(matrix_1.mean(axis=0),label=\"Numerical Covariance\")\n",
    "plt.plot(theor_cov_diff_approach ,label='Theoretical Covariance different approach')\n",
    "plt.xlabel('Lag')\n",
    "plt.ylabel('Covariance function')\n",
    "plt.legend()\n",
    "plt.show()"
   ]
  },
  {
   "cell_type": "code",
   "execution_count": null,
   "metadata": {},
   "outputs": [],
   "source": [
    "#print(matrix_2.mean(axis=0))# the second matrix, get the right bits from it to get E(X) and E(Y)"
   ]
  },
  {
   "cell_type": "code",
   "execution_count": null,
   "metadata": {},
   "outputs": [],
   "source": [
    "# put everything together: Cov(X,Y)= E(XY) - E(X)E(Y) \n",
    "###E_X = matrix_2.mean(axis=0)[:-1] \n",
    "#E_Y=matrix_2.mean(axis=0)[-1]\n",
    "#E_X_Y = E_X * E_Y"
   ]
  },
  {
   "cell_type": "code",
   "execution_count": null,
   "metadata": {},
   "outputs": [],
   "source": [
    "#E_X_Y, the values are close to 0, as expected"
   ]
  },
  {
   "cell_type": "code",
   "execution_count": null,
   "metadata": {},
   "outputs": [],
   "source": [
    "#Cov_X_Y = E_XY - E_X_Y"
   ]
  },
  {
   "cell_type": "code",
   "execution_count": null,
   "metadata": {},
   "outputs": [],
   "source": [
    "#Cov_X_Y"
   ]
  },
  {
   "cell_type": "code",
   "execution_count": null,
   "metadata": {},
   "outputs": [],
   "source": [
    "(-2-np.exp(-1))/2"
   ]
  },
  {
   "cell_type": "code",
   "execution_count": null,
   "metadata": {},
   "outputs": [],
   "source": [
    "10-1.18"
   ]
  },
  {
   "cell_type": "code",
   "execution_count": 47,
   "metadata": {},
   "outputs": [
    {
     "data": {
      "text/plain": [
       "4.41"
      ]
     },
     "execution_count": 47,
     "metadata": {},
     "output_type": "execute_result"
    }
   ],
   "source": [
    "8.82/2"
   ]
  },
  {
   "cell_type": "code",
   "execution_count": null,
   "metadata": {},
   "outputs": [],
   "source": []
  }
 ],
 "metadata": {
  "kernelspec": {
   "display_name": "Python 3",
   "language": "python",
   "name": "python3"
  },
  "language_info": {
   "codemirror_mode": {
    "name": "ipython",
    "version": 3
   },
   "file_extension": ".py",
   "mimetype": "text/x-python",
   "name": "python",
   "nbconvert_exporter": "python",
   "pygments_lexer": "ipython3",
   "version": "3.6.8"
  }
 },
 "nbformat": 4,
 "nbformat_minor": 2
}
