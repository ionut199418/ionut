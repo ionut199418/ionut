{
 "cells": [
  {
   "cell_type": "code",
   "execution_count": 4,
   "metadata": {
    "collapsed": false
   },
   "outputs": [],
   "source": [
    "import random\n",
    "import math\n",
    "%matplotlib inline\n",
    "import numpy as np\n",
    "import matplotlib.pyplot as plt\n",
    "import seaborn as sns\n",
    "import pandas as pd\n",
    "from functools import partial\n",
    "import statistics\n"
   ]
  },
  {
   "cell_type": "code",
   "execution_count": 37,
   "metadata": {
    "collapsed": false
   },
   "outputs": [
    {
     "name": "stdout",
     "output_type": "stream",
     "text": [
      "what's the scale?2\n",
      "what's the shape?5\n",
      "how many steps?100\n",
      "how many tries?1\n",
      "[ 0.54812987  1.82958705  1.82263023  1.92087082  1.90722484  1.94808484\n",
      "  1.99579105  2.05458678  1.51413452  1.3015611   1.16726591  2.17472075\n",
      "  0.91453602  1.63587807  2.14130311  1.65042782  1.66292597  1.96837443\n",
      "  1.8618218   1.61024569  2.44562927  2.29231655  2.39311157  1.78747613\n",
      "  1.66905502  2.20949471  1.07522866  1.87700721  0.90020901  1.46111061\n",
      "  2.00280611  2.58103812  1.62830763  1.31462838  2.68123443  1.68704775\n",
      "  1.83106923  1.86628227  2.16453712  2.13057676  1.88237344  2.22675837\n",
      "  2.19632826  1.67477618  1.16423176  1.16777261  2.08835908  1.56718209\n",
      "  2.02789925  1.86340936  2.08152514  1.91784253  1.42483082  1.93987618\n",
      "  1.87368852  2.00581154  1.22295923  1.9065032   2.31185087  2.25602112\n",
      "  1.48864468  1.56266786  1.97288523  2.58838617  1.95359016  1.06805717\n",
      "  1.95630022  2.06520178  1.99508965  2.01241762  2.05353181  2.51485328\n",
      "  1.4143815   1.64892704  2.18853753  1.6644796   1.30010411  1.54882609\n",
      "  2.83688195  2.00009226  2.058886    2.03128528  1.8420746   1.94930248\n",
      "  2.2964552   1.73757567  2.36388353  1.58896714  2.15168843  1.26070672\n",
      "  2.23772547  1.13158208  1.9969361   2.43116505  1.37107172  1.37424376\n",
      "  2.33492369  1.93970372  2.03474106  1.77099182]\n"
     ]
    }
   ],
   "source": [
    "def rw2(n):# this gives samples from weibull(2,5)\n",
    "    x,y=0,0\n",
    "    distance=[]\n",
    "    for i in range(1,n+1):\n",
    "            r=random.weibullvariate(alpha,beta) # step size r\n",
    "            theta=2.*math.pi*random.random()\n",
    "            x +=r*math.cos(theta)\n",
    "            y +=r*math.sin(theta)\n",
    "            distance.append(r)# save the distances r for the mcmc sampler\n",
    "    return(np.array(distance))# depending what do you want to do, either save the pairs, or save the distances r  between points\n",
    "    #return(x,y)\n",
    "    \n",
    "alpha=int(input(\"what's the scale?\"))\n",
    "beta=int(input(\"what's the shape?\"))\n",
    "n=int(input(\"how many steps?\"))\n",
    "tries=int(input(\"how many tries?\"))#  put tries=1  in order to properly save the list distance\n",
    "data = rw2(n)\n",
    "for i in range(tries):\n",
    "    print (rw2(n))"
   ]
  },
  {
   "cell_type": "code",
   "execution_count": 53,
   "metadata": {
    "collapsed": true
   },
   "outputs": [],
   "source": [
    "# calculate the log likelihood of weibull(a,b)\n",
    "import scipy.stats \n",
    "from scipy.stats import dweibull\n",
    "def log_likelihood(x,a,b):\n",
    "     return sum(dweibull.logpdf(x,scale=b,c=a))\n",
    "    "
   ]
  },
  {
   "cell_type": "code",
   "execution_count": 56,
   "metadata": {
    "collapsed": false,
    "scrolled": false
   },
   "outputs": [
    {
     "name": "stdout",
     "output_type": "stream",
     "text": [
      "Acceptance rate = 0.4068\n"
     ]
    }
   ],
   "source": [
    "\n",
    "import scipy.stats as stats\n",
    "import numpy as np\n",
    "n=100 #number of observations in a sample \n",
    "# initial guess for theta(a and b) as array.\n",
    "guess = [5.0,2.0]\n",
    "# Prepare storing MCMC chain as array of arrays.\n",
    "A = [guess]\n",
    "# define stepsize of MCMC.\n",
    "stepsizes = [0.1,0.1]  # array of stepsizes\n",
    "accepted  = 0.0\n",
    "old_theta=guess# define initial values for theta \n",
    "old_loglik = log_likelihood(data,old_theta[0],old_theta[1])#calculate the first log likelihood\n",
    "# Metropolis-Hastings with 10,000 iterations.\n",
    "for p in range(10000):\n",
    "    #old_theta  = A[len(A)-1]   old parameter value as array(not that elegant way)\n",
    "    # Suggest new candidate from Gaussian proposal distribution.\n",
    "    #new_theta = np.zeros([len(old_theta)])\n",
    "    new_theta = old_theta + stats.norm(0, stepsizes).rvs() \n",
    "    #add the restraints on new_theta\n",
    "    if new_theta[0]<0 or new_theta[1]<0: \n",
    "        continue\n",
    "    new_loglik = log_likelihood(data,new_theta[0],new_theta[1])\n",
    "    # Accept new candidate in Monte-Carlo fashing.\n",
    "    if (new_loglik > old_loglik):\n",
    "        A.append(new_theta)\n",
    "        accepted = accepted + 1.0  # monitor acceptance\n",
    "        old_loglik=new_loglik\n",
    "        old_theta=new_theta\n",
    "    else:\n",
    "        u = random.uniform(0.0,1.0)\n",
    "        if (u < math.exp(new_loglik - old_loglik)):\n",
    "            A.append(new_theta)\n",
    "            accepted = accepted + 1.0  # monitor acceptance\n",
    "            old_loglik=new_loglik\n",
    "            old_theta=new_theta\n",
    "        #else:\n",
    "            #A.append(old_alpha)(I guess this is not good)\n",
    "print(\"Acceptance rate = \"+str(accepted/10000.0))\n",
    "#print(A)\n",
    "\n"
   ]
  },
  {
   "cell_type": "code",
   "execution_count": null,
   "metadata": {
    "collapsed": true
   },
   "outputs": [],
   "source": [
    "old_theta=guess# define initial values for theta \n",
    "old_loglik = log_likelihood(rw2(n),old_theta[0],old_theta[1])#calculate the first log likelihood"
   ]
  },
  {
   "cell_type": "code",
   "execution_count": null,
   "metadata": {
    "collapsed": false
   },
   "outputs": [],
   "source": [
    "new_theta = np.zeros([len(old_theta)])\n",
    "new_theta"
   ]
  },
  {
   "cell_type": "code",
   "execution_count": null,
   "metadata": {
    "collapsed": false
   },
   "outputs": [],
   "source": [
    "# I believe the two methods are the same\n",
    "import scipy.stats as stats\n",
    "old_theta=[2,5]\n",
    "stepsizes=[0.005,0.005]\n",
    "new_theta=np.zeros(2)\n",
    "new_theta[0] = random.gauss(old_theta[0], stepsizes[0])\n",
    "new_theta[1] = random.gauss(old_theta[1], stepsizes[1])\n",
    "print(new_theta)\n",
    "#?random.gauss\n",
    "sigma=0.3\n",
    "theta_p = old_theta + stats.norm(0, sigma).rvs() \n",
    "print(theta_p)\n",
    "stats.norm(0, sigma).rvs() \n",
    "#?stats.norm\n",
    "#newest_theta=random.gauss(old_theta,stepsizes)doesn't work\n",
    "#newest_theta\n",
    "newest_theta=stats.norm(old_theta,sigma).rvs()\n",
    "print(newest_theta)"
   ]
  },
  {
   "cell_type": "code",
   "execution_count": 57,
   "metadata": {
    "collapsed": false
   },
   "outputs": [
    {
     "data": {
      "text/plain": [
       "5.2415530681153939"
      ]
     },
     "execution_count": 57,
     "metadata": {},
     "output_type": "execute_result"
    }
   ],
   "source": [
    "# save the posterior for a\n",
    "a=[]\n",
    "for i in range(len(A)-1):\n",
    "    a.append(A[i-1][0])\n",
    "#print(a,end='')   \n",
    "statistics.mean(a)   "
   ]
  },
  {
   "cell_type": "code",
   "execution_count": 58,
   "metadata": {
    "collapsed": false
   },
   "outputs": [
    {
     "data": {
      "text/plain": [
       "2.0002612099419284"
      ]
     },
     "execution_count": 58,
     "metadata": {},
     "output_type": "execute_result"
    }
   ],
   "source": [
    "# save the posterior for b\n",
    "b=[]\n",
    "for i in range(len(A)-1):\n",
    "    b.append(A[i-1][1])\n",
    "#print(b,end='') \n",
    "statistics.mean(b)"
   ]
  },
  {
   "cell_type": "code",
   "execution_count": null,
   "metadata": {
    "collapsed": false
   },
   "outputs": [],
   "source": [
    "okay_theta = old_theta + stats.norm(0, stepsizes).rvs() \n",
    "okay_theta"
   ]
  },
  {
   "cell_type": "code",
   "execution_count": null,
   "metadata": {
    "collapsed": true
   },
   "outputs": [],
   "source": []
  },
  {
   "cell_type": "code",
   "execution_count": 59,
   "metadata": {
    "collapsed": false
   },
   "outputs": [
    {
     "data": {
      "text/plain": [
       "[<matplotlib.lines.Line2D at 0x7f65e6a63588>]"
      ]
     },
     "execution_count": 59,
     "metadata": {},
     "output_type": "execute_result"
    },
    {
     "data": {
      "image/png": "[encoded data removed]",
      "text/plain": [
       "<matplotlib.figure.Figure at 0x7f65e6a6a358>"
      ]
     },
     "metadata": {},
     "output_type": "display_data"
    }
   ],
   "source": [
    "\n",
    "loglike = np.zeros(100)\n",
    "xval = np.zeros(100)\n",
    "\n",
    "for i in range(100):\n",
    "    xval[i]=2+i*0.05\n",
    "    loglike[i] = log_likelihood(data,2+i*0.05,2)\n",
    "\n",
    "plt.plot(xval,loglike)\n",
    "\n"
   ]
  },
  {
   "cell_type": "code",
   "execution_count": 13,
   "metadata": {
    "collapsed": false
   },
   "outputs": [],
   "source": [
    "import matplotlib.pyplot as plt\n"
   ]
  },
  {
   "cell_type": "code",
   "execution_count": 60,
   "metadata": {
    "collapsed": false
   },
   "outputs": [
    {
     "data": {
      "image/png": "[encoded data removed]",
      "text/plain": [
       "<matplotlib.figure.Figure at 0x7f65e4ca1208>"
      ]
     },
     "metadata": {},
     "output_type": "display_data"
    },
    {
     "data": {
      "image/png": "[encoded data removed]",
      "text/plain": [
       "<matplotlib.figure.Figure at 0x7f65e4c9c438>"
      ]
     },
     "metadata": {},
     "output_type": "display_data"
    }
   ],
   "source": [
    "07B=np.array(A)\n",
    "plt.hist(B[:,0],bins=100)\n",
    "\n",
    "plt.show()\n",
    "plt.hist(B[:,1],bins=100)\n",
    "plt.show()"
   ]
  },
  {
   "cell_type": "code",
   "execution_count": 34,
   "metadata": {
    "collapsed": false
   },
   "outputs": [
    {
     "data": {
      "text/plain": [
       "array([-0.00718321, -0.01077469])"
      ]
     },
     "execution_count": 34,
     "metadata": {},
     "output_type": "execute_result"
    }
   ],
   "source": [
    "stats.norm(0, stepsizes).rvs() "
   ]
  },
  {
   "cell_type": "code",
   "execution_count": null,
   "metadata": {
    "collapsed": true
   },
   "outputs": [],
   "source": []
  }
 ],
 "metadata": {
  "kernelspec": {
   "display_name": "Python 3",
   "language": "python",
   "name": "python3"
  },
  "language_info": {
   "codemirror_mode": {
    "name": "ipython",
    "version": 3
   },
   "file_extension": ".py",
   "mimetype": "text/x-python",
   "name": "python",
   "nbconvert_exporter": "python",
   "pygments_lexer": "ipython3",
   "version": "3.5.2"
  }
 },
 "nbformat": 4,
 "nbformat_minor": 2
}
