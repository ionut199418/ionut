{
 "cells": [
  {
   "cell_type": "code",
   "execution_count": 1,
   "metadata": {
    "collapsed": true
   },
   "outputs": [],
   "source": [
    "import random\n",
    "import math\n",
    "%matplotlib inline\n",
    "import numpy as np\n",
    "import matplotlib.pyplot as plt\n",
    "import seaborn as sns\n",
    "import pandas as pd\n",
    "from functools import partial\n",
    "import statistics\n"
   ]
  },
  {
   "cell_type": "code",
   "execution_count": 19,
   "metadata": {},
   "outputs": [
    {
     "name": "stdout",
     "output_type": "stream",
     "text": [
      "what's the scale?2\n",
      "what's the shape?5\n",
      "how many steps?10000\n"
     ]
    }
   ],
   "source": [
    "def rw2(n):# this gives samples from weibull(2,5)\n",
    "    x,y=0,0\n",
    "    distance=[]\n",
    "    for i in range(1,n+1):\n",
    "            r=random.weibullvariate(alpha,beta) # step size r\n",
    "            theta=2.*math.pi*random.random()\n",
    "            x +=r*math.cos(theta)\n",
    "            y +=r*math.sin(theta)\n",
    "            distance.append(r)# save the distances r for the mcmc sampler\n",
    "    return(np.array(distance))# depending what do you want to do, either save the pairs, or save the distances r  between points\n",
    "    #return(x,y)\n",
    "    \n",
    "alpha=int(input(\"what's the scale?\"))\n",
    "beta=int(input(\"what's the shape?\"))\n",
    "n=int(input(\"how many steps?\"))\n",
    "#tries=int(input(\"how many tries?\"))#  put tries=1  in order to properly save the list distance\n",
    "data = rw2(n)# very important because you need the same data, if you put rw2(n) in there you change the data every time\n",
    "#for i in range(tries):\n",
    "    #print (rw2(n))"
   ]
  },
  {
   "cell_type": "code",
   "execution_count": 7,
   "metadata": {
    "collapsed": true
   },
   "outputs": [],
   "source": [
    "# calculate the log likelihood of weibull(a,b)\n",
    "import scipy.stats \n",
    "from scipy.stats import dweibull\n",
    "def log_likelihood(x,a,b):\n",
    "     return sum(dweibull.logpdf(x,scale=b,c=a))\n",
    "    "
   ]
  },
  {
   "cell_type": "code",
   "execution_count": 32,
   "metadata": {
    "scrolled": false
   },
   "outputs": [
    {
     "name": "stdout",
     "output_type": "stream",
     "text": [
      "Acceptance rate = 0.4142\n"
     ]
    }
   ],
   "source": [
    "\n",
    "import scipy.stats as stats\n",
    "import numpy as np\n",
    "n=100 #number of observations in a sample \n",
    "# initial guess for theta(a and b) as array.\n",
    "guess = [5.0,2.0]\n",
    "# Prepare storing MCMC chain as array of arrays.\n",
    "A = [guess]\n",
    "# define stepsize of MCMC.\n",
    "stepsizes = [0.01,0.01]  # array of stepsizes\n",
    "accepted  = 0.0\n",
    "old_theta=guess# define initial values for theta \n",
    "old_loglik = log_likelihood(data,old_theta[0],old_theta[1])#calculate the first log likelihood\n",
    "# Metropolis-Hastings with 10,000 iterations.\n",
    "for p in range(10000):\n",
    "    #old_theta  = A[len(A)-1]   old parameter value as array(not that elegant way)\n",
    "    # Suggest new candidate from Gaussian proposal distribution.\n",
    "    #new_theta = np.zeros([len(old_theta)])\n",
    "    new_theta = old_theta + stats.norm(0, stepsizes).rvs() \n",
    "    #add the restraints on new_theta\n",
    "    if new_theta[0]<0 or new_theta[1]<0: \n",
    "        continue\n",
    "    new_loglik = log_likelihood(data,new_theta[0],new_theta[1])\n",
    "    # Accept new candidate in Monte-Carlo fashing.\n",
    "    if (new_loglik > old_loglik):\n",
    "        A.append(new_theta)\n",
    "        accepted = accepted + 1.0  # monitor acceptance\n",
    "        old_loglik=new_loglik\n",
    "        old_theta=new_theta\n",
    "    else:\n",
    "        u = random.uniform(0.0,1.0)\n",
    "        if (u < math.exp(new_loglik - old_loglik)):\n",
    "            A.append(new_theta)\n",
    "            accepted = accepted + 1.0  # monitor acceptance\n",
    "            old_loglik=new_loglik\n",
    "            old_theta=new_theta\n",
    "        #else:\n",
    "            #A.append(old_alpha)(I guess this is not good)\n",
    "print(\"Acceptance rate = \"+str(accepted/10000.0))\n",
    "#print(A)\n",
    "\n"
   ]
  },
  {
   "cell_type": "code",
   "execution_count": null,
   "metadata": {
    "collapsed": true
   },
   "outputs": [],
   "source": [
    "old_theta=guess# define initial values for theta \n",
    "old_loglik = log_likelihood(rw2(n),old_theta[0],old_theta[1])#calculate the first log likelihood"
   ]
  },
  {
   "cell_type": "code",
   "execution_count": null,
   "metadata": {
    "collapsed": true
   },
   "outputs": [],
   "source": [
    "# I believe the two methods are the same\n",
    "import scipy.stats as stats\n",
    "old_theta=[2,5]\n",
    "stepsizes=[0.005,0.005]\n",
    "new_theta=np.zeros(2)\n",
    "new_theta[0] = random.gauss(old_theta[0], stepsizes[0])\n",
    "new_theta[1] = random.gauss(old_theta[1], stepsizes[1])\n",
    "print(new_theta)\n",
    "#?random.gauss\n",
    "sigma=0.3\n",
    "theta_p = old_theta + stats.norm(0, sigma).rvs() \n",
    "print(theta_p)\n",
    "stats.norm(0, sigma).rvs() \n",
    "#?stats.norm\n",
    "#newest_theta=random.gauss(old_theta,stepsizes)doesn't work\n",
    "#newest_theta\n",
    "newest_theta=stats.norm(old_theta,sigma).rvs()\n",
    "print(newest_theta)"
   ]
  },
  {
   "cell_type": "code",
   "execution_count": 33,
   "metadata": {},
   "outputs": [
    {
     "data": {
      "text/plain": [
       "5.0072046306409224"
      ]
     },
     "execution_count": 33,
     "metadata": {},
     "output_type": "execute_result"
    }
   ],
   "source": [
    "# save the posterior for a\n",
    "a=[]\n",
    "for i in range(len(A)-1):\n",
    "    a.append(A[i-1][0])\n",
    "#print(a,end='')   \n",
    "statistics.mean(a)   "
   ]
  },
  {
   "cell_type": "code",
   "execution_count": 34,
   "metadata": {},
   "outputs": [
    {
     "data": {
      "text/plain": [
       "1.9968854809330581"
      ]
     },
     "execution_count": 34,
     "metadata": {},
     "output_type": "execute_result"
    }
   ],
   "source": [
    "# save the posterior for b\n",
    "b=[]\n",
    "for i in range(len(A)-1):\n",
    "    b.append(A[i-1][1])\n",
    "#print(b,end='') \n",
    "statistics.mean(b)"
   ]
  },
  {
   "cell_type": "code",
   "execution_count": null,
   "metadata": {
    "collapsed": true
   },
   "outputs": [],
   "source": [
    "okay_theta = old_theta + stats.norm(0, stepsizes).rvs() \n",
    "okay_theta"
   ]
  },
  {
   "cell_type": "code",
   "execution_count": null,
   "metadata": {
    "collapsed": true
   },
   "outputs": [],
   "source": []
  },
  {
   "cell_type": "code",
   "execution_count": 35,
   "metadata": {},
   "outputs": [
    {
     "data": {
      "text/plain": [
       "[<matplotlib.lines.Line2D at 0x1d5050a0e10>]"
      ]
     },
     "execution_count": 35,
     "metadata": {},
     "output_type": "execute_result"
    },
    {
     "data": {
      "image/png": "[encoded data removed]",
      "text/plain": [
       "<matplotlib.figure.Figure at 0x1d505251278>"
      ]
     },
     "metadata": {},
     "output_type": "display_data"
    }
   ],
   "source": [
    "\n",
    "loglike = np.zeros(100)\n",
    "xval = np.zeros(100)\n",
    "\n",
    "for i in range(100):\n",
    "    xval[i]=2+i*0.05\n",
    "    loglike[i] = log_likelihood(data,2+i*0.05,2)\n",
    "\n",
    "plt.plot(xval,loglike)\n",
    "\n"
   ]
  },
  {
   "cell_type": "code",
   "execution_count": 13,
   "metadata": {
    "collapsed": true
   },
   "outputs": [],
   "source": [
    "import matplotlib.pyplot as plt\n"
   ]
  },
  {
   "cell_type": "code",
   "execution_count": 36,
   "metadata": {},
   "outputs": [
    {
     "data": {
      "image/png": "[encoded data removed]",
      "text/plain": [
       "<matplotlib.figure.Figure at 0x1d5059610b8>"
      ]
     },
     "metadata": {},
     "output_type": "display_data"
    },
    {
     "data": {
      "image/png": "[encoded data removed]",
      "text/plain": [
       "<matplotlib.figure.Figure at 0x1d505961be0>"
      ]
     },
     "metadata": {},
     "output_type": "display_data"
    }
   ],
   "source": [
    "B=np.array(A)\n",
    "plt.hist(B[:,0],bins=100)\n",
    "\n",
    "plt.show()\n",
    "plt.hist(B[:,1],bins=100)\n",
    "plt.show()"
   ]
  },
  {
   "cell_type": "code",
   "execution_count": null,
   "metadata": {
    "collapsed": true
   },
   "outputs": [],
   "source": []
  }
 ],
 "metadata": {
  "kernelspec": {
   "display_name": "Python 3",
   "language": "python",
   "name": "python3"
  }
 },
 "nbformat": 4,
 "nbformat_minor": 2
}
