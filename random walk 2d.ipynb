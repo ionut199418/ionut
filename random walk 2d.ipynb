{
 "cells": [
  {
   "cell_type": "code",
   "execution_count": 8,
   "metadata": {
    "collapsed": true
   },
   "outputs": [],
   "source": [
    "import random\n",
    "import math\n",
    "x=0\n",
    "y=0\n",
    "pi=math.pi\n",
    "def rw2(n):\n",
    "    for step in range(1,n+1):\n",
    "            theta=random.uniform(0,2*pi)\n",
    "            x+=math.cos(theta)\n",
    "            y+=math.sin(theta)\n",
    "    return(x,y)\n",
    "#for m in range(1,tries+1):\n",
    "    #print(rw2(n))\n",
    "    #print()\n",
    "#n=int(input(\"Please enter the number of steps:\"))\n",
    "#tries=int(input(\"How many times should I perform the experiment?\"))\n",
    "#print()\n",
    "#print(rw2(n,tries))\n",
    "#print()"
   ]
  },
  {
   "cell_type": "raw",
   "metadata": {},
   "source": [
    "dsad\n",
    "\n",
    "sdad\\\n"
   ]
  },
  {
   "cell_type": "code",
   "execution_count": 12,
   "metadata": {},
   "outputs": [
    {
     "data": {
      "text/plain": [
       "2.3244968667700685"
      ]
     },
     "execution_count": 12,
     "metadata": {},
     "output_type": "execute_result"
    }
   ],
   "source": [
    "\n",
    "random.uniform(0,2*math.pi)"
   ]
  },
  {
   "cell_type": "code",
   "execution_count": 15,
   "metadata": {},
   "outputs": [
    {
     "data": {
      "text/plain": [
       "0.411729965571833"
      ]
     },
     "execution_count": 15,
     "metadata": {},
     "output_type": "execute_result"
    }
   ],
   "source": [
    "pi=math.pi\n",
    "random.uniform(0,2*pi)"
   ]
  },
  {
   "cell_type": "code",
   "execution_count": 6,
   "metadata": {},
   "outputs": [
    {
     "data": {
      "text/plain": [
       "0.28366218546322625"
      ]
     },
     "execution_count": 6,
     "metadata": {},
     "output_type": "execute_result"
    }
   ],
   "source": [
    "math.cos(5)"
   ]
  },
  {
   "cell_type": "code",
   "execution_count": null,
   "metadata": {
    "collapsed": true
   },
   "outputs": [],
   "source": []
  }
 ],
 "metadata": {
  "kernelspec": {
   "display_name": "Python 3",
   "language": "python",
   "name": "python3"
  },
  "language_info": {
   "codemirror_mode": {
    "name": "ipython",
    "version": 3
   },
   "file_extension": ".py",
   "mimetype": "text/x-python",
   "name": "python",
   "nbconvert_exporter": "python",
   "pygments_lexer": "ipython3",
   "version": "3.6.3"
  }
 },
 "nbformat": 4,
 "nbformat_minor": 2
}
