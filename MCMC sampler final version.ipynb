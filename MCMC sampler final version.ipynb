{
 "cells": [
  {
   "cell_type": "code",
   "execution_count": 30,
   "metadata": {
    "collapsed": true
   },
   "outputs": [],
   "source": [
    "import random\n",
    "import math\n",
    "%matplotlib inline\n",
    "import numpy as np\n",
    "import matplotlib.pyplot as plt\n",
    "import seaborn as sns\n",
    "import pandas as pd\n",
    "from functools import partial\n",
    "import statistics\n"
   ]
  },
  {
   "cell_type": "code",
   "execution_count": 31,
   "metadata": {},
   "outputs": [
    {
     "name": "stdout",
     "output_type": "stream",
     "text": [
      "what's the scale?2\n",
      "what's the shape?5\n",
      "how many steps?100\n",
      "how many tries?1\n",
      "[ 2.28029695  0.8739349   1.57438205  2.02994377  0.63730457  1.67131642\n",
      "  2.09195888  1.32265306  1.10090816  2.4091576   1.97725891  1.71084839\n",
      "  2.01429403  2.52081825  1.85965743  1.76685     2.09699618  1.33390349\n",
      "  1.58320886  2.4240859   1.98640584  2.19643505  1.72459628  0.85435632\n",
      "  1.22170542  1.81580095  1.33127185  1.69825571  0.93228528  2.36525215\n",
      "  1.30504972  1.5276808   2.05896841  1.63462707  0.65609302  1.88999076\n",
      "  1.92743567  1.52986614  1.6448298   1.14376846  2.05333084  1.71575823\n",
      "  1.25828976  1.53096712  1.78864742  1.79731298  2.41724605  1.82345497\n",
      "  2.09793252  2.23241782  2.08076607  1.41365195  1.40894517  1.99272386\n",
      "  2.02135988  1.90011021  1.60901367  1.5898703   1.76776373  2.07107661\n",
      "  2.01915636  2.26857161  2.20855841  2.48016432  1.69471845  2.81198195\n",
      "  2.09018894  1.86440709  1.90833199  0.56174126  2.07329686  1.35295375\n",
      "  2.14710338  2.18186282  1.58087912  1.70836122  1.52256814  1.87791497\n",
      "  1.70981515  1.75449061  2.36190407  1.37046632  1.85437822  2.70245123\n",
      "  1.48208731  1.78026234  1.70396825  1.63061296  2.23028174  1.13254792\n",
      "  2.7050913   2.15968076  1.6562899   2.40641017  2.08134988  1.98241812\n",
      "  1.74665876  1.81197958  1.44107642  2.05285804]\n"
     ]
    }
   ],
   "source": [
    "def rw2(n):# this gives samples from weibull(2,5)\n",
    "    x,y=0,0\n",
    "    distance=[]\n",
    "    for i in range(1,n+1):\n",
    "            r=random.weibullvariate(alpha,beta) # step size r\n",
    "            theta=2.*math.pi*random.random()\n",
    "            x +=r*math.cos(theta)\n",
    "            y +=r*math.sin(theta)\n",
    "            distance.append(r)# save the distances r for the mcmc sampler\n",
    "    return(np.array(distance))# depending what do you want to do, either save the pairs, or save the distances r  between points\n",
    "    #return(x,y)\n",
    "    \n",
    "alpha=int(input(\"what's the scale?\"))\n",
    "beta=int(input(\"what's the shape?\"))\n",
    "n=int(input(\"how many steps?\"))\n",
    "tries=int(input(\"how many tries?\"))#  put tries=1  in order to properly save the list distance\n",
    "for i in range(tries):\n",
    "    print (rw2(n))"
   ]
  },
  {
   "cell_type": "code",
   "execution_count": 32,
   "metadata": {
    "collapsed": true
   },
   "outputs": [],
   "source": [
    "# calculate the log likelihood of weibull(a,b)\n",
    "import scipy.stats \n",
    "from scipy.stats import dweibull\n",
    "def log_likelihood(x,a,b):\n",
    "     return sum(dweibull.logpdf(x,c=a,scale=b))\n",
    "    "
   ]
  },
  {
   "cell_type": "code",
   "execution_count": 52,
   "metadata": {
    "scrolled": false
   },
   "outputs": [
    {
     "name": "stdout",
     "output_type": "stream",
     "text": [
      "Acceptance rate = 0.5473\n"
     ]
    }
   ],
   "source": [
    "n=100 #number of observations in a sample \n",
    "# initial guess for theta(a and b) as array.\n",
    "guess = [2.0,5.0]\n",
    "# Prepare storing MCMC chain as array of arrays.\n",
    "A = [guess]\n",
    "# define stepsize of MCMC.\n",
    "stepsizes = [0.005,0.005]  # array of stepsizes\n",
    "accepted  = 0.0\n",
    "old_theta=guess# define initial values for theta \n",
    "old_loglik = log_likelihood(rw2(n),old_theta[0],old_theta[1])#calculate the first log likelihood\n",
    "# Metropolis-Hastings with 10,000 iterations.\n",
    "for p in range(10000):\n",
    "    #old_theta  = A[len(A)-1]   old parameter value as array(not that elegant way)\n",
    "    # Suggest new candidate from Gaussian proposal distribution.\n",
    "    #new_theta = np.zeros([len(old_theta)])\n",
    "    new_theta = old_theta + stats.norm(0, stepsizes).rvs() \n",
    "    #add the restraints on new_theta\n",
    "    if new_theta[0]<0 or new_theta[1]<0: \n",
    "        continue\n",
    "    new_loglik = log_likelihood(rw2(n),new_theta[0],new_theta[1])\n",
    "    # Accept new candidate in Monte-Carlo fashing.\n",
    "    if (new_loglik > old_loglik):\n",
    "        A.append(new_theta)\n",
    "        accepted = accepted + 1.0  # monitor acceptance\n",
    "        old_loglik=new_loglik\n",
    "        old_theta=new_theta\n",
    "    else:\n",
    "        u = random.uniform(0.0,1.0)\n",
    "        if (u < math.exp(new_loglik - old_loglik)):\n",
    "            A.append(new_theta)\n",
    "            accepted = accepted + 1.0  # monitor acceptance\n",
    "            old_loglik=new_loglik\n",
    "            old_theta=new_theta\n",
    "        #else:\n",
    "            #A.append(old_alpha)(I guess this is not good)\n",
    "print(\"Acceptance rate = \"+str(accepted/10000.0))\n",
    "#print(A)\n",
    "\n"
   ]
  },
  {
   "cell_type": "code",
   "execution_count": 16,
   "metadata": {
    "collapsed": true
   },
   "outputs": [],
   "source": [
    "old_theta=guess# define initial values for theta \n",
    "old_loglik = log_likelihood(rw2(n),old_theta[0],old_theta[1])#calculate the first log likelihood"
   ]
  },
  {
   "cell_type": "code",
   "execution_count": 20,
   "metadata": {},
   "outputs": [
    {
     "data": {
      "text/plain": [
       "array([ 0.,  0.])"
      ]
     },
     "execution_count": 20,
     "metadata": {},
     "output_type": "execute_result"
    }
   ],
   "source": [
    "new_theta = np.zeros([len(old_theta)])\n",
    "new_theta"
   ]
  },
  {
   "cell_type": "code",
   "execution_count": 28,
   "metadata": {},
   "outputs": [
    {
     "name": "stdout",
     "output_type": "stream",
     "text": [
      "[ 1.99873478  4.9989597 ]\n",
      "[ 1.78351004  4.78351004]\n",
      "[ 1.87770982  4.84593636]\n"
     ]
    }
   ],
   "source": [
    "# I believe the two methods are the same\n",
    "import scipy.stats as stats\n",
    "old_theta=[2,5]\n",
    "stepsizes=[0.005,0.005]\n",
    "new_theta=np.zeros(2)\n",
    "new_theta[0] = random.gauss(old_theta[0], stepsizes[0])\n",
    "new_theta[1] = random.gauss(old_theta[1], stepsizes[1])\n",
    "print(new_theta)\n",
    "#?random.gauss\n",
    "sigma=0.3\n",
    "theta_p = old_theta + stats.norm(0, sigma).rvs() \n",
    "print(theta_p)\n",
    "stats.norm(0, sigma).rvs() \n",
    "#?stats.norm\n",
    "#newest_theta=random.gauss(old_theta,stepsizes)doesn't work\n",
    "#newest_theta\n",
    "newest_theta=stats.norm(old_theta,sigma).rvs()\n",
    "print(newest_theta)"
   ]
  },
  {
   "cell_type": "code",
   "execution_count": 68,
   "metadata": {},
   "outputs": [
    {
     "data": {
      "text/plain": [
       "1.7563765015009953"
      ]
     },
     "execution_count": 68,
     "metadata": {},
     "output_type": "execute_result"
    }
   ],
   "source": [
    "# save the posterior for a\n",
    "a=[]\n",
    "for i in range(len(A)-1):\n",
    "    a.append(A[i-1][0])\n",
    "#print(a,end='')   \n",
    "statistics.mean(a)   "
   ]
  },
  {
   "cell_type": "code",
   "execution_count": 67,
   "metadata": {},
   "outputs": [
    {
     "data": {
      "text/plain": [
       "4.0117643876478564"
      ]
     },
     "execution_count": 67,
     "metadata": {},
     "output_type": "execute_result"
    }
   ],
   "source": [
    "# save the posterior for b\n",
    "b=[]\n",
    "for i in range(len(A)-1):\n",
    "    b.append(A[i-1][1])\n",
    "#print(b,end='') \n",
    "statistics.mean(b)"
   ]
  },
  {
   "cell_type": "code",
   "execution_count": 46,
   "metadata": {},
   "outputs": [
    {
     "data": {
      "text/plain": [
       "array([ 1.89933029,  2.54323802])"
      ]
     },
     "execution_count": 46,
     "metadata": {},
     "output_type": "execute_result"
    }
   ],
   "source": [
    "okay_theta = old_theta + stats.norm(0, stepsizes).rvs() \n",
    "okay_theta"
   ]
  },
  {
   "cell_type": "code",
   "execution_count": null,
   "metadata": {
    "collapsed": true
   },
   "outputs": [],
   "source": []
  },
  {
   "cell_type": "code",
   "execution_count": null,
   "metadata": {
    "collapsed": true
   },
   "outputs": [],
   "source": []
  }
 ],
 "metadata": {
  "kernelspec": {
   "display_name": "Python 3",
   "language": "python",
   "name": "python3"
  },
  "language_info": {
   "codemirror_mode": {
    "name": "ipython",
    "version": 3
   },
   "file_extension": ".py",
   "mimetype": "text/x-python",
   "name": "python",
   "nbconvert_exporter": "python",
   "pygments_lexer": "ipython3",
   "version": "3.6.3"
  }
 },
 "nbformat": 4,
 "nbformat_minor": 2
}
